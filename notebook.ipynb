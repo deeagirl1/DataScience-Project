{
 "cells": [
  {
   "cell_type": "markdown",
   "metadata": {},
   "source": [
    "# Predicting which team will win a football match"
   ]
  },
  {
   "cell_type": "markdown",
   "metadata": {},
   "source": [
    "The purpose of this project is to use machine learning in order to make predictions regarding football matches. \n",
    "We have 5 .csv files, each file containing different data which might help in make predictions."
   ]
  },
  {
   "cell_type": "code",
   "execution_count": 368,
   "metadata": {},
   "outputs": [],
   "source": [
    "# importing neccesary libraries\n",
    "import numpy as np\n",
    "import pandas as pd\n",
    "from datetime import datetime as dt\n",
    "import itertools\n",
    "\n",
    "%matplotlib inline"
   ]
  },
  {
   "cell_type": "markdown",
   "metadata": {},
   "source": [
    "### Reading data from the files"
   ]
  },
  {
   "cell_type": "code",
   "execution_count": 369,
   "metadata": {},
   "outputs": [],
   "source": [
    "# Read data from .csv files \n",
    "\n",
    "loc = \"voetbal_1956-20220309/\"\n",
    "\n",
    "raw_cards_file = pd.read_csv (loc + '_cards.csv')\n",
    "raw_goals_file = pd.read_csv (loc + '_goals.csv')\n",
    "raw_matches_file = pd.read_csv (loc + '_matches.csv')\n",
    "raw_players_file = pd.read_csv (loc + '_players.csv')\n",
    "raw_subs_file = pd.read_csv (loc + '_subs.csv')"
   ]
  },
  {
   "cell_type": "markdown",
   "metadata": {},
   "source": [
    "### Goals"
   ]
  },
  {
   "cell_type": "code",
   "execution_count": 370,
   "metadata": {},
   "outputs": [],
   "source": [
    "# Method used to overwrite values found in column 'assist'\n",
    "def assist(value):\n",
    "    if pd.notna(value):\n",
    "        return 1\n",
    "    else:\n",
    "        return 0"
   ]
  },
  {
   "cell_type": "code",
   "execution_count": 371,
   "metadata": {},
   "outputs": [],
   "source": [
    "# a function to remove duplicates \n",
    "def Duplicates(rawName , colName: str, previousName: str, newName: str ):\n",
    "        if colName == \"club\":\n",
    "                rawName[\"home\"].replace({previousName: newName }, inplace=True)\n",
    "                rawName[\"away\"].replace({previousName: newName }, inplace=True)\n",
    "                rawName[\"team\"].replace({previousName: newName }, inplace=True)\n",
    "        elif colName == \"card\": \n",
    "                rawName[\"type\"].replace({previousName: newName }, inplace=True)\n",
    "        else:\n",
    "                print(\"nothing\")\n",
    "\n",
    "# a function used to get the last season\n",
    "def toOneSeason(season):\n",
    "    return season[5:len(season)]"
   ]
  },
  {
   "cell_type": "code",
   "execution_count": 372,
   "metadata": {},
   "outputs": [
    {
     "data": {
      "text/html": [
       "<div>\n",
       "<style scoped>\n",
       "    .dataframe tbody tr th:only-of-type {\n",
       "        vertical-align: middle;\n",
       "    }\n",
       "\n",
       "    .dataframe tbody tr th {\n",
       "        vertical-align: top;\n",
       "    }\n",
       "\n",
       "    .dataframe thead th {\n",
       "        text-align: right;\n",
       "    }\n",
       "</style>\n",
       "<table border=\"1\" class=\"dataframe\">\n",
       "  <thead>\n",
       "    <tr style=\"text-align: right;\">\n",
       "      <th></th>\n",
       "      <th>Unnamed: 0</th>\n",
       "      <th>saison</th>\n",
       "      <th>home</th>\n",
       "      <th>away</th>\n",
       "      <th>team</th>\n",
       "      <th>player</th>\n",
       "      <th>assist</th>\n",
       "      <th>assistNumber</th>\n",
       "      <th>goalNumber</th>\n",
       "    </tr>\n",
       "  </thead>\n",
       "  <tbody>\n",
       "    <tr>\n",
       "      <th>50894</th>\n",
       "      <td>0</td>\n",
       "      <td>2012</td>\n",
       "      <td>ado-den-haag</td>\n",
       "      <td>ajax-amsterdam</td>\n",
       "      <td>ajax-amsterdam</td>\n",
       "      <td>Jody Lukoki</td>\n",
       "      <td>Theo Janssen</td>\n",
       "      <td>1</td>\n",
       "      <td>1</td>\n",
       "    </tr>\n",
       "    <tr>\n",
       "      <th>50895</th>\n",
       "      <td>1</td>\n",
       "      <td>2012</td>\n",
       "      <td>ado-den-haag</td>\n",
       "      <td>ajax-amsterdam</td>\n",
       "      <td>ajax-amsterdam</td>\n",
       "      <td>Jan Vertonghen</td>\n",
       "      <td>Ismaïl Aissati</td>\n",
       "      <td>1</td>\n",
       "      <td>1</td>\n",
       "    </tr>\n",
       "    <tr>\n",
       "      <th>50896</th>\n",
       "      <td>2</td>\n",
       "      <td>2012</td>\n",
       "      <td>ado-den-haag</td>\n",
       "      <td>az-alkmaar</td>\n",
       "      <td>az-alkmaar</td>\n",
       "      <td>Charlison Benschop</td>\n",
       "      <td>Brett Holman</td>\n",
       "      <td>1</td>\n",
       "      <td>1</td>\n",
       "    </tr>\n",
       "    <tr>\n",
       "      <th>50897</th>\n",
       "      <td>3</td>\n",
       "      <td>2012</td>\n",
       "      <td>ado-den-haag</td>\n",
       "      <td>az-alkmaar</td>\n",
       "      <td>az-alkmaar</td>\n",
       "      <td>Charlison Benschop</td>\n",
       "      <td>Maarten Martens</td>\n",
       "      <td>1</td>\n",
       "      <td>1</td>\n",
       "    </tr>\n",
       "    <tr>\n",
       "      <th>50898</th>\n",
       "      <td>4</td>\n",
       "      <td>2012</td>\n",
       "      <td>ado-den-haag</td>\n",
       "      <td>az-alkmaar</td>\n",
       "      <td>az-alkmaar</td>\n",
       "      <td>Charlison Benschop</td>\n",
       "      <td>Rasmus Elm</td>\n",
       "      <td>1</td>\n",
       "      <td>1</td>\n",
       "    </tr>\n",
       "    <tr>\n",
       "      <th>...</th>\n",
       "      <td>...</td>\n",
       "      <td>...</td>\n",
       "      <td>...</td>\n",
       "      <td>...</td>\n",
       "      <td>...</td>\n",
       "      <td>...</td>\n",
       "      <td>...</td>\n",
       "      <td>...</td>\n",
       "      <td>...</td>\n",
       "    </tr>\n",
       "    <tr>\n",
       "      <th>60864</th>\n",
       "      <td>639</td>\n",
       "      <td>2022</td>\n",
       "      <td>willem-ii-tilburg</td>\n",
       "      <td>sc-cambuur</td>\n",
       "      <td>willem-ii-tilburg</td>\n",
       "      <td>Godfried Roemeratoe</td>\n",
       "      <td>Anargyros Kampetsis</td>\n",
       "      <td>1</td>\n",
       "      <td>1</td>\n",
       "    </tr>\n",
       "    <tr>\n",
       "      <th>60865</th>\n",
       "      <td>640</td>\n",
       "      <td>2022</td>\n",
       "      <td>willem-ii-tilburg</td>\n",
       "      <td>sc-cambuur</td>\n",
       "      <td>sc-cambuur</td>\n",
       "      <td>Mitchell Paulissen</td>\n",
       "      <td>NaN</td>\n",
       "      <td>0</td>\n",
       "      <td>1</td>\n",
       "    </tr>\n",
       "    <tr>\n",
       "      <th>60866</th>\n",
       "      <td>641</td>\n",
       "      <td>2022</td>\n",
       "      <td>willem-ii-tilburg</td>\n",
       "      <td>sparta-rotterdam</td>\n",
       "      <td>sparta-rotterdam</td>\n",
       "      <td>Bart Vriends</td>\n",
       "      <td>Bryan Smeets</td>\n",
       "      <td>1</td>\n",
       "      <td>1</td>\n",
       "    </tr>\n",
       "    <tr>\n",
       "      <th>60867</th>\n",
       "      <td>642</td>\n",
       "      <td>2022</td>\n",
       "      <td>willem-ii-tilburg</td>\n",
       "      <td>sparta-rotterdam</td>\n",
       "      <td>sparta-rotterdam</td>\n",
       "      <td>Bart Vriends</td>\n",
       "      <td>Sven Mijnans</td>\n",
       "      <td>1</td>\n",
       "      <td>1</td>\n",
       "    </tr>\n",
       "    <tr>\n",
       "      <th>60868</th>\n",
       "      <td>643</td>\n",
       "      <td>2022</td>\n",
       "      <td>willem-ii-tilburg</td>\n",
       "      <td>sparta-rotterdam</td>\n",
       "      <td>sparta-rotterdam</td>\n",
       "      <td>Emanuel Emegha</td>\n",
       "      <td>Vito van Crooij</td>\n",
       "      <td>1</td>\n",
       "      <td>1</td>\n",
       "    </tr>\n",
       "  </tbody>\n",
       "</table>\n",
       "<p>9975 rows × 9 columns</p>\n",
       "</div>"
      ],
      "text/plain": [
       "       Unnamed: 0  saison               home              away  \\\n",
       "50894           0    2012       ado-den-haag    ajax-amsterdam   \n",
       "50895           1    2012       ado-den-haag    ajax-amsterdam   \n",
       "50896           2    2012       ado-den-haag        az-alkmaar   \n",
       "50897           3    2012       ado-den-haag        az-alkmaar   \n",
       "50898           4    2012       ado-den-haag        az-alkmaar   \n",
       "...           ...     ...                ...               ...   \n",
       "60864         639    2022  willem-ii-tilburg        sc-cambuur   \n",
       "60865         640    2022  willem-ii-tilburg        sc-cambuur   \n",
       "60866         641    2022  willem-ii-tilburg  sparta-rotterdam   \n",
       "60867         642    2022  willem-ii-tilburg  sparta-rotterdam   \n",
       "60868         643    2022  willem-ii-tilburg  sparta-rotterdam   \n",
       "\n",
       "                    team               player               assist  \\\n",
       "50894     ajax-amsterdam          Jody Lukoki         Theo Janssen   \n",
       "50895     ajax-amsterdam       Jan Vertonghen       Ismaïl Aissati   \n",
       "50896         az-alkmaar   Charlison Benschop         Brett Holman   \n",
       "50897         az-alkmaar   Charlison Benschop      Maarten Martens   \n",
       "50898         az-alkmaar   Charlison Benschop           Rasmus Elm   \n",
       "...                  ...                  ...                  ...   \n",
       "60864  willem-ii-tilburg  Godfried Roemeratoe  Anargyros Kampetsis   \n",
       "60865         sc-cambuur   Mitchell Paulissen                  NaN   \n",
       "60866   sparta-rotterdam         Bart Vriends         Bryan Smeets   \n",
       "60867   sparta-rotterdam         Bart Vriends         Sven Mijnans   \n",
       "60868   sparta-rotterdam       Emanuel Emegha      Vito van Crooij   \n",
       "\n",
       "       assistNumber  goalNumber  \n",
       "50894             1           1  \n",
       "50895             1           1  \n",
       "50896             1           1  \n",
       "50897             1           1  \n",
       "50898             1           1  \n",
       "...             ...         ...  \n",
       "60864             1           1  \n",
       "60865             0           1  \n",
       "60866             1           1  \n",
       "60867             1           1  \n",
       "60868             1           1  \n",
       "\n",
       "[9975 rows x 9 columns]"
      ]
     },
     "execution_count": 372,
     "metadata": {},
     "output_type": "execute_result"
    }
   ],
   "source": [
    "# Some clubs have different names \n",
    "# We replace it to one name \n",
    "Duplicates(raw_goals_file, \"club\", \"afc-ajax\", \"ajax-amsterdam\")\n",
    "Duplicates(raw_goals_file, \"club\", \"willem-ii\", \"willem-ii-tilburg\")\n",
    "\n",
    "# convert the season to int \n",
    "raw_goals_file['saison'] = raw_goals_file['saison'].apply(toOneSeason)\n",
    "raw_goals_file['saison'] = raw_goals_file['saison'].astype(int)\n",
    "\n",
    "# filter the last 10 seasons \n",
    "filterSeason = raw_goals_file[(raw_goals_file['saison'] >= 2012)]\n",
    "\n",
    "# make new dataframe in order to aggregate\n",
    "dfGoals = pd.DataFrame(filterSeason)\n",
    "\n",
    "# We use assist function for both 'assist' and 'player' colunms to count the assists and goals for each game\n",
    "assistNumber = raw_goals_file['assist'].apply(assist)\n",
    "goalNumber = raw_goals_file['player'].apply(assist)\n",
    "\n",
    "dfGoals['assistNumber'] = assistNumber\n",
    "dfGoals['goalNumber'] = goalNumber\n",
    "\n",
    "# we drop the unneccesary columns \n",
    "dfGoals.drop(columns=['new_score','type','minute','round'])"
   ]
  },
  {
   "cell_type": "code",
   "execution_count": 373,
   "metadata": {},
   "outputs": [
    {
     "name": "stdout",
     "output_type": "stream",
     "text": [
      "player\n",
      "Davy Klaassen          48\n",
      "Klaas-Jan Huntelaar    37\n",
      "Hakim Ziyech           29\n",
      "Dušan Tadić            28\n",
      "Kasper Dolberg         28\n",
      "Name: assistNumber, dtype: int64\n",
      "player\n",
      "Davy Klaassen          61\n",
      "Dušan Tadić            61\n",
      "Lasse Schöne           49\n",
      "Klaas-Jan Huntelaar    45\n",
      "Hakim Ziyech           38\n",
      "Name: goalNumber, dtype: int64\n"
     ]
    }
   ],
   "source": [
    "# the best player of Ajax (Assist, Goals)\n",
    "filterAjaxPlayers = dfGoals[(dfGoals['team'] == \"ajax-amsterdam\")]\n",
    "playersAssistAjax = filterAjaxPlayers.groupby('player')['assistNumber'].sum()\n",
    "print(playersAssistAjax.nlargest(n=5))\n",
    "\n",
    "playersGoalsAjax = filterAjaxPlayers.groupby('player')['goalNumber'].sum()\n",
    "print(playersGoalsAjax.nlargest(n=5))"
   ]
  },
  {
   "cell_type": "code",
   "execution_count": 374,
   "metadata": {},
   "outputs": [
    {
     "name": "stdout",
     "output_type": "stream",
     "text": [
      "player\n",
      "Luuk de Jong           78\n",
      "Donyell Malen          33\n",
      "Georginio Wijnaldum    26\n",
      "Jürgen Locadia         26\n",
      "Gastón Pereiro         23\n",
      "Name: assistNumber, dtype: int64\n",
      "player\n",
      "Luuk de Jong           94\n",
      "Jürgen Locadia         45\n",
      "Gastón Pereiro         44\n",
      "Georginio Wijnaldum    41\n",
      "Donyell Malen          40\n",
      "Name: goalNumber, dtype: int64\n"
     ]
    }
   ],
   "source": [
    "# the best player of Psv (Assist, Goals)\n",
    "filterPsvPlayers = dfGoals[(dfGoals['team'] == \"psv-eindhoven\")]\n",
    "playersAssistPsv = filterPsvPlayers.groupby('player')['assistNumber'].sum()\n",
    "print(playersAssistPsv.nlargest(n=5))\n",
    "\n",
    "playersGoalsPsv = filterPsvPlayers.groupby('player')['goalNumber'].sum()\n",
    "print(playersGoalsPsv.nlargest(n=5))\n"
   ]
  },
  {
   "cell_type": "code",
   "execution_count": 426,
   "metadata": {},
   "outputs": [
    {
     "data": {
      "text/plain": [
       "Text(0, 0.5, 'Assist')"
      ]
     },
     "execution_count": 426,
     "metadata": {},
     "output_type": "execute_result"
    },
    {
     "data": {
      "image/png": "[encoded data removed]",
      "text/plain": [
       "<Figure size 432x288 with 1 Axes>"
      ]
     },
     "metadata": {
      "needs_background": "light"
     },
     "output_type": "display_data"
    },
    {
     "data": {
      "image/png": "[encoded data removed]",
      "text/plain": [
       "<Figure size 432x288 with 1 Axes>"
      ]
     },
     "metadata": {
      "needs_background": "light"
     },
     "output_type": "display_data"
    }
   ],
   "source": [
    "# plot Assist\n",
    "dfAjaxAssist = pd.DataFrame(playersAssistAjax.nlargest(n=5))\n",
    "ax = dfAjaxAssist.plot(lw=2, colormap='jet', title='The assist of Ajax players in the last 10 years', kind = 'bar')\n",
    "ax.set_xlabel(\"Player\")\n",
    "ax.set_ylabel(\"Assist\")\n",
    "\n",
    "dfPsvAssist = pd.DataFrame(playersAssistPsv.nlargest(n=5))\n",
    "ax = dfPsvAssist.plot(lw=2, colormap='jet', title='The assist of PSV players in the last 10 years', kind = 'bar')\n",
    "ax.set_xlabel(\"Player\")\n",
    "ax.set_ylabel(\"Assist\")\n"
   ]
  },
  {
   "cell_type": "code",
   "execution_count": 427,
   "metadata": {},
   "outputs": [
    {
     "data": {
      "text/plain": [
       "Text(0, 0.5, 'Goals')"
      ]
     },
     "execution_count": 427,
     "metadata": {},
     "output_type": "execute_result"
    },
    {
     "data": {
      "image/png": "[encoded data removed]",
      "text/plain": [
       "<Figure size 432x288 with 1 Axes>"
      ]
     },
     "metadata": {
      "needs_background": "light"
     },
     "output_type": "display_data"
    },
    {
     "data": {
      "image/png": "[encoded data removed]",
      "text/plain": [
       "<Figure size 432x288 with 1 Axes>"
      ]
     },
     "metadata": {
      "needs_background": "light"
     },
     "output_type": "display_data"
    }
   ],
   "source": [
    "# plot Goals\n",
    "dfAjaxGoals = pd.DataFrame(playersGoalsAjax.nlargest(n=5))\n",
    "ax = dfAjaxGoals.plot(lw=2, colormap='jet', kind = 'bar', title='The goals of top 5 Ajax players in the last 10 years')\n",
    "ax.set_xlabel(\"Player\")\n",
    "ax.set_ylabel(\"Goals\")\n",
    "\n",
    "dfPsvGoals = pd.DataFrame(playersGoalsPsv.nlargest(n=5))\n",
    "ax = dfPsvGoals.plot(lw=2, colormap='jet', kind = 'bar', title='The goals of top 5 PSV players in the last 10 years')\n",
    "ax.set_xlabel(\"Player\")\n",
    "ax.set_ylabel(\"Goals\")"
   ]
  },
  {
   "cell_type": "code",
   "execution_count": 377,
   "metadata": {},
   "outputs": [
    {
     "name": "stdout",
     "output_type": "stream",
     "text": [
      "player\n",
      "Anwar El Ghazi       2\n",
      "Arkadiusz Milik      1\n",
      "Brian Brobbey        1\n",
      "Christian Eriksen    1\n",
      "Derk Boerrigter      1\n",
      "Name: assistNumber, dtype: int64\n",
      "player\n",
      "Anwar El Ghazi         2\n",
      "Kolbeinn Sigþórsson    2\n",
      "Arkadiusz Milik        1\n",
      "Brian Brobbey          1\n",
      "Christian Eriksen      1\n",
      "Name: goalNumber, dtype: int64\n"
     ]
    }
   ],
   "source": [
    "# The best 3 player in the Ajax - Psv Match  in psv Stadion (Ajax stats)\n",
    "filterAjaxPlayersInPsvStadion = dfGoals[(dfGoals['team'] == \"ajax-amsterdam\") & (dfGoals['home'] == \"psv-eindhoven\")]\n",
    "playersAssistAjaxInPsvStadion = filterAjaxPlayersInPsvStadion.groupby('player')['assistNumber'].sum()\n",
    "print(playersAssistAjaxInPsvStadion.nlargest(n=5))\n",
    "\n",
    "playersGoalsAjaxInPsvStadion = filterAjaxPlayersInPsvStadion.groupby('player')['goalNumber'].sum()\n",
    "print(playersGoalsAjaxInPsvStadion.nlargest(n=5))"
   ]
  },
  {
   "cell_type": "code",
   "execution_count": 378,
   "metadata": {},
   "outputs": [
    {
     "name": "stdout",
     "output_type": "stream",
     "text": [
      "player\n",
      "Luuk de Jong      3\n",
      "Donyell Malen     1\n",
      "Hirving Lozano    1\n",
      "Jeremain Lens     1\n",
      "Ji-Sung Park      1\n",
      "Name: assistNumber, dtype: int64\n",
      "player\n",
      "Luuk de Jong      3\n",
      "Gastón Pereiro    2\n",
      "Jeremain Lens     2\n",
      "Tim Matavž        2\n",
      "Donyell Malen     1\n",
      "Name: goalNumber, dtype: int64\n"
     ]
    }
   ],
   "source": [
    "# The best 3 player in the Ajax - Psv Match  in psv Stadium (psv stats)\n",
    "filterPsvPlayersInPsvStadion = dfGoals[(dfGoals['team'] == \"psv-eindhoven\") & (dfGoals['away'] == \"ajax-amsterdam\")]\n",
    "playersAssistPsvInPsvStadion = filterPsvPlayersInPsvStadion.groupby('player')['assistNumber'].sum()\n",
    "print(playersAssistPsvInPsvStadion.nlargest(n=5))\n",
    "\n",
    "playersGoalsPsvInPsvStadion = filterPsvPlayersInPsvStadion.groupby('player')['goalNumber'].sum()\n",
    "print(playersGoalsPsvInPsvStadion.nlargest(n=5))"
   ]
  },
  {
   "cell_type": "code",
   "execution_count": 428,
   "metadata": {},
   "outputs": [
    {
     "data": {
      "text/plain": [
       "Text(0, 0.5, 'Goals')"
      ]
     },
     "execution_count": 428,
     "metadata": {},
     "output_type": "execute_result"
    },
    {
     "data": {
      "image/png": "[encoded data removed]",
      "text/plain": [
       "<Figure size 432x288 with 1 Axes>"
      ]
     },
     "metadata": {
      "needs_background": "light"
     },
     "output_type": "display_data"
    },
    {
     "data": {
      "image/png": "[encoded data removed]",
      "text/plain": [
       "<Figure size 432x288 with 1 Axes>"
      ]
     },
     "metadata": {
      "needs_background": "light"
     },
     "output_type": "display_data"
    }
   ],
   "source": [
    "# plot Goals Ajax vs Psv in Psv stadion\n",
    "dfAjaxGoalsinPsvStadion = pd.DataFrame(playersGoalsAjaxInPsvStadion.nlargest(n=5))\n",
    "ax = dfAjaxGoalsinPsvStadion.plot(lw=2, colormap='jet', kind = 'bar', title='The goals of top 5 Ajax player last 10 years in PSV Stadion')\n",
    "ax.set_xlabel(\"Player\")\n",
    "ax.set_ylabel(\"Goals\")\n",
    "\n",
    "dfPsvGoalsinPsvStadion = pd.DataFrame(playersGoalsAjaxInPsvStadion.nlargest(n=5))\n",
    "ax = dfPsvGoalsinPsvStadion.plot(lw=2, colormap='jet', kind = 'bar', title='The goals of top 5 PSV player last 10 years in PSV Stadion')\n",
    "ax.set_xlabel(\"Player\")\n",
    "ax.set_ylabel(\"Goals\")"
   ]
  },
  {
   "cell_type": "code",
   "execution_count": 380,
   "metadata": {},
   "outputs": [
    {
     "name": "stdout",
     "output_type": "stream",
     "text": [
      "player\n",
      "Antony               2\n",
      "Anwar El Ghazi       1\n",
      "David Neres          1\n",
      "Davy Klaassen        1\n",
      "Donny van de Beek    1\n",
      "Name: assistNumber, dtype: int64\n",
      "player\n",
      "Antony           2\n",
      "David Neres      2\n",
      "Davy Klaassen    2\n",
      "Dušan Tadić      2\n",
      "Quincy Promes    2\n",
      "Name: goalNumber, dtype: int64\n"
     ]
    }
   ],
   "source": [
    "# The best 3 player in the Ajax - Psv Match  in Ajax Stadion (Ajax stats)\n",
    "filterAjaxPlayersInAjaxStadion = dfGoals[(dfGoals['team'] == \"ajax-amsterdam\") & (dfGoals['away'] == \"psv-eindhoven\")]\n",
    "playersAssistAjaxInAjaxStadion = filterAjaxPlayersInAjaxStadion.groupby('player')['assistNumber'].sum()\n",
    "print(playersAssistAjaxInAjaxStadion.nlargest(n=5))\n",
    "\n",
    "playersGoalsAjaxInAjaxStadion = filterAjaxPlayersInAjaxStadion.groupby('player')['goalNumber'].sum()\n",
    "print(playersGoalsAjaxInAjaxStadion.nlargest(n=5))"
   ]
  },
  {
   "cell_type": "code",
   "execution_count": 432,
   "metadata": {},
   "outputs": [
    {
     "name": "stdout",
     "output_type": "stream",
     "text": [
      "player\n",
      "Eran Zahavi         2\n",
      "Gastón Pereiro      1\n",
      "Jeremain Lens       1\n",
      "Luciano Narsingh    1\n",
      "Luuk de Jong        1\n",
      "Name: assistNumber, dtype: int64\n",
      "player\n",
      "Eran Zahavi          2\n",
      "Gastón Pereiro       2\n",
      "Florian Jozefzoon    1\n",
      "Jeremain Lens        1\n",
      "Luciano Narsingh     1\n",
      "Name: goalNumber, dtype: int64\n"
     ]
    }
   ],
   "source": [
    "# The best 3 player in the Ajax - Psv Match  in Ajax Stadion (Psv stats)\n",
    "filterAjaxPlayersInPsvStadion = dfGoals[(dfGoals['team'] == \"psv-eindhoven\") & (dfGoals['home'] == \"ajax-amsterdam\")]\n",
    "playersAssistAjaxInPsvStadion = filterAjaxPlayersInPsvStadion.groupby('player')['assistNumber'].sum()\n",
    "print(playersAssistAjaxInPsvStadion.nlargest(n=5))\n",
    "\n",
    "playersGoalsAjaxInPsvStadion = filterAjaxPlayersInPsvStadion.groupby('player')['goalNumber'].sum()\n",
    "print(playersGoalsAjaxInPsvStadion.nlargest(n=5))"
   ]
  },
  {
   "cell_type": "code",
   "execution_count": 431,
   "metadata": {},
   "outputs": [
    {
     "data": {
      "text/plain": [
       "Text(0, 0.5, 'Goals')"
      ]
     },
     "execution_count": 431,
     "metadata": {},
     "output_type": "execute_result"
    },
    {
     "data": {
      "image/png": "[encoded data removed]",
      "text/plain": [
       "<Figure size 432x288 with 1 Axes>"
      ]
     },
     "metadata": {
      "needs_background": "light"
     },
     "output_type": "display_data"
    },
    {
     "data": {
      "image/png": "[encoded data removed]",
      "text/plain": [
       "<Figure size 432x288 with 1 Axes>"
      ]
     },
     "metadata": {
      "needs_background": "light"
     },
     "output_type": "display_data"
    }
   ],
   "source": [
    "# plot Goals Ajax vs Psv in Ajax Stadion\n",
    "dfAjaxGoalsinAjaxStadion = pd.DataFrame(playersGoalsAjaxInAjaxStadion.nlargest(n=5))\n",
    "ax = dfAjaxGoalsinAjaxStadion.plot(lw=2, colormap='jet', marker='.', markersize=10, title='The goals of top 5 Ajax players in the last 10 years in Ajax Stadion')\n",
    "ax.set_xlabel(\"Player\")\n",
    "ax.set_ylabel(\"Goals\")\n",
    "\n",
    "dfPsvGoalsinAjaxStadion = pd.DataFrame(playersGoalsAjaxInPsvStadion.nlargest(n=5))\n",
    "ax = dfPsvGoalsinAjaxStadion.plot(lw=2, colormap='jet', kind = 'bar', title='The goals of top 5 PSV players in the last 10 years in Ajax Stadion')\n",
    "ax.set_xlabel(\"Player\")\n",
    "ax.set_ylabel(\"Goals\")"
   ]
  },
  {
   "cell_type": "code",
   "execution_count": 383,
   "metadata": {},
   "outputs": [
    {
     "name": "stdout",
     "output_type": "stream",
     "text": [
      "home\n",
      "ajax-amsterdam    443\n",
      "psv-eindhoven     408\n",
      "feyenoord         385\n",
      "sc-heerenveen     371\n",
      "az-alkmaar        368\n",
      "Name: assistNumber, dtype: int64\n",
      "home\n",
      "ajax-amsterdam     642\n",
      "psv-eindhoven      634\n",
      "feyenoord          583\n",
      "az-alkmaar         579\n",
      "heracles-almelo    576\n",
      "Name: goalNumber, dtype: int64\n"
     ]
    }
   ],
   "source": [
    "# Home team assist and goals\n",
    "filterAssist = dfGoals[(dfGoals['assistNumber'] == 1) & (dfGoals['goalNumber'] == 1)]\n",
    "groupByHomeAssist = filterAssist.groupby('home')['assistNumber'].sum()\n",
    "print(groupByHomeAssist.nlargest(n=5))\n",
    "\n",
    "# goals \n",
    "groupByHomeGoals = dfGoals.groupby('home')['goalNumber'].sum()\n",
    "print(groupByHomeGoals.nlargest(n=5))"
   ]
  },
  {
   "cell_type": "code",
   "execution_count": 384,
   "metadata": {},
   "outputs": [
    {
     "name": "stdout",
     "output_type": "stream",
     "text": [
      "away\n",
      "psv-eindhoven      393\n",
      "sc-heerenveen      387\n",
      "ajax-amsterdam     366\n",
      "heracles-almelo    365\n",
      "az-alkmaar         360\n",
      "Name: assistNumber, dtype: int64\n",
      "away\n",
      "psv-eindhoven      393\n",
      "sc-heerenveen      387\n",
      "ajax-amsterdam     366\n",
      "heracles-almelo    365\n",
      "az-alkmaar         360\n",
      "Name: goalNumber, dtype: int64\n"
     ]
    }
   ],
   "source": [
    "# Away assist and goals \n",
    "groupByAwayAssist = filterAssist.groupby('away')['assistNumber'].sum()\n",
    "print(groupByAwayAssist.nlargest(n=5))\n",
    "\n",
    "# goals \n",
    "groupByAwayGoals = filterAssist.groupby('away')['goalNumber'].sum()\n",
    "print(groupByAwayGoals.nlargest(n=5))"
   ]
  },
  {
   "cell_type": "markdown",
   "metadata": {},
   "source": [
    "### Cards"
   ]
  },
  {
   "cell_type": "code",
   "execution_count": 385,
   "metadata": {},
   "outputs": [
    {
     "data": {
      "text/html": [
       "<div>\n",
       "<style scoped>\n",
       "    .dataframe tbody tr th:only-of-type {\n",
       "        vertical-align: middle;\n",
       "    }\n",
       "\n",
       "    .dataframe tbody tr th {\n",
       "        vertical-align: top;\n",
       "    }\n",
       "\n",
       "    .dataframe thead th {\n",
       "        text-align: right;\n",
       "    }\n",
       "</style>\n",
       "<table border=\"1\" class=\"dataframe\">\n",
       "  <thead>\n",
       "    <tr style=\"text-align: right;\">\n",
       "      <th></th>\n",
       "      <th>Unnamed: 0</th>\n",
       "      <th>saison</th>\n",
       "      <th>round</th>\n",
       "      <th>home</th>\n",
       "      <th>away</th>\n",
       "      <th>team</th>\n",
       "      <th>player</th>\n",
       "      <th>minute</th>\n",
       "      <th>type</th>\n",
       "      <th>cardsNumber</th>\n",
       "    </tr>\n",
       "  </thead>\n",
       "  <tbody>\n",
       "    <tr>\n",
       "      <th>22582</th>\n",
       "      <td>0</td>\n",
       "      <td>2012</td>\n",
       "      <td>26</td>\n",
       "      <td>ado-den-haag</td>\n",
       "      <td>ajax-amsterdam</td>\n",
       "      <td>ado-den-haag</td>\n",
       "      <td>jens-toornstra</td>\n",
       "      <td>34.0</td>\n",
       "      <td>yellow-card</td>\n",
       "      <td>1</td>\n",
       "    </tr>\n",
       "    <tr>\n",
       "      <th>22583</th>\n",
       "      <td>1</td>\n",
       "      <td>2012</td>\n",
       "      <td>26</td>\n",
       "      <td>ado-den-haag</td>\n",
       "      <td>ajax-amsterdam</td>\n",
       "      <td>ado-den-haag</td>\n",
       "      <td>aleksander-radosavljevic</td>\n",
       "      <td>44.0</td>\n",
       "      <td>yellow-card</td>\n",
       "      <td>1</td>\n",
       "    </tr>\n",
       "    <tr>\n",
       "      <th>22584</th>\n",
       "      <td>2</td>\n",
       "      <td>2012</td>\n",
       "      <td>26</td>\n",
       "      <td>ado-den-haag</td>\n",
       "      <td>ajax-amsterdam</td>\n",
       "      <td>ado-den-haag</td>\n",
       "      <td>ali-boussaboun</td>\n",
       "      <td>25.0</td>\n",
       "      <td>red-card</td>\n",
       "      <td>2</td>\n",
       "    </tr>\n",
       "    <tr>\n",
       "      <th>22585</th>\n",
       "      <td>3</td>\n",
       "      <td>2012</td>\n",
       "      <td>26</td>\n",
       "      <td>ado-den-haag</td>\n",
       "      <td>ajax-amsterdam</td>\n",
       "      <td>ajax-amsterdam</td>\n",
       "      <td>toby-alderweireld</td>\n",
       "      <td>40.0</td>\n",
       "      <td>yellow-card</td>\n",
       "      <td>1</td>\n",
       "    </tr>\n",
       "    <tr>\n",
       "      <th>22586</th>\n",
       "      <td>4</td>\n",
       "      <td>2012</td>\n",
       "      <td>26</td>\n",
       "      <td>ado-den-haag</td>\n",
       "      <td>ajax-amsterdam</td>\n",
       "      <td>ajax-amsterdam</td>\n",
       "      <td>theo-janssen</td>\n",
       "      <td>78.0</td>\n",
       "      <td>yellow-card</td>\n",
       "      <td>1</td>\n",
       "    </tr>\n",
       "    <tr>\n",
       "      <th>...</th>\n",
       "      <td>...</td>\n",
       "      <td>...</td>\n",
       "      <td>...</td>\n",
       "      <td>...</td>\n",
       "      <td>...</td>\n",
       "      <td>...</td>\n",
       "      <td>...</td>\n",
       "      <td>...</td>\n",
       "      <td>...</td>\n",
       "      <td>...</td>\n",
       "    </tr>\n",
       "    <tr>\n",
       "      <th>32287</th>\n",
       "      <td>685</td>\n",
       "      <td>2022</td>\n",
       "      <td>25</td>\n",
       "      <td>willem-ii-tilburg</td>\n",
       "      <td>sc-heerenveen</td>\n",
       "      <td>willem-ii-tilburg</td>\n",
       "      <td>goerkem-saglam</td>\n",
       "      <td>71.0</td>\n",
       "      <td>yellow-card</td>\n",
       "      <td>1</td>\n",
       "    </tr>\n",
       "    <tr>\n",
       "      <th>32288</th>\n",
       "      <td>686</td>\n",
       "      <td>2022</td>\n",
       "      <td>12</td>\n",
       "      <td>willem-ii-tilburg</td>\n",
       "      <td>sparta-rotterdam</td>\n",
       "      <td>willem-ii-tilburg</td>\n",
       "      <td>kwasi-wriedt</td>\n",
       "      <td>26.0</td>\n",
       "      <td>yellow-card</td>\n",
       "      <td>1</td>\n",
       "    </tr>\n",
       "    <tr>\n",
       "      <th>32289</th>\n",
       "      <td>687</td>\n",
       "      <td>2022</td>\n",
       "      <td>12</td>\n",
       "      <td>willem-ii-tilburg</td>\n",
       "      <td>sparta-rotterdam</td>\n",
       "      <td>sparta-rotterdam</td>\n",
       "      <td>dirk-abels</td>\n",
       "      <td>77.0</td>\n",
       "      <td>yellow-card</td>\n",
       "      <td>1</td>\n",
       "    </tr>\n",
       "    <tr>\n",
       "      <th>32290</th>\n",
       "      <td>688</td>\n",
       "      <td>2022</td>\n",
       "      <td>12</td>\n",
       "      <td>willem-ii-tilburg</td>\n",
       "      <td>sparta-rotterdam</td>\n",
       "      <td>sparta-rotterdam</td>\n",
       "      <td>adil-auassar</td>\n",
       "      <td>34.0</td>\n",
       "      <td>yellow-card</td>\n",
       "      <td>1</td>\n",
       "    </tr>\n",
       "    <tr>\n",
       "      <th>32291</th>\n",
       "      <td>689</td>\n",
       "      <td>2022</td>\n",
       "      <td>12</td>\n",
       "      <td>willem-ii-tilburg</td>\n",
       "      <td>sparta-rotterdam</td>\n",
       "      <td>sparta-rotterdam</td>\n",
       "      <td>sven-mijnans</td>\n",
       "      <td>19.0</td>\n",
       "      <td>yellow-card</td>\n",
       "      <td>1</td>\n",
       "    </tr>\n",
       "  </tbody>\n",
       "</table>\n",
       "<p>9710 rows × 10 columns</p>\n",
       "</div>"
      ],
      "text/plain": [
       "       Unnamed: 0  saison  round               home              away  \\\n",
       "22582           0    2012     26       ado-den-haag    ajax-amsterdam   \n",
       "22583           1    2012     26       ado-den-haag    ajax-amsterdam   \n",
       "22584           2    2012     26       ado-den-haag    ajax-amsterdam   \n",
       "22585           3    2012     26       ado-den-haag    ajax-amsterdam   \n",
       "22586           4    2012     26       ado-den-haag    ajax-amsterdam   \n",
       "...           ...     ...    ...                ...               ...   \n",
       "32287         685    2022     25  willem-ii-tilburg     sc-heerenveen   \n",
       "32288         686    2022     12  willem-ii-tilburg  sparta-rotterdam   \n",
       "32289         687    2022     12  willem-ii-tilburg  sparta-rotterdam   \n",
       "32290         688    2022     12  willem-ii-tilburg  sparta-rotterdam   \n",
       "32291         689    2022     12  willem-ii-tilburg  sparta-rotterdam   \n",
       "\n",
       "                    team                    player  minute         type  \\\n",
       "22582       ado-den-haag            jens-toornstra    34.0  yellow-card   \n",
       "22583       ado-den-haag  aleksander-radosavljevic    44.0  yellow-card   \n",
       "22584       ado-den-haag            ali-boussaboun    25.0     red-card   \n",
       "22585     ajax-amsterdam         toby-alderweireld    40.0  yellow-card   \n",
       "22586     ajax-amsterdam              theo-janssen    78.0  yellow-card   \n",
       "...                  ...                       ...     ...          ...   \n",
       "32287  willem-ii-tilburg            goerkem-saglam    71.0  yellow-card   \n",
       "32288  willem-ii-tilburg              kwasi-wriedt    26.0  yellow-card   \n",
       "32289   sparta-rotterdam                dirk-abels    77.0  yellow-card   \n",
       "32290   sparta-rotterdam              adil-auassar    34.0  yellow-card   \n",
       "32291   sparta-rotterdam              sven-mijnans    19.0  yellow-card   \n",
       "\n",
       "      cardsNumber  \n",
       "22582           1  \n",
       "22583           1  \n",
       "22584           2  \n",
       "22585           1  \n",
       "22586           1  \n",
       "...           ...  \n",
       "32287           1  \n",
       "32288           1  \n",
       "32289           1  \n",
       "32290           1  \n",
       "32291           1  \n",
       "\n",
       "[9710 rows x 10 columns]"
      ]
     },
     "execution_count": 385,
     "metadata": {},
     "output_type": "execute_result"
    }
   ],
   "source": [
    "# Some clubs have different names \n",
    "# We replace it to one name \n",
    "Duplicates(raw_cards_file, \"club\", \"afc-ajax\", \"ajax-amsterdam\")\n",
    "Duplicates(raw_cards_file, \"club\", \"willem-ii\", \"willem-ii-tilburg\")\n",
    "\n",
    "# The cards have different names and we convert them to numbers in order to count them \n",
    "Duplicates(raw_cards_file, \"card\", \"rode kaart\", \"red-card\")\n",
    "Duplicates(raw_cards_file, \"card\", \"rode\", \"red-card\")\n",
    "Duplicates(raw_cards_file, \"card\", \"kaartrode\", \"red-card\")\n",
    "Duplicates(raw_cards_file, \"card\", \"gele kaart\", \"yellow-card\")\n",
    "Duplicates(raw_cards_file, \"card\", \"gele\", \"yellow-card\")\n",
    "Duplicates(raw_cards_file, \"card\", \"kaartgele\", \"yellow-card\")\n",
    "\n",
    "# convert the season to int \n",
    "raw_cards_file['saison'] = raw_cards_file['saison'].apply(toOneSeason)\n",
    "raw_cards_file['saison'] = raw_cards_file['saison'].astype(int)\n",
    "\n",
    "# filter the last 10 seasons \n",
    "filterSeasonCards = raw_cards_file[(raw_cards_file['saison'] >= 2012)]\n",
    "\n",
    "# make new dataframe in order to aggregate\n",
    "dfCards = pd.DataFrame(filterSeasonCards)\n",
    "cardsNumber= dfCards['type']\n",
    "dfCards['cardsNumber'] = cardsNumber\n",
    "dfCards[\"cardsNumber\"].replace({\"red-card\": 2, \"yellow-card\": 1}, inplace=True)\n",
    "dfCards\n"
   ]
  },
  {
   "cell_type": "code",
   "execution_count": 386,
   "metadata": {},
   "outputs": [],
   "source": [
    "# filter the home and away team \n",
    "filterHomeTeam = dfCards[ (dfCards['home'] == dfCards['team'])]\n",
    "filterAwayTeam = dfCards[ (dfCards['away'] == dfCards['team'])]"
   ]
  },
  {
   "cell_type": "markdown",
   "metadata": {},
   "source": [
    "##### Cards Away"
   ]
  },
  {
   "cell_type": "code",
   "execution_count": 387,
   "metadata": {},
   "outputs": [
    {
     "name": "stdout",
     "output_type": "stream",
     "text": [
      "5217 yellow cards is made by away team \n"
     ]
    }
   ],
   "source": [
    "# Away yellow cards\n",
    "filterAwayYellowCard = filterAwayTeam[(filterAwayTeam['cardsNumber'] == 1)]\n",
    "print(f'{len(filterAwayYellowCard.index)} yellow cards is made by away team ')"
   ]
  },
  {
   "cell_type": "code",
   "execution_count": 388,
   "metadata": {},
   "outputs": [
    {
     "name": "stdout",
     "output_type": "stream",
     "text": [
      "247 yellow cards is made by Ajax (Away) \n"
     ]
    }
   ],
   "source": [
    "# How much yellow cards did Ajax get Away \n",
    "filterAjaxYellowCardsAway = filterAwayYellowCard[(filterAwayYellowCard['away'] == 'ajax-amsterdam')]\n",
    "print(f'{len(filterAjaxYellowCardsAway.index)} yellow cards is made by Ajax (Away)')"
   ]
  },
  {
   "cell_type": "code",
   "execution_count": 402,
   "metadata": {},
   "outputs": [
    {
     "name": "stdout",
     "output_type": "stream",
     "text": [
      "253 yellow cards is made by PSV (Away) \n"
     ]
    }
   ],
   "source": [
    "# How much yellow cards did PSV get Away \n",
    "filterPsvYellowCardsAway = filterAwayYellowCard[(filterAwayYellowCard['away'] == 'psv-eindhoven')]\n",
    "print(f'{len(filterPsvYellowCardsAway.index)} yellow cards is made by PSV (Away)')"
   ]
  },
  {
   "cell_type": "code",
   "execution_count": 406,
   "metadata": {},
   "outputs": [
    {
     "name": "stdout",
     "output_type": "stream",
     "text": [
      "210 red cards is made by away team \n"
     ]
    }
   ],
   "source": [
    "# Away red cards\n",
    "filterAwayRedCard = filterAwayTeam[(filterAwayTeam['cardsNumber'] == 2)]\n",
    "print(f'{len(filterAwayRedCard.index)} red cards is made by away team ')"
   ]
  },
  {
   "cell_type": "code",
   "execution_count": 404,
   "metadata": {},
   "outputs": [
    {
     "name": "stdout",
     "output_type": "stream",
     "text": [
      "5 red cards is made by Ajax (Away)\n"
     ]
    }
   ],
   "source": [
    "# How much red cards did Ajax get Away \n",
    "filterAjaxRedCardsAway = filterAwayRedCard[(filterAwayRedCard['away'] == 'ajax-amsterdam')]\n",
    "print(f'{len(filterAjaxRedCardsAway.index)} red cards is made by Ajax (Away)')"
   ]
  },
  {
   "cell_type": "code",
   "execution_count": 405,
   "metadata": {},
   "outputs": [
    {
     "name": "stdout",
     "output_type": "stream",
     "text": [
      "8 red cards is made by Psv (Away)\n"
     ]
    }
   ],
   "source": [
    "# How much red cards did Psv get Away \n",
    "filterPsvRedCardsAway = filterAwayRedCard[(filterAwayRedCard['away'] == 'psv-eindhoven')]\n",
    "print(f'{len(filterPsvRedCardsAway.index)} red cards is made by Psv (Away)')"
   ]
  },
  {
   "cell_type": "markdown",
   "metadata": {},
   "source": [
    "##### Cards Home"
   ]
  },
  {
   "cell_type": "code",
   "execution_count": 408,
   "metadata": {},
   "outputs": [
    {
     "name": "stdout",
     "output_type": "stream",
     "text": [
      "3943 yellow cards is made by home team \n"
     ]
    }
   ],
   "source": [
    "# Home yellow cards\n",
    "filterHomeYellowCard = filterHomeTeam[(filterHomeTeam['cardsNumber'] == 1)]\n",
    "print(f'{len(filterHomeYellowCard.index)} yellow cards is made by home team ')"
   ]
  },
  {
   "cell_type": "code",
   "execution_count": 411,
   "metadata": {},
   "outputs": [
    {
     "name": "stdout",
     "output_type": "stream",
     "text": [
      "128 yellow cards is made by Ajax (Home)\n"
     ]
    }
   ],
   "source": [
    "# How much yellow cards did Ajax get Home \n",
    "filterAjaxYellowCardsHome = filterHomeYellowCard[(filterHomeYellowCard['home'] == 'ajax-amsterdam')]\n",
    "print(f'{len(filterAjaxYellowCardsHome.index)} yellow cards is made by Ajax (Home)')"
   ]
  },
  {
   "cell_type": "code",
   "execution_count": 412,
   "metadata": {},
   "outputs": [
    {
     "name": "stdout",
     "output_type": "stream",
     "text": [
      "186 yellow cards is made by PSV (Home)\n"
     ]
    }
   ],
   "source": [
    "# How much yellow cards did PSV get Away \n",
    "filterPsvYellowCardsHome = filterHomeYellowCard[(filterHomeYellowCard['home'] == 'psv-eindhoven')]\n",
    "print(f'{len(filterPsvYellowCardsHome.index)} yellow cards is made by PSV (Home)')"
   ]
  },
  {
   "cell_type": "code",
   "execution_count": 409,
   "metadata": {},
   "outputs": [
    {
     "name": "stdout",
     "output_type": "stream",
     "text": [
      "150 red cards is made by home team \n"
     ]
    }
   ],
   "source": [
    "# Home red cards \n",
    "filterHomeRedCard = filterHomeTeam[(filterHomeTeam['cardsNumber'] == 2)]\n",
    "print(f'{len(filterHomeRedCard.index)} red cards is made by home team ')"
   ]
  },
  {
   "cell_type": "code",
   "execution_count": 413,
   "metadata": {},
   "outputs": [
    {
     "name": "stdout",
     "output_type": "stream",
     "text": [
      "6 red cards is made by Ajax (Home)\n"
     ]
    }
   ],
   "source": [
    "# How much red cards did Ajax get Home \n",
    "filterAjaxRedCardsHome = filterHomeRedCard[(filterHomeRedCard['home'] == 'ajax-amsterdam')]\n",
    "print(f'{len(filterAjaxRedCardsHome.index)} red cards is made by Ajax (Home)')"
   ]
  },
  {
   "cell_type": "code",
   "execution_count": 414,
   "metadata": {},
   "outputs": [
    {
     "name": "stdout",
     "output_type": "stream",
     "text": [
      "3 red cards is made by Psv (Home)\n"
     ]
    }
   ],
   "source": [
    "# How much red cards did Psv get Home \n",
    "filterPsvRedCardsHome = filterHomeRedCard[(filterHomeRedCard['home'] == 'psv-eindhoven')]\n",
    "print(f'{len(filterPsvRedCardsHome.index)} red cards is made by Psv (Home)')"
   ]
  },
  {
   "cell_type": "markdown",
   "metadata": {},
   "source": [
    "#### Yellow and red cards in Psv and Ajax game"
   ]
  },
  {
   "cell_type": "markdown",
   "metadata": {},
   "source": [
    "##### PSV Stadion"
   ]
  },
  {
   "cell_type": "code",
   "execution_count": 416,
   "metadata": {},
   "outputs": [
    {
     "name": "stdout",
     "output_type": "stream",
     "text": [
      "1 red cards is made by Ajax in PSV studium (Away)\n"
     ]
    }
   ],
   "source": [
    "# How much red cards did Ajax get in psv stadion againt PSV\n",
    "filterAjaxCardsInPsvStadion = dfCards[(dfCards['team'] == \"ajax-amsterdam\") & (dfCards['home'] == \"psv-eindhoven\")]\n",
    "filterAjaxCardsInPsvStadionRedCards = filterAjaxCardsInPsvStadion[(filterAjaxCardsInPsvStadion['cardsNumber'] == 2)]\n",
    "print(f'{len(filterAjaxCardsInPsvStadionRedCards.index)} red cards is made by Ajax in PSV Stadion (Away)')"
   ]
  },
  {
   "cell_type": "code",
   "execution_count": 418,
   "metadata": {},
   "outputs": [
    {
     "name": "stdout",
     "output_type": "stream",
     "text": [
      "18 yellow cards is made by Ajax in PSV studium (Away)\n"
     ]
    }
   ],
   "source": [
    "# How much yellow cards did Ajax get in psv stadion againt PSV\n",
    "filterAjaxCardsInPsvStadionYellowCards = filterAjaxCardsInPsvStadion[(filterAjaxCardsInPsvStadion['cardsNumber'] == 1)]\n",
    "print(f'{len(filterAjaxCardsInPsvStadionYellowCards.index)} yellow cards is made by Ajax in PSV Stadion (Away)')"
   ]
  },
  {
   "cell_type": "code",
   "execution_count": 419,
   "metadata": {},
   "outputs": [
    {
     "name": "stdout",
     "output_type": "stream",
     "text": [
      "0 red cards is made by PSV in PSV studium againts ajax (Home)\n"
     ]
    }
   ],
   "source": [
    "# How much red cards did Psv get in psv stadion againt Ajax\n",
    "filterPSVCardsInPsvStadion = dfCards[(dfCards['team'] == \"psv-eindhoven\") & (dfCards['away'] == \"ajax-amsterdam\")]\n",
    "filterPSVCardsInPsvStadionRedCards = filterPSVCardsInPsvStadion[(filterPSVCardsInPsvStadion['cardsNumber'] == 2)]\n",
    "print(f'{len(filterPSVCardsInPsvStadionRedCards.index)} red cards is made by PSV in PSV stadion againts ajax (Home)')"
   ]
  },
  {
   "cell_type": "code",
   "execution_count": 420,
   "metadata": {},
   "outputs": [
    {
     "name": "stdout",
     "output_type": "stream",
     "text": [
      "23 yellow cards is made by PSV in PSV studium againts ajax (Home)\n"
     ]
    }
   ],
   "source": [
    "# How much yellow cards did Psv get in psv studium againt Ajax\n",
    "filterPSVCardsInPsvStadionYellowCards = filterPSVCardsInPsvStadion[(filterPSVCardsInPsvStadion['cardsNumber'] == 1)]\n",
    "print(f'{len(filterPSVCardsInPsvStadionYellowCards.index)} yellow cards is made by PSV in PSV stadion againts ajax (Home)')"
   ]
  },
  {
   "cell_type": "markdown",
   "metadata": {},
   "source": [
    "##### Ajax Stadion"
   ]
  },
  {
   "cell_type": "code",
   "execution_count": 421,
   "metadata": {},
   "outputs": [
    {
     "name": "stdout",
     "output_type": "stream",
     "text": [
      "1 red cards is made by Ajax in Ajax Stadion (Home)\n"
     ]
    }
   ],
   "source": [
    "# How much red cards did Ajax get in Ajax stadion againt PSV\n",
    "filterAjaxCardsInAjaxStadion = dfCards[(dfCards['team'] == \"ajax-amsterdam\") & (dfCards['away'] == \"psv-eindhoven\")]\n",
    "filterAjaxCardsInAjaxStadionRedCards = filterAjaxCardsInAjaxStadion[(filterAjaxCardsInAjaxStadion['cardsNumber'] == 2)]\n",
    "print(f'{len(filterAjaxCardsInAjaxStadionRedCards.index)} red cards is made by Ajax in Ajax Stadion (Home)')"
   ]
  },
  {
   "cell_type": "code",
   "execution_count": 422,
   "metadata": {},
   "outputs": [
    {
     "name": "stdout",
     "output_type": "stream",
     "text": [
      "15 yellow cards is made by Ajax in Ajax Stadion (Home)\n"
     ]
    }
   ],
   "source": [
    "# How much yellow cards did Ajax get in Ajax stadion againt PSV\n",
    "filterAjaxCardsInAjaxStadionYellowCards = filterAjaxCardsInAjaxStadion[(filterAjaxCardsInAjaxStadion['cardsNumber'] == 1)]\n",
    "print(f'{len(filterAjaxCardsInAjaxStadionYellowCards.index)} yellow cards is made by Ajax in Ajax Stadion (Home)')"
   ]
  },
  {
   "cell_type": "code",
   "execution_count": 423,
   "metadata": {},
   "outputs": [
    {
     "name": "stdout",
     "output_type": "stream",
     "text": [
      "0 red cards is made by PSV in Ajax Stadion (Away)\n"
     ]
    }
   ],
   "source": [
    "# How much red cards did PSV get in Ajax stadion againt Ajax\n",
    "filterPSVCardsInAjaxStadion = dfCards[(dfCards['team'] == \"psv-eindhoven\") & (dfCards['home'] == \"ajax-amsterdam\")]\n",
    "filterPSVCardsInAjaxStadionRedCards = filterPSVCardsInAjaxStadion[(filterPSVCardsInAjaxStadion['cardsNumber'] == 2)]\n",
    "print(f'{len(filterPSVCardsInAjaxStadionRedCards.index)} red cards is made by PSV in Ajax Stadion (Away)')"
   ]
  },
  {
   "cell_type": "code",
   "execution_count": 425,
   "metadata": {},
   "outputs": [
    {
     "name": "stdout",
     "output_type": "stream",
     "text": [
      "23 yellow cards is made by PSV in Ajax Stadion (Away)\n"
     ]
    }
   ],
   "source": [
    "# How much yellow cards did PSV get in Ajax stadion againt Ajax\n",
    "filterPSVCardsInAjaxStadionYellowCards = filterPSVCardsInAjaxStadion[(filterPSVCardsInAjaxStadion['cardsNumber'] == 1)]\n",
    "print(f'{len(filterPSVCardsInAjaxStadionYellowCards.index)} yellow cards is made by PSV in Ajax Stadion (Away)')"
   ]
  },
  {
   "cell_type": "markdown",
   "metadata": {},
   "source": [
    "### Players"
   ]
  },
  {
   "cell_type": "code",
   "execution_count": 392,
   "metadata": {},
   "outputs": [
    {
     "data": {
      "text/html": [
       "<div>\n",
       "<style scoped>\n",
       "    .dataframe tbody tr th:only-of-type {\n",
       "        vertical-align: middle;\n",
       "    }\n",
       "\n",
       "    .dataframe tbody tr th {\n",
       "        vertical-align: top;\n",
       "    }\n",
       "\n",
       "    .dataframe thead th {\n",
       "        text-align: right;\n",
       "    }\n",
       "</style>\n",
       "<table border=\"1\" class=\"dataframe\">\n",
       "  <thead>\n",
       "    <tr style=\"text-align: right;\">\n",
       "      <th></th>\n",
       "      <th>index</th>\n",
       "      <th>saison</th>\n",
       "      <th>home</th>\n",
       "      <th>away</th>\n",
       "      <th>team</th>\n",
       "      <th>player</th>\n",
       "      <th>started</th>\n",
       "    </tr>\n",
       "  </thead>\n",
       "  <tbody>\n",
       "    <tr>\n",
       "      <th>0</th>\n",
       "      <td>0</td>\n",
       "      <td>1956-1957</td>\n",
       "      <td>afc-ajax</td>\n",
       "      <td>bvc-amsterdam</td>\n",
       "      <td>afc-ajax</td>\n",
       "      <td>eddy-pieters-graafland</td>\n",
       "      <td>True</td>\n",
       "    </tr>\n",
       "    <tr>\n",
       "      <th>1</th>\n",
       "      <td>1</td>\n",
       "      <td>1956-1957</td>\n",
       "      <td>afc-ajax</td>\n",
       "      <td>bvc-amsterdam</td>\n",
       "      <td>afc-ajax</td>\n",
       "      <td>cor-geelhuizen</td>\n",
       "      <td>True</td>\n",
       "    </tr>\n",
       "    <tr>\n",
       "      <th>2</th>\n",
       "      <td>2</td>\n",
       "      <td>1956-1957</td>\n",
       "      <td>afc-ajax</td>\n",
       "      <td>bvc-amsterdam</td>\n",
       "      <td>afc-ajax</td>\n",
       "      <td>ger-van-mourik</td>\n",
       "      <td>True</td>\n",
       "    </tr>\n",
       "    <tr>\n",
       "      <th>3</th>\n",
       "      <td>3</td>\n",
       "      <td>1956-1957</td>\n",
       "      <td>afc-ajax</td>\n",
       "      <td>bvc-amsterdam</td>\n",
       "      <td>afc-ajax</td>\n",
       "      <td>ad-visser</td>\n",
       "      <td>True</td>\n",
       "    </tr>\n",
       "    <tr>\n",
       "      <th>4</th>\n",
       "      <td>4</td>\n",
       "      <td>1956-1957</td>\n",
       "      <td>afc-ajax</td>\n",
       "      <td>bvc-amsterdam</td>\n",
       "      <td>afc-ajax</td>\n",
       "      <td>piet-ouderland</td>\n",
       "      <td>True</td>\n",
       "    </tr>\n",
       "    <tr>\n",
       "      <th>...</th>\n",
       "      <td>...</td>\n",
       "      <td>...</td>\n",
       "      <td>...</td>\n",
       "      <td>...</td>\n",
       "      <td>...</td>\n",
       "      <td>...</td>\n",
       "      <td>...</td>\n",
       "    </tr>\n",
       "    <tr>\n",
       "      <th>531095</th>\n",
       "      <td>9368</td>\n",
       "      <td>2021-2022</td>\n",
       "      <td>willem-ii</td>\n",
       "      <td>sparta-rotterdam</td>\n",
       "      <td>sparta-rotterdam</td>\n",
       "      <td>vito-van-crooij</td>\n",
       "      <td>False</td>\n",
       "    </tr>\n",
       "    <tr>\n",
       "      <th>531096</th>\n",
       "      <td>9369</td>\n",
       "      <td>2021-2022</td>\n",
       "      <td>willem-ii</td>\n",
       "      <td>sparta-rotterdam</td>\n",
       "      <td>sparta-rotterdam</td>\n",
       "      <td>mario-engels</td>\n",
       "      <td>False</td>\n",
       "    </tr>\n",
       "    <tr>\n",
       "      <th>531097</th>\n",
       "      <td>9370</td>\n",
       "      <td>2021-2022</td>\n",
       "      <td>willem-ii</td>\n",
       "      <td>sparta-rotterdam</td>\n",
       "      <td>sparta-rotterdam</td>\n",
       "      <td>benjamin-van-leer</td>\n",
       "      <td>False</td>\n",
       "    </tr>\n",
       "    <tr>\n",
       "      <th>531098</th>\n",
       "      <td>9371</td>\n",
       "      <td>2021-2022</td>\n",
       "      <td>willem-ii</td>\n",
       "      <td>sparta-rotterdam</td>\n",
       "      <td>sparta-rotterdam</td>\n",
       "      <td>tim-coremans</td>\n",
       "      <td>False</td>\n",
       "    </tr>\n",
       "    <tr>\n",
       "      <th>531099</th>\n",
       "      <td>9372</td>\n",
       "      <td>2021-2022</td>\n",
       "      <td>willem-ii</td>\n",
       "      <td>sparta-rotterdam</td>\n",
       "      <td>sparta-rotterdam</td>\n",
       "      <td>michael-heylen</td>\n",
       "      <td>False</td>\n",
       "    </tr>\n",
       "  </tbody>\n",
       "</table>\n",
       "<p>531100 rows × 7 columns</p>\n",
       "</div>"
      ],
      "text/plain": [
       "        index     saison       home              away              team  \\\n",
       "0           0  1956-1957   afc-ajax     bvc-amsterdam          afc-ajax   \n",
       "1           1  1956-1957   afc-ajax     bvc-amsterdam          afc-ajax   \n",
       "2           2  1956-1957   afc-ajax     bvc-amsterdam          afc-ajax   \n",
       "3           3  1956-1957   afc-ajax     bvc-amsterdam          afc-ajax   \n",
       "4           4  1956-1957   afc-ajax     bvc-amsterdam          afc-ajax   \n",
       "...       ...        ...        ...               ...               ...   \n",
       "531095   9368  2021-2022  willem-ii  sparta-rotterdam  sparta-rotterdam   \n",
       "531096   9369  2021-2022  willem-ii  sparta-rotterdam  sparta-rotterdam   \n",
       "531097   9370  2021-2022  willem-ii  sparta-rotterdam  sparta-rotterdam   \n",
       "531098   9371  2021-2022  willem-ii  sparta-rotterdam  sparta-rotterdam   \n",
       "531099   9372  2021-2022  willem-ii  sparta-rotterdam  sparta-rotterdam   \n",
       "\n",
       "                        player  started  \n",
       "0       eddy-pieters-graafland     True  \n",
       "1               cor-geelhuizen     True  \n",
       "2               ger-van-mourik     True  \n",
       "3                    ad-visser     True  \n",
       "4               piet-ouderland     True  \n",
       "...                        ...      ...  \n",
       "531095         vito-van-crooij    False  \n",
       "531096            mario-engels    False  \n",
       "531097       benjamin-van-leer    False  \n",
       "531098            tim-coremans    False  \n",
       "531099          michael-heylen    False  \n",
       "\n",
       "[531100 rows x 7 columns]"
      ]
     },
     "execution_count": 392,
     "metadata": {},
     "output_type": "execute_result"
    }
   ],
   "source": [
    "# we drop the unneccesary columns \n",
    "raw_players_file.drop(columns=['round'])"
   ]
  },
  {
   "cell_type": "code",
   "execution_count": 393,
   "metadata": {},
   "outputs": [
    {
     "name": "stdout",
     "output_type": "stream",
     "text": [
      "212686 players play home\n",
      "49729 players did not play home\n",
      "217217 players play away\n",
      "51468 players did not play away\n"
     ]
    }
   ],
   "source": [
    "# we replace the 'started' column to numbers in order to count them\n",
    "raw_players_file[\"started\"].replace({True: 1, False: 0}, inplace=True)\n",
    "\n",
    "# filter the home and away team \n",
    "filterHomeTeamPlayers = raw_players_file[ (raw_players_file['home'] == raw_players_file['team'])]\n",
    "filterAwayTeamPlayers = raw_players_file[ (raw_players_file['away'] == raw_players_file['team'])]\n",
    "\n",
    "# How much players play Home\n",
    "filterStartedPlayersHome = filterHomeTeamPlayers[ (filterHomeTeamPlayers['started'] == 1)]\n",
    "print(f'{len(filterStartedPlayersHome.index)} players play home')\n",
    "# How much players did not play Home\n",
    "filterNotStartedPlayersHome = filterHomeTeamPlayers[ (filterHomeTeamPlayers['started'] == 0)]\n",
    "print(f'{len(filterNotStartedPlayersHome.index)} players did not play home')\n",
    "\n",
    "# How much players play Away\n",
    "filterStartedPlayersAway = filterAwayTeamPlayers[ (filterAwayTeamPlayers['started'] == 1)]\n",
    "print(f'{len(filterStartedPlayersAway.index)} players play away')\n",
    "# How much players did not play Away\n",
    "filterNotStartedPlayersAway = filterAwayTeamPlayers[ (filterAwayTeamPlayers['started'] == 0)]\n",
    "print(f'{len(filterNotStartedPlayersAway.index)} players did not play away')"
   ]
  },
  {
   "cell_type": "markdown",
   "metadata": {},
   "source": [
    "### Matches"
   ]
  },
  {
   "cell_type": "code",
   "execution_count": 394,
   "metadata": {},
   "outputs": [
    {
     "data": {
      "text/html": [
       "<div>\n",
       "<style scoped>\n",
       "    .dataframe tbody tr th:only-of-type {\n",
       "        vertical-align: middle;\n",
       "    }\n",
       "\n",
       "    .dataframe tbody tr th {\n",
       "        vertical-align: top;\n",
       "    }\n",
       "\n",
       "    .dataframe thead th {\n",
       "        text-align: right;\n",
       "    }\n",
       "</style>\n",
       "<table border=\"1\" class=\"dataframe\">\n",
       "  <thead>\n",
       "    <tr style=\"text-align: right;\">\n",
       "      <th></th>\n",
       "      <th>Unnamed: 0</th>\n",
       "      <th>saison</th>\n",
       "      <th>home</th>\n",
       "      <th>away</th>\n",
       "      <th>home_score</th>\n",
       "      <th>away_score</th>\n",
       "    </tr>\n",
       "  </thead>\n",
       "  <tbody>\n",
       "    <tr>\n",
       "      <th>0</th>\n",
       "      <td>0</td>\n",
       "      <td>1956-1957</td>\n",
       "      <td>afc-ajax</td>\n",
       "      <td>bvc-amsterdam</td>\n",
       "      <td>2</td>\n",
       "      <td>3</td>\n",
       "    </tr>\n",
       "    <tr>\n",
       "      <th>1</th>\n",
       "      <td>1</td>\n",
       "      <td>1956-1957</td>\n",
       "      <td>afc-ajax</td>\n",
       "      <td>fc-den-bosch</td>\n",
       "      <td>1</td>\n",
       "      <td>0</td>\n",
       "    </tr>\n",
       "    <tr>\n",
       "      <th>2</th>\n",
       "      <td>2</td>\n",
       "      <td>1956-1957</td>\n",
       "      <td>afc-ajax</td>\n",
       "      <td>fc-utrecht</td>\n",
       "      <td>1</td>\n",
       "      <td>2</td>\n",
       "    </tr>\n",
       "    <tr>\n",
       "      <th>3</th>\n",
       "      <td>3</td>\n",
       "      <td>1956-1957</td>\n",
       "      <td>afc-ajax</td>\n",
       "      <td>feyenoord</td>\n",
       "      <td>1</td>\n",
       "      <td>0</td>\n",
       "    </tr>\n",
       "    <tr>\n",
       "      <th>4</th>\n",
       "      <td>4</td>\n",
       "      <td>1956-1957</td>\n",
       "      <td>afc-ajax</td>\n",
       "      <td>fortuna-54</td>\n",
       "      <td>0</td>\n",
       "      <td>2</td>\n",
       "    </tr>\n",
       "    <tr>\n",
       "      <th>...</th>\n",
       "      <td>...</td>\n",
       "      <td>...</td>\n",
       "      <td>...</td>\n",
       "      <td>...</td>\n",
       "      <td>...</td>\n",
       "      <td>...</td>\n",
       "    </tr>\n",
       "    <tr>\n",
       "      <th>19925</th>\n",
       "      <td>301</td>\n",
       "      <td>2021-2022</td>\n",
       "      <td>willem-ii</td>\n",
       "      <td>rkc-waalwijk</td>\n",
       "      <td>3</td>\n",
       "      <td>1</td>\n",
       "    </tr>\n",
       "    <tr>\n",
       "      <th>19926</th>\n",
       "      <td>302</td>\n",
       "      <td>2021-2022</td>\n",
       "      <td>willem-ii</td>\n",
       "      <td>sc-cambuur</td>\n",
       "      <td>1</td>\n",
       "      <td>3</td>\n",
       "    </tr>\n",
       "    <tr>\n",
       "      <th>19927</th>\n",
       "      <td>303</td>\n",
       "      <td>2021-2022</td>\n",
       "      <td>willem-ii</td>\n",
       "      <td>sc-heerenveen</td>\n",
       "      <td>0</td>\n",
       "      <td>0</td>\n",
       "    </tr>\n",
       "    <tr>\n",
       "      <th>19928</th>\n",
       "      <td>304</td>\n",
       "      <td>2021-2022</td>\n",
       "      <td>willem-ii</td>\n",
       "      <td>sparta-rotterdam</td>\n",
       "      <td>0</td>\n",
       "      <td>3</td>\n",
       "    </tr>\n",
       "    <tr>\n",
       "      <th>19929</th>\n",
       "      <td>305</td>\n",
       "      <td>2021-2022</td>\n",
       "      <td>willem-ii</td>\n",
       "      <td>vitesse</td>\n",
       "      <td>-</td>\n",
       "      <td>-</td>\n",
       "    </tr>\n",
       "  </tbody>\n",
       "</table>\n",
       "<p>19930 rows × 6 columns</p>\n",
       "</div>"
      ],
      "text/plain": [
       "       Unnamed: 0     saison       home              away home_score  \\\n",
       "0               0  1956-1957   afc-ajax     bvc-amsterdam          2   \n",
       "1               1  1956-1957   afc-ajax      fc-den-bosch          1   \n",
       "2               2  1956-1957   afc-ajax        fc-utrecht          1   \n",
       "3               3  1956-1957   afc-ajax         feyenoord          1   \n",
       "4               4  1956-1957   afc-ajax        fortuna-54          0   \n",
       "...           ...        ...        ...               ...        ...   \n",
       "19925         301  2021-2022  willem-ii      rkc-waalwijk          3   \n",
       "19926         302  2021-2022  willem-ii        sc-cambuur          1   \n",
       "19927         303  2021-2022  willem-ii     sc-heerenveen          0   \n",
       "19928         304  2021-2022  willem-ii  sparta-rotterdam          0   \n",
       "19929         305  2021-2022  willem-ii           vitesse          -   \n",
       "\n",
       "      away_score  \n",
       "0              3  \n",
       "1              0  \n",
       "2              2  \n",
       "3              0  \n",
       "4              2  \n",
       "...          ...  \n",
       "19925          1  \n",
       "19926          3  \n",
       "19927          0  \n",
       "19928          3  \n",
       "19929          -  \n",
       "\n",
       "[19930 rows x 6 columns]"
      ]
     },
     "execution_count": 394,
     "metadata": {},
     "output_type": "execute_result"
    }
   ],
   "source": [
    "# we drop the unneccesary columns \n",
    "filtered_matches = raw_matches_file.drop(columns=['stadium','home_first_card','home_last_card',\n",
    "                                                 'away_first_card', 'time','date','round',\n",
    "                                                 'spectators', 'ref','linesman1','linesman2', 'away_last_card',\n",
    "                                                 'home_yellow', 'home_yelred', 'away_yellow','first_goal', 'last_goal',\n",
    "                                                  'away_red','home_red', 'away_yelred'])\n",
    "\n",
    "# drop the empty rows\n",
    "filtered_matches.dropna()\n",
    "filtered_matches"
   ]
  },
  {
   "cell_type": "code",
   "execution_count": 395,
   "metadata": {},
   "outputs": [
    {
     "name": "stdout",
     "output_type": "stream",
     "text": [
      "The Home team won 9458 matches\n",
      "The Away team won 5416 matches\n",
      "The draw was in 5056 matches\n"
     ]
    }
   ],
   "source": [
    "# WinningHomeTeamFilter\n",
    "WinningHomeTeamFilter = filtered_matches[ (filtered_matches['home_score'] > filtered_matches['away_score'])]\n",
    "print(f'The Home team won {len(WinningHomeTeamFilter.index)} matches')\n",
    "\n",
    "# WinningAwayTeamFilter\n",
    "WinningAwayTeamFilter = filtered_matches[ (filtered_matches['home_score'] < filtered_matches['away_score'])]\n",
    "print(f'The Away team won {len(WinningAwayTeamFilter.index)} matches')\n",
    "\n",
    "# DrawFilter\n",
    "DrawTeamFilter = filtered_matches[ (filtered_matches['home_score'] == filtered_matches['away_score'])]\n",
    "print(f'The draw was in {len(DrawTeamFilter.index)} matches')"
   ]
  },
  {
   "cell_type": "markdown",
   "metadata": {},
   "source": [
    "### Changing the players"
   ]
  },
  {
   "cell_type": "code",
   "execution_count": 396,
   "metadata": {},
   "outputs": [
    {
     "name": "stdout",
     "output_type": "stream",
     "text": [
      "31728 subs the home team made\n",
      "32505 subs the Away team made\n"
     ]
    }
   ],
   "source": [
    "# How much subs did the home and away teams made \n",
    "# we drop the unneccesary columns \n",
    "filtered_subs = raw_subs_file.drop(columns=['minute','player','round','saison'])\n",
    "filtered_subs[\"in\"].replace({False: 0, True: 1 }, inplace=True)\n",
    "\n",
    "filterHomeTeamSubs = filtered_subs[ (filtered_subs['home'] == filtered_subs['team'])]\n",
    "filterAwayTeamSubs = filtered_subs[ (filtered_subs['away'] == filtered_subs['team'])]\n",
    "\n",
    "# How much subs Home team made\n",
    "filterSubsHome = filterHomeTeamSubs[ (filterHomeTeamSubs['in'] == 1)]\n",
    "print(f'{len(filterSubsHome.index)} subs the home team made')\n",
    "\n",
    "# How much subs Away team made\n",
    "filterSubsAway = filterAwayTeamSubs[ (filterAwayTeamSubs['in'] == 1)]\n",
    "print(f'{len(filterSubsAway.index)} subs the Away team made')"
   ]
  },
  {
   "cell_type": "markdown",
   "metadata": {},
   "source": [
    "### AJAX VS PSV Stats"
   ]
  },
  {
   "cell_type": "markdown",
   "metadata": {},
   "source": [
    "#### Goals"
   ]
  },
  {
   "cell_type": "code",
   "execution_count": 397,
   "metadata": {},
   "outputs": [
    {
     "name": "stdout",
     "output_type": "stream",
     "text": [
      "Ajax Amsterdam Home Goals 443\n",
      "Ajax Amsterdam Away Goals 366\n",
      "psv eindhoven Home Goals 408\n",
      "psv eindhoven Away Goals 393\n"
     ]
    }
   ],
   "source": [
    "ajaxGoalsHome = filterAssist[ (filterAssist['home'] == 'ajax-amsterdam')]\n",
    "\n",
    "print(f'Ajax Amsterdam Home Goals {len(ajaxGoalsHome.index)}')\n",
    "\n",
    "\n",
    "ajaxGoalsAway = filterAssist[ (filterAssist['away'] == 'ajax-amsterdam')]\n",
    "\n",
    "print(f'Ajax Amsterdam Away Goals {len(ajaxGoalsAway.index)}')\n",
    "\n",
    "\n",
    "psvGoalsHome = filterAssist[ (filterAssist['home'] == 'psv-eindhoven')]\n",
    "\n",
    "print(f'psv eindhoven Home Goals {len(psvGoalsHome.index)}')\n",
    "\n",
    "psvGoalsAway = filterAssist[ (filterAssist['away'] == 'psv-eindhoven')]\n",
    "\n",
    "print(f'psv eindhoven Away Goals {len(psvGoalsAway.index)}')"
   ]
  },
  {
   "cell_type": "code",
   "execution_count": 398,
   "metadata": {},
   "outputs": [
    {
     "data": {
      "text/plain": [
       "<AxesSubplot:>"
      ]
     },
     "execution_count": 398,
     "metadata": {},
     "output_type": "execute_result"
    },
    {
     "data": {
      "image/png": "[encoded data removed]",
      "text/plain": [
       "<Figure size 432x288 with 1 Axes>"
      ]
     },
     "metadata": {
      "needs_background": "light"
     },
     "output_type": "display_data"
    }
   ],
   "source": [
    "plotdata = pd.DataFrame({\n",
    "    \"Ajax\": len(ajaxGoalsHome.index),\n",
    "    \"PSV\": len(psvGoalsHome.index)\n",
    "    }, \n",
    "    index=[\"Home Goals\"]\n",
    ")\n",
    "plotdata.plot(kind=\"bar\")"
   ]
  },
  {
   "cell_type": "code",
   "execution_count": 399,
   "metadata": {},
   "outputs": [
    {
     "data": {
      "text/plain": [
       "<AxesSubplot:>"
      ]
     },
     "execution_count": 399,
     "metadata": {},
     "output_type": "execute_result"
    },
    {
     "data": {
      "image/png": "[encoded data removed]",
      "text/plain": [
       "<Figure size 432x288 with 1 Axes>"
      ]
     },
     "metadata": {
      "needs_background": "light"
     },
     "output_type": "display_data"
    }
   ],
   "source": [
    "plotdata = pd.DataFrame({\n",
    "    \"Ajax\": len(ajaxGoalsAway.index),\n",
    "    \"PSV\": len(psvGoalsAway.index)\n",
    "    }, \n",
    "    index=[\"Away Goals\"]\n",
    ")\n",
    "plotdata.plot(kind=\"bar\")"
   ]
  }
 ],
 "metadata": {
  "interpreter": {
   "hash": "b3ba2566441a7c06988d0923437866b63cedc61552a5af99d1f4fb67d367b25f"
  },
  "kernelspec": {
   "display_name": "Python 3.9.7 ('base')",
   "language": "python",
   "name": "python3"
  },
  "language_info": {
   "codemirror_mode": {
    "name": "ipython",
    "version": 3
   },
   "file_extension": ".py",
   "mimetype": "text/x-python",
   "name": "python",
   "nbconvert_exporter": "python",
   "pygments_lexer": "ipython3",
   "version": "3.9.7"
  },
  "orig_nbformat": 4
 },
 "nbformat": 4,
 "nbformat_minor": 2
}
