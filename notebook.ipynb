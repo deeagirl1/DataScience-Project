{
 "cells": [
  {
   "cell_type": "markdown",
   "metadata": {},
   "source": [
    "# Predicting which team will win a football match"
   ]
  },
  {
   "cell_type": "markdown",
   "metadata": {},
   "source": [
    "The purpose of this project is to use machine learning in order to make predictions regarding football matches. \n",
    "We have 5 .csv files, each file containing different data which might help in make predictions."
   ]
  },
  {
   "cell_type": "code",
   "execution_count": 35,
   "metadata": {},
   "outputs": [],
   "source": [
    "# importing neccesary libraries\n",
    "import numpy as np\n",
    "import pandas as pd\n",
    "from datetime import datetime as dt\n",
    "import itertools\n",
    "\n",
    "%matplotlib inline"
   ]
  },
  {
   "cell_type": "markdown",
   "metadata": {},
   "source": [
    "### Reading data from the files"
   ]
  },
  {
   "cell_type": "code",
   "execution_count": 36,
   "metadata": {},
   "outputs": [],
   "source": [
    "# Read data from .csv files \n",
    "\n",
    "loc = \"voetbal_1956-20220309/\"\n",
    "\n",
    "raw_cards_file = pd.read_csv (loc + '_cards.csv')\n",
    "raw_goals_file = pd.read_csv (loc + '_goals.csv')\n",
    "raw_matches_file = pd.read_csv (loc + '_matches.csv')\n",
    "raw_players_file = pd.read_csv (loc + '_players.csv')\n",
    "raw_subs_file = pd.read_csv (loc + '_subs.csv')"
   ]
  },
  {
   "cell_type": "markdown",
   "metadata": {},
   "source": [
    "### Goals"
   ]
  },
  {
   "cell_type": "code",
   "execution_count": 37,
   "metadata": {},
   "outputs": [],
   "source": [
    "# Method used to overwrite values found in column 'assist'\n",
    "def assist(value):\n",
    "    if pd.notna(value):\n",
    "        return 1\n",
    "    else:\n",
    "        return 0"
   ]
  },
  {
   "cell_type": "code",
   "execution_count": 38,
   "metadata": {},
   "outputs": [
    {
     "data": {
      "text/html": [
       "<div>\n",
       "<style scoped>\n",
       "    .dataframe tbody tr th:only-of-type {\n",
       "        vertical-align: middle;\n",
       "    }\n",
       "\n",
       "    .dataframe tbody tr th {\n",
       "        vertical-align: top;\n",
       "    }\n",
       "\n",
       "    .dataframe thead th {\n",
       "        text-align: right;\n",
       "    }\n",
       "</style>\n",
       "<table border=\"1\" class=\"dataframe\">\n",
       "  <thead>\n",
       "    <tr style=\"text-align: right;\">\n",
       "      <th></th>\n",
       "      <th>Unnamed: 0</th>\n",
       "      <th>saison</th>\n",
       "      <th>home</th>\n",
       "      <th>away</th>\n",
       "      <th>team</th>\n",
       "      <th>player</th>\n",
       "      <th>assist</th>\n",
       "    </tr>\n",
       "  </thead>\n",
       "  <tbody>\n",
       "    <tr>\n",
       "      <th>0</th>\n",
       "      <td>0</td>\n",
       "      <td>1956-1957</td>\n",
       "      <td>ajax-amsterdam</td>\n",
       "      <td>bvc-amsterdam</td>\n",
       "      <td>ajax-amsterdam</td>\n",
       "      <td>1</td>\n",
       "      <td>1</td>\n",
       "    </tr>\n",
       "    <tr>\n",
       "      <th>1</th>\n",
       "      <td>1</td>\n",
       "      <td>1956-1957</td>\n",
       "      <td>ajax-amsterdam</td>\n",
       "      <td>bvc-amsterdam</td>\n",
       "      <td>bvc-amsterdam</td>\n",
       "      <td>1</td>\n",
       "      <td>0</td>\n",
       "    </tr>\n",
       "    <tr>\n",
       "      <th>2</th>\n",
       "      <td>2</td>\n",
       "      <td>1956-1957</td>\n",
       "      <td>ajax-amsterdam</td>\n",
       "      <td>bvc-amsterdam</td>\n",
       "      <td>bvc-amsterdam</td>\n",
       "      <td>1</td>\n",
       "      <td>0</td>\n",
       "    </tr>\n",
       "    <tr>\n",
       "      <th>3</th>\n",
       "      <td>3</td>\n",
       "      <td>1956-1957</td>\n",
       "      <td>ajax-amsterdam</td>\n",
       "      <td>bvc-amsterdam</td>\n",
       "      <td>ajax-amsterdam</td>\n",
       "      <td>1</td>\n",
       "      <td>0</td>\n",
       "    </tr>\n",
       "    <tr>\n",
       "      <th>4</th>\n",
       "      <td>4</td>\n",
       "      <td>1956-1957</td>\n",
       "      <td>ajax-amsterdam</td>\n",
       "      <td>bvc-amsterdam</td>\n",
       "      <td>bvc-amsterdam</td>\n",
       "      <td>1</td>\n",
       "      <td>0</td>\n",
       "    </tr>\n",
       "    <tr>\n",
       "      <th>...</th>\n",
       "      <td>...</td>\n",
       "      <td>...</td>\n",
       "      <td>...</td>\n",
       "      <td>...</td>\n",
       "      <td>...</td>\n",
       "      <td>...</td>\n",
       "      <td>...</td>\n",
       "    </tr>\n",
       "    <tr>\n",
       "      <th>60864</th>\n",
       "      <td>639</td>\n",
       "      <td>2021-2022</td>\n",
       "      <td>willem-ii</td>\n",
       "      <td>sc-cambuur</td>\n",
       "      <td>willem-ii</td>\n",
       "      <td>1</td>\n",
       "      <td>1</td>\n",
       "    </tr>\n",
       "    <tr>\n",
       "      <th>60865</th>\n",
       "      <td>640</td>\n",
       "      <td>2021-2022</td>\n",
       "      <td>willem-ii</td>\n",
       "      <td>sc-cambuur</td>\n",
       "      <td>sc-cambuur</td>\n",
       "      <td>1</td>\n",
       "      <td>0</td>\n",
       "    </tr>\n",
       "    <tr>\n",
       "      <th>60866</th>\n",
       "      <td>641</td>\n",
       "      <td>2021-2022</td>\n",
       "      <td>willem-ii</td>\n",
       "      <td>sparta-rotterdam</td>\n",
       "      <td>sparta-rotterdam</td>\n",
       "      <td>1</td>\n",
       "      <td>1</td>\n",
       "    </tr>\n",
       "    <tr>\n",
       "      <th>60867</th>\n",
       "      <td>642</td>\n",
       "      <td>2021-2022</td>\n",
       "      <td>willem-ii</td>\n",
       "      <td>sparta-rotterdam</td>\n",
       "      <td>sparta-rotterdam</td>\n",
       "      <td>1</td>\n",
       "      <td>1</td>\n",
       "    </tr>\n",
       "    <tr>\n",
       "      <th>60868</th>\n",
       "      <td>643</td>\n",
       "      <td>2021-2022</td>\n",
       "      <td>willem-ii</td>\n",
       "      <td>sparta-rotterdam</td>\n",
       "      <td>sparta-rotterdam</td>\n",
       "      <td>1</td>\n",
       "      <td>1</td>\n",
       "    </tr>\n",
       "  </tbody>\n",
       "</table>\n",
       "<p>60869 rows × 7 columns</p>\n",
       "</div>"
      ],
      "text/plain": [
       "       Unnamed: 0     saison            home              away  \\\n",
       "0               0  1956-1957  ajax-amsterdam     bvc-amsterdam   \n",
       "1               1  1956-1957  ajax-amsterdam     bvc-amsterdam   \n",
       "2               2  1956-1957  ajax-amsterdam     bvc-amsterdam   \n",
       "3               3  1956-1957  ajax-amsterdam     bvc-amsterdam   \n",
       "4               4  1956-1957  ajax-amsterdam     bvc-amsterdam   \n",
       "...           ...        ...             ...               ...   \n",
       "60864         639  2021-2022       willem-ii        sc-cambuur   \n",
       "60865         640  2021-2022       willem-ii        sc-cambuur   \n",
       "60866         641  2021-2022       willem-ii  sparta-rotterdam   \n",
       "60867         642  2021-2022       willem-ii  sparta-rotterdam   \n",
       "60868         643  2021-2022       willem-ii  sparta-rotterdam   \n",
       "\n",
       "                   team  player  assist  \n",
       "0        ajax-amsterdam       1       1  \n",
       "1         bvc-amsterdam       1       0  \n",
       "2         bvc-amsterdam       1       0  \n",
       "3        ajax-amsterdam       1       0  \n",
       "4         bvc-amsterdam       1       0  \n",
       "...                 ...     ...     ...  \n",
       "60864         willem-ii       1       1  \n",
       "60865        sc-cambuur       1       0  \n",
       "60866  sparta-rotterdam       1       1  \n",
       "60867  sparta-rotterdam       1       1  \n",
       "60868  sparta-rotterdam       1       1  \n",
       "\n",
       "[60869 rows x 7 columns]"
      ]
     },
     "execution_count": 38,
     "metadata": {},
     "output_type": "execute_result"
    }
   ],
   "source": [
    "# Some clubs have different names \n",
    "# We replace it to one name \n",
    "raw_goals_file[\"home\"].replace({\"afc-ajax\": \"ajax-amsterdam\" }, inplace=True)\n",
    "raw_goals_file[\"away\"].replace({\"afc-ajax\": \"ajax-amsterdam\" }, inplace=True)\n",
    "raw_goals_file[\"team\"].replace({\"afc-ajax\": \"ajax-amsterdam\" }, inplace=True)\n",
    "\n",
    "# we drop the unneccesary columns \n",
    "filtered_assists = raw_goals_file.drop(columns=['new_score','type','minute','round'])\n",
    "\n",
    "# We use assist function for both 'assist' and 'player' colunms to count the assists and goals for each game\n",
    "filtered_assists['assist'] = raw_goals_file['assist'].apply(assist)\n",
    "filtered_assists['player'] = raw_goals_file['player'].apply(assist)\n",
    "filtered_assists"
   ]
  },
  {
   "cell_type": "code",
   "execution_count": 39,
   "metadata": {},
   "outputs": [
    {
     "name": "stdout",
     "output_type": "stream",
     "text": [
      "home\n",
      "ado-den-haag       617\n",
      "afc-dws             17\n",
      "ajax-amsterdam    1596\n",
      "az-alkmaar         825\n",
      "blauw-wit            2\n",
      "Name: assist, dtype: int64\n",
      "home\n",
      "ado-den-haag      2405\n",
      "afc-dws            604\n",
      "ajax-amsterdam    4299\n",
      "az-alkmaar        2226\n",
      "blauw-wit          348\n",
      "Name: player, dtype: int64\n"
     ]
    }
   ],
   "source": [
    "# Home team assist and goals\n",
    "filterAssist = filtered_assists[(filtered_assists['assist'] == 1)]\n",
    "groupByHomeAssist = filterAssist.groupby('home')['assist'].sum()\n",
    "print(groupByHomeAssist.head())\n",
    "\n",
    "# goals \n",
    "groupByHomeGoals = filtered_assists.groupby('home')['player'].sum()\n",
    "print(groupByHomeGoals.head())"
   ]
  },
  {
   "cell_type": "code",
   "execution_count": 40,
   "metadata": {},
   "outputs": [
    {
     "name": "stdout",
     "output_type": "stream",
     "text": [
      "away\n",
      "ado-den-haag       612\n",
      "afc-dws             17\n",
      "ajax-amsterdam    1308\n",
      "az-alkmaar         838\n",
      "blauw-wit            8\n",
      "Name: assist, dtype: int64\n",
      "away\n",
      "ado-den-haag           2437\n",
      "afc-dws                 628\n",
      "ajax-amsterdam         3551\n",
      "az-alkmaar             2392\n",
      "blauw-wit               387\n",
      "bvc-amsterdam           121\n",
      "cambuur-leeuwarden      140\n",
      "de-graafschap          1093\n",
      "de-volewijckers         150\n",
      "excelsior-rotterdam     139\n",
      "fc-amsterdam            287\n",
      "fc-den-bosch            824\n",
      "fc-dordrecht            357\n",
      "fc-eindhoven            169\n",
      "fc-emmen                139\n",
      "fc-groningen           2725\n",
      "fc-twente              2938\n",
      "fc-utrecht             3380\n",
      "fc-volendam            1310\n",
      "fc-wageningen           120\n",
      "feyenoord              3211\n",
      "feyenoord-rotterdam     157\n",
      "fortuna-54              502\n",
      "fortuna-sittard        1270\n",
      "go-ahead-eagles        1570\n",
      "go-ahead-eagles_2         3\n",
      "helmond-sport           139\n",
      "heracles-almelo        1136\n",
      "hfc-haarlem             869\n",
      "holland-sport           230\n",
      "mvv                    1873\n",
      "nac-breda              2688\n",
      "nec-nijmegen           1931\n",
      "noad-tilburg            258\n",
      "pec-zwolle             1160\n",
      "psv-eindhoven          3487\n",
      "rbc-roosendaal          293\n",
      "rkc-waalwijk           1251\n",
      "roda-jc-kerkrade       2619\n",
      "sbv-excelsior          1020\n",
      "sc-cambuur              277\n",
      "sc-heerenveen          1634\n",
      "sc-telstar              690\n",
      "sc-veendam              105\n",
      "sittardia               207\n",
      "sparta-rotterdam       2771\n",
      "svv-schiedam            107\n",
      "twente-enschede         182\n",
      "usv-elinkwijk           397\n",
      "vitesse                1532\n",
      "vitesse-arnheim         240\n",
      "vvv-venlo              1289\n",
      "willem-ii              1572\n",
      "willem-ii-tilburg       820\n",
      "xerxes-dzb               92\n",
      "Name: player, dtype: int64\n"
     ]
    }
   ],
   "source": [
    "# Away assist and goals \n",
    "groupByAwayAssist = filterAssist.groupby('away')['assist'].sum()\n",
    "print(groupByAwayAssist.head())\n",
    "\n",
    "# goals \n",
    "groupByAwayGoals = filtered_assists.groupby('away')['player'].sum()\n",
    "print(groupByAwayGoals.head(101))"
   ]
  },
  {
   "cell_type": "markdown",
   "metadata": {},
   "source": [
    "### Cards"
   ]
  },
  {
   "cell_type": "code",
   "execution_count": 41,
   "metadata": {},
   "outputs": [
    {
     "name": "stderr",
     "output_type": "stream",
     "text": [
      "C:\\Users\\malja\\anaconda3\\lib\\site-packages\\pandas\\core\\generic.py:6619: SettingWithCopyWarning: \n",
      "A value is trying to be set on a copy of a slice from a DataFrame\n",
      "\n",
      "See the caveats in the documentation: https://pandas.pydata.org/pandas-docs/stable/user_guide/indexing.html#returning-a-view-versus-a-copy\n",
      "  return self._update_inplace(result)\n"
     ]
    }
   ],
   "source": [
    "# The cards have different names and we convert them to numbers in order to count them \n",
    "df_card_filtered = raw_cards_file[(raw_cards_file['type'] == 'rode kaart') | \n",
    "                                  (raw_cards_file['type'] == 'gele kaart') |\n",
    "                                  (raw_cards_file['type'] == 'gele') |\n",
    "                                  (raw_cards_file['type'] == 'kaartgele') |\n",
    "                                  (raw_cards_file['type'] == 'rode') |\n",
    "                                  (raw_cards_file['type'] == 'kaartrode')  ]\n",
    "            \n",
    "df_card_filtered[\"type\"].replace({\"rode kaart\": 2, \"gele kaart\": 1, \"gele\": 1 , \"kaartgele\" : 1 , \"rode\":2, \"kaartrode\" : 2 }, inplace=True)\n",
    "\n",
    "# filter the home and away team \n",
    "filterHomeTeam = df_card_filtered[ (df_card_filtered['home'] == df_card_filtered['team'])]\n",
    "filterAwayTeam = df_card_filtered[ (df_card_filtered['away'] == df_card_filtered['team'])]"
   ]
  },
  {
   "cell_type": "code",
   "execution_count": 42,
   "metadata": {},
   "outputs": [
    {
     "name": "stdout",
     "output_type": "stream",
     "text": [
      "17920 yellow cards is made by away team \n"
     ]
    }
   ],
   "source": [
    "# Away yellow cards\n",
    "filterAwayYellowCard = filterAwayTeam[(filterAwayTeam['type'] == 1)]\n",
    "groupByAwayYellowCard = filterAwayYellowCard.groupby('away').sum()\n",
    "groupByAwayYellowCard['type'].head(10)\n",
    "\n",
    "print(f'{len(filterAwayYellowCard.index)} yellow cards is made by away team ')"
   ]
  },
  {
   "cell_type": "code",
   "execution_count": 43,
   "metadata": {},
   "outputs": [
    {
     "name": "stdout",
     "output_type": "stream",
     "text": [
      "679 red cards is made by away team \n"
     ]
    }
   ],
   "source": [
    "# Away red cards\n",
    "filterAwayRedCard = filterAwayTeam[(filterAwayTeam['type'] == 2)]\n",
    "print(f'{len(filterAwayRedCard.index)} red cards is made by away team ')"
   ]
  },
  {
   "cell_type": "code",
   "execution_count": 44,
   "metadata": {},
   "outputs": [
    {
     "name": "stdout",
     "output_type": "stream",
     "text": [
      "12578 yellow cards is made by home team \n"
     ]
    }
   ],
   "source": [
    "# Home yellow cards\n",
    "filterHomeYellowCard = filterHomeTeam[(filterHomeTeam['type'] == 1)]\n",
    "groupByHomeYellowCard = filterHomeYellowCard.groupby('home').sum()\n",
    "groupByHomeYellowCard\n",
    "\n",
    "print(f'{len(filterHomeYellowCard.index)} yellow cards is made by home team ')"
   ]
  },
  {
   "cell_type": "code",
   "execution_count": 45,
   "metadata": {},
   "outputs": [
    {
     "name": "stdout",
     "output_type": "stream",
     "text": [
      "415 red cards is made by home team \n"
     ]
    }
   ],
   "source": [
    "# Home red cards \n",
    "filterHomeRedCard = filterHomeTeam[(filterHomeTeam['type'] == 2)]\n",
    "print(f'{len(filterHomeRedCard.index)} red cards is made by home team ')"
   ]
  },
  {
   "cell_type": "markdown",
   "metadata": {},
   "source": [
    "### Players"
   ]
  },
  {
   "cell_type": "code",
   "execution_count": 46,
   "metadata": {},
   "outputs": [
    {
     "data": {
      "text/html": [
       "<div>\n",
       "<style scoped>\n",
       "    .dataframe tbody tr th:only-of-type {\n",
       "        vertical-align: middle;\n",
       "    }\n",
       "\n",
       "    .dataframe tbody tr th {\n",
       "        vertical-align: top;\n",
       "    }\n",
       "\n",
       "    .dataframe thead th {\n",
       "        text-align: right;\n",
       "    }\n",
       "</style>\n",
       "<table border=\"1\" class=\"dataframe\">\n",
       "  <thead>\n",
       "    <tr style=\"text-align: right;\">\n",
       "      <th></th>\n",
       "      <th>index</th>\n",
       "      <th>saison</th>\n",
       "      <th>home</th>\n",
       "      <th>away</th>\n",
       "      <th>team</th>\n",
       "      <th>player</th>\n",
       "      <th>started</th>\n",
       "    </tr>\n",
       "  </thead>\n",
       "  <tbody>\n",
       "    <tr>\n",
       "      <th>0</th>\n",
       "      <td>0</td>\n",
       "      <td>1956-1957</td>\n",
       "      <td>afc-ajax</td>\n",
       "      <td>bvc-amsterdam</td>\n",
       "      <td>afc-ajax</td>\n",
       "      <td>eddy-pieters-graafland</td>\n",
       "      <td>True</td>\n",
       "    </tr>\n",
       "    <tr>\n",
       "      <th>1</th>\n",
       "      <td>1</td>\n",
       "      <td>1956-1957</td>\n",
       "      <td>afc-ajax</td>\n",
       "      <td>bvc-amsterdam</td>\n",
       "      <td>afc-ajax</td>\n",
       "      <td>cor-geelhuizen</td>\n",
       "      <td>True</td>\n",
       "    </tr>\n",
       "    <tr>\n",
       "      <th>2</th>\n",
       "      <td>2</td>\n",
       "      <td>1956-1957</td>\n",
       "      <td>afc-ajax</td>\n",
       "      <td>bvc-amsterdam</td>\n",
       "      <td>afc-ajax</td>\n",
       "      <td>ger-van-mourik</td>\n",
       "      <td>True</td>\n",
       "    </tr>\n",
       "    <tr>\n",
       "      <th>3</th>\n",
       "      <td>3</td>\n",
       "      <td>1956-1957</td>\n",
       "      <td>afc-ajax</td>\n",
       "      <td>bvc-amsterdam</td>\n",
       "      <td>afc-ajax</td>\n",
       "      <td>ad-visser</td>\n",
       "      <td>True</td>\n",
       "    </tr>\n",
       "    <tr>\n",
       "      <th>4</th>\n",
       "      <td>4</td>\n",
       "      <td>1956-1957</td>\n",
       "      <td>afc-ajax</td>\n",
       "      <td>bvc-amsterdam</td>\n",
       "      <td>afc-ajax</td>\n",
       "      <td>piet-ouderland</td>\n",
       "      <td>True</td>\n",
       "    </tr>\n",
       "    <tr>\n",
       "      <th>...</th>\n",
       "      <td>...</td>\n",
       "      <td>...</td>\n",
       "      <td>...</td>\n",
       "      <td>...</td>\n",
       "      <td>...</td>\n",
       "      <td>...</td>\n",
       "      <td>...</td>\n",
       "    </tr>\n",
       "    <tr>\n",
       "      <th>531095</th>\n",
       "      <td>9368</td>\n",
       "      <td>2021-2022</td>\n",
       "      <td>willem-ii</td>\n",
       "      <td>sparta-rotterdam</td>\n",
       "      <td>sparta-rotterdam</td>\n",
       "      <td>vito-van-crooij</td>\n",
       "      <td>False</td>\n",
       "    </tr>\n",
       "    <tr>\n",
       "      <th>531096</th>\n",
       "      <td>9369</td>\n",
       "      <td>2021-2022</td>\n",
       "      <td>willem-ii</td>\n",
       "      <td>sparta-rotterdam</td>\n",
       "      <td>sparta-rotterdam</td>\n",
       "      <td>mario-engels</td>\n",
       "      <td>False</td>\n",
       "    </tr>\n",
       "    <tr>\n",
       "      <th>531097</th>\n",
       "      <td>9370</td>\n",
       "      <td>2021-2022</td>\n",
       "      <td>willem-ii</td>\n",
       "      <td>sparta-rotterdam</td>\n",
       "      <td>sparta-rotterdam</td>\n",
       "      <td>benjamin-van-leer</td>\n",
       "      <td>False</td>\n",
       "    </tr>\n",
       "    <tr>\n",
       "      <th>531098</th>\n",
       "      <td>9371</td>\n",
       "      <td>2021-2022</td>\n",
       "      <td>willem-ii</td>\n",
       "      <td>sparta-rotterdam</td>\n",
       "      <td>sparta-rotterdam</td>\n",
       "      <td>tim-coremans</td>\n",
       "      <td>False</td>\n",
       "    </tr>\n",
       "    <tr>\n",
       "      <th>531099</th>\n",
       "      <td>9372</td>\n",
       "      <td>2021-2022</td>\n",
       "      <td>willem-ii</td>\n",
       "      <td>sparta-rotterdam</td>\n",
       "      <td>sparta-rotterdam</td>\n",
       "      <td>michael-heylen</td>\n",
       "      <td>False</td>\n",
       "    </tr>\n",
       "  </tbody>\n",
       "</table>\n",
       "<p>531100 rows × 7 columns</p>\n",
       "</div>"
      ],
      "text/plain": [
       "        index     saison       home              away              team  \\\n",
       "0           0  1956-1957   afc-ajax     bvc-amsterdam          afc-ajax   \n",
       "1           1  1956-1957   afc-ajax     bvc-amsterdam          afc-ajax   \n",
       "2           2  1956-1957   afc-ajax     bvc-amsterdam          afc-ajax   \n",
       "3           3  1956-1957   afc-ajax     bvc-amsterdam          afc-ajax   \n",
       "4           4  1956-1957   afc-ajax     bvc-amsterdam          afc-ajax   \n",
       "...       ...        ...        ...               ...               ...   \n",
       "531095   9368  2021-2022  willem-ii  sparta-rotterdam  sparta-rotterdam   \n",
       "531096   9369  2021-2022  willem-ii  sparta-rotterdam  sparta-rotterdam   \n",
       "531097   9370  2021-2022  willem-ii  sparta-rotterdam  sparta-rotterdam   \n",
       "531098   9371  2021-2022  willem-ii  sparta-rotterdam  sparta-rotterdam   \n",
       "531099   9372  2021-2022  willem-ii  sparta-rotterdam  sparta-rotterdam   \n",
       "\n",
       "                        player  started  \n",
       "0       eddy-pieters-graafland     True  \n",
       "1               cor-geelhuizen     True  \n",
       "2               ger-van-mourik     True  \n",
       "3                    ad-visser     True  \n",
       "4               piet-ouderland     True  \n",
       "...                        ...      ...  \n",
       "531095         vito-van-crooij    False  \n",
       "531096            mario-engels    False  \n",
       "531097       benjamin-van-leer    False  \n",
       "531098            tim-coremans    False  \n",
       "531099          michael-heylen    False  \n",
       "\n",
       "[531100 rows x 7 columns]"
      ]
     },
     "execution_count": 46,
     "metadata": {},
     "output_type": "execute_result"
    }
   ],
   "source": [
    "# we drop the unneccesary columns \n",
    "raw_players_file.drop(columns=['round'])"
   ]
  },
  {
   "cell_type": "code",
   "execution_count": 47,
   "metadata": {},
   "outputs": [
    {
     "name": "stdout",
     "output_type": "stream",
     "text": [
      "212686 players play home\n",
      "49729 players did not play home\n",
      "217217 players play away\n",
      "51468 players did not play away\n"
     ]
    }
   ],
   "source": [
    "# we replace the 'started' column to numbers in order to count them\n",
    "raw_players_file[\"started\"].replace({True: 1, False: 0}, inplace=True)\n",
    "\n",
    "# filter the home and away team \n",
    "filterHomeTeamPlayers = raw_players_file[ (raw_players_file['home'] == raw_players_file['team'])]\n",
    "filterAwayTeamPlayers = raw_players_file[ (raw_players_file['away'] == raw_players_file['team'])]\n",
    "\n",
    "# How much players play Home\n",
    "filterStartedPlayersHome = filterHomeTeamPlayers[ (filterHomeTeamPlayers['started'] == 1)]\n",
    "print(f'{len(filterStartedPlayersHome.index)} players play home')\n",
    "# How much players did not play Home\n",
    "filterNotStartedPlayersHome = filterHomeTeamPlayers[ (filterHomeTeamPlayers['started'] == 0)]\n",
    "print(f'{len(filterNotStartedPlayersHome.index)} players did not play home')\n",
    "\n",
    "# How much players play Away\n",
    "filterStartedPlayersAway = filterAwayTeamPlayers[ (filterAwayTeamPlayers['started'] == 1)]\n",
    "print(f'{len(filterStartedPlayersAway.index)} players play away')\n",
    "# How much players did not play Away\n",
    "filterNotStartedPlayersAway = filterAwayTeamPlayers[ (filterAwayTeamPlayers['started'] == 0)]\n",
    "print(f'{len(filterNotStartedPlayersAway.index)} players did not play away')"
   ]
  },
  {
   "cell_type": "markdown",
   "metadata": {},
   "source": [
    "### Matches"
   ]
  },
  {
   "cell_type": "code",
   "execution_count": 48,
   "metadata": {},
   "outputs": [
    {
     "data": {
      "text/html": [
       "<div>\n",
       "<style scoped>\n",
       "    .dataframe tbody tr th:only-of-type {\n",
       "        vertical-align: middle;\n",
       "    }\n",
       "\n",
       "    .dataframe tbody tr th {\n",
       "        vertical-align: top;\n",
       "    }\n",
       "\n",
       "    .dataframe thead th {\n",
       "        text-align: right;\n",
       "    }\n",
       "</style>\n",
       "<table border=\"1\" class=\"dataframe\">\n",
       "  <thead>\n",
       "    <tr style=\"text-align: right;\">\n",
       "      <th></th>\n",
       "      <th>Unnamed: 0</th>\n",
       "      <th>saison</th>\n",
       "      <th>home</th>\n",
       "      <th>away</th>\n",
       "      <th>home_score</th>\n",
       "      <th>away_score</th>\n",
       "    </tr>\n",
       "  </thead>\n",
       "  <tbody>\n",
       "    <tr>\n",
       "      <th>0</th>\n",
       "      <td>0</td>\n",
       "      <td>1956-1957</td>\n",
       "      <td>afc-ajax</td>\n",
       "      <td>bvc-amsterdam</td>\n",
       "      <td>2</td>\n",
       "      <td>3</td>\n",
       "    </tr>\n",
       "    <tr>\n",
       "      <th>1</th>\n",
       "      <td>1</td>\n",
       "      <td>1956-1957</td>\n",
       "      <td>afc-ajax</td>\n",
       "      <td>fc-den-bosch</td>\n",
       "      <td>1</td>\n",
       "      <td>0</td>\n",
       "    </tr>\n",
       "    <tr>\n",
       "      <th>2</th>\n",
       "      <td>2</td>\n",
       "      <td>1956-1957</td>\n",
       "      <td>afc-ajax</td>\n",
       "      <td>fc-utrecht</td>\n",
       "      <td>1</td>\n",
       "      <td>2</td>\n",
       "    </tr>\n",
       "    <tr>\n",
       "      <th>3</th>\n",
       "      <td>3</td>\n",
       "      <td>1956-1957</td>\n",
       "      <td>afc-ajax</td>\n",
       "      <td>feyenoord</td>\n",
       "      <td>1</td>\n",
       "      <td>0</td>\n",
       "    </tr>\n",
       "    <tr>\n",
       "      <th>4</th>\n",
       "      <td>4</td>\n",
       "      <td>1956-1957</td>\n",
       "      <td>afc-ajax</td>\n",
       "      <td>fortuna-54</td>\n",
       "      <td>0</td>\n",
       "      <td>2</td>\n",
       "    </tr>\n",
       "    <tr>\n",
       "      <th>...</th>\n",
       "      <td>...</td>\n",
       "      <td>...</td>\n",
       "      <td>...</td>\n",
       "      <td>...</td>\n",
       "      <td>...</td>\n",
       "      <td>...</td>\n",
       "    </tr>\n",
       "    <tr>\n",
       "      <th>19925</th>\n",
       "      <td>301</td>\n",
       "      <td>2021-2022</td>\n",
       "      <td>willem-ii</td>\n",
       "      <td>rkc-waalwijk</td>\n",
       "      <td>3</td>\n",
       "      <td>1</td>\n",
       "    </tr>\n",
       "    <tr>\n",
       "      <th>19926</th>\n",
       "      <td>302</td>\n",
       "      <td>2021-2022</td>\n",
       "      <td>willem-ii</td>\n",
       "      <td>sc-cambuur</td>\n",
       "      <td>1</td>\n",
       "      <td>3</td>\n",
       "    </tr>\n",
       "    <tr>\n",
       "      <th>19927</th>\n",
       "      <td>303</td>\n",
       "      <td>2021-2022</td>\n",
       "      <td>willem-ii</td>\n",
       "      <td>sc-heerenveen</td>\n",
       "      <td>0</td>\n",
       "      <td>0</td>\n",
       "    </tr>\n",
       "    <tr>\n",
       "      <th>19928</th>\n",
       "      <td>304</td>\n",
       "      <td>2021-2022</td>\n",
       "      <td>willem-ii</td>\n",
       "      <td>sparta-rotterdam</td>\n",
       "      <td>0</td>\n",
       "      <td>3</td>\n",
       "    </tr>\n",
       "    <tr>\n",
       "      <th>19929</th>\n",
       "      <td>305</td>\n",
       "      <td>2021-2022</td>\n",
       "      <td>willem-ii</td>\n",
       "      <td>vitesse</td>\n",
       "      <td>-</td>\n",
       "      <td>-</td>\n",
       "    </tr>\n",
       "  </tbody>\n",
       "</table>\n",
       "<p>19930 rows × 6 columns</p>\n",
       "</div>"
      ],
      "text/plain": [
       "       Unnamed: 0     saison       home              away home_score  \\\n",
       "0               0  1956-1957   afc-ajax     bvc-amsterdam          2   \n",
       "1               1  1956-1957   afc-ajax      fc-den-bosch          1   \n",
       "2               2  1956-1957   afc-ajax        fc-utrecht          1   \n",
       "3               3  1956-1957   afc-ajax         feyenoord          1   \n",
       "4               4  1956-1957   afc-ajax        fortuna-54          0   \n",
       "...           ...        ...        ...               ...        ...   \n",
       "19925         301  2021-2022  willem-ii      rkc-waalwijk          3   \n",
       "19926         302  2021-2022  willem-ii        sc-cambuur          1   \n",
       "19927         303  2021-2022  willem-ii     sc-heerenveen          0   \n",
       "19928         304  2021-2022  willem-ii  sparta-rotterdam          0   \n",
       "19929         305  2021-2022  willem-ii           vitesse          -   \n",
       "\n",
       "      away_score  \n",
       "0              3  \n",
       "1              0  \n",
       "2              2  \n",
       "3              0  \n",
       "4              2  \n",
       "...          ...  \n",
       "19925          1  \n",
       "19926          3  \n",
       "19927          0  \n",
       "19928          3  \n",
       "19929          -  \n",
       "\n",
       "[19930 rows x 6 columns]"
      ]
     },
     "execution_count": 48,
     "metadata": {},
     "output_type": "execute_result"
    }
   ],
   "source": [
    "# we drop the unneccesary columns \n",
    "filtered_matches = raw_matches_file.drop(columns=['stadium','home_first_card','home_last_card',\n",
    "                                                 'away_first_card', 'time','date','round',\n",
    "                                                 'spectators', 'ref','linesman1','linesman2', 'away_last_card',\n",
    "                                                 'home_yellow', 'home_yelred', 'away_yellow','first_goal', 'last_goal',\n",
    "                                                  'away_red','home_red', 'away_yelred'])\n",
    "\n",
    "# drop the empty rows\n",
    "filtered_matches.dropna()\n",
    "filtered_matches"
   ]
  },
  {
   "cell_type": "code",
   "execution_count": 49,
   "metadata": {},
   "outputs": [
    {
     "name": "stdout",
     "output_type": "stream",
     "text": [
      "The Home team won 9458 matches\n",
      "The Away team won 5416 matches\n",
      "The draw was in 5056 matches\n"
     ]
    }
   ],
   "source": [
    "# WinningHomeTeamFilter\n",
    "WinningHomeTeamFilter = filtered_matches[ (filtered_matches['home_score'] > filtered_matches['away_score'])]\n",
    "print(f'The Home team won {len(WinningHomeTeamFilter.index)} matches')\n",
    "\n",
    "# WinningAwayTeamFilter\n",
    "WinningAwayTeamFilter = filtered_matches[ (filtered_matches['home_score'] < filtered_matches['away_score'])]\n",
    "print(f'The Away team won {len(WinningAwayTeamFilter.index)} matches')\n",
    "\n",
    "# DrawFilter\n",
    "DrawTeamFilter = filtered_matches[ (filtered_matches['home_score'] == filtered_matches['away_score'])]\n",
    "print(f'The draw was in {len(DrawTeamFilter.index)} matches')"
   ]
  },
  {
   "cell_type": "markdown",
   "metadata": {},
   "source": [
    "### Changing the players"
   ]
  },
  {
   "cell_type": "code",
   "execution_count": 50,
   "metadata": {},
   "outputs": [
    {
     "name": "stdout",
     "output_type": "stream",
     "text": [
      "31728 subs the home team made\n",
      "32505 subs the Away team made\n"
     ]
    }
   ],
   "source": [
    "# How much subs did the home and away teams made \n",
    "# we drop the unneccesary columns \n",
    "filtered_subs = raw_subs_file.drop(columns=['minute','player','round','saison'])\n",
    "filtered_subs[\"in\"].replace({False: 0, True: 1 }, inplace=True)\n",
    "\n",
    "filterHomeTeamSubs = filtered_subs[ (filtered_subs['home'] == filtered_subs['team'])]\n",
    "filterAwayTeamSubs = filtered_subs[ (filtered_subs['away'] == filtered_subs['team'])]\n",
    "\n",
    "# How much subs Home team made\n",
    "filterSubsHome = filterHomeTeamSubs[ (filterHomeTeamSubs['in'] == 1)]\n",
    "print(f'{len(filterSubsHome.index)} subs the home team made')\n",
    "\n",
    "# How much subs Away team made\n",
    "filterSubsAway = filterAwayTeamSubs[ (filterAwayTeamSubs['in'] == 1)]\n",
    "print(f'{len(filterSubsAway.index)} subs the Away team made')"
   ]
  },
  {
   "cell_type": "markdown",
   "metadata": {},
   "source": [
    "### AJAX VS PSV Stats"
   ]
  },
  {
   "cell_type": "markdown",
   "metadata": {},
   "source": [
    "#### Goals"
   ]
  },
  {
   "cell_type": "code",
   "execution_count": 58,
   "metadata": {},
   "outputs": [
    {
     "name": "stdout",
     "output_type": "stream",
     "text": [
      "Ajax Amsterdam Home Goals 1596\n",
      "Ajax Amsterdam Away Goals 1308\n",
      "psv eindhoven Home Goals 1023\n",
      "psv eindhoven Away Goals 947\n"
     ]
    }
   ],
   "source": [
    "ajaxGoalsHome = filterAssist[ (filterAssist['home'] == 'ajax-amsterdam')]\n",
    "\n",
    "print(f'Ajax Amsterdam Home Goals {len(ajaxGoalsHome.index)}')\n",
    "\n",
    "\n",
    "ajaxGoalsAway = filterAssist[ (filterAssist['away'] == 'ajax-amsterdam')]\n",
    "\n",
    "print(f'Ajax Amsterdam Away Goals {len(ajaxGoalsAway.index)}')\n",
    "\n",
    "\n",
    "psvGoalsHome = filterAssist[ (filterAssist['home'] == 'psv-eindhoven')]\n",
    "\n",
    "print(f'psv eindhoven Home Goals {len(psvGoalsHome.index)}')\n",
    "\n",
    "psvGoalsAway = filterAssist[ (filterAssist['away'] == 'psv-eindhoven')]\n",
    "\n",
    "print(f'psv eindhoven Away Goals {len(psvGoalsAway.index)}')"
   ]
  },
  {
   "cell_type": "code",
   "execution_count": 63,
   "metadata": {},
   "outputs": [
    {
     "data": {
      "text/plain": [
       "<AxesSubplot:>"
      ]
     },
     "execution_count": 63,
     "metadata": {},
     "output_type": "execute_result"
    },
    {
     "data": {
      "image/png": "[encoded data removed]",
      "text/plain": [
       "<Figure size 432x288 with 1 Axes>"
      ]
     },
     "metadata": {
      "needs_background": "light"
     },
     "output_type": "display_data"
    }
   ],
   "source": [
    "plotdata = pd.DataFrame({\n",
    "    \"Ajax\": len(ajaxGoalsHome.index),\n",
    "    \"PSV\": len(psvGoalsHome.index)\n",
    "    }, \n",
    "    index=[\"Home Goals\"]\n",
    ")\n",
    "plotdata.plot(kind=\"bar\")"
   ]
  },
  {
   "cell_type": "code",
   "execution_count": 64,
   "metadata": {},
   "outputs": [
    {
     "data": {
      "text/plain": [
       "<AxesSubplot:>"
      ]
     },
     "execution_count": 64,
     "metadata": {},
     "output_type": "execute_result"
    },
    {
     "data": {
      "image/png": "[encoded data removed]",
      "text/plain": [
       "<Figure size 432x288 with 1 Axes>"
      ]
     },
     "metadata": {
      "needs_background": "light"
     },
     "output_type": "display_data"
    }
   ],
   "source": [
    "plotdata = pd.DataFrame({\n",
    "    \"Ajax\": len(ajaxGoalsAway.index),\n",
    "    \"PSV\": len(psvGoalsAway.index)\n",
    "    }, \n",
    "    index=[\"Away Goals\"]\n",
    ")\n",
    "plotdata.plot(kind=\"bar\")"
   ]
  }
 ],
 "metadata": {
  "interpreter": {
   "hash": "b3ba2566441a7c06988d0923437866b63cedc61552a5af99d1f4fb67d367b25f"
  },
  "kernelspec": {
   "display_name": "Python 3.9.7 ('base')",
   "language": "python",
   "name": "python3"
  },
  "language_info": {
   "codemirror_mode": {
    "name": "ipython",
    "version": 3
   },
   "file_extension": ".py",
   "mimetype": "text/x-python",
   "name": "python",
   "nbconvert_exporter": "python",
   "pygments_lexer": "ipython3",
   "version": "3.9.7"
  },
  "orig_nbformat": 4
 },
 "nbformat": 4,
 "nbformat_minor": 2
}
