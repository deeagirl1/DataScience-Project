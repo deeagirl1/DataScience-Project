{
  "cells": [
    {
      "cell_type": "markdown",
      "metadata": {
        "id": "7G53ZLgrNytw"
      },
      "source": [
        "# Predicting which team will win a football match"
      ]
    },
    {
      "cell_type": "markdown",
      "metadata": {
        "id": "Bpvu66X4Nyt0"
      },
      "source": [
        "The purpose of this project is to use machine learning in order to make predictions regarding football matches. \n",
        "We have 5 .csv files, each file containing different data which might help in make predictions."
      ]
    },
    {
      "cell_type": "code",
      "execution_count": 443,
      "metadata": {
        "id": "tVcM3KS5Nyt0"
      },
      "outputs": [],
      "source": [
        "# importing neccesary libraries\n",
        "import numpy as np\n",
        "import pandas as pd\n",
        "from datetime import datetime as dt\n",
        "import itertools\n",
        "\n",
        "%matplotlib inline"
      ]
    },
    {
      "cell_type": "markdown",
      "metadata": {
        "id": "8JKK-uNcNyt2"
      },
      "source": [
        "## Reading data from the files"
      ]
    },
    {
      "cell_type": "code",
      "execution_count": 444,
      "metadata": {
        "colab": {
          "base_uri": "https://localhost:8080/",
          "height": 380
        },
        "id": "ybU-hy4KNyt2",
        "outputId": "34ad20a6-b6cc-4038-8b74-1f40be757211"
      },
      "outputs": [],
      "source": [
        "# Read data from .csv files \n",
        "\n",
        "loc = \"voetbal_new/\"\n",
        "\n",
        "raw_cards_file = pd.read_csv (loc + '_cards.csv')\n",
        "raw_goals_file = pd.read_csv (loc + '_goals.csv')\n",
        "raw_matches_file = pd.read_csv (loc + '_matches.csv')\n",
        "raw_players_file = pd.read_csv (loc + '_players.csv')\n",
        "raw_subs_file = pd.read_csv (loc + '_subs.csv')"
      ]
    },
    {
      "cell_type": "markdown",
      "metadata": {
        "id": "K5Zcj5VkNyt2"
      },
      "source": [
        "## Goals"
      ]
    },
    {
      "cell_type": "code",
      "execution_count": 445,
      "metadata": {
        "id": "2pmImPtINyt3"
      },
      "outputs": [],
      "source": [
        "# Method used to overwrite values found in column 'assist'\n",
        "def assist(value):\n",
        "    if pd.notna(value):\n",
        "        return 1\n",
        "    else:\n",
        "        return 0"
      ]
    },
    {
      "cell_type": "code",
      "execution_count": 446,
      "metadata": {
        "id": "tJc0gfpuNyt3"
      },
      "outputs": [],
      "source": [
        "# function to remove duplicates \n",
        "def Duplicates(rawName , colName: str, previousName: str, newName: str ):\n",
        "        if colName == \"club\":\n",
        "                rawName[\"home\"].replace({previousName: newName }, inplace=True)\n",
        "                rawName[\"away\"].replace({previousName: newName }, inplace=True)\n",
        "                rawName[\"team\"].replace({previousName: newName }, inplace=True)\n",
        "        elif colName == \"match\":\n",
        "                rawName[\"home\"].replace({previousName: newName }, inplace=True)\n",
        "                rawName[\"away\"].replace({previousName: newName }, inplace=True)\n",
        "        elif colName == \"card\": \n",
        "                rawName[\"type\"].replace({previousName: newName }, inplace=True)\n",
        "        else:\n",
        "                print(\"nothing\")\n",
        "\n",
        "# function used to get the last season\n",
        "def toOneSeason(season):\n",
        "    return season[5:len(season)]"
      ]
    },
    {
      "cell_type": "code",
      "execution_count": 447,
      "metadata": {
        "id": "Z9w_uZeMNyt4"
      },
      "outputs": [
        {
          "data": {
            "text/html": [
              "<div>\n",
              "<style scoped>\n",
              "    .dataframe tbody tr th:only-of-type {\n",
              "        vertical-align: middle;\n",
              "    }\n",
              "\n",
              "    .dataframe tbody tr th {\n",
              "        vertical-align: top;\n",
              "    }\n",
              "\n",
              "    .dataframe thead th {\n",
              "        text-align: right;\n",
              "    }\n",
              "</style>\n",
              "<table border=\"1\" class=\"dataframe\">\n",
              "  <thead>\n",
              "    <tr style=\"text-align: right;\">\n",
              "      <th></th>\n",
              "      <th>Unnamed: 0</th>\n",
              "      <th>saison</th>\n",
              "      <th>home</th>\n",
              "      <th>away</th>\n",
              "      <th>team</th>\n",
              "      <th>player</th>\n",
              "      <th>assist</th>\n",
              "      <th>assistNumber</th>\n",
              "      <th>goalNumber</th>\n",
              "    </tr>\n",
              "  </thead>\n",
              "  <tbody>\n",
              "    <tr>\n",
              "      <th>50894</th>\n",
              "      <td>0</td>\n",
              "      <td>2012</td>\n",
              "      <td>ado-den-haag</td>\n",
              "      <td>ajax-amsterdam</td>\n",
              "      <td>ajax-amsterdam</td>\n",
              "      <td>Jody Lukoki</td>\n",
              "      <td>Theo Janssen</td>\n",
              "      <td>1</td>\n",
              "      <td>1</td>\n",
              "    </tr>\n",
              "    <tr>\n",
              "      <th>50895</th>\n",
              "      <td>1</td>\n",
              "      <td>2012</td>\n",
              "      <td>ado-den-haag</td>\n",
              "      <td>ajax-amsterdam</td>\n",
              "      <td>ajax-amsterdam</td>\n",
              "      <td>Jan Vertonghen</td>\n",
              "      <td>Ismaïl Aissati</td>\n",
              "      <td>1</td>\n",
              "      <td>1</td>\n",
              "    </tr>\n",
              "    <tr>\n",
              "      <th>50896</th>\n",
              "      <td>2</td>\n",
              "      <td>2012</td>\n",
              "      <td>ado-den-haag</td>\n",
              "      <td>az-alkmaar</td>\n",
              "      <td>az-alkmaar</td>\n",
              "      <td>Charlison Benschop</td>\n",
              "      <td>Brett Holman</td>\n",
              "      <td>1</td>\n",
              "      <td>1</td>\n",
              "    </tr>\n",
              "    <tr>\n",
              "      <th>50897</th>\n",
              "      <td>3</td>\n",
              "      <td>2012</td>\n",
              "      <td>ado-den-haag</td>\n",
              "      <td>az-alkmaar</td>\n",
              "      <td>az-alkmaar</td>\n",
              "      <td>Charlison Benschop</td>\n",
              "      <td>Maarten Martens</td>\n",
              "      <td>1</td>\n",
              "      <td>1</td>\n",
              "    </tr>\n",
              "    <tr>\n",
              "      <th>50898</th>\n",
              "      <td>4</td>\n",
              "      <td>2012</td>\n",
              "      <td>ado-den-haag</td>\n",
              "      <td>az-alkmaar</td>\n",
              "      <td>az-alkmaar</td>\n",
              "      <td>Charlison Benschop</td>\n",
              "      <td>Rasmus Elm</td>\n",
              "      <td>1</td>\n",
              "      <td>1</td>\n",
              "    </tr>\n",
              "    <tr>\n",
              "      <th>...</th>\n",
              "      <td>...</td>\n",
              "      <td>...</td>\n",
              "      <td>...</td>\n",
              "      <td>...</td>\n",
              "      <td>...</td>\n",
              "      <td>...</td>\n",
              "      <td>...</td>\n",
              "      <td>...</td>\n",
              "      <td>...</td>\n",
              "    </tr>\n",
              "    <tr>\n",
              "      <th>60982</th>\n",
              "      <td>757</td>\n",
              "      <td>2022</td>\n",
              "      <td>willem-ii-tilburg</td>\n",
              "      <td>cambuur-leeuwarden</td>\n",
              "      <td>cambuur-leeuwarden</td>\n",
              "      <td>Mitchell Paulissen</td>\n",
              "      <td>NaN</td>\n",
              "      <td>0</td>\n",
              "      <td>1</td>\n",
              "    </tr>\n",
              "    <tr>\n",
              "      <th>60983</th>\n",
              "      <td>758</td>\n",
              "      <td>2022</td>\n",
              "      <td>willem-ii-tilburg</td>\n",
              "      <td>sparta-rotterdam</td>\n",
              "      <td>sparta-rotterdam</td>\n",
              "      <td>Bart Vriends</td>\n",
              "      <td>Bryan Smeets</td>\n",
              "      <td>1</td>\n",
              "      <td>1</td>\n",
              "    </tr>\n",
              "    <tr>\n",
              "      <th>60984</th>\n",
              "      <td>759</td>\n",
              "      <td>2022</td>\n",
              "      <td>willem-ii-tilburg</td>\n",
              "      <td>sparta-rotterdam</td>\n",
              "      <td>sparta-rotterdam</td>\n",
              "      <td>Bart Vriends</td>\n",
              "      <td>Sven Mijnans</td>\n",
              "      <td>1</td>\n",
              "      <td>1</td>\n",
              "    </tr>\n",
              "    <tr>\n",
              "      <th>60985</th>\n",
              "      <td>760</td>\n",
              "      <td>2022</td>\n",
              "      <td>willem-ii-tilburg</td>\n",
              "      <td>sparta-rotterdam</td>\n",
              "      <td>sparta-rotterdam</td>\n",
              "      <td>Emanuel Emegha</td>\n",
              "      <td>Vito van Crooij</td>\n",
              "      <td>1</td>\n",
              "      <td>1</td>\n",
              "    </tr>\n",
              "    <tr>\n",
              "      <th>60986</th>\n",
              "      <td>761</td>\n",
              "      <td>2022</td>\n",
              "      <td>willem-ii-tilburg</td>\n",
              "      <td>vitesse-arnhem</td>\n",
              "      <td>willem-ii-tilburg</td>\n",
              "      <td>Jizz Hornkamp</td>\n",
              "      <td>Leeroy Owusu</td>\n",
              "      <td>1</td>\n",
              "      <td>1</td>\n",
              "    </tr>\n",
              "  </tbody>\n",
              "</table>\n",
              "<p>10093 rows × 9 columns</p>\n",
              "</div>"
            ],
            "text/plain": [
              "       Unnamed: 0  saison               home                away  \\\n",
              "50894           0    2012       ado-den-haag      ajax-amsterdam   \n",
              "50895           1    2012       ado-den-haag      ajax-amsterdam   \n",
              "50896           2    2012       ado-den-haag          az-alkmaar   \n",
              "50897           3    2012       ado-den-haag          az-alkmaar   \n",
              "50898           4    2012       ado-den-haag          az-alkmaar   \n",
              "...           ...     ...                ...                 ...   \n",
              "60982         757    2022  willem-ii-tilburg  cambuur-leeuwarden   \n",
              "60983         758    2022  willem-ii-tilburg    sparta-rotterdam   \n",
              "60984         759    2022  willem-ii-tilburg    sparta-rotterdam   \n",
              "60985         760    2022  willem-ii-tilburg    sparta-rotterdam   \n",
              "60986         761    2022  willem-ii-tilburg      vitesse-arnhem   \n",
              "\n",
              "                     team              player           assist  assistNumber  \\\n",
              "50894      ajax-amsterdam         Jody Lukoki     Theo Janssen             1   \n",
              "50895      ajax-amsterdam      Jan Vertonghen   Ismaïl Aissati             1   \n",
              "50896          az-alkmaar  Charlison Benschop     Brett Holman             1   \n",
              "50897          az-alkmaar  Charlison Benschop  Maarten Martens             1   \n",
              "50898          az-alkmaar  Charlison Benschop       Rasmus Elm             1   \n",
              "...                   ...                 ...              ...           ...   \n",
              "60982  cambuur-leeuwarden  Mitchell Paulissen              NaN             0   \n",
              "60983    sparta-rotterdam        Bart Vriends     Bryan Smeets             1   \n",
              "60984    sparta-rotterdam        Bart Vriends     Sven Mijnans             1   \n",
              "60985    sparta-rotterdam      Emanuel Emegha  Vito van Crooij             1   \n",
              "60986   willem-ii-tilburg       Jizz Hornkamp     Leeroy Owusu             1   \n",
              "\n",
              "       goalNumber  \n",
              "50894           1  \n",
              "50895           1  \n",
              "50896           1  \n",
              "50897           1  \n",
              "50898           1  \n",
              "...           ...  \n",
              "60982           1  \n",
              "60983           1  \n",
              "60984           1  \n",
              "60985           1  \n",
              "60986           1  \n",
              "\n",
              "[10093 rows x 9 columns]"
            ]
          },
          "execution_count": 447,
          "metadata": {},
          "output_type": "execute_result"
        }
      ],
      "source": [
        "# Some clubs have different names \n",
        "# We replace it to one name \n",
        "Duplicates(raw_goals_file, \"club\", \"afc-ajax\", \"ajax-amsterdam\")\n",
        "Duplicates(raw_goals_file, \"club\", \"willem-ii\", \"willem-ii-tilburg\")\n",
        "Duplicates(raw_goals_file, \"club\", \"mvv\", \"mvv-maastricht\")\n",
        "Duplicates(raw_goals_file, \"club\", \"vitesse\", \"vitesse-arnhem\")\n",
        "Duplicates(raw_goals_file, \"club\", \"sc-cambuur\", \"cambuur-leeuwarden\")\n",
        "Duplicates(raw_goals_file, \"club\", \"feyenoord\", \"feyenoord-rotterdam\")\n",
        "Duplicates(raw_goals_file, \"club\", \"go-ahead-eagles_2\", \"go-ahead-eagles\")\n",
        "\n",
        "# convert the season to int \n",
        "raw_goals_file['saison'] = raw_goals_file['saison'].apply(toOneSeason)\n",
        "raw_goals_file['saison'] = raw_goals_file['saison'].astype(int)\n",
        "\n",
        "# filter the last 10 seasons \n",
        "filterSeason = raw_goals_file[(raw_goals_file['saison'] >= 2012)]\n",
        "\n",
        "# make new dataframe in order to aggregate\n",
        "dfGoals = pd.DataFrame(filterSeason)\n",
        "\n",
        "# We use assist function for both 'assist' and 'player' colunms to count the assists and goals for each game\n",
        "assistNumber = raw_goals_file['assist'].apply(assist)\n",
        "goalNumber = raw_goals_file['player'].apply(assist)\n",
        "\n",
        "dfGoals['assistNumber'] = assistNumber\n",
        "dfGoals['goalNumber'] = goalNumber\n",
        "\n",
        "# we drop the unneccesary columns \n",
        "dfGoals.drop(columns=['new_score','type','minute','round'])"
      ]
    },
    {
      "cell_type": "code",
      "execution_count": 448,
      "metadata": {
        "id": "R619RdIKNyt5"
      },
      "outputs": [],
      "source": [
        "# the best player of Ajax (Assist, Goals)\n",
        "filterAjaxPlayers = dfGoals[(dfGoals['team'] == \"ajax-amsterdam\")]\n",
        "playersAssistAjax = filterAjaxPlayers.groupby('player')['assistNumber'].sum()\n",
        "\n",
        "playersGoalsAjax = filterAjaxPlayers.groupby('player')['goalNumber'].sum()"
      ]
    },
    {
      "cell_type": "code",
      "execution_count": 449,
      "metadata": {
        "id": "-YQaRKL3Nyt6"
      },
      "outputs": [],
      "source": [
        "# the best player of Psv (Assist, Goals)\n",
        "filterPsvPlayers = dfGoals[(dfGoals['team'] == \"psv-eindhoven\")]\n",
        "playersAssistPsv = filterPsvPlayers.groupby('player')['assistNumber'].sum()\n",
        "\n",
        "playersGoalsPsv = filterPsvPlayers.groupby('player')['goalNumber'].sum()\n"
      ]
    },
    {
      "cell_type": "code",
      "execution_count": 450,
      "metadata": {
        "id": "uQtL8J8yNyt6"
      },
      "outputs": [
        {
          "data": {
            "text/plain": [
              "Text(0, 0.5, 'Assist')"
            ]
          },
          "execution_count": 450,
          "metadata": {},
          "output_type": "execute_result"
        },
        {
          "data": {
            "image/png": "[encoded data removed]",
            "text/plain": [
              "<Figure size 432x288 with 1 Axes>"
            ]
          },
          "metadata": {
            "needs_background": "light"
          },
          "output_type": "display_data"
        }
      ],
      "source": [
        "# plot AJAX Assist\n",
        "dfAjaxAssist = pd.DataFrame(playersAssistAjax.nlargest(n=5))\n",
        "ax = dfAjaxAssist.plot(lw=2, colormap='jet', title='The assists of Ajax players in the last 10 years', kind = 'bar')\n",
        "ax.set_xlabel(\"Player\")\n",
        "ax.set_ylabel(\"Assist\")\n",
        "\n"
      ]
    },
    {
      "cell_type": "code",
      "execution_count": 451,
      "metadata": {},
      "outputs": [
        {
          "data": {
            "text/plain": [
              "Text(0, 0.5, 'Assist')"
            ]
          },
          "execution_count": 451,
          "metadata": {},
          "output_type": "execute_result"
        },
        {
          "data": {
            "image/png": "[encoded data removed]",
            "text/plain": [
              "<Figure size 432x288 with 1 Axes>"
            ]
          },
          "metadata": {
            "needs_background": "light"
          },
          "output_type": "display_data"
        }
      ],
      "source": [
        "# plot PSV assits \n",
        "dfPsvAssist = pd.DataFrame(playersAssistPsv.nlargest(n=5))\n",
        "ax = dfPsvAssist.plot(lw=2, colormap='jet', title='The assists of PSV players in the last 10 years', kind = 'bar')\n",
        "ax.set_xlabel(\"Player\")\n",
        "ax.set_ylabel(\"Assist\")\n"
      ]
    },
    {
      "cell_type": "code",
      "execution_count": 452,
      "metadata": {
        "id": "ZLK9_A9pNyt6"
      },
      "outputs": [
        {
          "data": {
            "text/plain": [
              "Text(0, 0.5, 'Goals')"
            ]
          },
          "execution_count": 452,
          "metadata": {},
          "output_type": "execute_result"
        },
        {
          "data": {
            "image/png": "[encoded data removed]",
            "text/plain": [
              "<Figure size 432x288 with 1 Axes>"
            ]
          },
          "metadata": {
            "needs_background": "light"
          },
          "output_type": "display_data"
        }
      ],
      "source": [
        "# plot AJAX Goals\n",
        "dfAjaxGoals = pd.DataFrame(playersGoalsAjax.nlargest(n=5))\n",
        "ax = dfAjaxGoals.plot(lw=2, colormap='jet', kind = 'bar', title='The goals of top 5 Ajax players in the last 10 years')\n",
        "ax.set_xlabel(\"Player\")\n",
        "ax.set_ylabel(\"Goals\")"
      ]
    },
    {
      "cell_type": "code",
      "execution_count": 453,
      "metadata": {},
      "outputs": [
        {
          "data": {
            "text/plain": [
              "Text(0, 0.5, 'Goals')"
            ]
          },
          "execution_count": 453,
          "metadata": {},
          "output_type": "execute_result"
        },
        {
          "data": {
            "image/png": "[encoded data removed]",
            "text/plain": [
              "<Figure size 432x288 with 1 Axes>"
            ]
          },
          "metadata": {
            "needs_background": "light"
          },
          "output_type": "display_data"
        }
      ],
      "source": [
        "# plot PSV Goals\n",
        "dfPsvGoals = pd.DataFrame(playersGoalsPsv.nlargest(n=5))\n",
        "ax = dfPsvGoals.plot(lw=2, colormap='jet', kind = 'bar', title='The goals of top 5 PSV players in the last 10 years')\n",
        "ax.set_xlabel(\"Player\")\n",
        "ax.set_ylabel(\"Goals\")"
      ]
    },
    {
      "cell_type": "markdown",
      "metadata": {
        "id": "eDVokJFuNyt7"
      },
      "source": [
        "### PSV VS Ajax (Players Goals and assists)"
      ]
    },
    {
      "cell_type": "markdown",
      "metadata": {
        "id": "jmFuZjAVNyt7"
      },
      "source": [
        "#### PSV Stadion"
      ]
    },
    {
      "cell_type": "code",
      "execution_count": 454,
      "metadata": {
        "id": "Ws9IT1mINyt7"
      },
      "outputs": [],
      "source": [
        "# The best 3 player in the Ajax - Psv Match  in psv Stadion (Ajax stats)\n",
        "filterAjaxPlayersInPsvStadion = dfGoals[(dfGoals['team'] == \"ajax-amsterdam\") & (dfGoals['home'] == \"psv-eindhoven\")]\n",
        "playersAssistAjaxInPsvStadion = filterAjaxPlayersInPsvStadion.groupby('player')['assistNumber'].sum()\n",
        "playersGoalsAjaxInPsvStadion = filterAjaxPlayersInPsvStadion.groupby('player')['goalNumber'].sum()"
      ]
    },
    {
      "cell_type": "code",
      "execution_count": 455,
      "metadata": {
        "id": "R3_fXAC7Nyt7"
      },
      "outputs": [],
      "source": [
        "# The best 3 player in the Ajax - Psv Match  in psv Stadium (psv stats)\n",
        "filterPsvPlayersInPsvStadion = dfGoals[(dfGoals['team'] == \"psv-eindhoven\") & (dfGoals['away'] == \"ajax-amsterdam\")]\n",
        "playersAssistPsvInPsvStadion = filterPsvPlayersInPsvStadion.groupby('player')['assistNumber'].sum()\n",
        "playersGoalsPsvInPsvStadion = filterPsvPlayersInPsvStadion.groupby('player')['goalNumber'].sum()"
      ]
    },
    {
      "cell_type": "code",
      "execution_count": 456,
      "metadata": {
        "id": "4TxhFEznNyt8"
      },
      "outputs": [
        {
          "data": {
            "text/plain": [
              "Text(0, 0.5, 'Goals')"
            ]
          },
          "execution_count": 456,
          "metadata": {},
          "output_type": "execute_result"
        },
        {
          "data": {
            "image/png": "[encoded data removed]",
            "text/plain": [
              "<Figure size 432x288 with 1 Axes>"
            ]
          },
          "metadata": {
            "needs_background": "light"
          },
          "output_type": "display_data"
        }
      ],
      "source": [
        "# plot Goals Ajax in PSV stadion\n",
        "dfAjaxGoalsinPsvStadion = pd.DataFrame(playersGoalsAjaxInPsvStadion.nlargest(n=5))\n",
        "ax = dfAjaxGoalsinPsvStadion.plot(lw=2, colormap='jet', kind = 'bar', title='The goals of top 5 Ajax player last 10 years in PSV Stadion')\n",
        "ax.set_xlabel(\"Player\")\n",
        "ax.set_ylabel(\"Goals\")"
      ]
    },
    {
      "cell_type": "code",
      "execution_count": 457,
      "metadata": {},
      "outputs": [
        {
          "data": {
            "text/plain": [
              "Text(0, 0.5, 'Goals')"
            ]
          },
          "execution_count": 457,
          "metadata": {},
          "output_type": "execute_result"
        },
        {
          "data": {
            "image/png": "[encoded data removed]",
            "text/plain": [
              "<Figure size 432x288 with 1 Axes>"
            ]
          },
          "metadata": {
            "needs_background": "light"
          },
          "output_type": "display_data"
        }
      ],
      "source": [
        "# plot Goals PSV in PSV stadion\n",
        "dfPsvGoalsinPsvStadion = pd.DataFrame(playersGoalsAjaxInPsvStadion.nlargest(n=5))\n",
        "ax = dfPsvGoalsinPsvStadion.plot(lw=2, colormap='jet', kind = 'bar', title='The goals of top 5 PSV player last 10 years in PSV Stadion')\n",
        "ax.set_xlabel(\"Player\")\n",
        "ax.set_ylabel(\"Goals\")"
      ]
    },
    {
      "cell_type": "markdown",
      "metadata": {
        "id": "WThNHNwENyt8"
      },
      "source": [
        "#### Ajax Stadion"
      ]
    },
    {
      "cell_type": "code",
      "execution_count": 458,
      "metadata": {
        "id": "AsBgO9keNyt8"
      },
      "outputs": [],
      "source": [
        "# The best 3 player in the Ajax - Psv Match  in Ajax Stadion (Ajax stats)\n",
        "filterAjaxPlayersInAjaxStadion = dfGoals[(dfGoals['team'] == \"ajax-amsterdam\") & (dfGoals['away'] == \"psv-eindhoven\")]\n",
        "playersAssistAjaxInAjaxStadion = filterAjaxPlayersInAjaxStadion.groupby('player')['assistNumber'].sum()\n",
        "playersGoalsAjaxInAjaxStadion = filterAjaxPlayersInAjaxStadion.groupby('player')['goalNumber'].sum()"
      ]
    },
    {
      "cell_type": "code",
      "execution_count": 459,
      "metadata": {
        "id": "iJPfRHfDNyt9"
      },
      "outputs": [],
      "source": [
        "# The best 3 player in the Ajax - Psv Match  in Ajax Stadion (Psv stats)\n",
        "filterPSVplayersInAjaxStadion = dfGoals[(dfGoals['team'] == \"psv-eindhoven\") & (dfGoals['home'] == \"ajax-amsterdam\")]\n",
        "playersAssistPSVInAjaxStadion = filterPSVplayersInAjaxStadion.groupby('player')['assistNumber'].sum()\n",
        "playersGoalsPSVInAjaxStadion = filterPSVplayersInAjaxStadion.groupby('player')['goalNumber'].sum()"
      ]
    },
    {
      "cell_type": "code",
      "execution_count": 460,
      "metadata": {
        "id": "LIZxDKyTNyt9"
      },
      "outputs": [
        {
          "data": {
            "text/plain": [
              "Text(0, 0.5, 'Goals')"
            ]
          },
          "execution_count": 460,
          "metadata": {},
          "output_type": "execute_result"
        },
        {
          "data": {
            "image/png": "[encoded data removed]",
            "text/plain": [
              "<Figure size 432x288 with 1 Axes>"
            ]
          },
          "metadata": {
            "needs_background": "light"
          },
          "output_type": "display_data"
        }
      ],
      "source": [
        "# plot Goals Ajax in Ajax Stadion\n",
        "dfAjaxGoalsinAjaxStadion = pd.DataFrame(playersGoalsAjaxInAjaxStadion.nlargest(n=5))\n",
        "ax = dfAjaxGoalsinAjaxStadion.plot(lw=2, colormap='jet', marker='.', markersize=10, title='The goals of top 5 Ajax players in the last 10 years in Ajax Stadion')\n",
        "ax.set_xlabel(\"Player\")\n",
        "ax.set_ylabel(\"Goals\")"
      ]
    },
    {
      "cell_type": "code",
      "execution_count": 461,
      "metadata": {},
      "outputs": [
        {
          "data": {
            "text/plain": [
              "Text(0, 0.5, 'Goals')"
            ]
          },
          "execution_count": 461,
          "metadata": {},
          "output_type": "execute_result"
        },
        {
          "data": {
            "image/png": "[encoded data removed]",
            "text/plain": [
              "<Figure size 432x288 with 1 Axes>"
            ]
          },
          "metadata": {
            "needs_background": "light"
          },
          "output_type": "display_data"
        }
      ],
      "source": [
        "# plot Goals PSV in Ajax Stadion\n",
        "dfPsvGoalsinAjaxStadion = pd.DataFrame(playersGoalsPSVInAjaxStadion.nlargest(n=5))\n",
        "ax = dfPsvGoalsinAjaxStadion.plot(lw=2, colormap='jet', kind = 'bar', title='The goals of top 5 PSV players in the last 10 years in Ajax Stadion')\n",
        "ax.set_xlabel(\"Player\")\n",
        "ax.set_ylabel(\"Goals\")"
      ]
    },
    {
      "cell_type": "markdown",
      "metadata": {
        "id": "9k28NYGsNyt9"
      },
      "source": [
        "#### Home Goals and Assists"
      ]
    },
    {
      "cell_type": "code",
      "execution_count": 462,
      "metadata": {
        "id": "dwW4d_4fNyt9"
      },
      "outputs": [],
      "source": [
        "# Home team assist and goals\n",
        "filterAssist = dfGoals[(dfGoals['assistNumber'] == 1) & (dfGoals['goalNumber'] == 1)]\n",
        "groupByHomeAssist = filterAssist.groupby('home')['assistNumber'].sum()\n",
        "groupByHomeGoals = dfGoals.groupby('home')['goalNumber'].sum()"
      ]
    },
    {
      "cell_type": "markdown",
      "metadata": {
        "id": "Fdu-7RYPNyt9"
      },
      "source": [
        "#### Away Goals and Assists"
      ]
    },
    {
      "cell_type": "code",
      "execution_count": 463,
      "metadata": {
        "id": "DwvW_8nYNyt-"
      },
      "outputs": [],
      "source": [
        "# Away assist and goals \n",
        "groupByAwayAssist = filterAssist.groupby('away')['assistNumber'].sum()\n",
        "groupByAwayGoals = filterAssist.groupby('away')['goalNumber'].sum()"
      ]
    },
    {
      "cell_type": "markdown",
      "metadata": {
        "id": "Us7AYhR8Nyt-"
      },
      "source": [
        "## Cards"
      ]
    },
    {
      "cell_type": "code",
      "execution_count": 464,
      "metadata": {
        "id": "6_tEYZCQNyt-"
      },
      "outputs": [
        {
          "data": {
            "text/html": [
              "<div>\n",
              "<style scoped>\n",
              "    .dataframe tbody tr th:only-of-type {\n",
              "        vertical-align: middle;\n",
              "    }\n",
              "\n",
              "    .dataframe tbody tr th {\n",
              "        vertical-align: top;\n",
              "    }\n",
              "\n",
              "    .dataframe thead th {\n",
              "        text-align: right;\n",
              "    }\n",
              "</style>\n",
              "<table border=\"1\" class=\"dataframe\">\n",
              "  <thead>\n",
              "    <tr style=\"text-align: right;\">\n",
              "      <th></th>\n",
              "      <th>Unnamed: 0</th>\n",
              "      <th>saison</th>\n",
              "      <th>round</th>\n",
              "      <th>home</th>\n",
              "      <th>away</th>\n",
              "      <th>team</th>\n",
              "      <th>player</th>\n",
              "      <th>minute</th>\n",
              "      <th>type</th>\n",
              "      <th>redCard_nr</th>\n",
              "      <th>yellowCard_nr</th>\n",
              "    </tr>\n",
              "  </thead>\n",
              "  <tbody>\n",
              "    <tr>\n",
              "      <th>22582</th>\n",
              "      <td>0</td>\n",
              "      <td>2012</td>\n",
              "      <td>26</td>\n",
              "      <td>ado-den-haag</td>\n",
              "      <td>ajax-amsterdam</td>\n",
              "      <td>ado-den-haag</td>\n",
              "      <td>jens-toornstra</td>\n",
              "      <td>34.0</td>\n",
              "      <td>yellow-card</td>\n",
              "      <td>0</td>\n",
              "      <td>1</td>\n",
              "    </tr>\n",
              "    <tr>\n",
              "      <th>22583</th>\n",
              "      <td>1</td>\n",
              "      <td>2012</td>\n",
              "      <td>26</td>\n",
              "      <td>ado-den-haag</td>\n",
              "      <td>ajax-amsterdam</td>\n",
              "      <td>ado-den-haag</td>\n",
              "      <td>aleksander-radosavljevic</td>\n",
              "      <td>44.0</td>\n",
              "      <td>yellow-card</td>\n",
              "      <td>0</td>\n",
              "      <td>1</td>\n",
              "    </tr>\n",
              "    <tr>\n",
              "      <th>22584</th>\n",
              "      <td>2</td>\n",
              "      <td>2012</td>\n",
              "      <td>26</td>\n",
              "      <td>ado-den-haag</td>\n",
              "      <td>ajax-amsterdam</td>\n",
              "      <td>ado-den-haag</td>\n",
              "      <td>ali-boussaboun</td>\n",
              "      <td>25.0</td>\n",
              "      <td>red-card</td>\n",
              "      <td>1</td>\n",
              "      <td>0</td>\n",
              "    </tr>\n",
              "    <tr>\n",
              "      <th>22585</th>\n",
              "      <td>3</td>\n",
              "      <td>2012</td>\n",
              "      <td>26</td>\n",
              "      <td>ado-den-haag</td>\n",
              "      <td>ajax-amsterdam</td>\n",
              "      <td>ajax-amsterdam</td>\n",
              "      <td>toby-alderweireld</td>\n",
              "      <td>40.0</td>\n",
              "      <td>yellow-card</td>\n",
              "      <td>0</td>\n",
              "      <td>1</td>\n",
              "    </tr>\n",
              "    <tr>\n",
              "      <th>22586</th>\n",
              "      <td>4</td>\n",
              "      <td>2012</td>\n",
              "      <td>26</td>\n",
              "      <td>ado-den-haag</td>\n",
              "      <td>ajax-amsterdam</td>\n",
              "      <td>ajax-amsterdam</td>\n",
              "      <td>theo-janssen</td>\n",
              "      <td>78.0</td>\n",
              "      <td>yellow-card</td>\n",
              "      <td>0</td>\n",
              "      <td>1</td>\n",
              "    </tr>\n",
              "    <tr>\n",
              "      <th>...</th>\n",
              "      <td>...</td>\n",
              "      <td>...</td>\n",
              "      <td>...</td>\n",
              "      <td>...</td>\n",
              "      <td>...</td>\n",
              "      <td>...</td>\n",
              "      <td>...</td>\n",
              "      <td>...</td>\n",
              "      <td>...</td>\n",
              "      <td>...</td>\n",
              "      <td>...</td>\n",
              "    </tr>\n",
              "    <tr>\n",
              "      <th>32412</th>\n",
              "      <td>810</td>\n",
              "      <td>2022</td>\n",
              "      <td>12</td>\n",
              "      <td>willem-ii-tilburg</td>\n",
              "      <td>sparta-rotterdam</td>\n",
              "      <td>sparta-rotterdam</td>\n",
              "      <td>sven-mijnans</td>\n",
              "      <td>19.0</td>\n",
              "      <td>yellow-card</td>\n",
              "      <td>0</td>\n",
              "      <td>1</td>\n",
              "    </tr>\n",
              "    <tr>\n",
              "      <th>32413</th>\n",
              "      <td>811</td>\n",
              "      <td>2022</td>\n",
              "      <td>30</td>\n",
              "      <td>willem-ii-tilburg</td>\n",
              "      <td>vitesse-arnhem</td>\n",
              "      <td>vitesse-arnhem</td>\n",
              "      <td>jacob-rasmussen_3</td>\n",
              "      <td>55.0</td>\n",
              "      <td>yellow-card</td>\n",
              "      <td>0</td>\n",
              "      <td>1</td>\n",
              "    </tr>\n",
              "    <tr>\n",
              "      <th>32414</th>\n",
              "      <td>812</td>\n",
              "      <td>2022</td>\n",
              "      <td>30</td>\n",
              "      <td>willem-ii-tilburg</td>\n",
              "      <td>vitesse-arnhem</td>\n",
              "      <td>vitesse-arnhem</td>\n",
              "      <td>riechedly-bazoer</td>\n",
              "      <td>57.0</td>\n",
              "      <td>yellow-card</td>\n",
              "      <td>0</td>\n",
              "      <td>1</td>\n",
              "    </tr>\n",
              "    <tr>\n",
              "      <th>32415</th>\n",
              "      <td>813</td>\n",
              "      <td>2022</td>\n",
              "      <td>30</td>\n",
              "      <td>willem-ii-tilburg</td>\n",
              "      <td>vitesse-arnhem</td>\n",
              "      <td>vitesse-arnhem</td>\n",
              "      <td>sondre-tronstad</td>\n",
              "      <td>62.0</td>\n",
              "      <td>yellow-card</td>\n",
              "      <td>0</td>\n",
              "      <td>1</td>\n",
              "    </tr>\n",
              "    <tr>\n",
              "      <th>32416</th>\n",
              "      <td>814</td>\n",
              "      <td>2022</td>\n",
              "      <td>30</td>\n",
              "      <td>willem-ii-tilburg</td>\n",
              "      <td>vitesse-arnhem</td>\n",
              "      <td>vitesse-arnhem</td>\n",
              "      <td>matus-bero</td>\n",
              "      <td>79.0</td>\n",
              "      <td>yellow-card</td>\n",
              "      <td>0</td>\n",
              "      <td>1</td>\n",
              "    </tr>\n",
              "  </tbody>\n",
              "</table>\n",
              "<p>9835 rows × 11 columns</p>\n",
              "</div>"
            ],
            "text/plain": [
              "       Unnamed: 0  saison  round               home              away  \\\n",
              "22582           0    2012     26       ado-den-haag    ajax-amsterdam   \n",
              "22583           1    2012     26       ado-den-haag    ajax-amsterdam   \n",
              "22584           2    2012     26       ado-den-haag    ajax-amsterdam   \n",
              "22585           3    2012     26       ado-den-haag    ajax-amsterdam   \n",
              "22586           4    2012     26       ado-den-haag    ajax-amsterdam   \n",
              "...           ...     ...    ...                ...               ...   \n",
              "32412         810    2022     12  willem-ii-tilburg  sparta-rotterdam   \n",
              "32413         811    2022     30  willem-ii-tilburg    vitesse-arnhem   \n",
              "32414         812    2022     30  willem-ii-tilburg    vitesse-arnhem   \n",
              "32415         813    2022     30  willem-ii-tilburg    vitesse-arnhem   \n",
              "32416         814    2022     30  willem-ii-tilburg    vitesse-arnhem   \n",
              "\n",
              "                   team                    player  minute         type  \\\n",
              "22582      ado-den-haag            jens-toornstra    34.0  yellow-card   \n",
              "22583      ado-den-haag  aleksander-radosavljevic    44.0  yellow-card   \n",
              "22584      ado-den-haag            ali-boussaboun    25.0     red-card   \n",
              "22585    ajax-amsterdam         toby-alderweireld    40.0  yellow-card   \n",
              "22586    ajax-amsterdam              theo-janssen    78.0  yellow-card   \n",
              "...                 ...                       ...     ...          ...   \n",
              "32412  sparta-rotterdam              sven-mijnans    19.0  yellow-card   \n",
              "32413    vitesse-arnhem         jacob-rasmussen_3    55.0  yellow-card   \n",
              "32414    vitesse-arnhem          riechedly-bazoer    57.0  yellow-card   \n",
              "32415    vitesse-arnhem           sondre-tronstad    62.0  yellow-card   \n",
              "32416    vitesse-arnhem                matus-bero    79.0  yellow-card   \n",
              "\n",
              "       redCard_nr  yellowCard_nr  \n",
              "22582           0              1  \n",
              "22583           0              1  \n",
              "22584           1              0  \n",
              "22585           0              1  \n",
              "22586           0              1  \n",
              "...           ...            ...  \n",
              "32412           0              1  \n",
              "32413           0              1  \n",
              "32414           0              1  \n",
              "32415           0              1  \n",
              "32416           0              1  \n",
              "\n",
              "[9835 rows x 11 columns]"
            ]
          },
          "execution_count": 464,
          "metadata": {},
          "output_type": "execute_result"
        }
      ],
      "source": [
        "# Some clubs have different names \n",
        "# We replace it to one name \n",
        "Duplicates(raw_cards_file, \"club\", \"afc-ajax\", \"ajax-amsterdam\")\n",
        "Duplicates(raw_cards_file, \"club\", \"willem-ii\", \"willem-ii-tilburg\")\n",
        "Duplicates(raw_cards_file, \"club\", \"mvv\", \"mvv-maastricht\")\n",
        "Duplicates(raw_cards_file, \"club\", \"vitesse\", \"vitesse-arnhem\")\n",
        "Duplicates(raw_cards_file, \"club\", \"sc-cambuur\", \"cambuur-leeuwarden\")\n",
        "Duplicates(raw_cards_file, \"club\", \"feyenoord\", \"feyenoord-rotterdam\")\n",
        "Duplicates(raw_cards_file, \"club\", \"go-ahead-eagles_2\", \"go-ahead-eagles\")\n",
        "\n",
        "# The cards have different names and we convert them to numbers in order to count them  geelrode kaart\n",
        "Duplicates(raw_cards_file, \"card\", \"rode kaart\", \"red-card\")\n",
        "Duplicates(raw_cards_file, \"card\", \"rode\", \"red-card\")\n",
        "Duplicates(raw_cards_file, \"card\", \"kaartrode\", \"red-card\")\n",
        "Duplicates(raw_cards_file, \"card\", \"gele kaart\", \"yellow-card\")\n",
        "Duplicates(raw_cards_file, \"card\", \"gele\", \"yellow-card\")\n",
        "Duplicates(raw_cards_file, \"card\", \"kaartgele\", \"yellow-card\")\n",
        "Duplicates(raw_cards_file, \"card\", \"geelrode kaart\", \"red-card\")\n",
        "\n",
        "# convert the season to int \n",
        "raw_cards_file['saison'] = raw_cards_file['saison'].apply(toOneSeason)\n",
        "raw_cards_file['saison'] = raw_cards_file['saison'].astype(int)\n",
        "\n",
        "# filter the last 10 seasons \n",
        "filterSeasonCards = raw_cards_file[(raw_cards_file['saison'] >= 2012)]\n",
        "\n",
        "# make new dataframe in order to aggregate\n",
        "dfCards = pd.DataFrame(filterSeasonCards)\n",
        "redCard = dfCards['type']\n",
        "yellowCard= dfCards['type']\n",
        "dfCards['redCard_nr'] = redCard\n",
        "dfCards['yellowCard_nr'] = redCard\n",
        "dfCards[\"redCard_nr\"].replace({\"red-card\": 1, \"yellow-card\": 0}, inplace=True)\n",
        "dfCards[\"yellowCard_nr\"].replace({\"red-card\": 0, \"yellow-card\": 1}, inplace=True)\n",
        "dfCards\n"
      ]
    },
    {
      "cell_type": "code",
      "execution_count": 465,
      "metadata": {
        "id": "tb66CHudNyt-"
      },
      "outputs": [],
      "source": [
        "# filter the home and away team \n",
        "filterHomeTeam = dfCards[ (dfCards['home'] == dfCards['team'])]\n",
        "filterAwayTeam = dfCards[ (dfCards['away'] == dfCards['team'])]"
      ]
    },
    {
      "cell_type": "markdown",
      "metadata": {
        "id": "6FGfeghiNyuB"
      },
      "source": [
        "#### PSV VS AJAX (Yellow and red cards)"
      ]
    },
    {
      "cell_type": "markdown",
      "metadata": {
        "id": "RGfaK2oVNyuB"
      },
      "source": [
        "##### PSV Stadion"
      ]
    },
    {
      "cell_type": "code",
      "execution_count": 466,
      "metadata": {
        "id": "QSL4RygsNyuB"
      },
      "outputs": [],
      "source": [
        "# How much red cards did Ajax get in psv stadion againt PSV\n",
        "filterAjaxCardsInPsvStadion = dfCards[(dfCards['team'] == \"ajax-amsterdam\") & (dfCards['home'] == \"psv-eindhoven\")]\n",
        "filterAjaxCardsInPsvStadionRedCards = filterAjaxCardsInPsvStadion[(filterAjaxCardsInPsvStadion['redCard_nr'] == 1)]"
      ]
    },
    {
      "cell_type": "code",
      "execution_count": 467,
      "metadata": {
        "id": "exdYjNwiNyuB"
      },
      "outputs": [],
      "source": [
        "# How much yellow cards did Ajax get in psv stadion againt PSV\n",
        "filterAjaxCardsInPsvStadionYellowCards = filterAjaxCardsInPsvStadion[(filterAjaxCardsInPsvStadion['yellowCard_nr'] == 1)]"
      ]
    },
    {
      "cell_type": "code",
      "execution_count": 468,
      "metadata": {
        "id": "z_5q98LINyuB"
      },
      "outputs": [],
      "source": [
        "# How much red cards did Psv get in psv stadion againt Ajax\n",
        "filterPSVCardsInPsvStadion = dfCards[(dfCards['team'] == \"psv-eindhoven\") & (dfCards['away'] == \"ajax-amsterdam\")]\n",
        "filterPSVCardsInPsvStadionRedCards = filterPSVCardsInPsvStadion[(filterPSVCardsInPsvStadion['redCard_nr'] == 1)]"
      ]
    },
    {
      "cell_type": "code",
      "execution_count": 469,
      "metadata": {
        "id": "JDO_JHRhNyuB"
      },
      "outputs": [],
      "source": [
        "# How much yellow cards did Psv get in psv studium againt Ajax\n",
        "filterPSVCardsInPsvStadionYellowCards = filterPSVCardsInPsvStadion[(filterPSVCardsInPsvStadion['yellowCard_nr'] == 1)]"
      ]
    },
    {
      "cell_type": "markdown",
      "metadata": {
        "id": "hJ-kYrW1NyuC"
      },
      "source": [
        "##### Ajax Stadion"
      ]
    },
    {
      "cell_type": "code",
      "execution_count": 470,
      "metadata": {
        "id": "57DTNA4CNyuC"
      },
      "outputs": [],
      "source": [
        "# How much red cards did Ajax get in Ajax stadion againt PSV\n",
        "filterAjaxCardsInAjaxStadion = dfCards[(dfCards['team'] == \"ajax-amsterdam\") & (dfCards['away'] == \"psv-eindhoven\")]\n",
        "filterAjaxCardsInAjaxStadionRedCards = filterAjaxCardsInAjaxStadion[(filterAjaxCardsInAjaxStadion['redCard_nr'] == 1)]"
      ]
    },
    {
      "cell_type": "code",
      "execution_count": 471,
      "metadata": {
        "id": "h-ebsGrNNyuC"
      },
      "outputs": [],
      "source": [
        "# How much yellow cards did Ajax get in Ajax stadion againt PSV\n",
        "filterAjaxCardsInAjaxStadionYellowCards = filterAjaxCardsInAjaxStadion[(filterAjaxCardsInAjaxStadion['yellowCard_nr'] == 1)]"
      ]
    },
    {
      "cell_type": "code",
      "execution_count": 472,
      "metadata": {
        "id": "zJI3kbGZNyuC"
      },
      "outputs": [],
      "source": [
        "# How much red cards did PSV get in Ajax stadion againt Ajax\n",
        "filterPSVCardsInAjaxStadion = dfCards[(dfCards['team'] == \"psv-eindhoven\") & (dfCards['home'] == \"ajax-amsterdam\")]\n",
        "filterPSVCardsInAjaxStadionRedCards = filterPSVCardsInAjaxStadion[(filterPSVCardsInAjaxStadion['redCard_nr'] == 1)]"
      ]
    },
    {
      "cell_type": "code",
      "execution_count": 473,
      "metadata": {
        "id": "V4A9XzA0NyuC"
      },
      "outputs": [],
      "source": [
        "# How much yellow cards did PSV get in Ajax stadion againt Ajax\n",
        "filterPSVCardsInAjaxStadionYellowCards = filterPSVCardsInAjaxStadion[(filterPSVCardsInAjaxStadion['yellowCard_nr'] == 1)]"
      ]
    },
    {
      "cell_type": "markdown",
      "metadata": {},
      "source": [
        "##### Cards each season Ajax"
      ]
    },
    {
      "cell_type": "markdown",
      "metadata": {
        "id": "KKYd7wFlNyuD"
      },
      "source": [
        "<h5>Yellow cards</h5>"
      ]
    },
    {
      "cell_type": "code",
      "execution_count": 474,
      "metadata": {
        "id": "Fz4Ogy-SNyuD"
      },
      "outputs": [],
      "source": [
        "# Ajax Goals Each Season Home\n",
        "EachSeasonAjaxYellowCardHome = dfCards[ (dfCards['home'] == 'ajax-amsterdam') & (dfCards['yellowCard_nr'] == 1)]\n",
        "GroupBySeasenAjaxYellowCardHome = EachSeasonAjaxYellowCardHome.groupby(['saison'])[['yellowCard_nr']].sum()\n"
      ]
    },
    {
      "cell_type": "code",
      "execution_count": 475,
      "metadata": {
        "id": "nVYQbWW3NyuD"
      },
      "outputs": [],
      "source": [
        "# Ajax Yellow cards Each Season Away\n",
        "EachSeasonAjaxYellowCardAway = dfCards[ (dfCards['away'] == 'ajax-amsterdam') & (dfCards['yellowCard_nr'] == 1)]\n",
        "GroupBySeasenAjaxYellowCardAway = EachSeasonAjaxYellowCardAway.groupby(['saison'])[['yellowCard_nr']].sum()"
      ]
    },
    {
      "cell_type": "code",
      "execution_count": 476,
      "metadata": {
        "id": "EjGPJBNRNyuE"
      },
      "outputs": [
        {
          "data": {
            "text/plain": [
              "Text(0, 0.5, 'Yellow cards')"
            ]
          },
          "execution_count": 476,
          "metadata": {},
          "output_type": "execute_result"
        },
        {
          "data": {
            "image/png": "[encoded data removed]",
            "text/plain": [
              "<Figure size 432x288 with 1 Axes>"
            ]
          },
          "metadata": {
            "needs_background": "light"
          },
          "output_type": "display_data"
        }
      ],
      "source": [
        "# make new dataframe in order to aggregate\n",
        "dfAjaxYellowCardTotalEachSeason = pd.DataFrame()\n",
        "AjaxAwayYellowCards= GroupBySeasenAjaxYellowCardAway['yellowCard_nr']\n",
        "AjaxHomeYellowCards= GroupBySeasenAjaxYellowCardHome['yellowCard_nr']\n",
        "dfAjaxYellowCardTotalEachSeason['yellow_home'] = AjaxHomeYellowCards\n",
        "dfAjaxYellowCardTotalEachSeason[\"yellow_away\"] = AjaxAwayYellowCards\n",
        "\n",
        "# plot Ajax Goals in each Season Total\n",
        "dfAjaxYellowCardsTotalEachSeasonPlot = pd.DataFrame(dfAjaxYellowCardTotalEachSeason)\n",
        "ax = dfAjaxYellowCardsTotalEachSeasonPlot.plot(lw=2, colormap='jet', kind = 'bar', title='Ajax yellow cards Total')\n",
        "ax.set_xlabel(\"Season\")\n",
        "ax.set_ylabel(\"Yellow cards\")"
      ]
    },
    {
      "cell_type": "markdown",
      "metadata": {
        "id": "XLx0yM-yNyuE"
      },
      "source": [
        "<h5>Red cards</h5>"
      ]
    },
    {
      "cell_type": "code",
      "execution_count": 477,
      "metadata": {
        "id": "2CvVayWgNyuE"
      },
      "outputs": [],
      "source": [
        "# Ajax red cards Each Season Home\n",
        "EachSeasonAjaxRedCardHome = dfCards[ (dfCards['home'] == 'ajax-amsterdam') & (dfCards['redCard_nr'] == 1)]\n",
        "GroupBySeasenAjaxRedCardHome = EachSeasonAjaxRedCardHome.groupby(['saison'])[['redCard_nr']].sum()"
      ]
    },
    {
      "cell_type": "code",
      "execution_count": 478,
      "metadata": {
        "id": "A-mPL9RrNyuE"
      },
      "outputs": [],
      "source": [
        "# Ajax red cards Each Season Away\n",
        "EachSeasonAjaxRedCardAway = dfCards[ (dfCards['away'] == 'ajax-amsterdam') & (dfCards['redCard_nr'] == 1)]\n",
        "GroupBySeasenAjaxRedCardAway = EachSeasonAjaxRedCardAway.groupby(['saison'])[['redCard_nr']].sum()\n"
      ]
    },
    {
      "cell_type": "code",
      "execution_count": 479,
      "metadata": {
        "id": "lJ1652JgNyuE"
      },
      "outputs": [
        {
          "data": {
            "text/plain": [
              "Text(0, 0.5, 'Red cards')"
            ]
          },
          "execution_count": 479,
          "metadata": {},
          "output_type": "execute_result"
        },
        {
          "data": {
            "image/png": "[encoded data removed]",
            "text/plain": [
              "<Figure size 432x288 with 1 Axes>"
            ]
          },
          "metadata": {
            "needs_background": "light"
          },
          "output_type": "display_data"
        }
      ],
      "source": [
        "# make new dataframe in order to aggregate\n",
        "dfAjaxRedCardTotalEachSeason = pd.DataFrame()\n",
        "AjaxAwayRedCards= GroupBySeasenAjaxRedCardAway['redCard_nr']\n",
        "AjaxHomeRedCards= GroupBySeasenAjaxRedCardHome['redCard_nr']\n",
        "dfAjaxRedCardTotalEachSeason['red_home'] = AjaxHomeRedCards\n",
        "dfAjaxRedCardTotalEachSeason[\"red_away\"] = AjaxAwayRedCards\n",
        "\n",
        "\n",
        "# plot Ajax Goals in each Season Total\n",
        "dfAjaxRedCardsTotalEachSeasonPlot = pd.DataFrame(dfAjaxRedCardTotalEachSeason)\n",
        "ax = dfAjaxRedCardsTotalEachSeasonPlot.plot(lw=2, colormap='jet', kind = 'bar', title='Ajax red cards Total')\n",
        "ax.set_xlabel(\"Season\")\n",
        "ax.set_ylabel(\"Red cards\")"
      ]
    },
    {
      "cell_type": "markdown",
      "metadata": {
        "id": "V-yl8odQNyuE"
      },
      "source": [
        "##### Cards each season PSV"
      ]
    },
    {
      "cell_type": "markdown",
      "metadata": {
        "id": "k5wOPNsrNyuE"
      },
      "source": [
        "<h5> Yellow cards </h5>"
      ]
    },
    {
      "cell_type": "code",
      "execution_count": 480,
      "metadata": {
        "id": "bmW4AgfFNyuE"
      },
      "outputs": [],
      "source": [
        "# PSV Yellow card Each Season Home\n",
        "EachSeasonPSVYellowCardHome = dfCards[ (dfCards['home'] == 'psv-eindhoven') & (dfCards['yellowCard_nr'] == 1)]\n",
        "GroupBySeasenPSVYellowCardHome = EachSeasonPSVYellowCardHome.groupby(['saison'])[['yellowCard_nr']].sum()"
      ]
    },
    {
      "cell_type": "code",
      "execution_count": 481,
      "metadata": {
        "id": "NtGrmzj2NyuF"
      },
      "outputs": [],
      "source": [
        "# PSV Yellow cards Each Season Away\n",
        "EachSeasonPSVYellowCardAway = dfCards[ (dfCards['away'] == 'psv-eindhoven') & (dfCards['yellowCard_nr'] == 1)]\n",
        "GroupBySeasenPSVYellowCardAway = EachSeasonPSVYellowCardAway.groupby(['saison'])[['yellowCard_nr']].sum()\n"
      ]
    },
    {
      "cell_type": "code",
      "execution_count": 482,
      "metadata": {
        "id": "0dqY7Q8sNyuF"
      },
      "outputs": [
        {
          "data": {
            "text/plain": [
              "Text(0, 0.5, 'Yellow cards')"
            ]
          },
          "execution_count": 482,
          "metadata": {},
          "output_type": "execute_result"
        },
        {
          "data": {
            "image/png": "[encoded data removed]",
            "text/plain": [
              "<Figure size 432x288 with 1 Axes>"
            ]
          },
          "metadata": {
            "needs_background": "light"
          },
          "output_type": "display_data"
        }
      ],
      "source": [
        "# make new dataframe in order to aggregate\n",
        "dfPSVYellowCardTotalEachSeason = pd.DataFrame()\n",
        "PSVAwayYellowCards= GroupBySeasenPSVYellowCardAway['yellowCard_nr']\n",
        "PSVHomeYellowCards= GroupBySeasenPSVYellowCardHome['yellowCard_nr']\n",
        "dfPSVYellowCardTotalEachSeason['yellow_home'] = PSVHomeYellowCards\n",
        "dfPSVYellowCardTotalEachSeason[\"yellow_away\"] = PSVAwayYellowCards\n",
        "\n",
        "\n",
        "# plot PSV Yellow cards in each Season Total\n",
        "dfPSVYellowCardsTotalEachSeasonPlot = pd.DataFrame(dfPSVYellowCardTotalEachSeason)\n",
        "ax = dfPSVYellowCardsTotalEachSeasonPlot.plot(lw=2, colormap='jet', kind = 'bar', title='PSV yellow cards Total')\n",
        "ax.set_xlabel(\"Season\")\n",
        "ax.set_ylabel(\"Yellow cards\")"
      ]
    },
    {
      "cell_type": "markdown",
      "metadata": {
        "id": "yc86LV9SNyuF"
      },
      "source": [
        "<h5> Red cards </h5>"
      ]
    },
    {
      "cell_type": "code",
      "execution_count": 483,
      "metadata": {
        "id": "WFVB8Tr_NyuF"
      },
      "outputs": [],
      "source": [
        "# PSV red cards Each Season Home\n",
        "EachSeasonPSVRedCardHome = dfCards[ (dfCards['home'] == 'psv-eindhoven') & (dfCards['redCard_nr'] == 1)]\n",
        "GroupBySeasenPSVRedCardHome = EachSeasonPSVRedCardHome.groupby(['saison'])[['redCard_nr']].sum()"
      ]
    },
    {
      "cell_type": "code",
      "execution_count": 484,
      "metadata": {
        "id": "NAg67GZ_NyuF"
      },
      "outputs": [],
      "source": [
        "# PSV red cards Each Season Away\n",
        "EachSeasonPSVRedCardAway = dfCards[ (dfCards['away'] == 'psv-eindhoven') & (dfCards['redCard_nr'] == 1)]\n",
        "GroupBySeasenPSVRedCardAway = EachSeasonPSVRedCardAway.groupby(['saison'])[['redCard_nr']].sum()"
      ]
    },
    {
      "cell_type": "code",
      "execution_count": 485,
      "metadata": {
        "id": "xIo5i6d6NyuF"
      },
      "outputs": [
        {
          "data": {
            "text/plain": [
              "Text(0, 0.5, 'Red cards')"
            ]
          },
          "execution_count": 485,
          "metadata": {},
          "output_type": "execute_result"
        },
        {
          "data": {
            "image/png": "[encoded data removed]",
            "text/plain": [
              "<Figure size 432x288 with 1 Axes>"
            ]
          },
          "metadata": {
            "needs_background": "light"
          },
          "output_type": "display_data"
        }
      ],
      "source": [
        "# make new dataframe in order to aggregate\n",
        "dfPSVRedCardTotalEachSeason = pd.DataFrame()\n",
        "PSVAwayRedCards= GroupBySeasenPSVRedCardAway['redCard_nr']\n",
        "PSVHomeRedCards= GroupBySeasenPSVRedCardHome['redCard_nr']\n",
        "dfPSVRedCardTotalEachSeason['red_home'] = PSVHomeRedCards\n",
        "dfPSVRedCardTotalEachSeason[\"red_away\"] = PSVAwayRedCards\n",
        "\n",
        "\n",
        "# plot PSV Yellow cards in each Season Total\n",
        "dfPSVRedCardsTotalEachSeasonPlot = pd.DataFrame(dfPSVRedCardTotalEachSeason)\n",
        "ax = dfPSVRedCardsTotalEachSeasonPlot.plot(lw=2, colormap='jet', kind = 'bar', title='PSV red cards Total')\n",
        "ax.set_xlabel(\"Season\")\n",
        "ax.set_ylabel(\"Red cards\")"
      ]
    },
    {
      "cell_type": "markdown",
      "metadata": {
        "id": "gEIVY86_NyuF"
      },
      "source": [
        "## Matches"
      ]
    },
    {
      "cell_type": "code",
      "execution_count": 486,
      "metadata": {
        "id": "SdNVIG2uNyuG"
      },
      "outputs": [
        {
          "name": "stderr",
          "output_type": "stream",
          "text": [
            "C:\\Users\\malja\\AppData\\Local\\Temp/ipykernel_22644/3111827600.py:18: SettingWithCopyWarning: \n",
            "A value is trying to be set on a copy of a slice from a DataFrame.\n",
            "Try using .loc[row_indexer,col_indexer] = value instead\n",
            "\n",
            "See the caveats in the documentation: https://pandas.pydata.org/pandas-docs/stable/user_guide/indexing.html#returning-a-view-versus-a-copy\n",
            "  filterSeasonMatches['home_score'] = pd.to_numeric(filterSeasonMatches['home_score'])\n",
            "C:\\Users\\malja\\AppData\\Local\\Temp/ipykernel_22644/3111827600.py:19: SettingWithCopyWarning: \n",
            "A value is trying to be set on a copy of a slice from a DataFrame.\n",
            "Try using .loc[row_indexer,col_indexer] = value instead\n",
            "\n",
            "See the caveats in the documentation: https://pandas.pydata.org/pandas-docs/stable/user_guide/indexing.html#returning-a-view-versus-a-copy\n",
            "  filterSeasonMatches['away_score'] = pd.to_numeric(filterSeasonMatches['away_score'])\n"
          ]
        },
        {
          "data": {
            "text/html": [
              "<div>\n",
              "<style scoped>\n",
              "    .dataframe tbody tr th:only-of-type {\n",
              "        vertical-align: middle;\n",
              "    }\n",
              "\n",
              "    .dataframe tbody tr th {\n",
              "        vertical-align: top;\n",
              "    }\n",
              "\n",
              "    .dataframe thead th {\n",
              "        text-align: right;\n",
              "    }\n",
              "</style>\n",
              "<table border=\"1\" class=\"dataframe\">\n",
              "  <thead>\n",
              "    <tr style=\"text-align: right;\">\n",
              "      <th></th>\n",
              "      <th>Unnamed: 0</th>\n",
              "      <th>saison</th>\n",
              "      <th>home</th>\n",
              "      <th>away</th>\n",
              "      <th>home_score</th>\n",
              "      <th>away_score</th>\n",
              "    </tr>\n",
              "  </thead>\n",
              "  <tbody>\n",
              "    <tr>\n",
              "      <th>16566</th>\n",
              "      <td>0</td>\n",
              "      <td>2012</td>\n",
              "      <td>ado-den-haag</td>\n",
              "      <td>ajax-amsterdam</td>\n",
              "      <td>0</td>\n",
              "      <td>2</td>\n",
              "    </tr>\n",
              "    <tr>\n",
              "      <th>16567</th>\n",
              "      <td>1</td>\n",
              "      <td>2012</td>\n",
              "      <td>ado-den-haag</td>\n",
              "      <td>az-alkmaar</td>\n",
              "      <td>0</td>\n",
              "      <td>6</td>\n",
              "    </tr>\n",
              "    <tr>\n",
              "      <th>16568</th>\n",
              "      <td>2</td>\n",
              "      <td>2012</td>\n",
              "      <td>ado-den-haag</td>\n",
              "      <td>de-graafschap</td>\n",
              "      <td>3</td>\n",
              "      <td>5</td>\n",
              "    </tr>\n",
              "    <tr>\n",
              "      <th>16569</th>\n",
              "      <td>3</td>\n",
              "      <td>2012</td>\n",
              "      <td>ado-den-haag</td>\n",
              "      <td>fc-groningen</td>\n",
              "      <td>3</td>\n",
              "      <td>0</td>\n",
              "    </tr>\n",
              "    <tr>\n",
              "      <th>16570</th>\n",
              "      <td>4</td>\n",
              "      <td>2012</td>\n",
              "      <td>ado-den-haag</td>\n",
              "      <td>fc-twente</td>\n",
              "      <td>1</td>\n",
              "      <td>1</td>\n",
              "    </tr>\n",
              "    <tr>\n",
              "      <th>...</th>\n",
              "      <td>...</td>\n",
              "      <td>...</td>\n",
              "      <td>...</td>\n",
              "      <td>...</td>\n",
              "      <td>...</td>\n",
              "      <td>...</td>\n",
              "    </tr>\n",
              "    <tr>\n",
              "      <th>19925</th>\n",
              "      <td>301</td>\n",
              "      <td>2022</td>\n",
              "      <td>willem-ii-tilburg</td>\n",
              "      <td>rkc-waalwijk</td>\n",
              "      <td>3</td>\n",
              "      <td>1</td>\n",
              "    </tr>\n",
              "    <tr>\n",
              "      <th>19926</th>\n",
              "      <td>302</td>\n",
              "      <td>2022</td>\n",
              "      <td>willem-ii-tilburg</td>\n",
              "      <td>cambuur-leeuwarden</td>\n",
              "      <td>1</td>\n",
              "      <td>3</td>\n",
              "    </tr>\n",
              "    <tr>\n",
              "      <th>19927</th>\n",
              "      <td>303</td>\n",
              "      <td>2022</td>\n",
              "      <td>willem-ii-tilburg</td>\n",
              "      <td>sc-heerenveen</td>\n",
              "      <td>0</td>\n",
              "      <td>0</td>\n",
              "    </tr>\n",
              "    <tr>\n",
              "      <th>19928</th>\n",
              "      <td>304</td>\n",
              "      <td>2022</td>\n",
              "      <td>willem-ii-tilburg</td>\n",
              "      <td>sparta-rotterdam</td>\n",
              "      <td>0</td>\n",
              "      <td>3</td>\n",
              "    </tr>\n",
              "    <tr>\n",
              "      <th>19929</th>\n",
              "      <td>305</td>\n",
              "      <td>2022</td>\n",
              "      <td>willem-ii-tilburg</td>\n",
              "      <td>vitesse-arnhem</td>\n",
              "      <td>1</td>\n",
              "      <td>0</td>\n",
              "    </tr>\n",
              "  </tbody>\n",
              "</table>\n",
              "<p>3255 rows × 6 columns</p>\n",
              "</div>"
            ],
            "text/plain": [
              "       Unnamed: 0  saison               home                away  home_score  \\\n",
              "16566           0    2012       ado-den-haag      ajax-amsterdam           0   \n",
              "16567           1    2012       ado-den-haag          az-alkmaar           0   \n",
              "16568           2    2012       ado-den-haag       de-graafschap           3   \n",
              "16569           3    2012       ado-den-haag        fc-groningen           3   \n",
              "16570           4    2012       ado-den-haag           fc-twente           1   \n",
              "...           ...     ...                ...                 ...         ...   \n",
              "19925         301    2022  willem-ii-tilburg        rkc-waalwijk           3   \n",
              "19926         302    2022  willem-ii-tilburg  cambuur-leeuwarden           1   \n",
              "19927         303    2022  willem-ii-tilburg       sc-heerenveen           0   \n",
              "19928         304    2022  willem-ii-tilburg    sparta-rotterdam           0   \n",
              "19929         305    2022  willem-ii-tilburg      vitesse-arnhem           1   \n",
              "\n",
              "       away_score  \n",
              "16566           2  \n",
              "16567           6  \n",
              "16568           5  \n",
              "16569           0  \n",
              "16570           1  \n",
              "...           ...  \n",
              "19925           1  \n",
              "19926           3  \n",
              "19927           0  \n",
              "19928           3  \n",
              "19929           0  \n",
              "\n",
              "[3255 rows x 6 columns]"
            ]
          },
          "execution_count": 486,
          "metadata": {},
          "output_type": "execute_result"
        }
      ],
      "source": [
        "Duplicates(raw_matches_file, \"match\", \"afc-ajax\", \"ajax-amsterdam\")\n",
        "Duplicates(raw_matches_file, \"match\", \"willem-ii\", \"willem-ii-tilburg\")\n",
        "Duplicates(raw_matches_file, \"match\", \"mvv\", \"mvv-maastricht\")\n",
        "Duplicates(raw_matches_file, \"match\", \"vitesse\", \"vitesse-arnhem\")\n",
        "Duplicates(raw_matches_file, \"match\", \"sc-cambuur\", \"cambuur-leeuwarden\")\n",
        "Duplicates(raw_matches_file, \"match\", \"feyenoord\", \"feyenoord-rotterdam\")\n",
        "Duplicates(raw_matches_file, \"match\", \"go-ahead-eagles_2\", \"go-ahead-eagles\")\n",
        "\n",
        "# convert the season to int \n",
        "raw_matches_file['saison'] = raw_matches_file['saison'].apply(toOneSeason)\n",
        "raw_matches_file['saison'] = raw_matches_file['saison'].astype(int)\n",
        "\n",
        "# # filter the last 10 seasons \n",
        "filterSeasonMatches = raw_matches_file[(raw_matches_file['saison'] >= 2012) & \n",
        "                                        (raw_matches_file['home_score'] != \"-\") &\n",
        "                                         (raw_matches_file['away_score'] != \"-\")]\n",
        "\n",
        "filterSeasonMatches['home_score'] = pd.to_numeric(filterSeasonMatches['home_score'])\n",
        "filterSeasonMatches['away_score'] = pd.to_numeric(filterSeasonMatches['away_score'])\n",
        "\n",
        "# we drop the unneccesary columns \n",
        "filtered_matches = filterSeasonMatches.drop(columns=['stadium','home_first_card','home_last_card',\n",
        "                                                 'away_first_card', 'time','date','round',\n",
        "                                                 'spectators', 'ref','linesman1','linesman2', 'away_last_card',\n",
        "                                                 'home_yellow', 'home_yelred', 'away_yellow','first_goal', 'last_goal',\n",
        "                                                  'away_red','home_red', 'away_yelred'])\n",
        "\n",
        "# drop the empty rows\n",
        "filtered_matches.dropna()\n",
        "filtered_matches"
      ]
    },
    {
      "cell_type": "code",
      "execution_count": 487,
      "metadata": {
        "id": "TPujT39ONyuG"
      },
      "outputs": [],
      "source": [
        "# WinningHomeTeamFilter\n",
        "WinningHomeTeamFilter = filtered_matches[ (filtered_matches['home_score'] > filtered_matches['away_score'])]\n",
        "\n",
        "WinningAwayTeamFilter = filtered_matches[ (filtered_matches['home_score'] < filtered_matches['away_score'])]\n",
        "\n",
        "DrawTeamFilter = filtered_matches[ (filtered_matches['home_score'] == filtered_matches['away_score'])]"
      ]
    },
    {
      "cell_type": "markdown",
      "metadata": {
        "id": "pdJY-l7UNyuG"
      },
      "source": [
        "##### Ajax General Stats"
      ]
    },
    {
      "cell_type": "code",
      "execution_count": 488,
      "metadata": {
        "id": "7viSlvDkNyuG"
      },
      "outputs": [],
      "source": [
        "AjaxWinHome = filtered_matches[ (filtered_matches['home_score'] > filtered_matches['away_score']) & \n",
        "                                         (filtered_matches['home'] == \"ajax-amsterdam\") ]\n",
        "\n",
        "AjaxGoalsHomeWin =AjaxWinHome['home_score'].sum()\n",
        "AwayGoalsLoseAgaintsAjax =AjaxWinHome['away_score'].sum()\n",
        "\n",
        "                                        "
      ]
    },
    {
      "cell_type": "code",
      "execution_count": 489,
      "metadata": {
        "id": "fZNRR3RNNyuG"
      },
      "outputs": [],
      "source": [
        "AjaxloseHome = filtered_matches[ (filtered_matches['home_score'] < filtered_matches['away_score']) & \n",
        "                                         (filtered_matches['home'] == \"ajax-amsterdam\") ]\n",
        "\n",
        "AjaxGoalsHomeLose =AjaxloseHome['home_score'].sum()\n",
        "AwayGoalsWonAgaintsAjax =AjaxloseHome['away_score'].sum()\n"
      ]
    },
    {
      "cell_type": "code",
      "execution_count": 490,
      "metadata": {
        "id": "VQSAGHpnNyuG"
      },
      "outputs": [],
      "source": [
        "AjaxDrawHome = filtered_matches[ (filtered_matches['home_score'] == filtered_matches['away_score']) & \n",
        "                                         (filtered_matches['home'] == \"ajax-amsterdam\") ]\n",
        "\n",
        "AjaxGoalsDraw =AjaxDrawHome['home_score'].sum()\n",
        "AwayGoalsDraw =AjaxDrawHome['away_score'].sum()\n"
      ]
    },
    {
      "cell_type": "code",
      "execution_count": 491,
      "metadata": {
        "id": "FJvyFN8jNyuH"
      },
      "outputs": [],
      "source": [
        "# Total Ajax Goals Home\n",
        "totalAjaxGoalsHome = AjaxGoalsHomeWin + AjaxGoalsHomeLose + AjaxGoalsDraw\n",
        "totalAjaxPointsHome = (len(AjaxWinHome.index) * 3) + len(AjaxDrawHome.index)"
      ]
    },
    {
      "cell_type": "code",
      "execution_count": 492,
      "metadata": {
        "id": "GcqxsTZgNyuH"
      },
      "outputs": [],
      "source": [
        "AjaxWinAway = filtered_matches[ (filtered_matches['home_score'] < filtered_matches['away_score']) & \n",
        "                                         (filtered_matches['away'] == \"ajax-amsterdam\") ]\n",
        "\n",
        "AjaxGoalsAwayWin = AjaxWinAway['away_score'].sum()\n",
        "HomeGoalsLoseAgainstAjax = AjaxWinAway['home_score'].sum()                                          "
      ]
    },
    {
      "cell_type": "code",
      "execution_count": 493,
      "metadata": {
        "id": "mkzIv6-UNyuH"
      },
      "outputs": [],
      "source": [
        "AjaxLoseAway = filtered_matches[ (filtered_matches['home_score'] > filtered_matches['away_score']) & \n",
        "                                         (filtered_matches['away'] == \"ajax-amsterdam\") ]\n",
        "\n",
        "AjaxGoalsAwayLose = AjaxLoseAway['away_score'].sum()\n",
        "HomeGoalsWinAgainstAjax = AjaxLoseAway['home_score'].sum()\n",
        "         "
      ]
    },
    {
      "cell_type": "code",
      "execution_count": 494,
      "metadata": {
        "id": "5SrjivxJNyuH"
      },
      "outputs": [],
      "source": [
        "AjaxDrawAway = filtered_matches[ (filtered_matches['home_score'] == filtered_matches['away_score']) & \n",
        "                                         (filtered_matches['away'] == \"ajax-amsterdam\") ]\n",
        "\n",
        "AjaxGoalsAwayDraw = AjaxDrawAway['away_score'].sum()\n",
        "HomeGoalsDrawAgainstAjax = AjaxDrawAway['home_score'].sum()\n",
        "        "
      ]
    },
    {
      "cell_type": "code",
      "execution_count": 495,
      "metadata": {
        "id": "GYmvIn3_NyuH"
      },
      "outputs": [],
      "source": [
        "# Total Ajax Goals Away\n",
        "totalAjaxGoalsAway = AjaxGoalsAwayWin + AjaxGoalsAwayLose + AjaxGoalsAwayDraw\n",
        "\n",
        "totalAjaxPointsAway = (len(AjaxWinAway.index) * 3) + len(AjaxDrawAway.index)"
      ]
    },
    {
      "cell_type": "code",
      "execution_count": 496,
      "metadata": {
        "id": "CHDfj60dNyuI"
      },
      "outputs": [],
      "source": [
        "# Total Ajax Goals, Winnings, losses and draws\n",
        "TotalAjaxGoals = totalAjaxGoalsHome + totalAjaxGoalsAway\n",
        "# points\n",
        "TotalAjaxPoints = totalAjaxPointsHome + totalAjaxPointsAway\n",
        "# winning\n",
        "TotalAjaxWinning = len(AjaxWinHome.index) + len(AjaxWinAway.index)\n",
        "# losses\n",
        "TotalAjaxLoses = len(AjaxloseHome.index) + len(AjaxLoseAway.index)\n",
        "# Draws\n",
        "TotalAjaxDraws = len(AjaxDrawHome.index) + len(AjaxDrawAway.index)"
      ]
    },
    {
      "cell_type": "code",
      "execution_count": 497,
      "metadata": {
        "id": "vCl_IqtENyuI"
      },
      "outputs": [
        {
          "data": {
            "image/png": "[encoded data removed]",
            "text/plain": [
              "<Figure size 360x360 with 1 Axes>"
            ]
          },
          "metadata": {},
          "output_type": "display_data"
        }
      ],
      "source": [
        "# Plot Ajax Winnings \n",
        "piePlotAjaxStatsWinnings = pd.DataFrame({'Wins Ajax': [len(AjaxWinHome.index), len(AjaxWinAway.index)]},\n",
        "                  index=['Home', 'Away'])\n",
        "plot = piePlotAjaxStatsWinnings.plot.pie(y='Wins Ajax', figsize=(5, 5))\n",
        "\n"
      ]
    },
    {
      "cell_type": "code",
      "execution_count": 498,
      "metadata": {},
      "outputs": [
        {
          "data": {
            "image/png": "[encoded data removed]",
            "text/plain": [
              "<Figure size 360x360 with 1 Axes>"
            ]
          },
          "metadata": {},
          "output_type": "display_data"
        }
      ],
      "source": [
        "# plot Ajax goals\n",
        "piePlotAjaxStatsGoals = pd.DataFrame({'Goals Ajax': [totalAjaxGoalsHome, totalAjaxGoalsAway]},\n",
        "                  index=['Home', 'Away'])\n",
        "plot = piePlotAjaxStatsGoals.plot.pie(y='Goals Ajax', figsize=(5, 5))"
      ]
    },
    {
      "cell_type": "code",
      "execution_count": 499,
      "metadata": {
        "id": "-qsZS8nqNyuI"
      },
      "outputs": [
        {
          "data": {
            "image/png": "[encoded data removed]",
            "text/plain": [
              "<Figure size 360x360 with 1 Axes>"
            ]
          },
          "metadata": {},
          "output_type": "display_data"
        }
      ],
      "source": [
        "# Plot Ajax stats in total\n",
        "piePlotAjaxStatsInTotal = pd.DataFrame({'Ajax Stats when playing in total': [TotalAjaxWinning, TotalAjaxLoses, TotalAjaxDraws]},\n",
        "                  index=['Wins', 'Losses', 'Draws'])\n",
        "plot = piePlotAjaxStatsInTotal.plot.pie(y='Ajax Stats when playing in total', figsize=(5, 5))"
      ]
    },
    {
      "cell_type": "code",
      "execution_count": 500,
      "metadata": {
        "id": "4MviHoUZNyuI"
      },
      "outputs": [],
      "source": [
        "# Ajax Goals Each Season Home\n",
        "EachSeasonAjaxHome = filtered_matches[ (filtered_matches['home'] == 'ajax-amsterdam')]\n",
        "GroupBySeasenHome = EachSeasonAjaxHome.groupby(['saison'])[['home_score','away_score']].sum()"
      ]
    },
    {
      "cell_type": "code",
      "execution_count": 501,
      "metadata": {
        "id": "JRddNMYsNyuI"
      },
      "outputs": [],
      "source": [
        "# Ajax Goals Each Season Away\n",
        "EachSeasonAjaxAway = filtered_matches[ (filtered_matches['away'] == 'ajax-amsterdam')]\n",
        "GroupBySeasenAway = EachSeasonAjaxAway.groupby(['saison'])[['home_score','away_score']].sum()"
      ]
    },
    {
      "cell_type": "code",
      "execution_count": 502,
      "metadata": {
        "id": "Xk02XkEINyuI"
      },
      "outputs": [
        {
          "data": {
            "text/plain": [
              "Text(0, 0.5, 'Goals')"
            ]
          },
          "execution_count": 502,
          "metadata": {},
          "output_type": "execute_result"
        },
        {
          "data": {
            "image/png": "[encoded data removed]",
            "text/plain": [
              "<Figure size 432x288 with 1 Axes>"
            ]
          },
          "metadata": {
            "needs_background": "light"
          },
          "output_type": "display_data"
        }
      ],
      "source": [
        "# make new dataframe in order to aggregate\n",
        "dfAjaxGoalsTotalEachSeason = pd.DataFrame()\n",
        "AjaxAwayGoals= GroupBySeasenAway['away_score']\n",
        "AjaxHomeGoals= GroupBySeasenHome['home_score']\n",
        "dfAjaxGoalsTotalEachSeason['home_goals'] = AjaxHomeGoals\n",
        "dfAjaxGoalsTotalEachSeason[\"away_goals\"] = AjaxAwayGoals\n",
        "\n",
        "# plot Ajax Goals in each Season Total\n",
        "dfAjaxGoalsTotalEachSeasonPlot = pd.DataFrame(dfAjaxGoalsTotalEachSeason)\n",
        "ax = dfAjaxGoalsTotalEachSeasonPlot.plot(lw=2, colormap='jet', kind = 'bar', title='The Ajax goals each season Total')\n",
        "ax.set_xlabel(\"Season\")\n",
        "ax.set_ylabel(\"Goals\")"
      ]
    },
    {
      "cell_type": "markdown",
      "metadata": {},
      "source": [
        "#### Ajax Total Wins"
      ]
    },
    {
      "cell_type": "code",
      "execution_count": 503,
      "metadata": {
        "id": "kpZpFD3wNyuI"
      },
      "outputs": [],
      "source": [
        "# Ajax Wins Each Season Home\n",
        "EachSeasonAjaxWinHome = filtered_matches[(filtered_matches['home'] == 'ajax-amsterdam') & (filtered_matches['home_score'] > filtered_matches['away_score'])]\n",
        "EachSeasonAjaxWinHome.insert(loc=0, column='win', value=1)\n",
        "GroupBySeasenHomeWinsAjax = EachSeasonAjaxWinHome.groupby(['saison'])[['win']].sum()"
      ]
    },
    {
      "cell_type": "code",
      "execution_count": 504,
      "metadata": {
        "id": "NeCXPYVuNyuJ"
      },
      "outputs": [],
      "source": [
        "# Ajax Wins Each Season Away\n",
        "EachSeasonAjaxWinAway = filtered_matches[(filtered_matches['away'] == 'ajax-amsterdam') & (filtered_matches['home_score'] < filtered_matches['away_score'])]\n",
        "EachSeasonAjaxWinAway.insert(loc=0, column='win', value=1)\n",
        "GroupBySeasonAwayWinsAjax = EachSeasonAjaxWinAway.groupby(['saison'])[['win']].sum()\n"
      ]
    },
    {
      "cell_type": "code",
      "execution_count": 505,
      "metadata": {},
      "outputs": [
        {
          "data": {
            "text/plain": [
              "Text(0, 0.5, 'Wins')"
            ]
          },
          "execution_count": 505,
          "metadata": {},
          "output_type": "execute_result"
        },
        {
          "data": {
            "image/png": "[encoded data removed]",
            "text/plain": [
              "<Figure size 432x288 with 1 Axes>"
            ]
          },
          "metadata": {
            "needs_background": "light"
          },
          "output_type": "display_data"
        }
      ],
      "source": [
        "# make new dataframe in order to aggregate\n",
        "dfAjaxTotalWins = pd.DataFrame()\n",
        "AjaxHomeWins= GroupBySeasenHomeWinsAjax['win']\n",
        "AjaxAwayWins= GroupBySeasonAwayWinsAjax['win']\n",
        "dfAjaxTotalWins['wins_home'] = AjaxHomeWins\n",
        "dfAjaxTotalWins['wins_away'] = AjaxAwayWins\n",
        "\n",
        "# plot Ajax Goals in each Season Total\n",
        "df= pd.DataFrame(dfAjaxTotalWins)\n",
        "ax = df.plot(lw=2, colormap='jet', kind = 'bar', title='Ajax Total Wins in the last 10 years')\n",
        "ax.set_xlabel(\"Season\")\n",
        "ax.set_ylabel(\"Wins\")"
      ]
    },
    {
      "cell_type": "markdown",
      "metadata": {
        "id": "qskYpWwPNyuJ"
      },
      "source": [
        "##### PSV General Stats"
      ]
    },
    {
      "cell_type": "code",
      "execution_count": 506,
      "metadata": {
        "id": "c782Fq_fNyuJ"
      },
      "outputs": [],
      "source": [
        "PSVWinHome = filtered_matches[ (filtered_matches['home_score'] > filtered_matches['away_score']) & \n",
        "                                         (filtered_matches['home'] == \"psv-eindhoven\") ]\n",
        "\n",
        "PSVGoalsHomeWin =PSVWinHome['home_score'].sum()\n",
        "AwayGoalsLoseAgaintsPSV =PSVWinHome['away_score'].sum()"
      ]
    },
    {
      "cell_type": "code",
      "execution_count": 507,
      "metadata": {
        "id": "AeoanYvkNyuJ"
      },
      "outputs": [],
      "source": [
        "PSVloseHome = filtered_matches[ (filtered_matches['home_score'] < filtered_matches['away_score']) & \n",
        "                                         (filtered_matches['home'] == \"psv-eindhoven\") ]\n",
        "\n",
        "PSVGoalsHomeLose =PSVloseHome['home_score'].sum()\n",
        "AwayGoalsWonAgaintsPSV =PSVloseHome['away_score'].sum()"
      ]
    },
    {
      "cell_type": "code",
      "execution_count": 508,
      "metadata": {
        "id": "faG6LZ-9NyuJ"
      },
      "outputs": [],
      "source": [
        "PSVDrawHome = filtered_matches[ (filtered_matches['home_score'] == filtered_matches['away_score']) & \n",
        "                                         (filtered_matches['home'] == \"psv-eindhoven\") ]\n",
        "\n",
        "PSVGoalsDraw =PSVDrawHome['home_score'].sum()\n",
        "AwayGoalsDrawPSV =PSVDrawHome['away_score'].sum()\n"
      ]
    },
    {
      "cell_type": "code",
      "execution_count": 509,
      "metadata": {
        "id": "QGsoHIV0NyuJ"
      },
      "outputs": [],
      "source": [
        "# Total PSV Goals Home\n",
        "totalPSVGoalsHome = PSVGoalsHomeWin + PSVGoalsHomeLose + PSVGoalsDraw\n",
        "totalPSVPointsHome = (len(PSVWinHome.index) * 3) + len(PSVDrawHome.index)"
      ]
    },
    {
      "cell_type": "code",
      "execution_count": 510,
      "metadata": {
        "id": "VwQPzqcYNyuK"
      },
      "outputs": [],
      "source": [
        "PSVWinAway = filtered_matches[ (filtered_matches['home_score'] < filtered_matches['away_score']) & \n",
        "                                         (filtered_matches['away'] == \"psv-eindhoven\") ]\n",
        "\n",
        "PSVGoalsAwayWin = PSVWinAway['away_score'].sum()\n",
        "HomeGoalsLoseAgainstPSV = PSVWinAway['home_score'].sum()"
      ]
    },
    {
      "cell_type": "code",
      "execution_count": 511,
      "metadata": {
        "id": "m_KKQs_GNyuK"
      },
      "outputs": [],
      "source": [
        "PSVLoseAway = filtered_matches[ (filtered_matches['home_score'] > filtered_matches['away_score']) & \n",
        "                                         (filtered_matches['away'] == \"psv-eindhoven\") ]\n",
        "\n",
        "PSVGoalsAwayLose = PSVLoseAway['away_score'].sum()\n",
        "HomeGoalsWinAgainstPSV = PSVLoseAway['home_score'].sum()"
      ]
    },
    {
      "cell_type": "code",
      "execution_count": 512,
      "metadata": {
        "id": "ki0AJQ4pNyuK"
      },
      "outputs": [],
      "source": [
        "PSVDrawAway = filtered_matches[ (filtered_matches['home_score'] == filtered_matches['away_score']) & \n",
        "                                         (filtered_matches['away'] == \"psv-eindhoven\") ]\n",
        "\n",
        "PSVGoalsAwayDraw = PSVDrawAway['away_score'].sum()\n",
        "HomeGoalsDrawAgainstPSV = PSVDrawAway['home_score'].sum()\n"
      ]
    },
    {
      "cell_type": "code",
      "execution_count": 513,
      "metadata": {
        "id": "XRjTvaJqNyuK"
      },
      "outputs": [],
      "source": [
        "# Total PSV Goals Away\n",
        "totalPSVGoalsAway = PSVGoalsAwayWin + PSVGoalsAwayLose + PSVGoalsAwayDraw\n",
        "totalPSVPointsAway = (len(PSVWinAway.index) * 3) + len(PSVDrawAway.index)"
      ]
    },
    {
      "cell_type": "code",
      "execution_count": 514,
      "metadata": {
        "id": "o4fmYLuSNyuK"
      },
      "outputs": [],
      "source": [
        "# Total PSV Goals, Winnings, losses and draws\n",
        "TotalPSVGoals = totalPSVGoalsAway + totalPSVGoalsHome\n",
        "\n",
        "# points\n",
        "\n",
        "TotalPSVPoints = totalPSVPointsAway + totalPSVPointsHome\n",
        "\n",
        "\n",
        "# winning\n",
        "TotalPSVWinning = len(PSVWinHome.index) + len(PSVWinAway.index)\n",
        "\n",
        "\n",
        "# losses\n",
        "TotalPSVLoses = len(PSVloseHome.index) + len(PSVLoseAway.index)\n",
        "\n",
        "# Draws\n",
        "TotalPSVDraws = len(PSVDrawHome.index) + len(PSVDrawAway.index)"
      ]
    },
    {
      "cell_type": "code",
      "execution_count": 515,
      "metadata": {
        "id": "TwyyJAQjNyuL"
      },
      "outputs": [
        {
          "data": {
            "image/png": "[encoded data removed]",
            "text/plain": [
              "<Figure size 360x360 with 1 Axes>"
            ]
          },
          "metadata": {},
          "output_type": "display_data"
        }
      ],
      "source": [
        "# Plot PSV Winnings \n",
        "piePlotPSVStatsWinnings = pd.DataFrame({'Wins PSV': [len(PSVWinHome.index), len(PSVWinAway.index)]},\n",
        "                  index=['Home', 'Away'])\n",
        "plot = piePlotPSVStatsWinnings.plot.pie(y='Wins PSV', figsize=(5, 5))\n",
        "\n"
      ]
    },
    {
      "cell_type": "code",
      "execution_count": 516,
      "metadata": {},
      "outputs": [
        {
          "data": {
            "image/png": "[encoded data removed]",
            "text/plain": [
              "<Figure size 360x360 with 1 Axes>"
            ]
          },
          "metadata": {},
          "output_type": "display_data"
        }
      ],
      "source": [
        "# Plot PSV goals\n",
        "piePlotPSVStatsGoals = pd.DataFrame({'Goals PSV': [totalPSVGoalsHome, totalPSVGoalsAway]},\n",
        "                  index=['Home', 'Away'])\n",
        "plot = piePlotPSVStatsGoals.plot.pie(y='Goals PSV', figsize=(5, 5))"
      ]
    },
    {
      "cell_type": "code",
      "execution_count": 517,
      "metadata": {
        "id": "dA_iZQMeNyuL"
      },
      "outputs": [
        {
          "data": {
            "image/png": "[encoded data removed]",
            "text/plain": [
              "<Figure size 360x360 with 1 Axes>"
            ]
          },
          "metadata": {},
          "output_type": "display_data"
        }
      ],
      "source": [
        "# Plot PSV stats in total\n",
        "piePlotPSVStatsInTotal = pd.DataFrame({'PSV Stats when playing in total': [TotalPSVWinning, TotalPSVLoses, TotalPSVDraws]},\n",
        "                  index=['Wins', 'Losses', 'Draws'])\n",
        "plot = piePlotPSVStatsInTotal.plot.pie(y='PSV Stats when playing in total', figsize=(5, 5))"
      ]
    },
    {
      "cell_type": "code",
      "execution_count": 518,
      "metadata": {
        "id": "2bS05Fi2NyuL"
      },
      "outputs": [],
      "source": [
        "# PSV Goals Each Season Home\n",
        "EachSeasonPSV = filtered_matches[ (filtered_matches['home'] == 'psv-eindhoven')]\n",
        "GroupBySeasenHomePSV = EachSeasonPSV.groupby(['saison'])[['home_score','away_score']].sum()\n",
        "AwayTeamGoals_Psv= GroupBySeasenHomePSV['away_score']"
      ]
    },
    {
      "cell_type": "code",
      "execution_count": 519,
      "metadata": {
        "id": "OQHfiEzGNyuL"
      },
      "outputs": [],
      "source": [
        "# PSV Goals Each Season Away\n",
        "EachSeasonPSVAway = filtered_matches[ (filtered_matches['away'] == 'psv-eindhoven')]\n",
        "GroupBySeasenAwayPSV = EachSeasonPSVAway.groupby(['saison'])[['home_score','away_score']].sum()\n",
        "HomeTeamGoals_Psv= GroupBySeasenHomePSV['home_score']"
      ]
    },
    {
      "cell_type": "code",
      "execution_count": 520,
      "metadata": {
        "id": "X3S_5ZiKNyuL"
      },
      "outputs": [
        {
          "data": {
            "text/plain": [
              "Text(0, 0.5, 'Goals')"
            ]
          },
          "execution_count": 520,
          "metadata": {},
          "output_type": "execute_result"
        },
        {
          "data": {
            "image/png": "[encoded data removed]",
            "text/plain": [
              "<Figure size 432x288 with 1 Axes>"
            ]
          },
          "metadata": {
            "needs_background": "light"
          },
          "output_type": "display_data"
        }
      ],
      "source": [
        "# make new dataframe in order to aggregate\n",
        "dfPSVGoalsTotalEachSeason = pd.DataFrame()\n",
        "PSVAwayGoals= GroupBySeasenAwayPSV['away_score']\n",
        "PSVHomeGoals= GroupBySeasenHomePSV['home_score']\n",
        "dfPSVGoalsTotalEachSeason['home_goals'] = PSVHomeGoals\n",
        "dfPSVGoalsTotalEachSeason[\"away_goals\"] = PSVAwayGoals\n",
        "\n",
        "\n",
        "# plot Ajax Goals in each Season Total\n",
        "dfPSVGoalsTotalEachSeasonPlot = pd.DataFrame(dfPSVGoalsTotalEachSeason)\n",
        "ax = dfPSVGoalsTotalEachSeasonPlot.plot(lw=2, colormap='jet', kind = 'bar', title='The PSV goals each season Total')\n",
        "ax.set_xlabel(\"Season\")\n",
        "ax.set_ylabel(\"Goals\")"
      ]
    },
    {
      "cell_type": "markdown",
      "metadata": {},
      "source": [
        "#### PSV Wins"
      ]
    },
    {
      "cell_type": "code",
      "execution_count": 521,
      "metadata": {
        "id": "-QRNdAi6NyuL"
      },
      "outputs": [],
      "source": [
        "# PSV Wins Each Season Home\n",
        "EachSeasonPSVWinHome = filtered_matches[(filtered_matches['home'] == 'psv-eindhoven') & (filtered_matches['home_score'] > filtered_matches['away_score'])]\n",
        "EachSeasonPSVWinHome.insert(loc=0, column='win', value=1)\n",
        "GroupBySeasonHomeWinsPSV = EachSeasonPSVWinHome.groupby(['saison'])[['win']].sum()\n"
      ]
    },
    {
      "cell_type": "code",
      "execution_count": 522,
      "metadata": {
        "id": "Gz198dcINyuL"
      },
      "outputs": [],
      "source": [
        "# PSV Wins Each Season Away\n",
        "EachSeasonPSVAway = filtered_matches[(filtered_matches['away'] == 'psv-eindhoven') & (filtered_matches['home_score'] < filtered_matches['away_score'])]\n",
        "EachSeasonPSVAway.insert(loc=0, column='win', value=1)\n",
        "GroupBySeasonAwayWinsPSV = EachSeasonPSVAway.groupby(['saison'])[['win']].sum()"
      ]
    },
    {
      "cell_type": "code",
      "execution_count": 523,
      "metadata": {
        "id": "3waRC9_rNyuM"
      },
      "outputs": [
        {
          "data": {
            "text/plain": [
              "Text(0, 0.5, 'Win')"
            ]
          },
          "execution_count": 523,
          "metadata": {},
          "output_type": "execute_result"
        },
        {
          "data": {
            "image/png": "[encoded data removed]",
            "text/plain": [
              "<Figure size 432x288 with 1 Axes>"
            ]
          },
          "metadata": {
            "needs_background": "light"
          },
          "output_type": "display_data"
        }
      ],
      "source": [
        "# make new dataframe in order to aggregate\n",
        "dfPSVTotalWinsEachSeason = pd.DataFrame()\n",
        "PSVHomeWins= GroupBySeasonHomeWinsPSV['win']\n",
        "PSVAwayWins= GroupBySeasonAwayWinsPSV['win']\n",
        "dfPSVTotalWinsEachSeason['home_wins'] = PSVHomeWins\n",
        "dfPSVTotalWinsEachSeason[\"away_wins\"] = PSVAwayWins\n",
        "\n",
        "# plot Ajax Goals in each Season Total\n",
        "df = pd.DataFrame(dfPSVTotalWinsEachSeason)\n",
        "ax = df.plot(lw=2, colormap='jet', kind = 'bar', title='PSV wins each season Total')\n",
        "ax.set_xlabel(\"Season\")\n",
        "ax.set_ylabel(\"Win\")"
      ]
    },
    {
      "cell_type": "markdown",
      "metadata": {
        "id": "hJjGn0ZmNyuO"
      },
      "source": [
        "#### PSV Stadion"
      ]
    },
    {
      "cell_type": "code",
      "execution_count": 524,
      "metadata": {
        "id": "VYsy90DwNyuP"
      },
      "outputs": [],
      "source": [
        "PSVWinHomeAgainstAjax = filtered_matches[ (filtered_matches['home_score'] > filtered_matches['away_score']) & \n",
        "                                         (filtered_matches['home'] == \"psv-eindhoven\") &\n",
        "                                         (filtered_matches['away'] == \"ajax-amsterdam\") ]\n",
        "\n",
        "PSVGoalsHomeAgainstAjaxWin = PSVWinHomeAgainstAjax['home_score'].sum()\n",
        "AjaxGoalsAwayAgainstPSVLose = PSVWinHomeAgainstAjax['away_score'].sum()"
      ]
    },
    {
      "cell_type": "code",
      "execution_count": 525,
      "metadata": {
        "id": "IBcWXPkyNyuP"
      },
      "outputs": [],
      "source": [
        "PSVLoseHomeAgainstAjax = filtered_matches[ (filtered_matches['home_score'] < filtered_matches['away_score']) & \n",
        "                                         (filtered_matches['home'] == \"psv-eindhoven\") &\n",
        "                                         (filtered_matches['away'] == \"ajax-amsterdam\") ]\n",
        "\n",
        "PSVGoalsHomeAgainstAjaxLose = PSVLoseHomeAgainstAjax['home_score'].sum()\n",
        "AjaxGoalsAwayAgainstPSVWin = PSVLoseHomeAgainstAjax['away_score'].sum()\n"
      ]
    },
    {
      "cell_type": "code",
      "execution_count": 526,
      "metadata": {
        "id": "1O9BEsmdNyuP"
      },
      "outputs": [],
      "source": [
        "PSVDrawHomeAgainstAjax = filtered_matches[ (filtered_matches['home_score'] == filtered_matches['away_score']) & \n",
        "                                         (filtered_matches['home'] == \"psv-eindhoven\") &\n",
        "                                         (filtered_matches['away'] == \"ajax-amsterdam\") ]\n",
        "\n",
        "PSVGoalsHomeAgainstAjaxDraw = PSVDrawHomeAgainstAjax['home_score'].sum()\n",
        "AjaxGoalsAwayAgainstPSVDraw = PSVDrawHomeAgainstAjax['away_score'].sum()"
      ]
    },
    {
      "cell_type": "code",
      "execution_count": 527,
      "metadata": {
        "id": "VQ54jsXLNyuP"
      },
      "outputs": [],
      "source": [
        "# total Goals and points in PSV stadion\n",
        "totalPSVGoalsVsAjaxHome = PSVGoalsHomeAgainstAjaxWin + PSVGoalsHomeAgainstAjaxLose + PSVGoalsHomeAgainstAjaxDraw\n",
        "\n",
        "totalPSVPointsVsAjaxHome = (len(PSVWinHomeAgainstAjax.index) * 3) + len(PSVDrawHomeAgainstAjax.index)\n",
        "\n",
        "totalAjaxGoalsVsPSVAway = AjaxGoalsAwayAgainstPSVWin + AjaxGoalsAwayAgainstPSVLose + AjaxGoalsAwayAgainstPSVDraw\n",
        "\n",
        "totalAjaxPointsVsPSVAway = (len(PSVLoseHomeAgainstAjax.index) * 3) + len(PSVDrawHomeAgainstAjax.index)"
      ]
    },
    {
      "cell_type": "code",
      "execution_count": 528,
      "metadata": {
        "id": "d0MFKGnqNyuP"
      },
      "outputs": [
        {
          "data": {
            "text/plain": [
              "<AxesSubplot:title={'center':'PSV vs Ajax (PSV) at PSV Stadion'}>"
            ]
          },
          "execution_count": 528,
          "metadata": {},
          "output_type": "execute_result"
        },
        {
          "data": {
            "image/png": "[encoded data removed]",
            "text/plain": [
              "<Figure size 432x288 with 1 Axes>"
            ]
          },
          "metadata": {
            "needs_background": "light"
          },
          "output_type": "display_data"
        }
      ],
      "source": [
        "plotdata = pd.DataFrame({\n",
        "    \"Wins\": len(PSVWinHomeAgainstAjax.index),\n",
        "    \"Loses\": len(PSVLoseHomeAgainstAjax.index),\n",
        "    \"Draws\": len(PSVDrawHomeAgainstAjax.index)\n",
        "    },\n",
        "    index=[''],\n",
        "   \n",
        ")\n",
        "plotdata.plot(kind = 'bar', title =\"PSV vs Ajax (PSV) at PSV Stadion\")"
      ]
    },
    {
      "cell_type": "markdown",
      "metadata": {
        "id": "LtGffZAJNyuP"
      },
      "source": [
        "#### Ajax Stadion"
      ]
    },
    {
      "cell_type": "code",
      "execution_count": 529,
      "metadata": {
        "id": "LEv1-vNuNyuQ"
      },
      "outputs": [],
      "source": [
        "AjaxWinHomeAgainstPSV = filtered_matches[ (filtered_matches['home_score'] > filtered_matches['away_score']) & \n",
        "                                         (filtered_matches['home'] == \"ajax-amsterdam\") &\n",
        "                                         (filtered_matches['away'] == \"psv-eindhoven\") ]\n",
        "\n",
        "AjaxGoalsHomeAgainstPSVWin = AjaxWinHomeAgainstPSV['home_score'].sum()\n",
        "PSVGoalsAwayAgainstAjaxLose = AjaxWinHomeAgainstPSV['away_score'].sum()\n"
      ]
    },
    {
      "cell_type": "code",
      "execution_count": 530,
      "metadata": {
        "id": "mCYGRyn0NyuQ"
      },
      "outputs": [],
      "source": [
        "AjaxLoseHomeAgainstPSV = filtered_matches[ (filtered_matches['home_score'] < filtered_matches['away_score']) & \n",
        "                                         (filtered_matches['home'] == \"ajax-amsterdam\") &\n",
        "                                         (filtered_matches['away'] == \"psv-eindhoven\") ]\n",
        "\n",
        "AjaxGoalsHomeAgainstPSVLose = AjaxLoseHomeAgainstPSV['home_score'].sum()\n",
        "PSVGoalsAwayAgainstAjaxWin = AjaxLoseHomeAgainstPSV['away_score'].sum()"
      ]
    },
    {
      "cell_type": "code",
      "execution_count": 531,
      "metadata": {
        "id": "tr4jNFK9NyuQ"
      },
      "outputs": [],
      "source": [
        "AjaxDrawHomeAgainstPSV = filtered_matches[ (filtered_matches['home_score'] == filtered_matches['away_score']) & \n",
        "                                         (filtered_matches['home'] == \"ajax-amsterdam\") &\n",
        "                                         (filtered_matches['away'] == \"psv-eindhoven\") ]\n",
        "\n",
        "AjaxGoalsHomeAgainstPSVDraw = AjaxDrawHomeAgainstPSV['home_score'].sum()\n",
        "PSVGoalsAwayAgainstAjaxDraw = AjaxDrawHomeAgainstPSV['away_score'].sum()\n"
      ]
    },
    {
      "cell_type": "code",
      "execution_count": 532,
      "metadata": {
        "id": "3cF6X8tDNyuQ"
      },
      "outputs": [],
      "source": [
        "# total Goals and points in Ajax stadion\n",
        "totalAjaxGoalsVsPSVHome = AjaxGoalsHomeAgainstPSVWin + AjaxGoalsHomeAgainstPSVLose + AjaxGoalsHomeAgainstPSVDraw\n",
        "\n",
        "totalAjaxPointsVsPSVHome = (len(AjaxWinHomeAgainstPSV.index) * 3) + len(AjaxDrawHomeAgainstPSV.index)\n",
        "\n",
        "totalPSVGoalsVsAjaxAway = PSVGoalsAwayAgainstAjaxWin + PSVGoalsAwayAgainstAjaxLose + PSVGoalsAwayAgainstAjaxDraw\n",
        "\n",
        "totalPSVPointsVsAjaxAway = (len(AjaxLoseHomeAgainstPSV.index) * 3) + len(AjaxDrawHomeAgainstPSV.index)"
      ]
    },
    {
      "cell_type": "code",
      "execution_count": 533,
      "metadata": {
        "id": "jb-X8CJ8NyuQ"
      },
      "outputs": [
        {
          "data": {
            "text/plain": [
              "<AxesSubplot:title={'center':'PSV vs Ajax (Ajax) at Ajax Stadion'}>"
            ]
          },
          "execution_count": 533,
          "metadata": {},
          "output_type": "execute_result"
        },
        {
          "data": {
            "image/png": "[encoded data removed]",
            "text/plain": [
              "<Figure size 432x288 with 1 Axes>"
            ]
          },
          "metadata": {
            "needs_background": "light"
          },
          "output_type": "display_data"
        }
      ],
      "source": [
        "plotdata = pd.DataFrame({\n",
        "    \"Wins\": len(AjaxWinHomeAgainstPSV.index),\n",
        "    \"Loses\": len(AjaxLoseHomeAgainstPSV.index),\n",
        "    \"Draws\": len(AjaxDrawHomeAgainstPSV.index)\n",
        "    },\n",
        "    index=[''],\n",
        "   \n",
        ")\n",
        "plotdata.plot(kind = 'bar', title =\"PSV vs Ajax (Ajax) at Ajax Stadion\")"
      ]
    },
    {
      "cell_type": "code",
      "execution_count": 534,
      "metadata": {
        "id": "DwAFRE7-NyuQ"
      },
      "outputs": [],
      "source": [
        "# total goals, points, winnings, losses and draws for each time\n",
        "# Goals\n",
        "TotalGoalsAjaxVSPSV = totalAjaxGoalsVsPSVAway + totalAjaxGoalsVsPSVHome \n",
        "\n",
        "TotalGoalsPsvVSAjax = totalPSVGoalsVsAjaxHome + totalPSVGoalsVsAjaxAway \n",
        "\n",
        "# Points\n",
        "TotalPointsAjaxVSPSV = totalAjaxPointsVsPSVHome + totalAjaxPointsVsPSVAway\n",
        "\n",
        "TotalPointsPsvVSAjax = totalPSVPointsVsAjaxHome + totalPSVPointsVsAjaxAway\n",
        "\n",
        "# Winnings\n",
        "TotalWinningsAjaxVSPSV = len(PSVLoseHomeAgainstAjax.index) + len(AjaxWinHomeAgainstPSV.index)\n",
        "\n",
        "TotalWinningsPsvVSAjax = len(AjaxLoseHomeAgainstPSV.index) + len(PSVWinHomeAgainstAjax.index)\n",
        "\n",
        "# losses\n",
        "TotalLossesAjaxVSPSV = len(AjaxLoseHomeAgainstPSV.index) + len(PSVWinHomeAgainstAjax.index)\n",
        "\n",
        "TotalLossesPsvVSAjax = len(PSVLoseHomeAgainstAjax.index) + len(AjaxWinHomeAgainstPSV.index)\n",
        "\n",
        "# Draws\n",
        "TotalDrawssAjaxVSPSV = len(AjaxDrawHomeAgainstPSV.index) + len(PSVDrawHomeAgainstAjax.index)\n",
        "\n",
        "TotalDrawsPsvVSAjax = len(AjaxDrawHomeAgainstPSV.index) + len(PSVDrawHomeAgainstAjax.index)\n"
      ]
    },
    {
      "cell_type": "code",
      "execution_count": 535,
      "metadata": {
        "id": "rCw5Mk-iNyuQ"
      },
      "outputs": [
        {
          "data": {
            "text/plain": [
              "<AxesSubplot:title={'center':'PSV vs Ajax Goals in total'}>"
            ]
          },
          "execution_count": 535,
          "metadata": {},
          "output_type": "execute_result"
        },
        {
          "data": {
            "image/png": "[encoded data removed]",
            "text/plain": [
              "<Figure size 432x288 with 1 Axes>"
            ]
          },
          "metadata": {
            "needs_background": "light"
          },
          "output_type": "display_data"
        }
      ],
      "source": [
        "plotdata = pd.DataFrame({\n",
        "    \"Ajax\": TotalGoalsAjaxVSPSV,\n",
        "    \"PSV\": TotalGoalsPsvVSAjax\n",
        "    },\n",
        "    index=['Goals'],\n",
        "   \n",
        ")\n",
        "plotdata.plot(kind = 'bar', title =\"PSV vs Ajax Goals in total\")"
      ]
    },
    {
      "cell_type": "code",
      "execution_count": 536,
      "metadata": {
        "id": "E1pvvE6jNyuR"
      },
      "outputs": [
        {
          "data": {
            "text/plain": [
              "<AxesSubplot:title={'center':'PSV vs Ajax Points in total'}>"
            ]
          },
          "execution_count": 536,
          "metadata": {},
          "output_type": "execute_result"
        },
        {
          "data": {
            "image/png": "[encoded data removed]",
            "text/plain": [
              "<Figure size 432x288 with 1 Axes>"
            ]
          },
          "metadata": {
            "needs_background": "light"
          },
          "output_type": "display_data"
        }
      ],
      "source": [
        "plotdata = pd.DataFrame({\n",
        "    \"Ajax\": TotalPointsAjaxVSPSV,\n",
        "    \"PSV\": TotalPointsPsvVSAjax\n",
        "    },\n",
        "    index=['Points'],\n",
        "   \n",
        ")\n",
        "plotdata.plot(kind = 'bar', title =\"PSV vs Ajax Points in total\")"
      ]
    },
    {
      "cell_type": "markdown",
      "metadata": {
        "id": "GZ3pt9khOA-9"
      },
      "source": [
        "# Final Result"
      ]
    },
    {
      "cell_type": "code",
      "execution_count": 537,
      "metadata": {
        "id": "snC7UUC2NyuS"
      },
      "outputs": [
        {
          "data": {
            "text/html": [
              "<div>\n",
              "<style scoped>\n",
              "    .dataframe tbody tr th:only-of-type {\n",
              "        vertical-align: middle;\n",
              "    }\n",
              "\n",
              "    .dataframe tbody tr th {\n",
              "        vertical-align: top;\n",
              "    }\n",
              "\n",
              "    .dataframe thead th {\n",
              "        text-align: right;\n",
              "    }\n",
              "</style>\n",
              "<table border=\"1\" class=\"dataframe\">\n",
              "  <thead>\n",
              "    <tr style=\"text-align: right;\">\n",
              "      <th></th>\n",
              "      <th>home_goals</th>\n",
              "      <th>away_goals</th>\n",
              "      <th>yellow_home</th>\n",
              "      <th>yellow_away</th>\n",
              "      <th>red_home</th>\n",
              "      <th>red_away</th>\n",
              "      <th>win_home</th>\n",
              "      <th>win_away</th>\n",
              "      <th>win_total</th>\n",
              "    </tr>\n",
              "    <tr>\n",
              "      <th>saison</th>\n",
              "      <th></th>\n",
              "      <th></th>\n",
              "      <th></th>\n",
              "      <th></th>\n",
              "      <th></th>\n",
              "      <th></th>\n",
              "      <th></th>\n",
              "      <th></th>\n",
              "      <th></th>\n",
              "    </tr>\n",
              "  </thead>\n",
              "  <tbody>\n",
              "    <tr>\n",
              "      <th>2012</th>\n",
              "      <td>49</td>\n",
              "      <td>44</td>\n",
              "      <td>43</td>\n",
              "      <td>51</td>\n",
              "      <td>4</td>\n",
              "      <td>5</td>\n",
              "      <td>12</td>\n",
              "      <td>11</td>\n",
              "      <td>23</td>\n",
              "    </tr>\n",
              "    <tr>\n",
              "      <th>2013</th>\n",
              "      <td>40</td>\n",
              "      <td>43</td>\n",
              "      <td>27</td>\n",
              "      <td>43</td>\n",
              "      <td>2</td>\n",
              "      <td>2</td>\n",
              "      <td>11</td>\n",
              "      <td>11</td>\n",
              "      <td>22</td>\n",
              "    </tr>\n",
              "    <tr>\n",
              "      <th>2014</th>\n",
              "      <td>42</td>\n",
              "      <td>26</td>\n",
              "      <td>52</td>\n",
              "      <td>37</td>\n",
              "      <td>1</td>\n",
              "      <td>2</td>\n",
              "      <td>13</td>\n",
              "      <td>7</td>\n",
              "      <td>20</td>\n",
              "    </tr>\n",
              "    <tr>\n",
              "      <th>2015</th>\n",
              "      <td>37</td>\n",
              "      <td>32</td>\n",
              "      <td>37</td>\n",
              "      <td>46</td>\n",
              "      <td>3</td>\n",
              "      <td>3</td>\n",
              "      <td>12</td>\n",
              "      <td>9</td>\n",
              "      <td>21</td>\n",
              "    </tr>\n",
              "    <tr>\n",
              "      <th>2016</th>\n",
              "      <td>49</td>\n",
              "      <td>32</td>\n",
              "      <td>31</td>\n",
              "      <td>66</td>\n",
              "      <td>1</td>\n",
              "      <td>1</td>\n",
              "      <td>13</td>\n",
              "      <td>12</td>\n",
              "      <td>25</td>\n",
              "    </tr>\n",
              "    <tr>\n",
              "      <th>2017</th>\n",
              "      <td>48</td>\n",
              "      <td>31</td>\n",
              "      <td>44</td>\n",
              "      <td>53</td>\n",
              "      <td>3</td>\n",
              "      <td>3</td>\n",
              "      <td>14</td>\n",
              "      <td>11</td>\n",
              "      <td>25</td>\n",
              "    </tr>\n",
              "    <tr>\n",
              "      <th>2018</th>\n",
              "      <td>45</td>\n",
              "      <td>44</td>\n",
              "      <td>54</td>\n",
              "      <td>58</td>\n",
              "      <td>2</td>\n",
              "      <td>4</td>\n",
              "      <td>14</td>\n",
              "      <td>11</td>\n",
              "      <td>25</td>\n",
              "    </tr>\n",
              "    <tr>\n",
              "      <th>2019</th>\n",
              "      <td>70</td>\n",
              "      <td>49</td>\n",
              "      <td>45</td>\n",
              "      <td>50</td>\n",
              "      <td>2</td>\n",
              "      <td>0</td>\n",
              "      <td>15</td>\n",
              "      <td>13</td>\n",
              "      <td>28</td>\n",
              "    </tr>\n",
              "    <tr>\n",
              "      <th>2020</th>\n",
              "      <td>40</td>\n",
              "      <td>28</td>\n",
              "      <td>27</td>\n",
              "      <td>47</td>\n",
              "      <td>0</td>\n",
              "      <td>0</td>\n",
              "      <td>11</td>\n",
              "      <td>7</td>\n",
              "      <td>18</td>\n",
              "    </tr>\n",
              "    <tr>\n",
              "      <th>2021</th>\n",
              "      <td>53</td>\n",
              "      <td>49</td>\n",
              "      <td>32</td>\n",
              "      <td>32</td>\n",
              "      <td>3</td>\n",
              "      <td>3</td>\n",
              "      <td>14</td>\n",
              "      <td>14</td>\n",
              "      <td>28</td>\n",
              "    </tr>\n",
              "    <tr>\n",
              "      <th>2022</th>\n",
              "      <td>54</td>\n",
              "      <td>32</td>\n",
              "      <td>33</td>\n",
              "      <td>42</td>\n",
              "      <td>0</td>\n",
              "      <td>0</td>\n",
              "      <td>12</td>\n",
              "      <td>12</td>\n",
              "      <td>24</td>\n",
              "    </tr>\n",
              "  </tbody>\n",
              "</table>\n",
              "</div>"
            ],
            "text/plain": [
              "        home_goals  away_goals  yellow_home  yellow_away  red_home  red_away  \\\n",
              "saison                                                                         \n",
              "2012            49          44           43           51         4         5   \n",
              "2013            40          43           27           43         2         2   \n",
              "2014            42          26           52           37         1         2   \n",
              "2015            37          32           37           46         3         3   \n",
              "2016            49          32           31           66         1         1   \n",
              "2017            48          31           44           53         3         3   \n",
              "2018            45          44           54           58         2         4   \n",
              "2019            70          49           45           50         2         0   \n",
              "2020            40          28           27           47         0         0   \n",
              "2021            53          49           32           32         3         3   \n",
              "2022            54          32           33           42         0         0   \n",
              "\n",
              "        win_home  win_away  win_total  \n",
              "saison                                 \n",
              "2012          12        11         23  \n",
              "2013          11        11         22  \n",
              "2014          13         7         20  \n",
              "2015          12         9         21  \n",
              "2016          13        12         25  \n",
              "2017          14        11         25  \n",
              "2018          14        11         25  \n",
              "2019          15        13         28  \n",
              "2020          11         7         18  \n",
              "2021          14        14         28  \n",
              "2022          12        12         24  "
            ]
          },
          "execution_count": 537,
          "metadata": {},
          "output_type": "execute_result"
        }
      ],
      "source": [
        "# the final result Ajax\n",
        "finalResultAjax = pd.DataFrame()\n",
        "finalResultAjax['home_goals'] = AjaxHomeGoals\n",
        "finalResultAjax[\"away_goals\"] = AjaxAwayGoals\n",
        "finalResultAjax['yellow_home'] = AjaxHomeYellowCards\n",
        "finalResultAjax[\"yellow_away\"] = AjaxAwayYellowCards\n",
        "finalResultAjax['red_home'] = AjaxHomeRedCards\n",
        "finalResultAjax[\"red_away\"] = AjaxAwayRedCards\n",
        "finalResultAjax[\"win_home\"] = GroupBySeasenHomeWinsAjax\n",
        "finalResultAjax[\"win_away\"] = GroupBySeasonAwayWinsAjax\n",
        "finalResultAjax[\"win_total\"] = GroupBySeasonAwayWinsAjax + GroupBySeasenHomeWinsAjax\n",
        "finalResultAjax['red_home'] = finalResultAjax['red_home'].fillna(0).astype(int)\n",
        "finalResultAjax['red_away'] = finalResultAjax['red_away'].fillna(0).astype(int)\n",
        "finalResultAjax"
      ]
    },
    {
      "cell_type": "code",
      "execution_count": 538,
      "metadata": {
        "id": "QH6GjWRyNyuS"
      },
      "outputs": [
        {
          "data": {
            "text/html": [
              "<div>\n",
              "<style scoped>\n",
              "    .dataframe tbody tr th:only-of-type {\n",
              "        vertical-align: middle;\n",
              "    }\n",
              "\n",
              "    .dataframe tbody tr th {\n",
              "        vertical-align: top;\n",
              "    }\n",
              "\n",
              "    .dataframe thead th {\n",
              "        text-align: right;\n",
              "    }\n",
              "</style>\n",
              "<table border=\"1\" class=\"dataframe\">\n",
              "  <thead>\n",
              "    <tr style=\"text-align: right;\">\n",
              "      <th></th>\n",
              "      <th>home_goals</th>\n",
              "      <th>enemey_away_goals</th>\n",
              "      <th>away_goals</th>\n",
              "      <th>enemey_home_goals</th>\n",
              "      <th>yellow_home</th>\n",
              "      <th>yellow_away</th>\n",
              "      <th>red_home</th>\n",
              "      <th>red_away</th>\n",
              "      <th>win_home</th>\n",
              "      <th>win_away</th>\n",
              "      <th>win_total</th>\n",
              "    </tr>\n",
              "    <tr>\n",
              "      <th>saison</th>\n",
              "      <th></th>\n",
              "      <th></th>\n",
              "      <th></th>\n",
              "      <th></th>\n",
              "      <th></th>\n",
              "      <th></th>\n",
              "      <th></th>\n",
              "      <th></th>\n",
              "      <th></th>\n",
              "      <th></th>\n",
              "      <th></th>\n",
              "    </tr>\n",
              "  </thead>\n",
              "  <tbody>\n",
              "    <tr>\n",
              "      <th>2012</th>\n",
              "      <td>57</td>\n",
              "      <td>20</td>\n",
              "      <td>30</td>\n",
              "      <td>57</td>\n",
              "      <td>55</td>\n",
              "      <td>63</td>\n",
              "      <td>4</td>\n",
              "      <td>7</td>\n",
              "      <td>15</td>\n",
              "      <td>6</td>\n",
              "      <td>21</td>\n",
              "    </tr>\n",
              "    <tr>\n",
              "      <th>2013</th>\n",
              "      <td>58</td>\n",
              "      <td>17</td>\n",
              "      <td>45</td>\n",
              "      <td>58</td>\n",
              "      <td>48</td>\n",
              "      <td>47</td>\n",
              "      <td>4</td>\n",
              "      <td>6</td>\n",
              "      <td>14</td>\n",
              "      <td>8</td>\n",
              "      <td>22</td>\n",
              "    </tr>\n",
              "    <tr>\n",
              "      <th>2014</th>\n",
              "      <td>34</td>\n",
              "      <td>18</td>\n",
              "      <td>26</td>\n",
              "      <td>34</td>\n",
              "      <td>44</td>\n",
              "      <td>49</td>\n",
              "      <td>3</td>\n",
              "      <td>3</td>\n",
              "      <td>11</td>\n",
              "      <td>7</td>\n",
              "      <td>18</td>\n",
              "    </tr>\n",
              "    <tr>\n",
              "      <th>2015</th>\n",
              "      <td>50</td>\n",
              "      <td>12</td>\n",
              "      <td>42</td>\n",
              "      <td>50</td>\n",
              "      <td>38</td>\n",
              "      <td>37</td>\n",
              "      <td>3</td>\n",
              "      <td>7</td>\n",
              "      <td>16</td>\n",
              "      <td>13</td>\n",
              "      <td>29</td>\n",
              "    </tr>\n",
              "    <tr>\n",
              "      <th>2016</th>\n",
              "      <td>41</td>\n",
              "      <td>16</td>\n",
              "      <td>47</td>\n",
              "      <td>41</td>\n",
              "      <td>69</td>\n",
              "      <td>46</td>\n",
              "      <td>2</td>\n",
              "      <td>1</td>\n",
              "      <td>13</td>\n",
              "      <td>13</td>\n",
              "      <td>26</td>\n",
              "    </tr>\n",
              "    <tr>\n",
              "      <th>2017</th>\n",
              "      <td>35</td>\n",
              "      <td>9</td>\n",
              "      <td>33</td>\n",
              "      <td>35</td>\n",
              "      <td>46</td>\n",
              "      <td>35</td>\n",
              "      <td>0</td>\n",
              "      <td>1</td>\n",
              "      <td>13</td>\n",
              "      <td>9</td>\n",
              "      <td>22</td>\n",
              "    </tr>\n",
              "    <tr>\n",
              "      <th>2018</th>\n",
              "      <td>44</td>\n",
              "      <td>9</td>\n",
              "      <td>43</td>\n",
              "      <td>44</td>\n",
              "      <td>54</td>\n",
              "      <td>52</td>\n",
              "      <td>8</td>\n",
              "      <td>3</td>\n",
              "      <td>15</td>\n",
              "      <td>11</td>\n",
              "      <td>26</td>\n",
              "    </tr>\n",
              "    <tr>\n",
              "      <th>2019</th>\n",
              "      <td>58</td>\n",
              "      <td>7</td>\n",
              "      <td>40</td>\n",
              "      <td>58</td>\n",
              "      <td>61</td>\n",
              "      <td>47</td>\n",
              "      <td>2</td>\n",
              "      <td>4</td>\n",
              "      <td>16</td>\n",
              "      <td>10</td>\n",
              "      <td>26</td>\n",
              "    </tr>\n",
              "    <tr>\n",
              "      <th>2020</th>\n",
              "      <td>32</td>\n",
              "      <td>12</td>\n",
              "      <td>22</td>\n",
              "      <td>32</td>\n",
              "      <td>31</td>\n",
              "      <td>44</td>\n",
              "      <td>1</td>\n",
              "      <td>2</td>\n",
              "      <td>8</td>\n",
              "      <td>6</td>\n",
              "      <td>14</td>\n",
              "    </tr>\n",
              "    <tr>\n",
              "      <th>2021</th>\n",
              "      <td>39</td>\n",
              "      <td>13</td>\n",
              "      <td>35</td>\n",
              "      <td>39</td>\n",
              "      <td>45</td>\n",
              "      <td>32</td>\n",
              "      <td>2</td>\n",
              "      <td>0</td>\n",
              "      <td>13</td>\n",
              "      <td>8</td>\n",
              "      <td>21</td>\n",
              "    </tr>\n",
              "    <tr>\n",
              "      <th>2022</th>\n",
              "      <td>42</td>\n",
              "      <td>18</td>\n",
              "      <td>33</td>\n",
              "      <td>42</td>\n",
              "      <td>37</td>\n",
              "      <td>49</td>\n",
              "      <td>1</td>\n",
              "      <td>1</td>\n",
              "      <td>12</td>\n",
              "      <td>11</td>\n",
              "      <td>23</td>\n",
              "    </tr>\n",
              "  </tbody>\n",
              "</table>\n",
              "</div>"
            ],
            "text/plain": [
              "        home_goals  enemey_away_goals  away_goals  enemey_home_goals  \\\n",
              "saison                                                                 \n",
              "2012            57                 20          30                 57   \n",
              "2013            58                 17          45                 58   \n",
              "2014            34                 18          26                 34   \n",
              "2015            50                 12          42                 50   \n",
              "2016            41                 16          47                 41   \n",
              "2017            35                  9          33                 35   \n",
              "2018            44                  9          43                 44   \n",
              "2019            58                  7          40                 58   \n",
              "2020            32                 12          22                 32   \n",
              "2021            39                 13          35                 39   \n",
              "2022            42                 18          33                 42   \n",
              "\n",
              "        yellow_home  yellow_away  red_home  red_away  win_home  win_away  \\\n",
              "saison                                                                     \n",
              "2012             55           63         4         7        15         6   \n",
              "2013             48           47         4         6        14         8   \n",
              "2014             44           49         3         3        11         7   \n",
              "2015             38           37         3         7        16        13   \n",
              "2016             69           46         2         1        13        13   \n",
              "2017             46           35         0         1        13         9   \n",
              "2018             54           52         8         3        15        11   \n",
              "2019             61           47         2         4        16        10   \n",
              "2020             31           44         1         2         8         6   \n",
              "2021             45           32         2         0        13         8   \n",
              "2022             37           49         1         1        12        11   \n",
              "\n",
              "        win_total  \n",
              "saison             \n",
              "2012           21  \n",
              "2013           22  \n",
              "2014           18  \n",
              "2015           29  \n",
              "2016           26  \n",
              "2017           22  \n",
              "2018           26  \n",
              "2019           26  \n",
              "2020           14  \n",
              "2021           21  \n",
              "2022           23  "
            ]
          },
          "execution_count": 538,
          "metadata": {},
          "output_type": "execute_result"
        }
      ],
      "source": [
        "# the final result PSV   AwayTeamGoals_Psv\n",
        "finalResultPSV = pd.DataFrame()\n",
        "finalResultPSV['home_goals'] = PSVHomeGoals\n",
        "finalResultPSV['enemey_away_goals'] = AwayTeamGoals_Psv\n",
        "finalResultPSV[\"away_goals\"] = PSVAwayGoals\n",
        "finalResultPSV[\"enemey_home_goals\"] = HomeTeamGoals_Psv\n",
        "finalResultPSV['yellow_home'] = PSVHomeYellowCards\n",
        "finalResultPSV[\"yellow_away\"] = PSVAwayYellowCards\n",
        "finalResultPSV['red_home'] = PSVHomeRedCards\n",
        "finalResultPSV[\"red_away\"] = PSVAwayRedCards\n",
        "finalResultPSV[\"win_home\"] = GroupBySeasonHomeWinsPSV\n",
        "finalResultPSV[\"win_away\"] = GroupBySeasonAwayWinsPSV\n",
        "finalResultPSV[\"win_total\"] = GroupBySeasonHomeWinsPSV + GroupBySeasonAwayWinsPSV\n",
        "finalResultPSV['red_home'] = finalResultPSV['red_home'].fillna(0).astype(int)\n",
        "finalResultPSV['red_away'] = finalResultPSV['red_away'].fillna(0).astype(int)\n",
        "finalResultPSV"
      ]
    },
    {
      "cell_type": "markdown",
      "metadata": {},
      "source": [
        "# Prediction"
      ]
    },
    {
      "cell_type": "code",
      "execution_count": 539,
      "metadata": {},
      "outputs": [
        {
          "name": "stdout",
          "output_type": "stream",
          "text": [
            "0.6564750806227103\n"
          ]
        },
        {
          "data": {
            "text/plain": [
              "array([2.470158])"
            ]
          },
          "execution_count": 539,
          "metadata": {},
          "output_type": "execute_result"
        }
      ],
      "source": [
        "from sklearn.linear_model import LinearRegression\n",
        "# X = finalResultPSV[[\"home_goals\", \"away_goals\", \"yellow_home\", \"yellow_away\", \"red_home\", \"red_away\"]]\n",
        "X = finalResultPSV[[\"away_goals\",\"enemey_home_goals\", \"yellow_away\", \"red_away\"]]\n",
        "y = finalResultPSV[\"win_away\"]\n",
        "reg = LinearRegression().fit(X, y)\n",
        "acc= reg.score(X, y)\n",
        "print(acc)\n",
        "coe = reg.coef_\n",
        "reg.intercept_\n",
        "reg.predict([[0, 10 , 14, 2]])"
      ]
    },
    {
      "cell_type": "code",
      "execution_count": 540,
      "metadata": {},
      "outputs": [],
      "source": [
        "# from sklearn.tree import DecisionTreeClassifier # Import Decision Tree Classifier\n",
        "# from sklearn.model_selection import train_test_split # Import train_test_split function\n",
        "# from sklearn import metrics #Import scikit-learn metrics module for accuracy calculation\n",
        "\n",
        "# X = finalResultPSV[[\"away_goals\", \"yellow_away\", \"red_away\"]] #features\n",
        "# y = finalResultPSV[\"win_total\"] #target\n",
        "\n",
        "# # Split dataset into training set and test set\n",
        "# X_train, X_test, y_train, y_test = train_test_split(X, y, test_size=0.5, random_state=1) # 70% training and 30% test\n",
        "\n",
        "\n",
        "# # Create Decision Tree classifer object\n",
        "# clf = DecisionTreeClassifier()\n",
        "\n",
        "# # Train Decision Tree Classifer\n",
        "# clf = clf.fit(X_train,y_train)\n",
        "\n",
        "# #Predict the response for test dataset\n",
        "# y_pred = clf.predict(X_test)\n",
        "\n",
        "# print(y_pred)\n",
        "\n",
        "\n",
        "# # Model Accuracy, how often is the classifier correct?\n",
        "# print(\"Accuracy:\",metrics.accuracy_score(y_test, y_pred))\n"
      ]
    },
    {
      "cell_type": "code",
      "execution_count": 541,
      "metadata": {},
      "outputs": [],
      "source": [
        "from sklearn.preprocessing import LabelEncoder\n",
        "from sklearn import tree\n",
        "from sklearn.model_selection import train_test_split\n",
        "\n",
        "ajax_home_team_label = LabelEncoder()\n",
        "ajax_away_team_label = LabelEncoder()\n"
      ]
    },
    {
      "cell_type": "code",
      "execution_count": 542,
      "metadata": {},
      "outputs": [],
      "source": [
        "#Function used for the matches:\n",
        "def ClassifyMatches(row):\n",
        "    if(row.home_score > row.away_score):\n",
        "        return f\"{row.home_team} win \"\n",
        "    elif(row.home_score < row.away_score):\n",
        "        return f\"{row.home_team} lose\"\n",
        "    else:\n",
        "        return f\"{row.home_team} draw\""
      ]
    },
    {
      "cell_type": "code",
      "execution_count": 543,
      "metadata": {},
      "outputs": [
        {
          "data": {
            "text/html": [
              "<div>\n",
              "<style scoped>\n",
              "    .dataframe tbody tr th:only-of-type {\n",
              "        vertical-align: middle;\n",
              "    }\n",
              "\n",
              "    .dataframe tbody tr th {\n",
              "        vertical-align: top;\n",
              "    }\n",
              "\n",
              "    .dataframe thead th {\n",
              "        text-align: right;\n",
              "    }\n",
              "</style>\n",
              "<table border=\"1\" class=\"dataframe\">\n",
              "  <thead>\n",
              "    <tr style=\"text-align: right;\">\n",
              "      <th></th>\n",
              "      <th>home_team</th>\n",
              "      <th>away_team</th>\n",
              "      <th>home_score</th>\n",
              "      <th>away_score</th>\n",
              "      <th>winning_team</th>\n",
              "      <th>home_team_nr</th>\n",
              "      <th>away_team_nr</th>\n",
              "    </tr>\n",
              "  </thead>\n",
              "  <tbody>\n",
              "    <tr>\n",
              "      <th>16583</th>\n",
              "      <td>ajax-amsterdam</td>\n",
              "      <td>ado-den-haag</td>\n",
              "      <td>4</td>\n",
              "      <td>0</td>\n",
              "      <td>ajax-amsterdam win</td>\n",
              "      <td>0</td>\n",
              "      <td>0</td>\n",
              "    </tr>\n",
              "    <tr>\n",
              "      <th>16584</th>\n",
              "      <td>ajax-amsterdam</td>\n",
              "      <td>az-alkmaar</td>\n",
              "      <td>2</td>\n",
              "      <td>2</td>\n",
              "      <td>ajax-amsterdam draw</td>\n",
              "      <td>0</td>\n",
              "      <td>1</td>\n",
              "    </tr>\n",
              "    <tr>\n",
              "      <th>16585</th>\n",
              "      <td>ajax-amsterdam</td>\n",
              "      <td>de-graafschap</td>\n",
              "      <td>3</td>\n",
              "      <td>1</td>\n",
              "      <td>ajax-amsterdam win</td>\n",
              "      <td>0</td>\n",
              "      <td>3</td>\n",
              "    </tr>\n",
              "    <tr>\n",
              "      <th>16586</th>\n",
              "      <td>ajax-amsterdam</td>\n",
              "      <td>fc-groningen</td>\n",
              "      <td>2</td>\n",
              "      <td>0</td>\n",
              "      <td>ajax-amsterdam win</td>\n",
              "      <td>0</td>\n",
              "      <td>6</td>\n",
              "    </tr>\n",
              "    <tr>\n",
              "      <th>16587</th>\n",
              "      <td>ajax-amsterdam</td>\n",
              "      <td>fc-twente</td>\n",
              "      <td>1</td>\n",
              "      <td>1</td>\n",
              "      <td>ajax-amsterdam draw</td>\n",
              "      <td>0</td>\n",
              "      <td>7</td>\n",
              "    </tr>\n",
              "    <tr>\n",
              "      <th>...</th>\n",
              "      <td>...</td>\n",
              "      <td>...</td>\n",
              "      <td>...</td>\n",
              "      <td>...</td>\n",
              "      <td>...</td>\n",
              "      <td>...</td>\n",
              "      <td>...</td>\n",
              "    </tr>\n",
              "    <tr>\n",
              "      <th>19635</th>\n",
              "      <td>ajax-amsterdam</td>\n",
              "      <td>rkc-waalwijk</td>\n",
              "      <td>3</td>\n",
              "      <td>2</td>\n",
              "      <td>ajax-amsterdam win</td>\n",
              "      <td>0</td>\n",
              "      <td>17</td>\n",
              "    </tr>\n",
              "    <tr>\n",
              "      <th>19636</th>\n",
              "      <td>ajax-amsterdam</td>\n",
              "      <td>cambuur-leeuwarden</td>\n",
              "      <td>9</td>\n",
              "      <td>0</td>\n",
              "      <td>ajax-amsterdam win</td>\n",
              "      <td>0</td>\n",
              "      <td>2</td>\n",
              "    </tr>\n",
              "    <tr>\n",
              "      <th>19638</th>\n",
              "      <td>ajax-amsterdam</td>\n",
              "      <td>sparta-rotterdam</td>\n",
              "      <td>2</td>\n",
              "      <td>1</td>\n",
              "      <td>ajax-amsterdam win</td>\n",
              "      <td>0</td>\n",
              "      <td>21</td>\n",
              "    </tr>\n",
              "    <tr>\n",
              "      <th>19639</th>\n",
              "      <td>ajax-amsterdam</td>\n",
              "      <td>vitesse-arnhem</td>\n",
              "      <td>5</td>\n",
              "      <td>0</td>\n",
              "      <td>ajax-amsterdam win</td>\n",
              "      <td>0</td>\n",
              "      <td>22</td>\n",
              "    </tr>\n",
              "    <tr>\n",
              "      <th>19640</th>\n",
              "      <td>ajax-amsterdam</td>\n",
              "      <td>willem-ii-tilburg</td>\n",
              "      <td>5</td>\n",
              "      <td>0</td>\n",
              "      <td>ajax-amsterdam win</td>\n",
              "      <td>0</td>\n",
              "      <td>24</td>\n",
              "    </tr>\n",
              "  </tbody>\n",
              "</table>\n",
              "<p>181 rows × 7 columns</p>\n",
              "</div>"
            ],
            "text/plain": [
              "            home_team           away_team  home_score  away_score  \\\n",
              "16583  ajax-amsterdam        ado-den-haag           4           0   \n",
              "16584  ajax-amsterdam          az-alkmaar           2           2   \n",
              "16585  ajax-amsterdam       de-graafschap           3           1   \n",
              "16586  ajax-amsterdam        fc-groningen           2           0   \n",
              "16587  ajax-amsterdam           fc-twente           1           1   \n",
              "...               ...                 ...         ...         ...   \n",
              "19635  ajax-amsterdam        rkc-waalwijk           3           2   \n",
              "19636  ajax-amsterdam  cambuur-leeuwarden           9           0   \n",
              "19638  ajax-amsterdam    sparta-rotterdam           2           1   \n",
              "19639  ajax-amsterdam      vitesse-arnhem           5           0   \n",
              "19640  ajax-amsterdam   willem-ii-tilburg           5           0   \n",
              "\n",
              "              winning_team  home_team_nr  away_team_nr  \n",
              "16583  ajax-amsterdam win              0             0  \n",
              "16584  ajax-amsterdam draw             0             1  \n",
              "16585  ajax-amsterdam win              0             3  \n",
              "16586  ajax-amsterdam win              0             6  \n",
              "16587  ajax-amsterdam draw             0             7  \n",
              "...                    ...           ...           ...  \n",
              "19635  ajax-amsterdam win              0            17  \n",
              "19636  ajax-amsterdam win              0             2  \n",
              "19638  ajax-amsterdam win              0            21  \n",
              "19639  ajax-amsterdam win              0            22  \n",
              "19640  ajax-amsterdam win              0            24  \n",
              "\n",
              "[181 rows x 7 columns]"
            ]
          },
          "execution_count": 543,
          "metadata": {},
          "output_type": "execute_result"
        }
      ],
      "source": [
        "df_MatchesForAjaxHost = pd.DataFrame()\n",
        "homeTeamAjax = filtered_matches['home'].loc[filtered_matches['home']=='ajax-amsterdam']\n",
        "awayTeamAjax = filtered_matches['away'].loc[filtered_matches['home'] == 'ajax-amsterdam']\n",
        "scoresAjaxHome = filtered_matches['home_score'].loc[filtered_matches['home'] == 'ajax-amsterdam']\n",
        "awayTeamScoresAjax = filtered_matches['away_score'].loc[filtered_matches['home'] == 'ajax-amsterdam']\n",
        "\n",
        "df_MatchesForAjaxHost['home_team'] = homeTeamAjax\n",
        "df_MatchesForAjaxHost['away_team'] = awayTeamAjax\n",
        "df_MatchesForAjaxHost['home_score'] = scoresAjaxHome\n",
        "df_MatchesForAjaxHost['away_score'] = awayTeamScoresAjax\n",
        "df_MatchesForAjaxHost['winning_team'] = df_MatchesForAjaxHost.apply(lambda row: ClassifyMatches(row),axis=1)\n",
        "df_MatchesForAjaxHost[\"home_team_nr\"] = ajax_home_team_label.fit_transform(df_MatchesForAjaxHost['home_team'])\n",
        "df_MatchesForAjaxHost[\"away_team_nr\"] = ajax_home_team_label.fit_transform(df_MatchesForAjaxHost['away_team'])\n",
        "df_MatchesForAjaxHost"
      ]
    },
    {
      "cell_type": "code",
      "execution_count": 544,
      "metadata": {},
      "outputs": [],
      "source": [
        "X = df_MatchesForAjaxHost[[\"home_team_nr\",\"away_team_nr\",\"home_score\"]]\n",
        "y = df_MatchesForAjaxHost[\"winning_team\"]\n",
        "\n",
        "X_train, X_test, y_train, y_test = train_test_split(X, y, test_size=0.20, random_state=1)"
      ]
    },
    {
      "cell_type": "code",
      "execution_count": 545,
      "metadata": {},
      "outputs": [
        {
          "data": {
            "text/plain": [
              "0.6689655172413793"
            ]
          },
          "execution_count": 545,
          "metadata": {},
          "output_type": "execute_result"
        }
      ],
      "source": [
        "winning_team_ajax_home = tree.DecisionTreeClassifier()\n",
        "winning_team_ajax_home.fit(X_train,y_train)\n",
        "\n",
        "winning_team_ajax_home.score(X_test,y_test)"
      ]
    },
    {
      "cell_type": "code",
      "execution_count": 546,
      "metadata": {},
      "outputs": [
        {
          "data": {
            "text/plain": [
              "array(['ajax-amsterdam win '], dtype=object)"
            ]
          },
          "execution_count": 546,
          "metadata": {},
          "output_type": "execute_result"
        }
      ],
      "source": [
        "winning_team_ajax_home.predict([[0,16]])"
      ]
    },
    {
      "cell_type": "markdown",
      "metadata": {},
      "source": [
        "<h5> Ajax Away </h5>"
      ]
    },
    {
      "cell_type": "code",
      "execution_count": 547,
      "metadata": {},
      "outputs": [
        {
          "data": {
            "text/html": [
              "<div>\n",
              "<style scoped>\n",
              "    .dataframe tbody tr th:only-of-type {\n",
              "        vertical-align: middle;\n",
              "    }\n",
              "\n",
              "    .dataframe tbody tr th {\n",
              "        vertical-align: top;\n",
              "    }\n",
              "\n",
              "    .dataframe thead th {\n",
              "        text-align: right;\n",
              "    }\n",
              "</style>\n",
              "<table border=\"1\" class=\"dataframe\">\n",
              "  <thead>\n",
              "    <tr style=\"text-align: right;\">\n",
              "      <th></th>\n",
              "      <th>home_team</th>\n",
              "      <th>away_team</th>\n",
              "      <th>home_score</th>\n",
              "      <th>away_score</th>\n",
              "      <th>winning_team</th>\n",
              "      <th>home_team_nr</th>\n",
              "      <th>away_team_nr</th>\n",
              "    </tr>\n",
              "  </thead>\n",
              "  <tbody>\n",
              "    <tr>\n",
              "      <th>16566</th>\n",
              "      <td>ado-den-haag</td>\n",
              "      <td>ajax-amsterdam</td>\n",
              "      <td>0</td>\n",
              "      <td>2</td>\n",
              "      <td>ado-den-haag lose</td>\n",
              "      <td>0</td>\n",
              "      <td>0</td>\n",
              "    </tr>\n",
              "    <tr>\n",
              "      <th>16601</th>\n",
              "      <td>az-alkmaar</td>\n",
              "      <td>ajax-amsterdam</td>\n",
              "      <td>1</td>\n",
              "      <td>1</td>\n",
              "      <td>az-alkmaar draw</td>\n",
              "      <td>1</td>\n",
              "      <td>0</td>\n",
              "    </tr>\n",
              "    <tr>\n",
              "      <th>16618</th>\n",
              "      <td>de-graafschap</td>\n",
              "      <td>ajax-amsterdam</td>\n",
              "      <td>1</td>\n",
              "      <td>4</td>\n",
              "      <td>de-graafschap lose</td>\n",
              "      <td>3</td>\n",
              "      <td>0</td>\n",
              "    </tr>\n",
              "    <tr>\n",
              "      <th>16635</th>\n",
              "      <td>fc-groningen</td>\n",
              "      <td>ajax-amsterdam</td>\n",
              "      <td>1</td>\n",
              "      <td>0</td>\n",
              "      <td>fc-groningen win</td>\n",
              "      <td>6</td>\n",
              "      <td>0</td>\n",
              "    </tr>\n",
              "    <tr>\n",
              "      <th>16652</th>\n",
              "      <td>fc-twente</td>\n",
              "      <td>ajax-amsterdam</td>\n",
              "      <td>1</td>\n",
              "      <td>2</td>\n",
              "      <td>fc-twente lose</td>\n",
              "      <td>7</td>\n",
              "      <td>0</td>\n",
              "    </tr>\n",
              "    <tr>\n",
              "      <th>...</th>\n",
              "      <td>...</td>\n",
              "      <td>...</td>\n",
              "      <td>...</td>\n",
              "      <td>...</td>\n",
              "      <td>...</td>\n",
              "      <td>...</td>\n",
              "      <td>...</td>\n",
              "    </tr>\n",
              "    <tr>\n",
              "      <th>19828</th>\n",
              "      <td>rkc-waalwijk</td>\n",
              "      <td>ajax-amsterdam</td>\n",
              "      <td>0</td>\n",
              "      <td>5</td>\n",
              "      <td>rkc-waalwijk lose</td>\n",
              "      <td>17</td>\n",
              "      <td>0</td>\n",
              "    </tr>\n",
              "    <tr>\n",
              "      <th>19845</th>\n",
              "      <td>cambuur-leeuwarden</td>\n",
              "      <td>ajax-amsterdam</td>\n",
              "      <td>2</td>\n",
              "      <td>3</td>\n",
              "      <td>cambuur-leeuwarden lose</td>\n",
              "      <td>2</td>\n",
              "      <td>0</td>\n",
              "    </tr>\n",
              "    <tr>\n",
              "      <th>19862</th>\n",
              "      <td>sc-heerenveen</td>\n",
              "      <td>ajax-amsterdam</td>\n",
              "      <td>0</td>\n",
              "      <td>2</td>\n",
              "      <td>sc-heerenveen lose</td>\n",
              "      <td>20</td>\n",
              "      <td>0</td>\n",
              "    </tr>\n",
              "    <tr>\n",
              "      <th>19879</th>\n",
              "      <td>sparta-rotterdam</td>\n",
              "      <td>ajax-amsterdam</td>\n",
              "      <td>0</td>\n",
              "      <td>1</td>\n",
              "      <td>sparta-rotterdam lose</td>\n",
              "      <td>21</td>\n",
              "      <td>0</td>\n",
              "    </tr>\n",
              "    <tr>\n",
              "      <th>19913</th>\n",
              "      <td>willem-ii-tilburg</td>\n",
              "      <td>ajax-amsterdam</td>\n",
              "      <td>0</td>\n",
              "      <td>1</td>\n",
              "      <td>willem-ii-tilburg lose</td>\n",
              "      <td>24</td>\n",
              "      <td>0</td>\n",
              "    </tr>\n",
              "  </tbody>\n",
              "</table>\n",
              "<p>179 rows × 7 columns</p>\n",
              "</div>"
            ],
            "text/plain": [
              "                home_team       away_team  home_score  away_score  \\\n",
              "16566        ado-den-haag  ajax-amsterdam           0           2   \n",
              "16601          az-alkmaar  ajax-amsterdam           1           1   \n",
              "16618       de-graafschap  ajax-amsterdam           1           4   \n",
              "16635        fc-groningen  ajax-amsterdam           1           0   \n",
              "16652           fc-twente  ajax-amsterdam           1           2   \n",
              "...                   ...             ...         ...         ...   \n",
              "19828        rkc-waalwijk  ajax-amsterdam           0           5   \n",
              "19845  cambuur-leeuwarden  ajax-amsterdam           2           3   \n",
              "19862       sc-heerenveen  ajax-amsterdam           0           2   \n",
              "19879    sparta-rotterdam  ajax-amsterdam           0           1   \n",
              "19913   willem-ii-tilburg  ajax-amsterdam           0           1   \n",
              "\n",
              "                  winning_team  home_team_nr  away_team_nr  \n",
              "16566        ado-den-haag lose             0             0  \n",
              "16601          az-alkmaar draw             1             0  \n",
              "16618       de-graafschap lose             3             0  \n",
              "16635        fc-groningen win              6             0  \n",
              "16652           fc-twente lose             7             0  \n",
              "...                        ...           ...           ...  \n",
              "19828        rkc-waalwijk lose            17             0  \n",
              "19845  cambuur-leeuwarden lose             2             0  \n",
              "19862       sc-heerenveen lose            20             0  \n",
              "19879    sparta-rotterdam lose            21             0  \n",
              "19913   willem-ii-tilburg lose            24             0  \n",
              "\n",
              "[179 rows x 7 columns]"
            ]
          },
          "execution_count": 547,
          "metadata": {},
          "output_type": "execute_result"
        }
      ],
      "source": [
        "df_MatchesForAjaxAway = pd.DataFrame()\n",
        "awayTeamAjax = filtered_matches['away'].loc[filtered_matches['away']=='ajax-amsterdam']\n",
        "homeTeam = filtered_matches['home'].loc[filtered_matches['away'] == 'ajax-amsterdam']\n",
        "scoresAjaxAway = filtered_matches['home_score'].loc[filtered_matches['away'] == 'ajax-amsterdam']\n",
        "awayTeamScoresAway = filtered_matches['away_score'].loc[filtered_matches['away'] == 'ajax-amsterdam']\n",
        "\n",
        "df_MatchesForAjaxAway['home_team'] = homeTeam\n",
        "df_MatchesForAjaxAway['away_team'] = awayTeamAjax\n",
        "df_MatchesForAjaxAway['home_score'] = scoresAjaxAway\n",
        "df_MatchesForAjaxAway['away_score'] = awayTeamScoresAway\n",
        "df_MatchesForAjaxAway['winning_team'] = df_MatchesForAjaxAway.apply(lambda row: ClassifyMatches(row),axis=1)\n",
        "df_MatchesForAjaxAway[\"home_team_nr\"] = ajax_home_team_label.fit_transform(df_MatchesForAjaxAway['home_team'])\n",
        "df_MatchesForAjaxAway[\"away_team_nr\"] = ajax_home_team_label.fit_transform(df_MatchesForAjaxAway['away_team'])\n",
        "df_MatchesForAjaxAway"
      ]
    },
    {
      "cell_type": "code",
      "execution_count": 548,
      "metadata": {},
      "outputs": [],
      "source": [
        "X = df_MatchesForAjaxAway[[\"home_team_nr\",\"away_team_nr\",\"home_score\"]]\n",
        "y = df_MatchesForAjaxAway[\"winning_team\"]\n",
        "\n",
        "X_train, X_test, y_train, y_test = train_test_split(X, y, test_size=0.20, random_state=1)"
      ]
    },
    {
      "cell_type": "code",
      "execution_count": 549,
      "metadata": {},
      "outputs": [
        {
          "data": {
            "text/plain": [
              "0.6666666666666666"
            ]
          },
          "execution_count": 549,
          "metadata": {},
          "output_type": "execute_result"
        }
      ],
      "source": [
        "winning_team_ajax_away = tree.DecisionTreeClassifier()\n",
        "winning_team_ajax_away.fit(X_train,y_train)\n",
        "\n",
        "winning_team_ajax_away.score(X_test,y_test)"
      ]
    },
    {
      "cell_type": "code",
      "execution_count": 550,
      "metadata": {},
      "outputs": [
        {
          "data": {
            "text/plain": [
              "array(['psv-eindhoven win '], dtype=object)"
            ]
          },
          "execution_count": 550,
          "metadata": {},
          "output_type": "execute_result"
        }
      ],
      "source": [
        "winning_team_ajax_away.predict([[16 , 0, 5]])"
      ]
    },
    {
      "cell_type": "code",
      "execution_count": 551,
      "metadata": {},
      "outputs": [],
      "source": [
        "# df_merge = pd.merge(filtered_matches,dfCards,on='saison',how='outer')\n",
        "\n",
        "# df_cards_matches = pd.DataFrame()\n",
        "# homeTeam = df_merge[\"home_x\"]\n",
        "# AwayTeam = df_merge[\"away_x\"]\n",
        "# home_score = df_merge[\"home_score\"]\n",
        "# away_score = df_merge[\"home_score\"]"
      ]
    },
    {
      "cell_type": "markdown",
      "metadata": {},
      "source": [
        "<h4>Cards Prediction</h4>"
      ]
    },
    {
      "cell_type": "code",
      "execution_count": 552,
      "metadata": {},
      "outputs": [],
      "source": [
        "df_Cards_prediction = pd.DataFrame()\n",
        "HomeTeam = dfCards['home']\n",
        "AwayTeam = dfCards['away']\n",
        "typeCards = dfCards['type']\n",
        "team_has_card = dfCards['team']\n",
        "\n",
        "df_Cards_prediction['home_team'] = HomeTeam\n",
        "df_Cards_prediction['away_team'] = AwayTeam\n",
        "df_Cards_prediction['type_card'] = typeCards\n",
        "df_Cards_prediction['team_has_card'] = team_has_card\n",
        "df_Cards_prediction[\"home_team_nr\"] = ajax_home_team_label.fit_transform(df_Cards_prediction['home_team'])\n",
        "df_Cards_prediction[\"away_team_nr\"] = ajax_home_team_label.fit_transform(df_Cards_prediction['away_team'])\n",
        "df_Cards_prediction[\"type_card\"].replace({\"red-card\": 1, \"yellow-card\": 0}, inplace=True)\n",
        "# df_Cards_prediction.loc[df_Cards_prediction['home_team'] == \"psv-eindhoven\"]"
      ]
    },
    {
      "cell_type": "code",
      "execution_count": 553,
      "metadata": {},
      "outputs": [],
      "source": [
        "X = df_Cards_prediction[[\"home_team_nr\",\"away_team_nr\",\"type_card\"]]\n",
        "y = df_Cards_prediction[\"team_has_card\"]\n",
        "\n",
        "X_train, X_test, y_train, y_test = train_test_split(X, y, test_size=0.20, random_state=1)"
      ]
    },
    {
      "cell_type": "code",
      "execution_count": 554,
      "metadata": {},
      "outputs": [
        {
          "data": {
            "text/plain": [
              "0.5261820030503305"
            ]
          },
          "execution_count": 554,
          "metadata": {},
          "output_type": "execute_result"
        }
      ],
      "source": [
        "more_likely_Card = tree.DecisionTreeClassifier()\n",
        "more_likely_Card.fit(X_train,y_train)\n",
        "\n",
        "more_likely_Card.score(X_test,y_test)"
      ]
    },
    {
      "cell_type": "code",
      "execution_count": 555,
      "metadata": {},
      "outputs": [
        {
          "data": {
            "text/plain": [
              "array(['psv-eindhoven'], dtype=object)"
            ]
          },
          "execution_count": 555,
          "metadata": {},
          "output_type": "execute_result"
        }
      ],
      "source": [
        "more_likely_Card.predict([[17 , 1, 0]])"
      ]
    }
  ],
  "metadata": {
    "colab": {
      "collapsed_sections": [
        "K5Zcj5VkNyt2",
        "WThNHNwENyt8",
        "9k28NYGsNyt9",
        "Fdu-7RYPNyt9",
        "Us7AYhR8Nyt-",
        "JNpYTm8TNyuD",
        "gEIVY86_NyuF",
        "hJjGn0ZmNyuO",
        "LtGffZAJNyuP",
        "mghovlagNyuR",
        "EAXoFuBHNyuR",
        "pT1p5_MmNyuR",
        "GZ3pt9khOA-9"
      ],
      "name": "notebook1.ipynb",
      "provenance": []
    },
    "interpreter": {
      "hash": "b3ba2566441a7c06988d0923437866b63cedc61552a5af99d1f4fb67d367b25f"
    },
    "kernelspec": {
      "display_name": "Python 3.9.7 ('base')",
      "language": "python",
      "name": "python3"
    },
    "language_info": {
      "codemirror_mode": {
        "name": "ipython",
        "version": 3
      },
      "file_extension": ".py",
      "mimetype": "text/x-python",
      "name": "python",
      "nbconvert_exporter": "python",
      "pygments_lexer": "ipython3",
      "version": "3.9.7"
    },
    "orig_nbformat": 4
  },
  "nbformat": 4,
  "nbformat_minor": 0
}
