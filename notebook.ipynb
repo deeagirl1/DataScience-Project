{
  "cells": [
    {
      "cell_type": "markdown",
      "metadata": {
        "id": "7G53ZLgrNytw"
      },
      "source": [
        "# Predicting which team will win a football match"
      ]
    },
    {
      "cell_type": "markdown",
      "metadata": {
        "id": "Bpvu66X4Nyt0"
      },
      "source": [
        "The purpose of this project is to use machine learning in order to make predictions regarding football matches. \n",
        "We have 5 .csv files, each file containing different data which might help in make predictions."
      ]
    },
    {
      "cell_type": "code",
      "execution_count": 1409,
      "metadata": {
        "id": "tVcM3KS5Nyt0"
      },
      "outputs": [],
      "source": [
        "# importing neccesary libraries\n",
        "import numpy as np\n",
        "import pandas as pd\n",
        "from datetime import datetime as dt\n",
        "import itertools\n",
        "\n",
        "%matplotlib inline"
      ]
    },
    {
      "cell_type": "markdown",
      "metadata": {
        "id": "8JKK-uNcNyt2"
      },
      "source": [
        "## Reading data from the files"
      ]
    },
    {
      "cell_type": "code",
      "execution_count": 1410,
      "metadata": {
        "colab": {
          "base_uri": "https://localhost:8080/",
          "height": 380
        },
        "id": "ybU-hy4KNyt2",
        "outputId": "34ad20a6-b6cc-4038-8b74-1f40be757211"
      },
      "outputs": [],
      "source": [
        "# Read data from .csv files \n",
        "\n",
        "loc = \"voetbal_1956-20220309/\"\n",
        "\n",
        "raw_cards_file = pd.read_csv (loc + '_cards.csv')\n",
        "raw_goals_file = pd.read_csv (loc + '_goals.csv')\n",
        "raw_matches_file = pd.read_csv (loc + '_matches.csv')\n",
        "raw_players_file = pd.read_csv (loc + '_players.csv')\n",
        "raw_subs_file = pd.read_csv (loc + '_subs.csv')"
      ]
    },
    {
      "cell_type": "markdown",
      "metadata": {
        "id": "K5Zcj5VkNyt2"
      },
      "source": [
        "## Goals"
      ]
    },
    {
      "cell_type": "code",
      "execution_count": 1411,
      "metadata": {
        "id": "2pmImPtINyt3"
      },
      "outputs": [],
      "source": [
        "# Method used to overwrite values found in column 'assist'\n",
        "def assist(value):\n",
        "    if pd.notna(value):\n",
        "        return 1\n",
        "    else:\n",
        "        return 0"
      ]
    },
    {
      "cell_type": "code",
      "execution_count": 1412,
      "metadata": {
        "id": "tJc0gfpuNyt3"
      },
      "outputs": [],
      "source": [
        "# a function to remove duplicates \n",
        "def Duplicates(rawName , colName: str, previousName: str, newName: str ):\n",
        "        if colName == \"club\":\n",
        "                rawName[\"home\"].replace({previousName: newName }, inplace=True)\n",
        "                rawName[\"away\"].replace({previousName: newName }, inplace=True)\n",
        "                rawName[\"team\"].replace({previousName: newName }, inplace=True)\n",
        "        elif colName == \"match\":\n",
        "                rawName[\"home\"].replace({previousName: newName }, inplace=True)\n",
        "                rawName[\"away\"].replace({previousName: newName }, inplace=True)\n",
        "        elif colName == \"card\": \n",
        "                rawName[\"type\"].replace({previousName: newName }, inplace=True)\n",
        "        else:\n",
        "                print(\"nothing\")\n",
        "\n",
        "# a function used to get the last season\n",
        "def toOneSeason(season):\n",
        "    return season[5:len(season)]"
      ]
    },
    {
      "cell_type": "code",
      "execution_count": 1413,
      "metadata": {
        "id": "Z9w_uZeMNyt4"
      },
      "outputs": [
        {
          "data": {
            "text/html": [
              "<div>\n",
              "<style scoped>\n",
              "    .dataframe tbody tr th:only-of-type {\n",
              "        vertical-align: middle;\n",
              "    }\n",
              "\n",
              "    .dataframe tbody tr th {\n",
              "        vertical-align: top;\n",
              "    }\n",
              "\n",
              "    .dataframe thead th {\n",
              "        text-align: right;\n",
              "    }\n",
              "</style>\n",
              "<table border=\"1\" class=\"dataframe\">\n",
              "  <thead>\n",
              "    <tr style=\"text-align: right;\">\n",
              "      <th></th>\n",
              "      <th>Unnamed: 0</th>\n",
              "      <th>saison</th>\n",
              "      <th>home</th>\n",
              "      <th>away</th>\n",
              "      <th>team</th>\n",
              "      <th>player</th>\n",
              "      <th>assist</th>\n",
              "      <th>assistNumber</th>\n",
              "      <th>goalNumber</th>\n",
              "    </tr>\n",
              "  </thead>\n",
              "  <tbody>\n",
              "    <tr>\n",
              "      <th>50894</th>\n",
              "      <td>0</td>\n",
              "      <td>2012</td>\n",
              "      <td>ado-den-haag</td>\n",
              "      <td>ajax-amsterdam</td>\n",
              "      <td>ajax-amsterdam</td>\n",
              "      <td>Jody Lukoki</td>\n",
              "      <td>Theo Janssen</td>\n",
              "      <td>1</td>\n",
              "      <td>1</td>\n",
              "    </tr>\n",
              "    <tr>\n",
              "      <th>50895</th>\n",
              "      <td>1</td>\n",
              "      <td>2012</td>\n",
              "      <td>ado-den-haag</td>\n",
              "      <td>ajax-amsterdam</td>\n",
              "      <td>ajax-amsterdam</td>\n",
              "      <td>Jan Vertonghen</td>\n",
              "      <td>Ismaïl Aissati</td>\n",
              "      <td>1</td>\n",
              "      <td>1</td>\n",
              "    </tr>\n",
              "    <tr>\n",
              "      <th>50896</th>\n",
              "      <td>2</td>\n",
              "      <td>2012</td>\n",
              "      <td>ado-den-haag</td>\n",
              "      <td>az-alkmaar</td>\n",
              "      <td>az-alkmaar</td>\n",
              "      <td>Charlison Benschop</td>\n",
              "      <td>Brett Holman</td>\n",
              "      <td>1</td>\n",
              "      <td>1</td>\n",
              "    </tr>\n",
              "    <tr>\n",
              "      <th>50897</th>\n",
              "      <td>3</td>\n",
              "      <td>2012</td>\n",
              "      <td>ado-den-haag</td>\n",
              "      <td>az-alkmaar</td>\n",
              "      <td>az-alkmaar</td>\n",
              "      <td>Charlison Benschop</td>\n",
              "      <td>Maarten Martens</td>\n",
              "      <td>1</td>\n",
              "      <td>1</td>\n",
              "    </tr>\n",
              "    <tr>\n",
              "      <th>50898</th>\n",
              "      <td>4</td>\n",
              "      <td>2012</td>\n",
              "      <td>ado-den-haag</td>\n",
              "      <td>az-alkmaar</td>\n",
              "      <td>az-alkmaar</td>\n",
              "      <td>Charlison Benschop</td>\n",
              "      <td>Rasmus Elm</td>\n",
              "      <td>1</td>\n",
              "      <td>1</td>\n",
              "    </tr>\n",
              "    <tr>\n",
              "      <th>...</th>\n",
              "      <td>...</td>\n",
              "      <td>...</td>\n",
              "      <td>...</td>\n",
              "      <td>...</td>\n",
              "      <td>...</td>\n",
              "      <td>...</td>\n",
              "      <td>...</td>\n",
              "      <td>...</td>\n",
              "      <td>...</td>\n",
              "    </tr>\n",
              "    <tr>\n",
              "      <th>60864</th>\n",
              "      <td>639</td>\n",
              "      <td>2022</td>\n",
              "      <td>willem-ii-tilburg</td>\n",
              "      <td>cambuur-leeuwarden</td>\n",
              "      <td>willem-ii-tilburg</td>\n",
              "      <td>Godfried Roemeratoe</td>\n",
              "      <td>Anargyros Kampetsis</td>\n",
              "      <td>1</td>\n",
              "      <td>1</td>\n",
              "    </tr>\n",
              "    <tr>\n",
              "      <th>60865</th>\n",
              "      <td>640</td>\n",
              "      <td>2022</td>\n",
              "      <td>willem-ii-tilburg</td>\n",
              "      <td>cambuur-leeuwarden</td>\n",
              "      <td>cambuur-leeuwarden</td>\n",
              "      <td>Mitchell Paulissen</td>\n",
              "      <td>NaN</td>\n",
              "      <td>0</td>\n",
              "      <td>1</td>\n",
              "    </tr>\n",
              "    <tr>\n",
              "      <th>60866</th>\n",
              "      <td>641</td>\n",
              "      <td>2022</td>\n",
              "      <td>willem-ii-tilburg</td>\n",
              "      <td>sparta-rotterdam</td>\n",
              "      <td>sparta-rotterdam</td>\n",
              "      <td>Bart Vriends</td>\n",
              "      <td>Bryan Smeets</td>\n",
              "      <td>1</td>\n",
              "      <td>1</td>\n",
              "    </tr>\n",
              "    <tr>\n",
              "      <th>60867</th>\n",
              "      <td>642</td>\n",
              "      <td>2022</td>\n",
              "      <td>willem-ii-tilburg</td>\n",
              "      <td>sparta-rotterdam</td>\n",
              "      <td>sparta-rotterdam</td>\n",
              "      <td>Bart Vriends</td>\n",
              "      <td>Sven Mijnans</td>\n",
              "      <td>1</td>\n",
              "      <td>1</td>\n",
              "    </tr>\n",
              "    <tr>\n",
              "      <th>60868</th>\n",
              "      <td>643</td>\n",
              "      <td>2022</td>\n",
              "      <td>willem-ii-tilburg</td>\n",
              "      <td>sparta-rotterdam</td>\n",
              "      <td>sparta-rotterdam</td>\n",
              "      <td>Emanuel Emegha</td>\n",
              "      <td>Vito van Crooij</td>\n",
              "      <td>1</td>\n",
              "      <td>1</td>\n",
              "    </tr>\n",
              "  </tbody>\n",
              "</table>\n",
              "<p>9975 rows × 9 columns</p>\n",
              "</div>"
            ],
            "text/plain": [
              "       Unnamed: 0  saison               home                away  \\\n",
              "50894           0    2012       ado-den-haag      ajax-amsterdam   \n",
              "50895           1    2012       ado-den-haag      ajax-amsterdam   \n",
              "50896           2    2012       ado-den-haag          az-alkmaar   \n",
              "50897           3    2012       ado-den-haag          az-alkmaar   \n",
              "50898           4    2012       ado-den-haag          az-alkmaar   \n",
              "...           ...     ...                ...                 ...   \n",
              "60864         639    2022  willem-ii-tilburg  cambuur-leeuwarden   \n",
              "60865         640    2022  willem-ii-tilburg  cambuur-leeuwarden   \n",
              "60866         641    2022  willem-ii-tilburg    sparta-rotterdam   \n",
              "60867         642    2022  willem-ii-tilburg    sparta-rotterdam   \n",
              "60868         643    2022  willem-ii-tilburg    sparta-rotterdam   \n",
              "\n",
              "                     team               player               assist  \\\n",
              "50894      ajax-amsterdam          Jody Lukoki         Theo Janssen   \n",
              "50895      ajax-amsterdam       Jan Vertonghen       Ismaïl Aissati   \n",
              "50896          az-alkmaar   Charlison Benschop         Brett Holman   \n",
              "50897          az-alkmaar   Charlison Benschop      Maarten Martens   \n",
              "50898          az-alkmaar   Charlison Benschop           Rasmus Elm   \n",
              "...                   ...                  ...                  ...   \n",
              "60864   willem-ii-tilburg  Godfried Roemeratoe  Anargyros Kampetsis   \n",
              "60865  cambuur-leeuwarden   Mitchell Paulissen                  NaN   \n",
              "60866    sparta-rotterdam         Bart Vriends         Bryan Smeets   \n",
              "60867    sparta-rotterdam         Bart Vriends         Sven Mijnans   \n",
              "60868    sparta-rotterdam       Emanuel Emegha      Vito van Crooij   \n",
              "\n",
              "       assistNumber  goalNumber  \n",
              "50894             1           1  \n",
              "50895             1           1  \n",
              "50896             1           1  \n",
              "50897             1           1  \n",
              "50898             1           1  \n",
              "...             ...         ...  \n",
              "60864             1           1  \n",
              "60865             0           1  \n",
              "60866             1           1  \n",
              "60867             1           1  \n",
              "60868             1           1  \n",
              "\n",
              "[9975 rows x 9 columns]"
            ]
          },
          "execution_count": 1413,
          "metadata": {},
          "output_type": "execute_result"
        }
      ],
      "source": [
        "# Some clubs have different names \n",
        "# We replace it to one name \n",
        "Duplicates(raw_goals_file, \"club\", \"afc-ajax\", \"ajax-amsterdam\")\n",
        "Duplicates(raw_goals_file, \"club\", \"willem-ii\", \"willem-ii-tilburg\")\n",
        "Duplicates(raw_goals_file, \"club\", \"mvv\", \"mvv-maastricht\")\n",
        "Duplicates(raw_goals_file, \"club\", \"vitesse\", \"vitesse-arnhem\")\n",
        "Duplicates(raw_goals_file, \"club\", \"sc-cambuur\", \"cambuur-leeuwarden\")\n",
        "Duplicates(raw_goals_file, \"club\", \"feyenoord\", \"feyenoord-rotterdam\")\n",
        "Duplicates(raw_goals_file, \"club\", \"go-ahead-eagles_2\", \"go-ahead-eagles\")\n",
        "\n",
        "# convert the season to int \n",
        "raw_goals_file['saison'] = raw_goals_file['saison'].apply(toOneSeason)\n",
        "raw_goals_file['saison'] = raw_goals_file['saison'].astype(int)\n",
        "\n",
        "# filter the last 10 seasons \n",
        "filterSeason = raw_goals_file[(raw_goals_file['saison'] >= 2012)]\n",
        "\n",
        "# make new dataframe in order to aggregate\n",
        "dfGoals = pd.DataFrame(filterSeason)\n",
        "\n",
        "# We use assist function for both 'assist' and 'player' colunms to count the assists and goals for each game\n",
        "assistNumber = raw_goals_file['assist'].apply(assist)\n",
        "goalNumber = raw_goals_file['player'].apply(assist)\n",
        "\n",
        "dfGoals['assistNumber'] = assistNumber\n",
        "dfGoals['goalNumber'] = goalNumber\n",
        "\n",
        "# we drop the unneccesary columns \n",
        "dfGoals.drop(columns=['new_score','type','minute','round'])"
      ]
    },
    {
      "cell_type": "code",
      "execution_count": 1414,
      "metadata": {
        "id": "R619RdIKNyt5"
      },
      "outputs": [
        {
          "name": "stdout",
          "output_type": "stream",
          "text": [
            "player\n",
            "Davy Klaassen          48\n",
            "Klaas-Jan Huntelaar    37\n",
            "Hakim Ziyech           29\n",
            "Dušan Tadić            28\n",
            "Kasper Dolberg         28\n",
            "Name: assistNumber, dtype: int64\n",
            "player\n",
            "Davy Klaassen          61\n",
            "Dušan Tadić            61\n",
            "Lasse Schöne           49\n",
            "Klaas-Jan Huntelaar    45\n",
            "Hakim Ziyech           38\n",
            "Name: goalNumber, dtype: int64\n"
          ]
        }
      ],
      "source": [
        "# the best player of Ajax (Assist, Goals)\n",
        "filterAjaxPlayers = dfGoals[(dfGoals['team'] == \"ajax-amsterdam\")]\n",
        "playersAssistAjax = filterAjaxPlayers.groupby('player')['assistNumber'].sum()\n",
        "print(playersAssistAjax.nlargest(n=5))\n",
        "\n",
        "playersGoalsAjax = filterAjaxPlayers.groupby('player')['goalNumber'].sum()\n",
        "print(playersGoalsAjax.nlargest(n=5))"
      ]
    },
    {
      "cell_type": "code",
      "execution_count": 1415,
      "metadata": {
        "id": "-YQaRKL3Nyt6"
      },
      "outputs": [
        {
          "name": "stdout",
          "output_type": "stream",
          "text": [
            "player\n",
            "Luuk de Jong           78\n",
            "Donyell Malen          33\n",
            "Georginio Wijnaldum    26\n",
            "Jürgen Locadia         26\n",
            "Gastón Pereiro         23\n",
            "Name: assistNumber, dtype: int64\n",
            "player\n",
            "Luuk de Jong           94\n",
            "Jürgen Locadia         45\n",
            "Gastón Pereiro         44\n",
            "Georginio Wijnaldum    41\n",
            "Donyell Malen          40\n",
            "Name: goalNumber, dtype: int64\n"
          ]
        }
      ],
      "source": [
        "# the best player of Psv (Assist, Goals)\n",
        "filterPsvPlayers = dfGoals[(dfGoals['team'] == \"psv-eindhoven\")]\n",
        "playersAssistPsv = filterPsvPlayers.groupby('player')['assistNumber'].sum()\n",
        "print(playersAssistPsv.nlargest(n=5))\n",
        "\n",
        "playersGoalsPsv = filterPsvPlayers.groupby('player')['goalNumber'].sum()\n",
        "print(playersGoalsPsv.nlargest(n=5))\n"
      ]
    },
    {
      "cell_type": "code",
      "execution_count": 1416,
      "metadata": {
        "id": "uQtL8J8yNyt6"
      },
      "outputs": [
        {
          "data": {
            "text/plain": [
              "Text(0, 0.5, 'Assist')"
            ]
          },
          "execution_count": 1416,
          "metadata": {},
          "output_type": "execute_result"
        },
        {
          "data": {
            "image/png": "[encoded data removed]",
            "text/plain": [
              "<Figure size 432x288 with 1 Axes>"
            ]
          },
          "metadata": {
            "needs_background": "light"
          },
          "output_type": "display_data"
        },
        {
          "data": {
            "image/png": "[encoded data removed]",
            "text/plain": [
              "<Figure size 432x288 with 1 Axes>"
            ]
          },
          "metadata": {
            "needs_background": "light"
          },
          "output_type": "display_data"
        }
      ],
      "source": [
        "# plot Assist\n",
        "dfAjaxAssist = pd.DataFrame(playersAssistAjax.nlargest(n=5))\n",
        "ax = dfAjaxAssist.plot(lw=2, colormap='jet', title='The assist of Ajax players in the last 10 years', kind = 'bar')\n",
        "ax.set_xlabel(\"Player\")\n",
        "ax.set_ylabel(\"Assist\")\n",
        "\n",
        "dfPsvAssist = pd.DataFrame(playersAssistPsv.nlargest(n=5))\n",
        "ax = dfPsvAssist.plot(lw=2, colormap='jet', title='The assist of PSV players in the last 10 years', kind = 'bar')\n",
        "ax.set_xlabel(\"Player\")\n",
        "ax.set_ylabel(\"Assist\")\n"
      ]
    },
    {
      "cell_type": "code",
      "execution_count": 1417,
      "metadata": {
        "id": "ZLK9_A9pNyt6"
      },
      "outputs": [
        {
          "data": {
            "text/plain": [
              "Text(0, 0.5, 'Goals')"
            ]
          },
          "execution_count": 1417,
          "metadata": {},
          "output_type": "execute_result"
        },
        {
          "data": {
            "image/png": "[encoded data removed]",
            "text/plain": [
              "<Figure size 432x288 with 1 Axes>"
            ]
          },
          "metadata": {
            "needs_background": "light"
          },
          "output_type": "display_data"
        },
        {
          "data": {
            "image/png": "[encoded data removed]",
            "text/plain": [
              "<Figure size 432x288 with 1 Axes>"
            ]
          },
          "metadata": {
            "needs_background": "light"
          },
          "output_type": "display_data"
        }
      ],
      "source": [
        "# plot Goals\n",
        "dfAjaxGoals = pd.DataFrame(playersGoalsAjax.nlargest(n=5))\n",
        "ax = dfAjaxGoals.plot(lw=2, colormap='jet', kind = 'bar', title='The goals of top 5 Ajax players in the last 10 years')\n",
        "ax.set_xlabel(\"Player\")\n",
        "ax.set_ylabel(\"Goals\")\n",
        "\n",
        "dfPsvGoals = pd.DataFrame(playersGoalsPsv.nlargest(n=5))\n",
        "ax = dfPsvGoals.plot(lw=2, colormap='jet', kind = 'bar', title='The goals of top 5 PSV players in the last 10 years')\n",
        "ax.set_xlabel(\"Player\")\n",
        "ax.set_ylabel(\"Goals\")"
      ]
    },
    {
      "cell_type": "markdown",
      "metadata": {
        "id": "eDVokJFuNyt7"
      },
      "source": [
        "### PSV VS AJAX (Players Goals and assists)"
      ]
    },
    {
      "cell_type": "markdown",
      "metadata": {
        "id": "jmFuZjAVNyt7"
      },
      "source": [
        "#### PSV Stadion"
      ]
    },
    {
      "cell_type": "code",
      "execution_count": 1418,
      "metadata": {
        "id": "Ws9IT1mINyt7"
      },
      "outputs": [
        {
          "name": "stdout",
          "output_type": "stream",
          "text": [
            "player\n",
            "Anwar El Ghazi       2\n",
            "Arkadiusz Milik      1\n",
            "Brian Brobbey        1\n",
            "Christian Eriksen    1\n",
            "Derk Boerrigter      1\n",
            "Name: assistNumber, dtype: int64\n",
            "player\n",
            "Anwar El Ghazi         2\n",
            "Kolbeinn Sigþórsson    2\n",
            "Arkadiusz Milik        1\n",
            "Brian Brobbey          1\n",
            "Christian Eriksen      1\n",
            "Name: goalNumber, dtype: int64\n"
          ]
        }
      ],
      "source": [
        "# The best 3 player in the Ajax - Psv Match  in psv Stadion (Ajax stats)\n",
        "filterAjaxPlayersInPsvStadion = dfGoals[(dfGoals['team'] == \"ajax-amsterdam\") & (dfGoals['home'] == \"psv-eindhoven\")]\n",
        "playersAssistAjaxInPsvStadion = filterAjaxPlayersInPsvStadion.groupby('player')['assistNumber'].sum()\n",
        "print(playersAssistAjaxInPsvStadion.nlargest(n=5))\n",
        "\n",
        "playersGoalsAjaxInPsvStadion = filterAjaxPlayersInPsvStadion.groupby('player')['goalNumber'].sum()\n",
        "print(playersGoalsAjaxInPsvStadion.nlargest(n=5))"
      ]
    },
    {
      "cell_type": "code",
      "execution_count": 1419,
      "metadata": {
        "id": "R3_fXAC7Nyt7"
      },
      "outputs": [
        {
          "name": "stdout",
          "output_type": "stream",
          "text": [
            "player\n",
            "Luuk de Jong      3\n",
            "Donyell Malen     1\n",
            "Hirving Lozano    1\n",
            "Jeremain Lens     1\n",
            "Ji-Sung Park      1\n",
            "Name: assistNumber, dtype: int64\n",
            "player\n",
            "Luuk de Jong      3\n",
            "Gastón Pereiro    2\n",
            "Jeremain Lens     2\n",
            "Tim Matavž        2\n",
            "Donyell Malen     1\n",
            "Name: goalNumber, dtype: int64\n"
          ]
        }
      ],
      "source": [
        "# The best 3 player in the Ajax - Psv Match  in psv Stadium (psv stats)\n",
        "filterPsvPlayersInPsvStadion = dfGoals[(dfGoals['team'] == \"psv-eindhoven\") & (dfGoals['away'] == \"ajax-amsterdam\")]\n",
        "playersAssistPsvInPsvStadion = filterPsvPlayersInPsvStadion.groupby('player')['assistNumber'].sum()\n",
        "print(playersAssistPsvInPsvStadion.nlargest(n=5))\n",
        "\n",
        "playersGoalsPsvInPsvStadion = filterPsvPlayersInPsvStadion.groupby('player')['goalNumber'].sum()\n",
        "print(playersGoalsPsvInPsvStadion.nlargest(n=5))"
      ]
    },
    {
      "cell_type": "code",
      "execution_count": 1420,
      "metadata": {
        "id": "4TxhFEznNyt8"
      },
      "outputs": [
        {
          "data": {
            "text/plain": [
              "Text(0, 0.5, 'Goals')"
            ]
          },
          "execution_count": 1420,
          "metadata": {},
          "output_type": "execute_result"
        },
        {
          "data": {
            "image/png": "[encoded data removed]",
            "text/plain": [
              "<Figure size 432x288 with 1 Axes>"
            ]
          },
          "metadata": {
            "needs_background": "light"
          },
          "output_type": "display_data"
        },
        {
          "data": {
            "image/png": "[encoded data removed]",
            "text/plain": [
              "<Figure size 432x288 with 1 Axes>"
            ]
          },
          "metadata": {
            "needs_background": "light"
          },
          "output_type": "display_data"
        }
      ],
      "source": [
        "# plot Goals Ajax vs Psv in Psv stadion\n",
        "dfAjaxGoalsinPsvStadion = pd.DataFrame(playersGoalsAjaxInPsvStadion.nlargest(n=5))\n",
        "ax = dfAjaxGoalsinPsvStadion.plot(lw=2, colormap='jet', kind = 'bar', title='The goals of top 5 Ajax player last 10 years in PSV Stadion')\n",
        "ax.set_xlabel(\"Player\")\n",
        "ax.set_ylabel(\"Goals\")\n",
        "\n",
        "dfPsvGoalsinPsvStadion = pd.DataFrame(playersGoalsAjaxInPsvStadion.nlargest(n=5))\n",
        "ax = dfPsvGoalsinPsvStadion.plot(lw=2, colormap='jet', kind = 'bar', title='The goals of top 5 PSV player last 10 years in PSV Stadion')\n",
        "ax.set_xlabel(\"Player\")\n",
        "ax.set_ylabel(\"Goals\")"
      ]
    },
    {
      "cell_type": "markdown",
      "metadata": {
        "id": "WThNHNwENyt8"
      },
      "source": [
        "#### Ajax Stadion"
      ]
    },
    {
      "cell_type": "code",
      "execution_count": 1421,
      "metadata": {
        "id": "AsBgO9keNyt8"
      },
      "outputs": [
        {
          "name": "stdout",
          "output_type": "stream",
          "text": [
            "player\n",
            "Antony               2\n",
            "Anwar El Ghazi       1\n",
            "David Neres          1\n",
            "Davy Klaassen        1\n",
            "Donny van de Beek    1\n",
            "Name: assistNumber, dtype: int64\n",
            "player\n",
            "Antony           2\n",
            "David Neres      2\n",
            "Davy Klaassen    2\n",
            "Dušan Tadić      2\n",
            "Quincy Promes    2\n",
            "Name: goalNumber, dtype: int64\n"
          ]
        }
      ],
      "source": [
        "# The best 3 player in the Ajax - Psv Match  in Ajax Stadion (Ajax stats)\n",
        "filterAjaxPlayersInAjaxStadion = dfGoals[(dfGoals['team'] == \"ajax-amsterdam\") & (dfGoals['away'] == \"psv-eindhoven\")]\n",
        "playersAssistAjaxInAjaxStadion = filterAjaxPlayersInAjaxStadion.groupby('player')['assistNumber'].sum()\n",
        "print(playersAssistAjaxInAjaxStadion.nlargest(n=5))\n",
        "\n",
        "playersGoalsAjaxInAjaxStadion = filterAjaxPlayersInAjaxStadion.groupby('player')['goalNumber'].sum()\n",
        "print(playersGoalsAjaxInAjaxStadion.nlargest(n=5))"
      ]
    },
    {
      "cell_type": "code",
      "execution_count": 1422,
      "metadata": {
        "id": "iJPfRHfDNyt9"
      },
      "outputs": [
        {
          "name": "stdout",
          "output_type": "stream",
          "text": [
            "player\n",
            "Eran Zahavi         2\n",
            "Gastón Pereiro      1\n",
            "Jeremain Lens       1\n",
            "Luciano Narsingh    1\n",
            "Luuk de Jong        1\n",
            "Name: assistNumber, dtype: int64\n",
            "player\n",
            "Eran Zahavi          2\n",
            "Gastón Pereiro       2\n",
            "Florian Jozefzoon    1\n",
            "Jeremain Lens        1\n",
            "Luciano Narsingh     1\n",
            "Name: goalNumber, dtype: int64\n"
          ]
        }
      ],
      "source": [
        "# The best 3 player in the Ajax - Psv Match  in Ajax Stadion (Psv stats)\n",
        "filterAjaxPlayersInPsvStadion = dfGoals[(dfGoals['team'] == \"psv-eindhoven\") & (dfGoals['home'] == \"ajax-amsterdam\")]\n",
        "playersAssistAjaxInPsvStadion = filterAjaxPlayersInPsvStadion.groupby('player')['assistNumber'].sum()\n",
        "print(playersAssistAjaxInPsvStadion.nlargest(n=5))\n",
        "\n",
        "playersGoalsAjaxInPsvStadion = filterAjaxPlayersInPsvStadion.groupby('player')['goalNumber'].sum()\n",
        "print(playersGoalsAjaxInPsvStadion.nlargest(n=5))"
      ]
    },
    {
      "cell_type": "code",
      "execution_count": 1423,
      "metadata": {
        "id": "LIZxDKyTNyt9"
      },
      "outputs": [
        {
          "data": {
            "text/plain": [
              "Text(0, 0.5, 'Goals')"
            ]
          },
          "execution_count": 1423,
          "metadata": {},
          "output_type": "execute_result"
        },
        {
          "data": {
            "image/png": "[encoded data removed]",
            "text/plain": [
              "<Figure size 432x288 with 1 Axes>"
            ]
          },
          "metadata": {
            "needs_background": "light"
          },
          "output_type": "display_data"
        },
        {
          "data": {
            "image/png": "[encoded data removed]",
            "text/plain": [
              "<Figure size 432x288 with 1 Axes>"
            ]
          },
          "metadata": {
            "needs_background": "light"
          },
          "output_type": "display_data"
        }
      ],
      "source": [
        "# plot Goals Ajax vs Psv in Ajax Stadion\n",
        "dfAjaxGoalsinAjaxStadion = pd.DataFrame(playersGoalsAjaxInAjaxStadion.nlargest(n=5))\n",
        "ax = dfAjaxGoalsinAjaxStadion.plot(lw=2, colormap='jet', marker='.', markersize=10, title='The goals of top 5 Ajax players in the last 10 years in Ajax Stadion')\n",
        "ax.set_xlabel(\"Player\")\n",
        "ax.set_ylabel(\"Goals\")\n",
        "\n",
        "dfPsvGoalsinAjaxStadion = pd.DataFrame(playersGoalsAjaxInPsvStadion.nlargest(n=5))\n",
        "ax = dfPsvGoalsinAjaxStadion.plot(lw=2, colormap='jet', kind = 'bar', title='The goals of top 5 PSV players in the last 10 years in Ajax Stadion')\n",
        "ax.set_xlabel(\"Player\")\n",
        "ax.set_ylabel(\"Goals\")"
      ]
    },
    {
      "cell_type": "markdown",
      "metadata": {
        "id": "9k28NYGsNyt9"
      },
      "source": [
        "#### Home Goals and Assists"
      ]
    },
    {
      "cell_type": "code",
      "execution_count": 1424,
      "metadata": {
        "id": "dwW4d_4fNyt9"
      },
      "outputs": [
        {
          "name": "stdout",
          "output_type": "stream",
          "text": [
            "home\n",
            "ajax-amsterdam         443\n",
            "psv-eindhoven          408\n",
            "feyenoord-rotterdam    385\n",
            "sc-heerenveen          371\n",
            "az-alkmaar             368\n",
            "Name: assistNumber, dtype: int64\n",
            "home\n",
            "ajax-amsterdam         642\n",
            "psv-eindhoven          634\n",
            "feyenoord-rotterdam    583\n",
            "az-alkmaar             579\n",
            "heracles-almelo        576\n",
            "Name: goalNumber, dtype: int64\n"
          ]
        }
      ],
      "source": [
        "# Home team assist and goals\n",
        "filterAssist = dfGoals[(dfGoals['assistNumber'] == 1) & (dfGoals['goalNumber'] == 1)]\n",
        "groupByHomeAssist = filterAssist.groupby('home')['assistNumber'].sum()\n",
        "print(groupByHomeAssist.nlargest(n=5))\n",
        "\n",
        "# goals \n",
        "groupByHomeGoals = dfGoals.groupby('home')['goalNumber'].sum()\n",
        "print(groupByHomeGoals.nlargest(n=5))"
      ]
    },
    {
      "cell_type": "markdown",
      "metadata": {
        "id": "Fdu-7RYPNyt9"
      },
      "source": [
        "#### Away Goals and Assists"
      ]
    },
    {
      "cell_type": "code",
      "execution_count": 1425,
      "metadata": {
        "id": "DwvW_8nYNyt-"
      },
      "outputs": [
        {
          "name": "stdout",
          "output_type": "stream",
          "text": [
            "away\n",
            "psv-eindhoven      393\n",
            "sc-heerenveen      387\n",
            "ajax-amsterdam     366\n",
            "heracles-almelo    365\n",
            "az-alkmaar         360\n",
            "Name: assistNumber, dtype: int64\n",
            "away\n",
            "psv-eindhoven      393\n",
            "sc-heerenveen      387\n",
            "ajax-amsterdam     366\n",
            "heracles-almelo    365\n",
            "az-alkmaar         360\n",
            "Name: goalNumber, dtype: int64\n"
          ]
        }
      ],
      "source": [
        "# Away assist and goals \n",
        "groupByAwayAssist = filterAssist.groupby('away')['assistNumber'].sum()\n",
        "print(groupByAwayAssist.nlargest(n=5))\n",
        "\n",
        "# goals \n",
        "groupByAwayGoals = filterAssist.groupby('away')['goalNumber'].sum()\n",
        "print(groupByAwayGoals.nlargest(n=5))"
      ]
    },
    {
      "cell_type": "markdown",
      "metadata": {
        "id": "Us7AYhR8Nyt-"
      },
      "source": [
        "## Cards"
      ]
    },
    {
      "cell_type": "code",
      "execution_count": 1426,
      "metadata": {
        "id": "6_tEYZCQNyt-"
      },
      "outputs": [
        {
          "data": {
            "text/html": [
              "<div>\n",
              "<style scoped>\n",
              "    .dataframe tbody tr th:only-of-type {\n",
              "        vertical-align: middle;\n",
              "    }\n",
              "\n",
              "    .dataframe tbody tr th {\n",
              "        vertical-align: top;\n",
              "    }\n",
              "\n",
              "    .dataframe thead th {\n",
              "        text-align: right;\n",
              "    }\n",
              "</style>\n",
              "<table border=\"1\" class=\"dataframe\">\n",
              "  <thead>\n",
              "    <tr style=\"text-align: right;\">\n",
              "      <th></th>\n",
              "      <th>Unnamed: 0</th>\n",
              "      <th>saison</th>\n",
              "      <th>round</th>\n",
              "      <th>home</th>\n",
              "      <th>away</th>\n",
              "      <th>team</th>\n",
              "      <th>player</th>\n",
              "      <th>minute</th>\n",
              "      <th>type</th>\n",
              "      <th>redCard_nr</th>\n",
              "      <th>yellowCard_nr</th>\n",
              "    </tr>\n",
              "  </thead>\n",
              "  <tbody>\n",
              "    <tr>\n",
              "      <th>22582</th>\n",
              "      <td>0</td>\n",
              "      <td>2012</td>\n",
              "      <td>26</td>\n",
              "      <td>ado-den-haag</td>\n",
              "      <td>ajax-amsterdam</td>\n",
              "      <td>ado-den-haag</td>\n",
              "      <td>jens-toornstra</td>\n",
              "      <td>34.0</td>\n",
              "      <td>yellow-card</td>\n",
              "      <td>0</td>\n",
              "      <td>1</td>\n",
              "    </tr>\n",
              "    <tr>\n",
              "      <th>22583</th>\n",
              "      <td>1</td>\n",
              "      <td>2012</td>\n",
              "      <td>26</td>\n",
              "      <td>ado-den-haag</td>\n",
              "      <td>ajax-amsterdam</td>\n",
              "      <td>ado-den-haag</td>\n",
              "      <td>aleksander-radosavljevic</td>\n",
              "      <td>44.0</td>\n",
              "      <td>yellow-card</td>\n",
              "      <td>0</td>\n",
              "      <td>1</td>\n",
              "    </tr>\n",
              "    <tr>\n",
              "      <th>22584</th>\n",
              "      <td>2</td>\n",
              "      <td>2012</td>\n",
              "      <td>26</td>\n",
              "      <td>ado-den-haag</td>\n",
              "      <td>ajax-amsterdam</td>\n",
              "      <td>ado-den-haag</td>\n",
              "      <td>ali-boussaboun</td>\n",
              "      <td>25.0</td>\n",
              "      <td>red-card</td>\n",
              "      <td>1</td>\n",
              "      <td>0</td>\n",
              "    </tr>\n",
              "    <tr>\n",
              "      <th>22585</th>\n",
              "      <td>3</td>\n",
              "      <td>2012</td>\n",
              "      <td>26</td>\n",
              "      <td>ado-den-haag</td>\n",
              "      <td>ajax-amsterdam</td>\n",
              "      <td>ajax-amsterdam</td>\n",
              "      <td>toby-alderweireld</td>\n",
              "      <td>40.0</td>\n",
              "      <td>yellow-card</td>\n",
              "      <td>0</td>\n",
              "      <td>1</td>\n",
              "    </tr>\n",
              "    <tr>\n",
              "      <th>22586</th>\n",
              "      <td>4</td>\n",
              "      <td>2012</td>\n",
              "      <td>26</td>\n",
              "      <td>ado-den-haag</td>\n",
              "      <td>ajax-amsterdam</td>\n",
              "      <td>ajax-amsterdam</td>\n",
              "      <td>theo-janssen</td>\n",
              "      <td>78.0</td>\n",
              "      <td>yellow-card</td>\n",
              "      <td>0</td>\n",
              "      <td>1</td>\n",
              "    </tr>\n",
              "    <tr>\n",
              "      <th>...</th>\n",
              "      <td>...</td>\n",
              "      <td>...</td>\n",
              "      <td>...</td>\n",
              "      <td>...</td>\n",
              "      <td>...</td>\n",
              "      <td>...</td>\n",
              "      <td>...</td>\n",
              "      <td>...</td>\n",
              "      <td>...</td>\n",
              "      <td>...</td>\n",
              "      <td>...</td>\n",
              "    </tr>\n",
              "    <tr>\n",
              "      <th>32287</th>\n",
              "      <td>685</td>\n",
              "      <td>2022</td>\n",
              "      <td>25</td>\n",
              "      <td>willem-ii-tilburg</td>\n",
              "      <td>sc-heerenveen</td>\n",
              "      <td>willem-ii-tilburg</td>\n",
              "      <td>goerkem-saglam</td>\n",
              "      <td>71.0</td>\n",
              "      <td>yellow-card</td>\n",
              "      <td>0</td>\n",
              "      <td>1</td>\n",
              "    </tr>\n",
              "    <tr>\n",
              "      <th>32288</th>\n",
              "      <td>686</td>\n",
              "      <td>2022</td>\n",
              "      <td>12</td>\n",
              "      <td>willem-ii-tilburg</td>\n",
              "      <td>sparta-rotterdam</td>\n",
              "      <td>willem-ii-tilburg</td>\n",
              "      <td>kwasi-wriedt</td>\n",
              "      <td>26.0</td>\n",
              "      <td>yellow-card</td>\n",
              "      <td>0</td>\n",
              "      <td>1</td>\n",
              "    </tr>\n",
              "    <tr>\n",
              "      <th>32289</th>\n",
              "      <td>687</td>\n",
              "      <td>2022</td>\n",
              "      <td>12</td>\n",
              "      <td>willem-ii-tilburg</td>\n",
              "      <td>sparta-rotterdam</td>\n",
              "      <td>sparta-rotterdam</td>\n",
              "      <td>dirk-abels</td>\n",
              "      <td>77.0</td>\n",
              "      <td>yellow-card</td>\n",
              "      <td>0</td>\n",
              "      <td>1</td>\n",
              "    </tr>\n",
              "    <tr>\n",
              "      <th>32290</th>\n",
              "      <td>688</td>\n",
              "      <td>2022</td>\n",
              "      <td>12</td>\n",
              "      <td>willem-ii-tilburg</td>\n",
              "      <td>sparta-rotterdam</td>\n",
              "      <td>sparta-rotterdam</td>\n",
              "      <td>adil-auassar</td>\n",
              "      <td>34.0</td>\n",
              "      <td>yellow-card</td>\n",
              "      <td>0</td>\n",
              "      <td>1</td>\n",
              "    </tr>\n",
              "    <tr>\n",
              "      <th>32291</th>\n",
              "      <td>689</td>\n",
              "      <td>2022</td>\n",
              "      <td>12</td>\n",
              "      <td>willem-ii-tilburg</td>\n",
              "      <td>sparta-rotterdam</td>\n",
              "      <td>sparta-rotterdam</td>\n",
              "      <td>sven-mijnans</td>\n",
              "      <td>19.0</td>\n",
              "      <td>yellow-card</td>\n",
              "      <td>0</td>\n",
              "      <td>1</td>\n",
              "    </tr>\n",
              "  </tbody>\n",
              "</table>\n",
              "<p>9710 rows × 11 columns</p>\n",
              "</div>"
            ],
            "text/plain": [
              "       Unnamed: 0  saison  round               home              away  \\\n",
              "22582           0    2012     26       ado-den-haag    ajax-amsterdam   \n",
              "22583           1    2012     26       ado-den-haag    ajax-amsterdam   \n",
              "22584           2    2012     26       ado-den-haag    ajax-amsterdam   \n",
              "22585           3    2012     26       ado-den-haag    ajax-amsterdam   \n",
              "22586           4    2012     26       ado-den-haag    ajax-amsterdam   \n",
              "...           ...     ...    ...                ...               ...   \n",
              "32287         685    2022     25  willem-ii-tilburg     sc-heerenveen   \n",
              "32288         686    2022     12  willem-ii-tilburg  sparta-rotterdam   \n",
              "32289         687    2022     12  willem-ii-tilburg  sparta-rotterdam   \n",
              "32290         688    2022     12  willem-ii-tilburg  sparta-rotterdam   \n",
              "32291         689    2022     12  willem-ii-tilburg  sparta-rotterdam   \n",
              "\n",
              "                    team                    player  minute         type  \\\n",
              "22582       ado-den-haag            jens-toornstra    34.0  yellow-card   \n",
              "22583       ado-den-haag  aleksander-radosavljevic    44.0  yellow-card   \n",
              "22584       ado-den-haag            ali-boussaboun    25.0     red-card   \n",
              "22585     ajax-amsterdam         toby-alderweireld    40.0  yellow-card   \n",
              "22586     ajax-amsterdam              theo-janssen    78.0  yellow-card   \n",
              "...                  ...                       ...     ...          ...   \n",
              "32287  willem-ii-tilburg            goerkem-saglam    71.0  yellow-card   \n",
              "32288  willem-ii-tilburg              kwasi-wriedt    26.0  yellow-card   \n",
              "32289   sparta-rotterdam                dirk-abels    77.0  yellow-card   \n",
              "32290   sparta-rotterdam              adil-auassar    34.0  yellow-card   \n",
              "32291   sparta-rotterdam              sven-mijnans    19.0  yellow-card   \n",
              "\n",
              "       redCard_nr  yellowCard_nr  \n",
              "22582           0              1  \n",
              "22583           0              1  \n",
              "22584           1              0  \n",
              "22585           0              1  \n",
              "22586           0              1  \n",
              "...           ...            ...  \n",
              "32287           0              1  \n",
              "32288           0              1  \n",
              "32289           0              1  \n",
              "32290           0              1  \n",
              "32291           0              1  \n",
              "\n",
              "[9710 rows x 11 columns]"
            ]
          },
          "execution_count": 1426,
          "metadata": {},
          "output_type": "execute_result"
        }
      ],
      "source": [
        "# Some clubs have different names \n",
        "# We replace it to one name \n",
        "Duplicates(raw_cards_file, \"club\", \"afc-ajax\", \"ajax-amsterdam\")\n",
        "Duplicates(raw_cards_file, \"club\", \"willem-ii\", \"willem-ii-tilburg\")\n",
        "Duplicates(raw_cards_file, \"club\", \"mvv\", \"mvv-maastricht\")\n",
        "Duplicates(raw_cards_file, \"club\", \"vitesse\", \"vitesse-arnhem\")\n",
        "Duplicates(raw_cards_file, \"club\", \"sc-cambuur\", \"cambuur-leeuwarden\")\n",
        "Duplicates(raw_cards_file, \"club\", \"feyenoord\", \"feyenoord-rotterdam\")\n",
        "Duplicates(raw_cards_file, \"club\", \"go-ahead-eagles_2\", \"go-ahead-eagles\")\n",
        "\n",
        "# The cards have different names and we convert them to numbers in order to count them  geelrode kaart\n",
        "Duplicates(raw_cards_file, \"card\", \"rode kaart\", \"red-card\")\n",
        "Duplicates(raw_cards_file, \"card\", \"rode\", \"red-card\")\n",
        "Duplicates(raw_cards_file, \"card\", \"kaartrode\", \"red-card\")\n",
        "Duplicates(raw_cards_file, \"card\", \"gele kaart\", \"yellow-card\")\n",
        "Duplicates(raw_cards_file, \"card\", \"gele\", \"yellow-card\")\n",
        "Duplicates(raw_cards_file, \"card\", \"kaartgele\", \"yellow-card\")\n",
        "Duplicates(raw_cards_file, \"card\", \"geelrode kaart\", \"red-card\")\n",
        "\n",
        "# convert the season to int \n",
        "raw_cards_file['saison'] = raw_cards_file['saison'].apply(toOneSeason)\n",
        "raw_cards_file['saison'] = raw_cards_file['saison'].astype(int)\n",
        "\n",
        "# filter the last 10 seasons \n",
        "filterSeasonCards = raw_cards_file[(raw_cards_file['saison'] >= 2012)]\n",
        "\n",
        "# make new dataframe in order to aggregate\n",
        "dfCards = pd.DataFrame(filterSeasonCards)\n",
        "redCard = dfCards['type']\n",
        "yellowCard= dfCards['type']\n",
        "dfCards['redCard_nr'] = redCard\n",
        "dfCards['yellowCard_nr'] = redCard\n",
        "dfCards[\"redCard_nr\"].replace({\"red-card\": 1, \"yellow-card\": 0}, inplace=True)\n",
        "dfCards[\"yellowCard_nr\"].replace({\"red-card\": 0, \"yellow-card\": 1}, inplace=True)\n",
        "dfCards\n"
      ]
    },
    {
      "cell_type": "code",
      "execution_count": 1427,
      "metadata": {
        "id": "tb66CHudNyt-"
      },
      "outputs": [],
      "source": [
        "# filter the home and away team \n",
        "filterHomeTeam = dfCards[ (dfCards['home'] == dfCards['team'])]\n",
        "filterAwayTeam = dfCards[ (dfCards['away'] == dfCards['team'])]"
      ]
    },
    {
      "cell_type": "markdown",
      "metadata": {
        "id": "HA9mF8FVNyt-"
      },
      "source": [
        "##### Cards Away"
      ]
    },
    {
      "cell_type": "code",
      "execution_count": 1428,
      "metadata": {
        "id": "tySUcmANNyt-"
      },
      "outputs": [
        {
          "name": "stdout",
          "output_type": "stream",
          "text": [
            "5217 yellow cards is made by away team \n"
          ]
        }
      ],
      "source": [
        "# Away yellow cards\n",
        "filterAwayYellowCard = filterAwayTeam[(filterAwayTeam['yellowCard_nr'] == 1)]\n",
        "print(f'{len(filterAwayYellowCard.index)} yellow cards is made by away team ')"
      ]
    },
    {
      "cell_type": "code",
      "execution_count": 1429,
      "metadata": {
        "id": "EUkKfJ-oNyt_"
      },
      "outputs": [
        {
          "name": "stdout",
          "output_type": "stream",
          "text": [
            "247 yellow cards is made by Ajax (Away)\n"
          ]
        }
      ],
      "source": [
        "# How much yellow cards did Ajax get Away \n",
        "filterAjaxYellowCardsAway = filterAwayYellowCard[(filterAwayYellowCard['away'] == 'ajax-amsterdam')]\n",
        "print(f'{len(filterAjaxYellowCardsAway.index)} yellow cards is made by Ajax (Away)')"
      ]
    },
    {
      "cell_type": "code",
      "execution_count": 1430,
      "metadata": {
        "id": "OPbcvOJDNyt_"
      },
      "outputs": [
        {
          "name": "stdout",
          "output_type": "stream",
          "text": [
            "253 yellow cards is made by PSV (Away)\n"
          ]
        }
      ],
      "source": [
        "# How much yellow cards did PSV get Away \n",
        "filterPsvYellowCardsAway = filterAwayYellowCard[(filterAwayYellowCard['away'] == 'psv-eindhoven')]\n",
        "print(f'{len(filterPsvYellowCardsAway.index)} yellow cards is made by PSV (Away)')"
      ]
    },
    {
      "cell_type": "code",
      "execution_count": 1431,
      "metadata": {
        "id": "jbq5slh7Nyt_"
      },
      "outputs": [
        {
          "name": "stdout",
          "output_type": "stream",
          "text": [
            "336 red cards is made by away team \n"
          ]
        }
      ],
      "source": [
        "# Away red cards\n",
        "filterAwayRedCard = filterAwayTeam[(filterAwayTeam['redCard_nr'] == 1)]\n",
        "print(f'{len(filterAwayRedCard.index)} red cards is made by away team ')"
      ]
    },
    {
      "cell_type": "code",
      "execution_count": 1432,
      "metadata": {
        "id": "-qSj0RdENyt_"
      },
      "outputs": [
        {
          "name": "stdout",
          "output_type": "stream",
          "text": [
            "11 red cards is made by Ajax (Away)\n"
          ]
        }
      ],
      "source": [
        "# How much red cards did Ajax get Away \n",
        "filterAjaxRedCardsAway = filterAwayRedCard[(filterAwayRedCard['away'] == 'ajax-amsterdam')]\n",
        "print(f'{len(filterAjaxRedCardsAway.index)} red cards is made by Ajax (Away)')"
      ]
    },
    {
      "cell_type": "code",
      "execution_count": 1433,
      "metadata": {
        "id": "FHe4zP1fNyt_"
      },
      "outputs": [
        {
          "name": "stdout",
          "output_type": "stream",
          "text": [
            "17 red cards is made by Psv (Away)\n"
          ]
        }
      ],
      "source": [
        "# How much red cards did Psv get Away \n",
        "filterPsvRedCardsAway = filterAwayRedCard[(filterAwayRedCard['away'] == 'psv-eindhoven')]\n",
        "print(f'{len(filterPsvRedCardsAway.index)} red cards is made by Psv (Away)')"
      ]
    },
    {
      "cell_type": "markdown",
      "metadata": {
        "id": "6eDJHPMqNyuA"
      },
      "source": [
        "##### Cards Home"
      ]
    },
    {
      "cell_type": "code",
      "execution_count": 1434,
      "metadata": {
        "id": "WupYFKmVNyuA"
      },
      "outputs": [
        {
          "name": "stdout",
          "output_type": "stream",
          "text": [
            "3943 yellow cards is made by home team \n"
          ]
        }
      ],
      "source": [
        "# Home yellow cards\n",
        "filterHomeYellowCard = filterHomeTeam[(filterHomeTeam['yellowCard_nr'] == 1)]\n",
        "print(f'{len(filterHomeYellowCard.index)} yellow cards is made by home team ')"
      ]
    },
    {
      "cell_type": "code",
      "execution_count": 1435,
      "metadata": {
        "id": "oyMJTJ7NNyuA"
      },
      "outputs": [
        {
          "name": "stdout",
          "output_type": "stream",
          "text": [
            "128 yellow cards is made by Ajax (Home)\n"
          ]
        }
      ],
      "source": [
        "# How much yellow cards did Ajax get Home \n",
        "filterAjaxYellowCardsHome = filterHomeYellowCard[(filterHomeYellowCard['home'] == 'ajax-amsterdam')]\n",
        "print(f'{len(filterAjaxYellowCardsHome.index)} yellow cards is made by Ajax (Home)')"
      ]
    },
    {
      "cell_type": "code",
      "execution_count": 1436,
      "metadata": {
        "id": "gaphcHp6NyuA"
      },
      "outputs": [
        {
          "name": "stdout",
          "output_type": "stream",
          "text": [
            "186 yellow cards is made by PSV (Home)\n"
          ]
        }
      ],
      "source": [
        "# How much yellow cards did PSV get Away \n",
        "filterPsvYellowCardsHome = filterHomeYellowCard[(filterHomeYellowCard['home'] == 'psv-eindhoven')]\n",
        "print(f'{len(filterPsvYellowCardsHome.index)} yellow cards is made by PSV (Home)')"
      ]
    },
    {
      "cell_type": "code",
      "execution_count": 1437,
      "metadata": {
        "id": "BgyUU9FiNyuA"
      },
      "outputs": [
        {
          "name": "stdout",
          "output_type": "stream",
          "text": [
            "214 red cards is made by home team \n"
          ]
        }
      ],
      "source": [
        "# Home red cards \n",
        "filterHomeRedCard = filterHomeTeam[(filterHomeTeam['redCard_nr'] == 1)]\n",
        "print(f'{len(filterHomeRedCard.index)} red cards is made by home team ')"
      ]
    },
    {
      "cell_type": "code",
      "execution_count": 1438,
      "metadata": {
        "id": "zziMM9CNNyuA"
      },
      "outputs": [
        {
          "name": "stdout",
          "output_type": "stream",
          "text": [
            "8 red cards is made by Ajax (Home)\n"
          ]
        }
      ],
      "source": [
        "# How much red cards did Ajax get Home \n",
        "filterAjaxRedCardsHome = filterHomeRedCard[(filterHomeRedCard['home'] == 'ajax-amsterdam')]\n",
        "print(f'{len(filterAjaxRedCardsHome.index)} red cards is made by Ajax (Home)')"
      ]
    },
    {
      "cell_type": "code",
      "execution_count": 1439,
      "metadata": {
        "id": "7ASgs_MSNyuA"
      },
      "outputs": [
        {
          "name": "stdout",
          "output_type": "stream",
          "text": [
            "7 red cards is made by Psv (Home)\n"
          ]
        }
      ],
      "source": [
        "# How much red cards did Psv get Home \n",
        "filterPsvRedCardsHome = filterHomeRedCard[(filterHomeRedCard['home'] == 'psv-eindhoven')]\n",
        "print(f'{len(filterPsvRedCardsHome.index)} red cards is made by Psv (Home)')"
      ]
    },
    {
      "cell_type": "markdown",
      "metadata": {
        "id": "6FGfeghiNyuB"
      },
      "source": [
        "#### PSV VS AJAX (Yellow and red cards)"
      ]
    },
    {
      "cell_type": "markdown",
      "metadata": {
        "id": "RGfaK2oVNyuB"
      },
      "source": [
        "##### PSV Stadion"
      ]
    },
    {
      "cell_type": "code",
      "execution_count": 1440,
      "metadata": {
        "id": "QSL4RygsNyuB"
      },
      "outputs": [
        {
          "name": "stdout",
          "output_type": "stream",
          "text": [
            "2 red cards is made by Ajax in PSV Stadion (Away)\n"
          ]
        }
      ],
      "source": [
        "# How much red cards did Ajax get in psv stadion againt PSV\n",
        "filterAjaxCardsInPsvStadion = dfCards[(dfCards['team'] == \"ajax-amsterdam\") & (dfCards['home'] == \"psv-eindhoven\")]\n",
        "filterAjaxCardsInPsvStadionRedCards = filterAjaxCardsInPsvStadion[(filterAjaxCardsInPsvStadion['redCard_nr'] == 1)]\n",
        "print(f'{len(filterAjaxCardsInPsvStadionRedCards.index)} red cards is made by Ajax in PSV Stadion (Away)')"
      ]
    },
    {
      "cell_type": "code",
      "execution_count": 1441,
      "metadata": {
        "id": "exdYjNwiNyuB"
      },
      "outputs": [
        {
          "name": "stdout",
          "output_type": "stream",
          "text": [
            "18 yellow cards is made by Ajax in PSV Stadion (Away)\n"
          ]
        }
      ],
      "source": [
        "# How much yellow cards did Ajax get in psv stadion againt PSV\n",
        "filterAjaxCardsInPsvStadionYellowCards = filterAjaxCardsInPsvStadion[(filterAjaxCardsInPsvStadion['yellowCard_nr'] == 1)]\n",
        "print(f'{len(filterAjaxCardsInPsvStadionYellowCards.index)} yellow cards is made by Ajax in PSV Stadion (Away)')"
      ]
    },
    {
      "cell_type": "code",
      "execution_count": 1442,
      "metadata": {
        "id": "z_5q98LINyuB"
      },
      "outputs": [
        {
          "name": "stdout",
          "output_type": "stream",
          "text": [
            "0 red cards is made by PSV in PSV stadion againts ajax (Home)\n"
          ]
        }
      ],
      "source": [
        "# How much red cards did Psv get in psv stadion againt Ajax\n",
        "filterPSVCardsInPsvStadion = dfCards[(dfCards['team'] == \"psv-eindhoven\") & (dfCards['away'] == \"ajax-amsterdam\")]\n",
        "filterPSVCardsInPsvStadionRedCards = filterPSVCardsInPsvStadion[(filterPSVCardsInPsvStadion['redCard_nr'] == 1)]\n",
        "print(f'{len(filterPSVCardsInPsvStadionRedCards.index)} red cards is made by PSV in PSV stadion againts ajax (Home)')"
      ]
    },
    {
      "cell_type": "code",
      "execution_count": 1443,
      "metadata": {
        "id": "JDO_JHRhNyuB"
      },
      "outputs": [
        {
          "name": "stdout",
          "output_type": "stream",
          "text": [
            "23 yellow cards is made by PSV in PSV stadion againts ajax (Home)\n"
          ]
        }
      ],
      "source": [
        "# How much yellow cards did Psv get in psv studium againt Ajax\n",
        "filterPSVCardsInPsvStadionYellowCards = filterPSVCardsInPsvStadion[(filterPSVCardsInPsvStadion['yellowCard_nr'] == 1)]\n",
        "print(f'{len(filterPSVCardsInPsvStadionYellowCards.index)} yellow cards is made by PSV in PSV stadion againts ajax (Home)')"
      ]
    },
    {
      "cell_type": "code",
      "execution_count": 1444,
      "metadata": {
        "id": "PzB2juDlNyuB"
      },
      "outputs": [
        {
          "data": {
            "text/plain": [
              "<AxesSubplot:title={'center':'Yellow cards made by PSV or Ajax in PSV Stadion'}>"
            ]
          },
          "execution_count": 1444,
          "metadata": {},
          "output_type": "execute_result"
        },
        {
          "data": {
            "image/png": "[encoded data removed]",
            "text/plain": [
              "<Figure size 432x288 with 1 Axes>"
            ]
          },
          "metadata": {
            "needs_background": "light"
          },
          "output_type": "display_data"
        }
      ],
      "source": [
        "plotdata = pd.DataFrame({\n",
        "    \"Ajax\": len(filterAjaxCardsInPsvStadionYellowCards.index),\n",
        "    \"PSV\": len(filterPSVCardsInPsvStadionYellowCards.index)\n",
        "    },\n",
        "    index=[''],\n",
        "   \n",
        ")\n",
        "plotdata.plot(kind = 'bar', title =\"Yellow cards made by PSV or Ajax in PSV Stadion\")"
      ]
    },
    {
      "cell_type": "code",
      "execution_count": 1445,
      "metadata": {
        "id": "4EsMJgXFNyuB"
      },
      "outputs": [
        {
          "data": {
            "text/plain": [
              "<AxesSubplot:title={'center':'Red cards made by PSV or Ajax in PSV Stadion'}>"
            ]
          },
          "execution_count": 1445,
          "metadata": {},
          "output_type": "execute_result"
        },
        {
          "data": {
            "image/png": "[encoded data removed]",
            "text/plain": [
              "<Figure size 432x288 with 1 Axes>"
            ]
          },
          "metadata": {
            "needs_background": "light"
          },
          "output_type": "display_data"
        }
      ],
      "source": [
        "plotdata = pd.DataFrame({\n",
        "    \"Ajax\": len(filterAjaxCardsInPsvStadionRedCards.index),\n",
        "    \"PSV\": len(filterPSVCardsInPsvStadionRedCards.index)\n",
        "    },\n",
        "    index=[''],\n",
        "   \n",
        ")\n",
        "plotdata.plot(kind = 'bar', title =\"Red cards made by PSV or Ajax in PSV Stadion\")"
      ]
    },
    {
      "cell_type": "markdown",
      "metadata": {
        "id": "hJ-kYrW1NyuC"
      },
      "source": [
        "##### Ajax Stadion"
      ]
    },
    {
      "cell_type": "code",
      "execution_count": 1446,
      "metadata": {
        "id": "57DTNA4CNyuC"
      },
      "outputs": [
        {
          "name": "stdout",
          "output_type": "stream",
          "text": [
            "1 red cards is made by Ajax in Ajax Stadion (Home)\n"
          ]
        }
      ],
      "source": [
        "# How much red cards did Ajax get in Ajax stadion againt PSV\n",
        "filterAjaxCardsInAjaxStadion = dfCards[(dfCards['team'] == \"ajax-amsterdam\") & (dfCards['away'] == \"psv-eindhoven\")]\n",
        "filterAjaxCardsInAjaxStadionRedCards = filterAjaxCardsInAjaxStadion[(filterAjaxCardsInAjaxStadion['redCard_nr'] == 1)]\n",
        "print(f'{len(filterAjaxCardsInAjaxStadionRedCards.index)} red cards is made by Ajax in Ajax Stadion (Home)')"
      ]
    },
    {
      "cell_type": "code",
      "execution_count": 1447,
      "metadata": {
        "id": "h-ebsGrNNyuC"
      },
      "outputs": [
        {
          "name": "stdout",
          "output_type": "stream",
          "text": [
            "15 yellow cards is made by Ajax in Ajax Stadion (Home)\n"
          ]
        }
      ],
      "source": [
        "# How much yellow cards did Ajax get in Ajax stadion againt PSV\n",
        "filterAjaxCardsInAjaxStadionYellowCards = filterAjaxCardsInAjaxStadion[(filterAjaxCardsInAjaxStadion['yellowCard_nr'] == 1)]\n",
        "print(f'{len(filterAjaxCardsInAjaxStadionYellowCards.index)} yellow cards is made by Ajax in Ajax Stadion (Home)')"
      ]
    },
    {
      "cell_type": "code",
      "execution_count": 1448,
      "metadata": {
        "id": "zJI3kbGZNyuC"
      },
      "outputs": [
        {
          "name": "stdout",
          "output_type": "stream",
          "text": [
            "0 red cards is made by PSV in Ajax Stadion (Away)\n"
          ]
        }
      ],
      "source": [
        "# How much red cards did PSV get in Ajax stadion againt Ajax\n",
        "filterPSVCardsInAjaxStadion = dfCards[(dfCards['team'] == \"psv-eindhoven\") & (dfCards['home'] == \"ajax-amsterdam\")]\n",
        "filterPSVCardsInAjaxStadionRedCards = filterPSVCardsInAjaxStadion[(filterPSVCardsInAjaxStadion['redCard_nr'] == 1)]\n",
        "print(f'{len(filterPSVCardsInAjaxStadionRedCards.index)} red cards is made by PSV in Ajax Stadion (Away)')"
      ]
    },
    {
      "cell_type": "code",
      "execution_count": 1449,
      "metadata": {
        "id": "V4A9XzA0NyuC"
      },
      "outputs": [
        {
          "name": "stdout",
          "output_type": "stream",
          "text": [
            "23 yellow cards is made by PSV in Ajax Stadion (Away)\n"
          ]
        }
      ],
      "source": [
        "# How much yellow cards did PSV get in Ajax stadion againt Ajax\n",
        "filterPSVCardsInAjaxStadionYellowCards = filterPSVCardsInAjaxStadion[(filterPSVCardsInAjaxStadion['yellowCard_nr'] == 1)]\n",
        "print(f'{len(filterPSVCardsInAjaxStadionYellowCards.index)} yellow cards is made by PSV in Ajax Stadion (Away)')"
      ]
    },
    {
      "cell_type": "code",
      "execution_count": 1450,
      "metadata": {
        "id": "mbT8M6ouNyuC"
      },
      "outputs": [
        {
          "data": {
            "text/plain": [
              "<AxesSubplot:title={'center':'Yellow cards made by PSV or Ajax in Ajax Stadion'}>"
            ]
          },
          "execution_count": 1450,
          "metadata": {},
          "output_type": "execute_result"
        },
        {
          "data": {
            "image/png": "[encoded data removed]",
            "text/plain": [
              "<Figure size 432x288 with 1 Axes>"
            ]
          },
          "metadata": {
            "needs_background": "light"
          },
          "output_type": "display_data"
        }
      ],
      "source": [
        "plotdata = pd.DataFrame({\n",
        "    \"Ajax\": len(filterAjaxCardsInAjaxStadionYellowCards.index),\n",
        "    \"PSV\": len(filterPSVCardsInAjaxStadionYellowCards.index)\n",
        "    },\n",
        "    index=[''],\n",
        "   \n",
        ")\n",
        "plotdata.plot(kind = 'bar', title =\"Yellow cards made by PSV or Ajax in Ajax Stadion\")"
      ]
    },
    {
      "cell_type": "code",
      "execution_count": 1451,
      "metadata": {
        "id": "YUg5WCVCNyuC"
      },
      "outputs": [
        {
          "data": {
            "text/plain": [
              "<AxesSubplot:title={'center':'Red cards made by PSV or Ajax in Ajax Stadion'}>"
            ]
          },
          "execution_count": 1451,
          "metadata": {},
          "output_type": "execute_result"
        },
        {
          "data": {
            "image/png": "[encoded data removed]",
            "text/plain": [
              "<Figure size 432x288 with 1 Axes>"
            ]
          },
          "metadata": {
            "needs_background": "light"
          },
          "output_type": "display_data"
        }
      ],
      "source": [
        "plotdata = pd.DataFrame({\n",
        "    \"Ajax\": len(filterAjaxCardsInAjaxStadionRedCards.index),\n",
        "    \"PSV\": len(filterPSVCardsInAjaxStadionRedCards.index)\n",
        "    },\n",
        "    index=['']\n",
        ")\n",
        "plotdata.plot(kind = 'bar', title =\"Red cards made by PSV or Ajax in Ajax Stadion\")"
      ]
    },
    {
      "cell_type": "markdown",
      "metadata": {
        "id": "MvgqtKG-NyuD"
      },
      "source": [
        "##### Cards each season Ajax"
      ]
    },
    {
      "cell_type": "markdown",
      "metadata": {
        "id": "KKYd7wFlNyuD"
      },
      "source": [
        "<h5>Yellow cards</h5>"
      ]
    },
    {
      "cell_type": "code",
      "execution_count": 1452,
      "metadata": {
        "id": "Fz4Ogy-SNyuD"
      },
      "outputs": [
        {
          "data": {
            "text/plain": [
              "Text(0, 0.5, 'Yellow Cards')"
            ]
          },
          "execution_count": 1452,
          "metadata": {},
          "output_type": "execute_result"
        },
        {
          "data": {
            "image/png": "[encoded data removed]",
            "text/plain": [
              "<Figure size 432x288 with 1 Axes>"
            ]
          },
          "metadata": {
            "needs_background": "light"
          },
          "output_type": "display_data"
        }
      ],
      "source": [
        "# Ajax Goals Each Season Home\n",
        "EachSeasonAjaxYellowCardHome = dfCards[ (dfCards['home'] == 'ajax-amsterdam') & (dfCards['yellowCard_nr'] == 1)]\n",
        "GroupBySeasenAjaxYellowCardHome = EachSeasonAjaxYellowCardHome.groupby(['saison'])[['yellowCard_nr']].sum()\n",
        "\n",
        "# plot Ajax Goals in each Season Home\n",
        "dfEachSeasonAjaxYellowCardHome = pd.DataFrame(GroupBySeasenAjaxYellowCardHome)\n",
        "ax = dfEachSeasonAjaxYellowCardHome.plot(lw=2, colormap='jet', kind = 'bar', title='Ajax got yellow cards Home')\n",
        "ax.set_xlabel(\"Season\")\n",
        "ax.set_ylabel(\"Yellow Cards\")"
      ]
    },
    {
      "cell_type": "code",
      "execution_count": 1453,
      "metadata": {
        "id": "nVYQbWW3NyuD"
      },
      "outputs": [
        {
          "data": {
            "text/plain": [
              "Text(0, 0.5, 'Yellow Cards')"
            ]
          },
          "execution_count": 1453,
          "metadata": {},
          "output_type": "execute_result"
        },
        {
          "data": {
            "image/png": "[encoded data removed]",
            "text/plain": [
              "<Figure size 432x288 with 1 Axes>"
            ]
          },
          "metadata": {
            "needs_background": "light"
          },
          "output_type": "display_data"
        }
      ],
      "source": [
        "# Ajax Yellow cards Each Season Away\n",
        "EachSeasonAjaxYellowCardAway = dfCards[ (dfCards['away'] == 'ajax-amsterdam') & (dfCards['yellowCard_nr'] == 1)]\n",
        "GroupBySeasenAjaxYellowCardAway = EachSeasonAjaxYellowCardAway.groupby(['saison'])[['yellowCard_nr']].sum()\n",
        "\n",
        "# plot Yellow cards in each Season Away\n",
        "dfEachSeasonAjaxYellowCardAway = pd.DataFrame(GroupBySeasenAjaxYellowCardAway)\n",
        "ax = dfEachSeasonAjaxYellowCardAway.plot(lw=2, colormap='jet', kind = 'bar', title='Ajax got yellow cards Away')\n",
        "ax.set_xlabel(\"Season\")\n",
        "ax.set_ylabel(\"Yellow Cards\")"
      ]
    },
    {
      "cell_type": "code",
      "execution_count": 1454,
      "metadata": {
        "id": "EjGPJBNRNyuE"
      },
      "outputs": [
        {
          "data": {
            "text/plain": [
              "Text(0, 0.5, 'Yellow cards')"
            ]
          },
          "execution_count": 1454,
          "metadata": {},
          "output_type": "execute_result"
        },
        {
          "data": {
            "image/png": "[encoded data removed]",
            "text/plain": [
              "<Figure size 432x288 with 1 Axes>"
            ]
          },
          "metadata": {
            "needs_background": "light"
          },
          "output_type": "display_data"
        }
      ],
      "source": [
        "# make new dataframe in order to aggregate\n",
        "dfAjaxYellowCardTotalEachSeason = pd.DataFrame()\n",
        "AjaxAwayYellowCards= GroupBySeasenAjaxYellowCardAway['yellowCard_nr']\n",
        "AjaxHomeYellowCards= GroupBySeasenAjaxYellowCardHome['yellowCard_nr']\n",
        "dfAjaxYellowCardTotalEachSeason['yellow_home'] = AjaxHomeYellowCards\n",
        "dfAjaxYellowCardTotalEachSeason[\"yellow_away\"] = AjaxAwayYellowCards\n",
        "sum_AllYellowCardsInEachSeason = dfAjaxYellowCardTotalEachSeason[\"yellow_home\"] + dfAjaxYellowCardTotalEachSeason[\"yellow_away\"]\n",
        "dfAjaxYellowCardTotalEachSeason[\"yellow_total\"] = sum_AllYellowCardsInEachSeason\n",
        "\n",
        "\n",
        "# plot Ajax Goals in each Season Total\n",
        "dfAjaxYellowCardsTotalEachSeasonPlot = pd.DataFrame(dfAjaxYellowCardTotalEachSeason)\n",
        "ax = dfAjaxYellowCardsTotalEachSeasonPlot.plot(lw=2, colormap='jet', kind = 'bar', title='Ajax yellow cards Total')\n",
        "ax.set_xlabel(\"Season\")\n",
        "ax.set_ylabel(\"Yellow cards\")"
      ]
    },
    {
      "cell_type": "markdown",
      "metadata": {
        "id": "XLx0yM-yNyuE"
      },
      "source": [
        "<h5>Red cards</h5>"
      ]
    },
    {
      "cell_type": "code",
      "execution_count": 1455,
      "metadata": {
        "id": "2CvVayWgNyuE"
      },
      "outputs": [
        {
          "data": {
            "text/plain": [
              "Text(0, 0.5, 'Red Cards')"
            ]
          },
          "execution_count": 1455,
          "metadata": {},
          "output_type": "execute_result"
        },
        {
          "data": {
            "image/png": "[encoded data removed]",
            "text/plain": [
              "<Figure size 432x288 with 1 Axes>"
            ]
          },
          "metadata": {
            "needs_background": "light"
          },
          "output_type": "display_data"
        }
      ],
      "source": [
        "# Ajax red cards Each Season Home\n",
        "EachSeasonAjaxRedCardHome = dfCards[ (dfCards['home'] == 'ajax-amsterdam') & (dfCards['redCard_nr'] == 1)]\n",
        "GroupBySeasenAjaxRedCardHome = EachSeasonAjaxRedCardHome.groupby(['saison'])[['redCard_nr']].sum()\n",
        "GroupBySeasenAjaxRedCardHome\n",
        "\n",
        "# plot  red cards in each Season Home\n",
        "dfEachSeasonAjaxRedCardHome = pd.DataFrame(GroupBySeasenAjaxRedCardHome)\n",
        "ax = dfEachSeasonAjaxRedCardHome.plot(lw=2, colormap='jet', kind = 'bar', title='Ajax got red cards Home')\n",
        "ax.set_xlabel(\"Season\")\n",
        "ax.set_ylabel(\"Red Cards\")"
      ]
    },
    {
      "cell_type": "code",
      "execution_count": 1456,
      "metadata": {
        "id": "A-mPL9RrNyuE"
      },
      "outputs": [
        {
          "data": {
            "text/plain": [
              "Text(0, 0.5, 'Red Cards')"
            ]
          },
          "execution_count": 1456,
          "metadata": {},
          "output_type": "execute_result"
        },
        {
          "data": {
            "image/png": "[encoded data removed]",
            "text/plain": [
              "<Figure size 432x288 with 1 Axes>"
            ]
          },
          "metadata": {
            "needs_background": "light"
          },
          "output_type": "display_data"
        }
      ],
      "source": [
        "# Ajax red cards Each Season Away\n",
        "EachSeasonAjaxRedCardAway = dfCards[ (dfCards['away'] == 'ajax-amsterdam') & (dfCards['redCard_nr'] == 1)]\n",
        "GroupBySeasenAjaxRedCardAway = EachSeasonAjaxRedCardAway.groupby(['saison'])[['redCard_nr']].sum()\n",
        "\n",
        "# plot  red cards in each Season Away\n",
        "dfEachSeasonAjaxRedCardAway = pd.DataFrame(GroupBySeasenAjaxRedCardAway)\n",
        "ax = dfEachSeasonAjaxRedCardAway.plot(lw=2, colormap='jet', kind = 'bar', title='Ajax got red cards Away')\n",
        "ax.set_xlabel(\"Season\")\n",
        "ax.set_ylabel(\"Red Cards\")"
      ]
    },
    {
      "cell_type": "code",
      "execution_count": 1457,
      "metadata": {
        "id": "lJ1652JgNyuE"
      },
      "outputs": [
        {
          "data": {
            "text/plain": [
              "Text(0, 0.5, 'Red cards')"
            ]
          },
          "execution_count": 1457,
          "metadata": {},
          "output_type": "execute_result"
        },
        {
          "data": {
            "image/png": "[encoded data removed]",
            "text/plain": [
              "<Figure size 432x288 with 1 Axes>"
            ]
          },
          "metadata": {
            "needs_background": "light"
          },
          "output_type": "display_data"
        }
      ],
      "source": [
        "# make new dataframe in order to aggregate\n",
        "dfAjaxRedCardTotalEachSeason = pd.DataFrame()\n",
        "AjaxAwayRedCards= GroupBySeasenAjaxRedCardAway['redCard_nr']\n",
        "AjaxHomeRedCards= GroupBySeasenAjaxRedCardHome['redCard_nr']\n",
        "dfAjaxRedCardTotalEachSeason['red_home'] = AjaxHomeRedCards\n",
        "dfAjaxRedCardTotalEachSeason[\"red_away\"] = AjaxAwayRedCards\n",
        "sum_AllRedCardsInEachSeason = dfAjaxRedCardTotalEachSeason[\"red_home\"] + dfAjaxRedCardTotalEachSeason[\"red_away\"]\n",
        "dfAjaxRedCardTotalEachSeason[\"red_total\"] = sum_AllRedCardsInEachSeason\n",
        "\n",
        "\n",
        "# plot Ajax Goals in each Season Total\n",
        "dfAjaxRedCardsTotalEachSeasonPlot = pd.DataFrame(dfAjaxRedCardTotalEachSeason)\n",
        "ax = dfAjaxRedCardsTotalEachSeasonPlot.plot(lw=2, colormap='jet', kind = 'bar', title='Ajax red cards Total')\n",
        "ax.set_xlabel(\"Season\")\n",
        "ax.set_ylabel(\"Red cards\")"
      ]
    },
    {
      "cell_type": "markdown",
      "metadata": {
        "id": "V-yl8odQNyuE"
      },
      "source": [
        "##### Cards each season PSV"
      ]
    },
    {
      "cell_type": "markdown",
      "metadata": {
        "id": "k5wOPNsrNyuE"
      },
      "source": [
        "<h5> yellow cards </h5>"
      ]
    },
    {
      "cell_type": "code",
      "execution_count": 1458,
      "metadata": {
        "id": "bmW4AgfFNyuE"
      },
      "outputs": [
        {
          "data": {
            "text/plain": [
              "Text(0, 0.5, 'Yellow Cards')"
            ]
          },
          "execution_count": 1458,
          "metadata": {},
          "output_type": "execute_result"
        },
        {
          "data": {
            "image/png": "[encoded data removed]",
            "text/plain": [
              "<Figure size 432x288 with 1 Axes>"
            ]
          },
          "metadata": {
            "needs_background": "light"
          },
          "output_type": "display_data"
        }
      ],
      "source": [
        "# PSV Yellow card Each Season Home\n",
        "EachSeasonPSVYellowCardHome = dfCards[ (dfCards['home'] == 'psv-eindhoven') & (dfCards['yellowCard_nr'] == 1)]\n",
        "GroupBySeasenPSVYellowCardHome = EachSeasonPSVYellowCardHome.groupby(['saison'])[['yellowCard_nr']].sum()\n",
        "\n",
        "# plot PSV Goals in each Season Home\n",
        "dfEachSeasonPSVYellowCardHome = pd.DataFrame(GroupBySeasenPSVYellowCardHome)\n",
        "ax = dfEachSeasonPSVYellowCardHome.plot(lw=2, colormap='jet', kind = 'bar', title='PSV got yellow cards Home')\n",
        "ax.set_xlabel(\"Season\")\n",
        "ax.set_ylabel(\"Yellow Cards\")"
      ]
    },
    {
      "cell_type": "code",
      "execution_count": 1459,
      "metadata": {
        "id": "NtGrmzj2NyuF"
      },
      "outputs": [
        {
          "data": {
            "text/plain": [
              "Text(0, 0.5, 'Yellow Cards')"
            ]
          },
          "execution_count": 1459,
          "metadata": {},
          "output_type": "execute_result"
        },
        {
          "data": {
            "image/png": "[encoded data removed]",
            "text/plain": [
              "<Figure size 432x288 with 1 Axes>"
            ]
          },
          "metadata": {
            "needs_background": "light"
          },
          "output_type": "display_data"
        }
      ],
      "source": [
        "# PSV Yellow cards Each Season Away\n",
        "EachSeasonPSVYellowCardAway = dfCards[ (dfCards['away'] == 'psv-eindhoven') & (dfCards['yellowCard_nr'] == 1)]\n",
        "GroupBySeasenPSVYellowCardAway = EachSeasonPSVYellowCardAway.groupby(['saison'])[['yellowCard_nr']].sum()\n",
        "\n",
        "# plot Yellow cards in each Season Away\n",
        "dfEachSeasonPSVYellowCardAway = pd.DataFrame(GroupBySeasenPSVYellowCardAway)\n",
        "ax = dfEachSeasonPSVYellowCardAway.plot(lw=2, colormap='jet', kind = 'bar', title='PSV got yellow cards Away')\n",
        "ax.set_xlabel(\"Season\")\n",
        "ax.set_ylabel(\"Yellow Cards\")"
      ]
    },
    {
      "cell_type": "code",
      "execution_count": 1460,
      "metadata": {
        "id": "0dqY7Q8sNyuF"
      },
      "outputs": [
        {
          "data": {
            "text/plain": [
              "Text(0, 0.5, 'Yellow cards')"
            ]
          },
          "execution_count": 1460,
          "metadata": {},
          "output_type": "execute_result"
        },
        {
          "data": {
            "image/png": "[encoded data removed]",
            "text/plain": [
              "<Figure size 432x288 with 1 Axes>"
            ]
          },
          "metadata": {
            "needs_background": "light"
          },
          "output_type": "display_data"
        }
      ],
      "source": [
        "# make new dataframe in order to aggregate\n",
        "dfPSVYellowCardTotalEachSeason = pd.DataFrame()\n",
        "PSVAwayYellowCards= GroupBySeasenPSVYellowCardAway['yellowCard_nr']\n",
        "PSVHomeYellowCards= GroupBySeasenPSVYellowCardHome['yellowCard_nr']\n",
        "dfPSVYellowCardTotalEachSeason['yellow_home'] = PSVHomeYellowCards\n",
        "dfPSVYellowCardTotalEachSeason[\"yellow_away\"] = PSVAwayYellowCards\n",
        "sum_AllYellowCardsInEachSeason = dfPSVYellowCardTotalEachSeason[\"yellow_home\"] + dfPSVYellowCardTotalEachSeason[\"yellow_away\"]\n",
        "dfPSVYellowCardTotalEachSeason[\"yellow_total\"] = sum_AllYellowCardsInEachSeason\n",
        "\n",
        "\n",
        "# plot PSV Yellow cards in each Season Total\n",
        "dfPSVYellowCardsTotalEachSeasonPlot = pd.DataFrame(dfPSVYellowCardTotalEachSeason)\n",
        "ax = dfPSVYellowCardsTotalEachSeasonPlot.plot(lw=2, colormap='jet', kind = 'bar', title='PSV yellow cards Total')\n",
        "ax.set_xlabel(\"Season\")\n",
        "ax.set_ylabel(\"Yellow cards\")"
      ]
    },
    {
      "cell_type": "markdown",
      "metadata": {
        "id": "yc86LV9SNyuF"
      },
      "source": [
        "<h5> red cards </h5>"
      ]
    },
    {
      "cell_type": "code",
      "execution_count": 1461,
      "metadata": {
        "id": "WFVB8Tr_NyuF"
      },
      "outputs": [
        {
          "data": {
            "text/plain": [
              "Text(0, 0.5, 'Red Cards')"
            ]
          },
          "execution_count": 1461,
          "metadata": {},
          "output_type": "execute_result"
        },
        {
          "data": {
            "image/png": "[encoded data removed]",
            "text/plain": [
              "<Figure size 432x288 with 1 Axes>"
            ]
          },
          "metadata": {
            "needs_background": "light"
          },
          "output_type": "display_data"
        }
      ],
      "source": [
        "# PSV red cards Each Season Home\n",
        "EachSeasonPSVRedCardHome = dfCards[ (dfCards['home'] == 'psv-eindhoven') & (dfCards['redCard_nr'] == 1)]\n",
        "GroupBySeasenPSVRedCardHome = EachSeasonPSVRedCardHome.groupby(['saison'])[['redCard_nr']].sum()\n",
        "\n",
        "# plot  red cards in each Season Home\n",
        "dfEachSeasonPSVRedCardHome = pd.DataFrame(GroupBySeasenPSVRedCardHome)\n",
        "ax = dfEachSeasonPSVRedCardHome.plot(lw=2, colormap='jet', kind = 'bar', title='PSV got red cards Home')\n",
        "ax.set_xlabel(\"Season\")\n",
        "ax.set_ylabel(\"Red Cards\")"
      ]
    },
    {
      "cell_type": "code",
      "execution_count": 1462,
      "metadata": {
        "id": "NAg67GZ_NyuF"
      },
      "outputs": [
        {
          "data": {
            "text/plain": [
              "Text(0, 0.5, 'Red Cards')"
            ]
          },
          "execution_count": 1462,
          "metadata": {},
          "output_type": "execute_result"
        },
        {
          "data": {
            "image/png": "[encoded data removed]",
            "text/plain": [
              "<Figure size 432x288 with 1 Axes>"
            ]
          },
          "metadata": {
            "needs_background": "light"
          },
          "output_type": "display_data"
        }
      ],
      "source": [
        "# PSV red cards Each Season Away\n",
        "EachSeasonPSVRedCardAway = dfCards[ (dfCards['away'] == 'psv-eindhoven') & (dfCards['redCard_nr'] == 1)]\n",
        "GroupBySeasenPSVRedCardAway = EachSeasonPSVRedCardAway.groupby(['saison'])[['redCard_nr']].sum()\n",
        "\n",
        "# plot  red cards in each Season Away\n",
        "dfEachSeasonPSVRedCardAway = pd.DataFrame(GroupBySeasenPSVRedCardAway)\n",
        "ax = dfEachSeasonPSVRedCardAway.plot(lw=2, colormap='jet', kind = 'bar', title='PSV got red cards Away')\n",
        "ax.set_xlabel(\"Season\")\n",
        "ax.set_ylabel(\"Red Cards\")"
      ]
    },
    {
      "cell_type": "code",
      "execution_count": 1463,
      "metadata": {
        "id": "xIo5i6d6NyuF"
      },
      "outputs": [
        {
          "data": {
            "text/plain": [
              "Text(0, 0.5, 'Red cards')"
            ]
          },
          "execution_count": 1463,
          "metadata": {},
          "output_type": "execute_result"
        },
        {
          "data": {
            "image/png": "[encoded data removed]",
            "text/plain": [
              "<Figure size 432x288 with 1 Axes>"
            ]
          },
          "metadata": {
            "needs_background": "light"
          },
          "output_type": "display_data"
        }
      ],
      "source": [
        "# make new dataframe in order to aggregate\n",
        "dfPSVRedCardTotalEachSeason = pd.DataFrame()\n",
        "PSVAwayRedCards= GroupBySeasenPSVRedCardAway['redCard_nr']\n",
        "PSVHomeRedCards= GroupBySeasenPSVRedCardHome['redCard_nr']\n",
        "dfPSVRedCardTotalEachSeason['red_home'] = PSVHomeRedCards\n",
        "dfPSVRedCardTotalEachSeason[\"red_away\"] = PSVAwayRedCards\n",
        "sum_AllRedCardsInEachSeason = dfPSVRedCardTotalEachSeason[\"red_home\"] + dfPSVRedCardTotalEachSeason[\"red_away\"]\n",
        "dfPSVRedCardTotalEachSeason[\"red_total\"] = sum_AllRedCardsInEachSeason\n",
        "\n",
        "\n",
        "# plot PSV Yellow cards in each Season Total\n",
        "dfPSVRedCardsTotalEachSeasonPlot = pd.DataFrame(dfPSVRedCardTotalEachSeason)\n",
        "ax = dfPSVRedCardsTotalEachSeasonPlot.plot(lw=2, colormap='jet', kind = 'bar', title='PSV red cards Total')\n",
        "ax.set_xlabel(\"Season\")\n",
        "ax.set_ylabel(\"Red cards\")"
      ]
    },
    {
      "cell_type": "markdown",
      "metadata": {
        "id": "JNpYTm8TNyuD"
      },
      "source": [
        "## Players"
      ]
    },
    {
      "cell_type": "code",
      "execution_count": 1464,
      "metadata": {
        "id": "TwUn5dPONyuD"
      },
      "outputs": [
        {
          "data": {
            "text/html": [
              "<div>\n",
              "<style scoped>\n",
              "    .dataframe tbody tr th:only-of-type {\n",
              "        vertical-align: middle;\n",
              "    }\n",
              "\n",
              "    .dataframe tbody tr th {\n",
              "        vertical-align: top;\n",
              "    }\n",
              "\n",
              "    .dataframe thead th {\n",
              "        text-align: right;\n",
              "    }\n",
              "</style>\n",
              "<table border=\"1\" class=\"dataframe\">\n",
              "  <thead>\n",
              "    <tr style=\"text-align: right;\">\n",
              "      <th></th>\n",
              "      <th>index</th>\n",
              "      <th>saison</th>\n",
              "      <th>round</th>\n",
              "      <th>home</th>\n",
              "      <th>away</th>\n",
              "      <th>team</th>\n",
              "      <th>player</th>\n",
              "      <th>started</th>\n",
              "      <th>startedNumber</th>\n",
              "    </tr>\n",
              "  </thead>\n",
              "  <tbody>\n",
              "    <tr>\n",
              "      <th>409991</th>\n",
              "      <td>0</td>\n",
              "      <td>2012</td>\n",
              "      <td>26</td>\n",
              "      <td>ado-den-haag</td>\n",
              "      <td>ajax-amsterdam</td>\n",
              "      <td>ado-den-haag</td>\n",
              "      <td>gino-coutinho</td>\n",
              "      <td>True</td>\n",
              "      <td>1</td>\n",
              "    </tr>\n",
              "    <tr>\n",
              "      <th>409992</th>\n",
              "      <td>1</td>\n",
              "      <td>2012</td>\n",
              "      <td>26</td>\n",
              "      <td>ado-den-haag</td>\n",
              "      <td>ajax-amsterdam</td>\n",
              "      <td>ado-den-haag</td>\n",
              "      <td>chris-kum</td>\n",
              "      <td>True</td>\n",
              "      <td>1</td>\n",
              "    </tr>\n",
              "    <tr>\n",
              "      <th>409993</th>\n",
              "      <td>2</td>\n",
              "      <td>2012</td>\n",
              "      <td>26</td>\n",
              "      <td>ado-den-haag</td>\n",
              "      <td>ajax-amsterdam</td>\n",
              "      <td>ado-den-haag</td>\n",
              "      <td>kenneth-omeruo</td>\n",
              "      <td>True</td>\n",
              "      <td>1</td>\n",
              "    </tr>\n",
              "    <tr>\n",
              "      <th>409994</th>\n",
              "      <td>3</td>\n",
              "      <td>2012</td>\n",
              "      <td>26</td>\n",
              "      <td>ado-den-haag</td>\n",
              "      <td>ajax-amsterdam</td>\n",
              "      <td>ado-den-haag</td>\n",
              "      <td>filip-luksik</td>\n",
              "      <td>True</td>\n",
              "      <td>1</td>\n",
              "    </tr>\n",
              "    <tr>\n",
              "      <th>409995</th>\n",
              "      <td>4</td>\n",
              "      <td>2012</td>\n",
              "      <td>26</td>\n",
              "      <td>ado-den-haag</td>\n",
              "      <td>ajax-amsterdam</td>\n",
              "      <td>ado-den-haag</td>\n",
              "      <td>gabor-horvath</td>\n",
              "      <td>True</td>\n",
              "      <td>1</td>\n",
              "    </tr>\n",
              "    <tr>\n",
              "      <th>...</th>\n",
              "      <td>...</td>\n",
              "      <td>...</td>\n",
              "      <td>...</td>\n",
              "      <td>...</td>\n",
              "      <td>...</td>\n",
              "      <td>...</td>\n",
              "      <td>...</td>\n",
              "      <td>...</td>\n",
              "      <td>...</td>\n",
              "    </tr>\n",
              "    <tr>\n",
              "      <th>531095</th>\n",
              "      <td>9368</td>\n",
              "      <td>2022</td>\n",
              "      <td>12</td>\n",
              "      <td>willem-ii-tilburg</td>\n",
              "      <td>sparta-rotterdam</td>\n",
              "      <td>sparta-rotterdam</td>\n",
              "      <td>vito-van-crooij</td>\n",
              "      <td>False</td>\n",
              "      <td>0</td>\n",
              "    </tr>\n",
              "    <tr>\n",
              "      <th>531096</th>\n",
              "      <td>9369</td>\n",
              "      <td>2022</td>\n",
              "      <td>12</td>\n",
              "      <td>willem-ii-tilburg</td>\n",
              "      <td>sparta-rotterdam</td>\n",
              "      <td>sparta-rotterdam</td>\n",
              "      <td>mario-engels</td>\n",
              "      <td>False</td>\n",
              "      <td>0</td>\n",
              "    </tr>\n",
              "    <tr>\n",
              "      <th>531097</th>\n",
              "      <td>9370</td>\n",
              "      <td>2022</td>\n",
              "      <td>12</td>\n",
              "      <td>willem-ii-tilburg</td>\n",
              "      <td>sparta-rotterdam</td>\n",
              "      <td>sparta-rotterdam</td>\n",
              "      <td>benjamin-van-leer</td>\n",
              "      <td>False</td>\n",
              "      <td>0</td>\n",
              "    </tr>\n",
              "    <tr>\n",
              "      <th>531098</th>\n",
              "      <td>9371</td>\n",
              "      <td>2022</td>\n",
              "      <td>12</td>\n",
              "      <td>willem-ii-tilburg</td>\n",
              "      <td>sparta-rotterdam</td>\n",
              "      <td>sparta-rotterdam</td>\n",
              "      <td>tim-coremans</td>\n",
              "      <td>False</td>\n",
              "      <td>0</td>\n",
              "    </tr>\n",
              "    <tr>\n",
              "      <th>531099</th>\n",
              "      <td>9372</td>\n",
              "      <td>2022</td>\n",
              "      <td>12</td>\n",
              "      <td>willem-ii-tilburg</td>\n",
              "      <td>sparta-rotterdam</td>\n",
              "      <td>sparta-rotterdam</td>\n",
              "      <td>michael-heylen</td>\n",
              "      <td>False</td>\n",
              "      <td>0</td>\n",
              "    </tr>\n",
              "  </tbody>\n",
              "</table>\n",
              "<p>121109 rows × 9 columns</p>\n",
              "</div>"
            ],
            "text/plain": [
              "        index  saison  round               home              away  \\\n",
              "409991      0    2012     26       ado-den-haag    ajax-amsterdam   \n",
              "409992      1    2012     26       ado-den-haag    ajax-amsterdam   \n",
              "409993      2    2012     26       ado-den-haag    ajax-amsterdam   \n",
              "409994      3    2012     26       ado-den-haag    ajax-amsterdam   \n",
              "409995      4    2012     26       ado-den-haag    ajax-amsterdam   \n",
              "...       ...     ...    ...                ...               ...   \n",
              "531095   9368    2022     12  willem-ii-tilburg  sparta-rotterdam   \n",
              "531096   9369    2022     12  willem-ii-tilburg  sparta-rotterdam   \n",
              "531097   9370    2022     12  willem-ii-tilburg  sparta-rotterdam   \n",
              "531098   9371    2022     12  willem-ii-tilburg  sparta-rotterdam   \n",
              "531099   9372    2022     12  willem-ii-tilburg  sparta-rotterdam   \n",
              "\n",
              "                    team             player  started  startedNumber  \n",
              "409991      ado-den-haag      gino-coutinho     True              1  \n",
              "409992      ado-den-haag          chris-kum     True              1  \n",
              "409993      ado-den-haag     kenneth-omeruo     True              1  \n",
              "409994      ado-den-haag       filip-luksik     True              1  \n",
              "409995      ado-den-haag      gabor-horvath     True              1  \n",
              "...                  ...                ...      ...            ...  \n",
              "531095  sparta-rotterdam    vito-van-crooij    False              0  \n",
              "531096  sparta-rotterdam       mario-engels    False              0  \n",
              "531097  sparta-rotterdam  benjamin-van-leer    False              0  \n",
              "531098  sparta-rotterdam       tim-coremans    False              0  \n",
              "531099  sparta-rotterdam     michael-heylen    False              0  \n",
              "\n",
              "[121109 rows x 9 columns]"
            ]
          },
          "execution_count": 1464,
          "metadata": {},
          "output_type": "execute_result"
        }
      ],
      "source": [
        "# we drop the unneccesary columns \n",
        "raw_players_file.drop(columns=['round'])\n",
        "\n",
        "Duplicates(raw_players_file, \"club\", \"afc-ajax\", \"ajax-amsterdam\")\n",
        "Duplicates(raw_players_file, \"club\", \"willem-ii\", \"willem-ii-tilburg\")\n",
        "Duplicates(raw_players_file, \"club\", \"mvv\", \"mvv-maastricht\")\n",
        "Duplicates(raw_players_file, \"club\", \"vitesse\", \"vitesse-arnhem\")\n",
        "Duplicates(raw_players_file, \"club\", \"sc-cambuur\", \"cambuur-leeuwarden\")\n",
        "Duplicates(raw_players_file, \"club\", \"feyenoord\", \"feyenoord-rotterdam\")\n",
        "Duplicates(raw_players_file, \"club\", \"go-ahead-eagles_2\", \"go-ahead-eagles\")\n",
        "\n",
        "\n",
        "# convert the season to int \n",
        "raw_players_file['saison'] = raw_players_file['saison'].apply(toOneSeason)\n",
        "raw_players_file['saison'] = raw_players_file['saison'].astype(int)\n",
        "\n",
        "# # filter the last 10 seasons \n",
        "filterSeasonMatchesPlayers = raw_players_file[(raw_players_file['saison'] >= 2012)]\n",
        "# make new dataframe in order to aggregate\n",
        "dfPlayer = pd.DataFrame(filterSeasonMatchesPlayers)\n",
        "startedNumber= dfPlayer['started']\n",
        "dfPlayer['startedNumber'] = startedNumber\n",
        "dfPlayer[\"startedNumber\"].replace({True: 1, False: 0}, inplace=True)\n",
        "dfPlayer"
      ]
    },
    {
      "cell_type": "code",
      "execution_count": 1465,
      "metadata": {
        "id": "ZJ46m8yMNyuD"
      },
      "outputs": [
        {
          "name": "stdout",
          "output_type": "stream",
          "text": [
            "player               team               \n",
            "bram-van-polen       pec-zwolle             233\n",
            "aaron-meijers        ado-den-haag           222\n",
            "mark-van-der-maarel  fc-utrecht             219\n",
            "sergio-padt          fc-groningen           211\n",
            "guram-kashia         vitesse-arnhem         201\n",
            "willem-janssen_2     fc-utrecht             191\n",
            "jeroen-zoet          psv-eindhoven          185\n",
            "jordens-peters       willem-ii-tilburg      181\n",
            "jens-toornstra       feyenoord-rotterdam    179\n",
            "daley-blind          ajax-amsterdam         168\n",
            "Name: startedNumber, dtype: int64\n",
            "player\n",
            "daley-blind      168\n",
            "lasse-schoene    156\n",
            "joel-veltman     150\n",
            "davy-klaassen    141\n",
            "andre-onana      131\n",
            "Name: startedNumber, dtype: int64\n",
            "player\n",
            "jeroen-zoet       185\n",
            "luuk-de-jong      142\n",
            "jetro-willems     125\n",
            "santiago-arias    120\n",
            "jorrit-hendrix    117\n",
            "Name: startedNumber, dtype: int64\n"
          ]
        }
      ],
      "source": [
        "filterPlayers = dfPlayer[(dfPlayer['team'] == dfPlayer['away']) &\n",
        "                         (dfPlayer['team'] == dfPlayer['home'])]\n",
        "\n",
        "# The most players how played least 10 years\n",
        "groupByPlayers = dfPlayer.groupby(['player' , \"team\"])['startedNumber'].sum()\n",
        "print(groupByPlayers.nlargest(n=10))\n",
        "\n",
        "# The most players how played least 10 years in AJAX\n",
        "filterPlayersAjax = dfPlayer[(dfPlayer['team'] == \"ajax-amsterdam\")]\n",
        "groupByAjaxPlayers = filterPlayersAjax.groupby('player')['startedNumber'].sum()\n",
        "print(groupByAjaxPlayers.nlargest(n=5))\n",
        "\n",
        "# The most players how played least 10 years in PSV\n",
        "filterPlayersPSV = dfPlayer[(dfPlayer['team'] == \"psv-eindhoven\")]\n",
        "groupByPSVPlayers = filterPlayersPSV.groupby('player')['startedNumber'].sum()\n",
        "print(groupByPSVPlayers.nlargest(n=5))"
      ]
    },
    {
      "cell_type": "markdown",
      "metadata": {
        "id": "gEIVY86_NyuF"
      },
      "source": [
        "## Matches"
      ]
    },
    {
      "cell_type": "code",
      "execution_count": 1466,
      "metadata": {
        "id": "SdNVIG2uNyuG"
      },
      "outputs": [
        {
          "name": "stderr",
          "output_type": "stream",
          "text": [
            "C:\\Users\\malja\\AppData\\Local\\Temp/ipykernel_23612/3111827600.py:18: SettingWithCopyWarning: \n",
            "A value is trying to be set on a copy of a slice from a DataFrame.\n",
            "Try using .loc[row_indexer,col_indexer] = value instead\n",
            "\n",
            "See the caveats in the documentation: https://pandas.pydata.org/pandas-docs/stable/user_guide/indexing.html#returning-a-view-versus-a-copy\n",
            "  filterSeasonMatches['home_score'] = pd.to_numeric(filterSeasonMatches['home_score'])\n",
            "C:\\Users\\malja\\AppData\\Local\\Temp/ipykernel_23612/3111827600.py:19: SettingWithCopyWarning: \n",
            "A value is trying to be set on a copy of a slice from a DataFrame.\n",
            "Try using .loc[row_indexer,col_indexer] = value instead\n",
            "\n",
            "See the caveats in the documentation: https://pandas.pydata.org/pandas-docs/stable/user_guide/indexing.html#returning-a-view-versus-a-copy\n",
            "  filterSeasonMatches['away_score'] = pd.to_numeric(filterSeasonMatches['away_score'])\n"
          ]
        },
        {
          "data": {
            "text/html": [
              "<div>\n",
              "<style scoped>\n",
              "    .dataframe tbody tr th:only-of-type {\n",
              "        vertical-align: middle;\n",
              "    }\n",
              "\n",
              "    .dataframe tbody tr th {\n",
              "        vertical-align: top;\n",
              "    }\n",
              "\n",
              "    .dataframe thead th {\n",
              "        text-align: right;\n",
              "    }\n",
              "</style>\n",
              "<table border=\"1\" class=\"dataframe\">\n",
              "  <thead>\n",
              "    <tr style=\"text-align: right;\">\n",
              "      <th></th>\n",
              "      <th>Unnamed: 0</th>\n",
              "      <th>saison</th>\n",
              "      <th>home</th>\n",
              "      <th>away</th>\n",
              "      <th>home_score</th>\n",
              "      <th>away_score</th>\n",
              "    </tr>\n",
              "  </thead>\n",
              "  <tbody>\n",
              "    <tr>\n",
              "      <th>16566</th>\n",
              "      <td>0</td>\n",
              "      <td>2012</td>\n",
              "      <td>ado-den-haag</td>\n",
              "      <td>ajax-amsterdam</td>\n",
              "      <td>0</td>\n",
              "      <td>2</td>\n",
              "    </tr>\n",
              "    <tr>\n",
              "      <th>16567</th>\n",
              "      <td>1</td>\n",
              "      <td>2012</td>\n",
              "      <td>ado-den-haag</td>\n",
              "      <td>az-alkmaar</td>\n",
              "      <td>0</td>\n",
              "      <td>6</td>\n",
              "    </tr>\n",
              "    <tr>\n",
              "      <th>16568</th>\n",
              "      <td>2</td>\n",
              "      <td>2012</td>\n",
              "      <td>ado-den-haag</td>\n",
              "      <td>de-graafschap</td>\n",
              "      <td>3</td>\n",
              "      <td>5</td>\n",
              "    </tr>\n",
              "    <tr>\n",
              "      <th>16569</th>\n",
              "      <td>3</td>\n",
              "      <td>2012</td>\n",
              "      <td>ado-den-haag</td>\n",
              "      <td>fc-groningen</td>\n",
              "      <td>3</td>\n",
              "      <td>0</td>\n",
              "    </tr>\n",
              "    <tr>\n",
              "      <th>16570</th>\n",
              "      <td>4</td>\n",
              "      <td>2012</td>\n",
              "      <td>ado-den-haag</td>\n",
              "      <td>fc-twente</td>\n",
              "      <td>1</td>\n",
              "      <td>1</td>\n",
              "    </tr>\n",
              "    <tr>\n",
              "      <th>...</th>\n",
              "      <td>...</td>\n",
              "      <td>...</td>\n",
              "      <td>...</td>\n",
              "      <td>...</td>\n",
              "      <td>...</td>\n",
              "      <td>...</td>\n",
              "    </tr>\n",
              "    <tr>\n",
              "      <th>19924</th>\n",
              "      <td>300</td>\n",
              "      <td>2022</td>\n",
              "      <td>willem-ii-tilburg</td>\n",
              "      <td>psv-eindhoven</td>\n",
              "      <td>2</td>\n",
              "      <td>1</td>\n",
              "    </tr>\n",
              "    <tr>\n",
              "      <th>19925</th>\n",
              "      <td>301</td>\n",
              "      <td>2022</td>\n",
              "      <td>willem-ii-tilburg</td>\n",
              "      <td>rkc-waalwijk</td>\n",
              "      <td>3</td>\n",
              "      <td>1</td>\n",
              "    </tr>\n",
              "    <tr>\n",
              "      <th>19926</th>\n",
              "      <td>302</td>\n",
              "      <td>2022</td>\n",
              "      <td>willem-ii-tilburg</td>\n",
              "      <td>cambuur-leeuwarden</td>\n",
              "      <td>1</td>\n",
              "      <td>3</td>\n",
              "    </tr>\n",
              "    <tr>\n",
              "      <th>19927</th>\n",
              "      <td>303</td>\n",
              "      <td>2022</td>\n",
              "      <td>willem-ii-tilburg</td>\n",
              "      <td>sc-heerenveen</td>\n",
              "      <td>0</td>\n",
              "      <td>0</td>\n",
              "    </tr>\n",
              "    <tr>\n",
              "      <th>19928</th>\n",
              "      <td>304</td>\n",
              "      <td>2022</td>\n",
              "      <td>willem-ii-tilburg</td>\n",
              "      <td>sparta-rotterdam</td>\n",
              "      <td>0</td>\n",
              "      <td>3</td>\n",
              "    </tr>\n",
              "  </tbody>\n",
              "</table>\n",
              "<p>3208 rows × 6 columns</p>\n",
              "</div>"
            ],
            "text/plain": [
              "       Unnamed: 0  saison               home                away  home_score  \\\n",
              "16566           0    2012       ado-den-haag      ajax-amsterdam           0   \n",
              "16567           1    2012       ado-den-haag          az-alkmaar           0   \n",
              "16568           2    2012       ado-den-haag       de-graafschap           3   \n",
              "16569           3    2012       ado-den-haag        fc-groningen           3   \n",
              "16570           4    2012       ado-den-haag           fc-twente           1   \n",
              "...           ...     ...                ...                 ...         ...   \n",
              "19924         300    2022  willem-ii-tilburg       psv-eindhoven           2   \n",
              "19925         301    2022  willem-ii-tilburg        rkc-waalwijk           3   \n",
              "19926         302    2022  willem-ii-tilburg  cambuur-leeuwarden           1   \n",
              "19927         303    2022  willem-ii-tilburg       sc-heerenveen           0   \n",
              "19928         304    2022  willem-ii-tilburg    sparta-rotterdam           0   \n",
              "\n",
              "       away_score  \n",
              "16566           2  \n",
              "16567           6  \n",
              "16568           5  \n",
              "16569           0  \n",
              "16570           1  \n",
              "...           ...  \n",
              "19924           1  \n",
              "19925           1  \n",
              "19926           3  \n",
              "19927           0  \n",
              "19928           3  \n",
              "\n",
              "[3208 rows x 6 columns]"
            ]
          },
          "execution_count": 1466,
          "metadata": {},
          "output_type": "execute_result"
        }
      ],
      "source": [
        "Duplicates(raw_matches_file, \"match\", \"afc-ajax\", \"ajax-amsterdam\")\n",
        "Duplicates(raw_matches_file, \"match\", \"willem-ii\", \"willem-ii-tilburg\")\n",
        "Duplicates(raw_matches_file, \"match\", \"mvv\", \"mvv-maastricht\")\n",
        "Duplicates(raw_matches_file, \"match\", \"vitesse\", \"vitesse-arnhem\")\n",
        "Duplicates(raw_matches_file, \"match\", \"sc-cambuur\", \"cambuur-leeuwarden\")\n",
        "Duplicates(raw_matches_file, \"match\", \"feyenoord\", \"feyenoord-rotterdam\")\n",
        "Duplicates(raw_matches_file, \"match\", \"go-ahead-eagles_2\", \"go-ahead-eagles\")\n",
        "\n",
        "# convert the season to int \n",
        "raw_matches_file['saison'] = raw_matches_file['saison'].apply(toOneSeason)\n",
        "raw_matches_file['saison'] = raw_matches_file['saison'].astype(int)\n",
        "\n",
        "# # filter the last 10 seasons \n",
        "filterSeasonMatches = raw_matches_file[(raw_matches_file['saison'] >= 2012) & \n",
        "                                        (raw_matches_file['home_score'] != \"-\") &\n",
        "                                         (raw_matches_file['away_score'] != \"-\")]\n",
        "\n",
        "filterSeasonMatches['home_score'] = pd.to_numeric(filterSeasonMatches['home_score'])\n",
        "filterSeasonMatches['away_score'] = pd.to_numeric(filterSeasonMatches['away_score'])\n",
        "\n",
        "# we drop the unneccesary columns \n",
        "filtered_matches = filterSeasonMatches.drop(columns=['stadium','home_first_card','home_last_card',\n",
        "                                                 'away_first_card', 'time','date','round',\n",
        "                                                 'spectators', 'ref','linesman1','linesman2', 'away_last_card',\n",
        "                                                 'home_yellow', 'home_yelred', 'away_yellow','first_goal', 'last_goal',\n",
        "                                                  'away_red','home_red', 'away_yelred'])\n",
        "\n",
        "# drop the empty rows\n",
        "filtered_matches.dropna()\n",
        "filtered_matches"
      ]
    },
    {
      "cell_type": "code",
      "execution_count": 1467,
      "metadata": {
        "id": "TPujT39ONyuG"
      },
      "outputs": [
        {
          "name": "stdout",
          "output_type": "stream",
          "text": [
            "The Home team won 1485 matches\n",
            "The Away team won 973 matches\n",
            "The draw was in 750 matches\n"
          ]
        }
      ],
      "source": [
        "# WinningHomeTeamFilter\n",
        "WinningHomeTeamFilter = filtered_matches[ (filtered_matches['home_score'] > filtered_matches['away_score'])]\n",
        "print(f'The Home team won {len(WinningHomeTeamFilter.index)} matches')\n",
        "\n",
        "# WinningAwayTeamFilter\n",
        "WinningAwayTeamFilter = filtered_matches[ (filtered_matches['home_score'] < filtered_matches['away_score'])]\n",
        "print(f'The Away team won {len(WinningAwayTeamFilter.index)} matches')\n",
        "\n",
        "# DrawFilter\n",
        "DrawTeamFilter = filtered_matches[ (filtered_matches['home_score'] == filtered_matches['away_score'])]\n",
        "print(f'The draw was in {len(DrawTeamFilter.index)} matches')"
      ]
    },
    {
      "cell_type": "markdown",
      "metadata": {
        "id": "pdJY-l7UNyuG"
      },
      "source": [
        "##### Ajax General Stats"
      ]
    },
    {
      "cell_type": "code",
      "execution_count": 1468,
      "metadata": {
        "id": "7viSlvDkNyuG"
      },
      "outputs": [
        {
          "name": "stdout",
          "output_type": "stream",
          "text": [
            "Ajax won 139 matches Home\n",
            "Ajax scored 485 goals Home\n",
            "Ajax got 417 points Home when Ajax won\n",
            "Away team scored 64 goals when Ajax won\n"
          ]
        }
      ],
      "source": [
        "AjaxWinHome = filtered_matches[ (filtered_matches['home_score'] > filtered_matches['away_score']) & \n",
        "                                         (filtered_matches['home'] == \"ajax-amsterdam\") ]\n",
        "\n",
        "AjaxGoalsHomeWin =AjaxWinHome['home_score'].sum()\n",
        "AwayGoalsLoseAgaintsAjax =AjaxWinHome['away_score'].sum()\n",
        "\n",
        "print(f'Ajax won {len(AjaxWinHome.index)} matches Home') \n",
        "print(f'Ajax scored {AjaxGoalsHomeWin} goals Home') \n",
        "print(f'Ajax got {len(AjaxWinHome.index) * 3} points Home when Ajax won')\n",
        "print(f'Away team scored {AwayGoalsLoseAgaintsAjax} goals when Ajax won')                                               "
      ]
    },
    {
      "cell_type": "code",
      "execution_count": 1469,
      "metadata": {
        "id": "fZNRR3RNNyuG"
      },
      "outputs": [
        {
          "name": "stdout",
          "output_type": "stream",
          "text": [
            "Ajax lost 14 matches Home\n",
            "Ajax scored 7 goals Home when he lost\n",
            "Away team scored 26 goals when Ajax lost\n"
          ]
        }
      ],
      "source": [
        "AjaxloseHome = filtered_matches[ (filtered_matches['home_score'] < filtered_matches['away_score']) & \n",
        "                                         (filtered_matches['home'] == \"ajax-amsterdam\") ]\n",
        "\n",
        "AjaxGoalsHomeLose =AjaxloseHome['home_score'].sum()\n",
        "AwayGoalsWonAgaintsAjax =AjaxloseHome['away_score'].sum()\n",
        "\n",
        "print(f'Ajax lost {len(AjaxloseHome.index)} matches Home') \n",
        "print(f'Ajax scored {AjaxGoalsHomeLose} goals Home when he lost')\n",
        "print(f'Away team scored {AwayGoalsWonAgaintsAjax} goals when Ajax lost')   "
      ]
    },
    {
      "cell_type": "code",
      "execution_count": 1470,
      "metadata": {
        "id": "VQSAGHpnNyuG"
      },
      "outputs": [
        {
          "name": "stdout",
          "output_type": "stream",
          "text": [
            "Ajax tied 26 matches Home\n",
            "Ajax scored 30 goals Home when he tied\n",
            "Away team scored 30 goals when he tied with Ajax\n"
          ]
        }
      ],
      "source": [
        "AjaxDrawHome = filtered_matches[ (filtered_matches['home_score'] == filtered_matches['away_score']) & \n",
        "                                         (filtered_matches['home'] == \"ajax-amsterdam\") ]\n",
        "\n",
        "AjaxGoalsDraw =AjaxDrawHome['home_score'].sum()\n",
        "AwayGoalsDraw =AjaxDrawHome['away_score'].sum()\n",
        "\n",
        "print(f'Ajax tied {len(AjaxDrawHome.index)} matches Home') \n",
        "print(f'Ajax scored {AjaxGoalsDraw} goals Home when he tied')\n",
        "print(f'Away team scored {AwayGoalsDraw} goals when he tied with Ajax') "
      ]
    },
    {
      "cell_type": "code",
      "execution_count": 1471,
      "metadata": {
        "id": "FJvyFN8jNyuH"
      },
      "outputs": [
        {
          "name": "stdout",
          "output_type": "stream",
          "text": [
            "Ajax scored 522 goals Home\n",
            "Ajax got 443 points Home\n"
          ]
        }
      ],
      "source": [
        "# Total Ajax Goals Home\n",
        "totalAjaxGoalsHome = AjaxGoalsHomeWin + AjaxGoalsHomeLose + AjaxGoalsDraw\n",
        "print(f'Ajax scored {totalAjaxGoalsHome} goals Home')\n",
        "\n",
        "totalAjaxPointsHome = (len(AjaxWinHome.index) * 3) + len(AjaxDrawHome.index)\n",
        "print(f'Ajax got {totalAjaxPointsHome} points Home')"
      ]
    },
    {
      "cell_type": "code",
      "execution_count": 1472,
      "metadata": {
        "id": "wXiHsvekNyuH"
      },
      "outputs": [
        {
          "data": {
            "image/png": "[encoded data removed]",
            "text/plain": [
              "<Figure size 360x360 with 1 Axes>"
            ]
          },
          "metadata": {},
          "output_type": "display_data"
        }
      ],
      "source": [
        "# Plot Ajax Home stats\n",
        "piePlotAjaxStatsHome = pd.DataFrame({'Ajax Stats when playing Home': [len(AjaxWinHome.index), len(AjaxloseHome.index), len(AjaxDrawHome.index)]},\n",
        "                  index=['Wins', 'Losses', 'Draws'])\n",
        "plot = piePlotAjaxStatsHome.plot.pie(y='Ajax Stats when playing Home', figsize=(5, 5))"
      ]
    },
    {
      "cell_type": "code",
      "execution_count": 1473,
      "metadata": {
        "id": "GcqxsTZgNyuH"
      },
      "outputs": [
        {
          "name": "stdout",
          "output_type": "stream",
          "text": [
            "Ajax won 115 matches Away\n",
            "Ajax scored 338 goals Away\n",
            "Ajax got 345 points Away when Ajax won\n",
            "Home team scored 65 goals when Ajax won\n"
          ]
        }
      ],
      "source": [
        "AjaxWinAway = filtered_matches[ (filtered_matches['home_score'] < filtered_matches['away_score']) & \n",
        "                                         (filtered_matches['away'] == \"ajax-amsterdam\") ]\n",
        "\n",
        "AjaxGoalsAwayWin = AjaxWinAway['away_score'].sum()\n",
        "HomeGoalsLoseAgainstAjax = AjaxWinAway['home_score'].sum()\n",
        "\n",
        "print(f'Ajax won {len(AjaxWinAway.index)} matches Away') \n",
        "print(f'Ajax scored {AjaxGoalsAwayWin} goals Away') \n",
        "print(f'Ajax got {len(AjaxWinAway.index) * 3} points Away when Ajax won')\n",
        "print(f'Home team scored {HomeGoalsLoseAgainstAjax} goals when Ajax won')                                               "
      ]
    },
    {
      "cell_type": "code",
      "execution_count": 1474,
      "metadata": {
        "id": "mkzIv6-UNyuH"
      },
      "outputs": [
        {
          "name": "stdout",
          "output_type": "stream",
          "text": [
            "Ajax lost 24 matches Away\n",
            "Ajax scored 18 goals Away\n",
            "Home team scored 55 goals when Ajax lost\n"
          ]
        }
      ],
      "source": [
        "AjaxLoseAway = filtered_matches[ (filtered_matches['home_score'] > filtered_matches['away_score']) & \n",
        "                                         (filtered_matches['away'] == \"ajax-amsterdam\") ]\n",
        "\n",
        "AjaxGoalsAwayLose = AjaxLoseAway['away_score'].sum()\n",
        "HomeGoalsWinAgainstAjax = AjaxLoseAway['home_score'].sum()\n",
        "\n",
        "print(f'Ajax lost {len(AjaxLoseAway.index)} matches Away') \n",
        "print(f'Ajax scored {AjaxGoalsAwayLose} goals Away') \n",
        "print(f'Home team scored {HomeGoalsWinAgainstAjax} goals when Ajax lost')          "
      ]
    },
    {
      "cell_type": "code",
      "execution_count": 1475,
      "metadata": {
        "id": "5SrjivxJNyuH"
      },
      "outputs": [
        {
          "name": "stdout",
          "output_type": "stream",
          "text": [
            "Ajax tied 37 matches Away\n",
            "Ajax scored 47 goals Away\n",
            "Home team scored 47 goals when Ajax tied\n"
          ]
        }
      ],
      "source": [
        "AjaxDrawAway = filtered_matches[ (filtered_matches['home_score'] == filtered_matches['away_score']) & \n",
        "                                         (filtered_matches['away'] == \"ajax-amsterdam\") ]\n",
        "\n",
        "AjaxGoalsAwayDraw = AjaxDrawAway['away_score'].sum()\n",
        "HomeGoalsDrawAgainstAjax = AjaxDrawAway['home_score'].sum()\n",
        "\n",
        "print(f'Ajax tied {len(AjaxDrawAway.index)} matches Away') \n",
        "print(f'Ajax scored {AjaxGoalsAwayDraw} goals Away') \n",
        "print(f'Home team scored {HomeGoalsDrawAgainstAjax} goals when Ajax tied')          "
      ]
    },
    {
      "cell_type": "code",
      "execution_count": 1476,
      "metadata": {
        "id": "GYmvIn3_NyuH"
      },
      "outputs": [
        {
          "name": "stdout",
          "output_type": "stream",
          "text": [
            "Ajax scored 403 goals Away\n",
            "Ajax got 382 points Away\n"
          ]
        }
      ],
      "source": [
        "# Total Ajax Goals Away\n",
        "totalAjaxGoalsAway = AjaxGoalsAwayWin + AjaxGoalsAwayLose + AjaxGoalsAwayDraw\n",
        "print(f'Ajax scored {totalAjaxGoalsAway} goals Away')\n",
        "\n",
        "totalAjaxPointsAway = (len(AjaxWinAway.index) * 3) + len(AjaxDrawAway.index)\n",
        "print(f'Ajax got {totalAjaxPointsAway} points Away')"
      ]
    },
    {
      "cell_type": "code",
      "execution_count": 1477,
      "metadata": {
        "id": "riblxf4tNyuH"
      },
      "outputs": [
        {
          "data": {
            "image/png": "[encoded data removed]",
            "text/plain": [
              "<Figure size 360x360 with 1 Axes>"
            ]
          },
          "metadata": {},
          "output_type": "display_data"
        }
      ],
      "source": [
        "# Plot Ajax Away stats\n",
        "piePlotAjaxStatsAway = pd.DataFrame({'Ajax Stats when playing Away': [len(AjaxWinAway.index), len(AjaxLoseAway.index), len(AjaxDrawAway.index)]},\n",
        "                  index=['Wins', 'Losses', 'Draws'])\n",
        "plot = piePlotAjaxStatsAway.plot.pie(y='Ajax Stats when playing Away', figsize=(5, 5))"
      ]
    },
    {
      "cell_type": "code",
      "execution_count": 1478,
      "metadata": {
        "id": "CHDfj60dNyuI"
      },
      "outputs": [
        {
          "name": "stdout",
          "output_type": "stream",
          "text": [
            "Ajax scored 925 goals in total last 10 years\n",
            "Ajax got 825 points in total last 10 years\n",
            "Ajax won 254 matches in total last 10 years\n",
            "Ajax lost 38 matches in total last 10 years\n",
            "Ajax tied 63 matches in total last 10 years\n"
          ]
        }
      ],
      "source": [
        "# Total Ajax Goals, Winnings, losses and draws\n",
        "TotalAjaxGoals = totalAjaxGoalsHome + totalAjaxGoalsAway\n",
        "print(f'Ajax scored {TotalAjaxGoals} goals in total last 10 years')\n",
        "\n",
        "# points\n",
        "TotalAjaxPoints = totalAjaxPointsHome + totalAjaxPointsAway\n",
        "print(f'Ajax got {TotalAjaxPoints} points in total last 10 years')\n",
        "\n",
        "# winning\n",
        "TotalAjaxWinning = len(AjaxWinHome.index) + len(AjaxWinAway.index)\n",
        "print(f'Ajax won {TotalAjaxWinning} matches in total last 10 years')\n",
        "\n",
        "# losses\n",
        "TotalAjaxLoses = len(AjaxloseHome.index) + len(AjaxLoseAway.index)\n",
        "print(f'Ajax lost {TotalAjaxLoses} matches in total last 10 years')\n",
        "\n",
        "# Draws\n",
        "TotalAjaxDraws = len(AjaxDrawHome.index) + len(AjaxDrawAway.index)\n",
        "print(f'Ajax tied {TotalAjaxDraws} matches in total last 10 years')"
      ]
    },
    {
      "cell_type": "code",
      "execution_count": 1479,
      "metadata": {
        "id": "vCl_IqtENyuI"
      },
      "outputs": [
        {
          "data": {
            "image/png": "[encoded data removed]",
            "text/plain": [
              "<Figure size 360x360 with 1 Axes>"
            ]
          },
          "metadata": {},
          "output_type": "display_data"
        },
        {
          "data": {
            "image/png": "[encoded data removed]",
            "text/plain": [
              "<Figure size 360x360 with 1 Axes>"
            ]
          },
          "metadata": {},
          "output_type": "display_data"
        }
      ],
      "source": [
        "# Plot Ajax Winnings and Points\n",
        "piePlotAjaxStatsWinnings = pd.DataFrame({'Wins Ajax': [len(AjaxWinHome.index), len(AjaxWinAway.index)]},\n",
        "                  index=['Home', 'Away'])\n",
        "plot = piePlotAjaxStatsWinnings.plot.pie(y='Wins Ajax', figsize=(5, 5))\n",
        "\n",
        "piePlotAjaxStatsGoals = pd.DataFrame({'Goals Ajax': [totalAjaxGoalsHome, totalAjaxGoalsAway]},\n",
        "                  index=['Home', 'Away'])\n",
        "plot = piePlotAjaxStatsGoals.plot.pie(y='Goals Ajax', figsize=(5, 5))"
      ]
    },
    {
      "cell_type": "code",
      "execution_count": 1480,
      "metadata": {
        "id": "-qsZS8nqNyuI"
      },
      "outputs": [
        {
          "data": {
            "image/png": "[encoded data removed]",
            "text/plain": [
              "<Figure size 360x360 with 1 Axes>"
            ]
          },
          "metadata": {},
          "output_type": "display_data"
        }
      ],
      "source": [
        "# Plot Ajax stata in total\n",
        "piePlotAjaxStatsInTotal = pd.DataFrame({'Ajax Stats when playing in total': [TotalAjaxWinning, TotalAjaxLoses, TotalAjaxDraws]},\n",
        "                  index=['Wins', 'Losses', 'Draws'])\n",
        "plot = piePlotAjaxStatsInTotal.plot.pie(y='Ajax Stats when playing in total', figsize=(5, 5))"
      ]
    },
    {
      "cell_type": "code",
      "execution_count": 1481,
      "metadata": {
        "id": "4MviHoUZNyuI"
      },
      "outputs": [
        {
          "data": {
            "text/plain": [
              "Text(0, 0.5, 'Goals')"
            ]
          },
          "execution_count": 1481,
          "metadata": {},
          "output_type": "execute_result"
        },
        {
          "data": {
            "image/png": "[encoded data removed]",
            "text/plain": [
              "<Figure size 432x288 with 1 Axes>"
            ]
          },
          "metadata": {
            "needs_background": "light"
          },
          "output_type": "display_data"
        }
      ],
      "source": [
        "# Ajax Goals Each Season Home\n",
        "EachSeasonAjaxHome = filtered_matches[ (filtered_matches['home'] == 'ajax-amsterdam')]\n",
        "GroupBySeasenHome = EachSeasonAjaxHome.groupby(['saison'])[['home_score','away_score']].sum()\n",
        "\n",
        "# plot Ajax Goals in each Season Home\n",
        "dfEachSeasonAjaxHome = pd.DataFrame(GroupBySeasenHome)\n",
        "ax = dfEachSeasonAjaxHome.plot(lw=2, colormap='jet', kind = 'bar', title='The Ajax goals each season Home')\n",
        "ax.set_xlabel(\"Season\")\n",
        "ax.set_ylabel(\"Goals\")"
      ]
    },
    {
      "cell_type": "code",
      "execution_count": 1482,
      "metadata": {
        "id": "JRddNMYsNyuI"
      },
      "outputs": [
        {
          "data": {
            "text/plain": [
              "Text(0, 0.5, 'Goals')"
            ]
          },
          "execution_count": 1482,
          "metadata": {},
          "output_type": "execute_result"
        },
        {
          "data": {
            "image/png": "[encoded data removed]",
            "text/plain": [
              "<Figure size 432x288 with 1 Axes>"
            ]
          },
          "metadata": {
            "needs_background": "light"
          },
          "output_type": "display_data"
        }
      ],
      "source": [
        "# Ajax Goals Each Season Away\n",
        "EachSeasonAjaxAway = filtered_matches[ (filtered_matches['away'] == 'ajax-amsterdam')]\n",
        "GroupBySeasenAway = EachSeasonAjaxAway.groupby(['saison'])[['home_score','away_score']].sum()\n",
        "\n",
        "# plot Ajax Goals in each Season Away\n",
        "dfEachSeasonAjaxAway = pd.DataFrame(GroupBySeasenAway)\n",
        "ax = dfEachSeasonAjaxAway.plot(lw=2, colormap='jet', kind = 'bar', title='The Ajax goals each season Away')\n",
        "ax.set_xlabel(\"Season\")\n",
        "ax.set_ylabel(\"Goals\")"
      ]
    },
    {
      "cell_type": "code",
      "execution_count": 1483,
      "metadata": {
        "id": "Xk02XkEINyuI"
      },
      "outputs": [
        {
          "data": {
            "text/plain": [
              "Text(0, 0.5, 'Goals')"
            ]
          },
          "execution_count": 1483,
          "metadata": {},
          "output_type": "execute_result"
        },
        {
          "data": {
            "image/png": "[encoded data removed]",
            "text/plain": [
              "<Figure size 432x288 with 1 Axes>"
            ]
          },
          "metadata": {
            "needs_background": "light"
          },
          "output_type": "display_data"
        }
      ],
      "source": [
        "# make new dataframe in order to aggregate\n",
        "dfAjaxGoalsTotalEachSeason = pd.DataFrame()\n",
        "AjaxAwayGoals= GroupBySeasenAway['away_score']\n",
        "AjaxHomeGoals= GroupBySeasenHome['home_score']\n",
        "dfAjaxGoalsTotalEachSeason['home_goals'] = AjaxHomeGoals\n",
        "dfAjaxGoalsTotalEachSeason[\"away_goals\"] = AjaxAwayGoals\n",
        "sum_AllGoalsInEachSeason = dfAjaxGoalsTotalEachSeason[\"home_goals\"] + dfAjaxGoalsTotalEachSeason[\"away_goals\"]\n",
        "dfAjaxGoalsTotalEachSeason[\"total_goals\"] = sum_AllGoalsInEachSeason\n",
        "\n",
        "\n",
        "# plot Ajax Goals in each Season Total\n",
        "dfAjaxGoalsTotalEachSeasonPlot = pd.DataFrame(dfAjaxGoalsTotalEachSeason)\n",
        "ax = dfAjaxGoalsTotalEachSeasonPlot.plot(lw=2, colormap='jet', kind = 'bar', title='The Ajax goals each season Total')\n",
        "ax.set_xlabel(\"Season\")\n",
        "ax.set_ylabel(\"Goals\")"
      ]
    },
    {
      "cell_type": "code",
      "execution_count": 1484,
      "metadata": {
        "id": "kpZpFD3wNyuI"
      },
      "outputs": [
        {
          "data": {
            "text/plain": [
              "Text(0, 0.5, 'Win')"
            ]
          },
          "execution_count": 1484,
          "metadata": {},
          "output_type": "execute_result"
        },
        {
          "data": {
            "image/png": "[encoded data removed]",
            "text/plain": [
              "<Figure size 432x288 with 1 Axes>"
            ]
          },
          "metadata": {
            "needs_background": "light"
          },
          "output_type": "display_data"
        }
      ],
      "source": [
        "# Ajax Wins Each Season Home\n",
        "EachSeasonAjaxWinHome = filtered_matches[(filtered_matches['home'] == 'ajax-amsterdam') & (filtered_matches['home_score'] > filtered_matches['away_score'])]\n",
        "EachSeasonAjaxWinHome.insert(loc=0, column='win', value=1)\n",
        "GroupBySeasenHomeWinsAjax = EachSeasonAjaxWinHome.groupby(['saison'])[['win']].sum()\n",
        "\n",
        "# # # plot Ajax Wins in each Season Home\n",
        "dfEachSeasonAjaxHome = pd.DataFrame(GroupBySeasenHomeWinsAjax)\n",
        "ax = dfEachSeasonAjaxHome.plot(lw=2, colormap='jet', kind = 'bar', title='Ajax wins each season Home')\n",
        "ax.set_xlabel(\"Season\")\n",
        "ax.set_ylabel(\"Win\")"
      ]
    },
    {
      "cell_type": "code",
      "execution_count": 1485,
      "metadata": {
        "id": "NeCXPYVuNyuJ"
      },
      "outputs": [
        {
          "data": {
            "text/plain": [
              "Text(0, 0.5, 'Win')"
            ]
          },
          "execution_count": 1485,
          "metadata": {},
          "output_type": "execute_result"
        },
        {
          "data": {
            "image/png": "[encoded data removed]",
            "text/plain": [
              "<Figure size 432x288 with 1 Axes>"
            ]
          },
          "metadata": {
            "needs_background": "light"
          },
          "output_type": "display_data"
        }
      ],
      "source": [
        "# Ajax Wins Each Season Away\n",
        "EachSeasonAjaxWinAway = filtered_matches[(filtered_matches['away'] == 'ajax-amsterdam') & (filtered_matches['home_score'] < filtered_matches['away_score'])]\n",
        "EachSeasonAjaxWinAway.insert(loc=0, column='win', value=1)\n",
        "GroupBySeasonAwayWinsAjax = EachSeasonAjaxWinAway.groupby(['saison'])[['win']].sum()\n",
        "\n",
        "GroupBySeasonAwayWinsAjax \n",
        "\n",
        "# # # plot Ajax Wins in each Season Home\n",
        "dfEachSeasonAjaxHome = pd.DataFrame(GroupBySeasonAwayWinsAjax)\n",
        "ax = dfEachSeasonAjaxHome.plot(lw=2, colormap='jet', kind = 'bar', title='The Ajax wins each season Away')\n",
        "ax.set_xlabel(\"Season\")\n",
        "ax.set_ylabel(\"Win\")"
      ]
    },
    {
      "cell_type": "markdown",
      "metadata": {
        "id": "qskYpWwPNyuJ"
      },
      "source": [
        "##### PSV General Stats"
      ]
    },
    {
      "cell_type": "code",
      "execution_count": 1486,
      "metadata": {
        "id": "c782Fq_fNyuJ"
      },
      "outputs": [
        {
          "name": "stdout",
          "output_type": "stream",
          "text": [
            "PSV won 144 matches Home\n",
            "PSV score 450 goals Home\n",
            "PSV got 432 points Home when he won\n",
            "Away team scored 86 goals when PSV won\n"
          ]
        }
      ],
      "source": [
        "PSVWinHome = filtered_matches[ (filtered_matches['home_score'] > filtered_matches['away_score']) & \n",
        "                                         (filtered_matches['home'] == \"psv-eindhoven\") ]\n",
        "\n",
        "PSVGoalsHomeWin =PSVWinHome['home_score'].sum()\n",
        "AwayGoalsLoseAgaintsPSV =PSVWinHome['away_score'].sum()\n",
        "print(f'PSV won {len(PSVWinHome.index)} matches Home') \n",
        "print(f'PSV score {PSVGoalsHomeWin} goals Home') \n",
        "print(f'PSV got {len(PSVWinHome.index) * 3} points Home when he won')\n",
        "print(f'Away team scored {AwayGoalsLoseAgaintsPSV} goals when PSV won')    "
      ]
    },
    {
      "cell_type": "code",
      "execution_count": 1487,
      "metadata": {
        "id": "AeoanYvkNyuJ"
      },
      "outputs": [
        {
          "name": "stdout",
          "output_type": "stream",
          "text": [
            "PSV lost 15 matches Home\n",
            "PSV scored 14 goals Home when he lost\n",
            "Away team scored 46 goals when PSV lost\n"
          ]
        }
      ],
      "source": [
        "PSVloseHome = filtered_matches[ (filtered_matches['home_score'] < filtered_matches['away_score']) & \n",
        "                                         (filtered_matches['home'] == \"psv-eindhoven\") ]\n",
        "\n",
        "PSVGoalsHomeLose =PSVloseHome['home_score'].sum()\n",
        "AwayGoalsWonAgaintsPSV =PSVloseHome['away_score'].sum()\n",
        "print(f'PSV lost {len(PSVloseHome.index)} matches Home') \n",
        "print(f'PSV scored {PSVGoalsHomeLose} goals Home when he lost') \n",
        "print(f'Away team scored {AwayGoalsWonAgaintsPSV} goals when PSV lost') "
      ]
    },
    {
      "cell_type": "code",
      "execution_count": 1488,
      "metadata": {
        "id": "faG6LZ-9NyuJ"
      },
      "outputs": [
        {
          "name": "stdout",
          "output_type": "stream",
          "text": [
            "PSV tied 19 matches Home\n",
            "PSV scored 19 goals Home when he tied\n",
            "Away team scored 19 goals when he tied with PSV\n"
          ]
        }
      ],
      "source": [
        "PSVDrawHome = filtered_matches[ (filtered_matches['home_score'] == filtered_matches['away_score']) & \n",
        "                                         (filtered_matches['home'] == \"psv-eindhoven\") ]\n",
        "\n",
        "PSVGoalsDraw =PSVDrawHome['home_score'].sum()\n",
        "AwayGoalsDrawPSV =PSVDrawHome['away_score'].sum()\n",
        "\n",
        "print(f'PSV tied {len(PSVDrawHome.index)} matches Home') \n",
        "print(f'PSV scored {PSVGoalsDraw} goals Home when he tied')\n",
        "print(f'Away team scored {AwayGoalsDrawPSV} goals when he tied with PSV') "
      ]
    },
    {
      "cell_type": "code",
      "execution_count": 1489,
      "metadata": {
        "id": "QGsoHIV0NyuJ"
      },
      "outputs": [
        {
          "name": "stdout",
          "output_type": "stream",
          "text": [
            "PSV scored 483 goals Home\n",
            "PSV got 451 points Home\n"
          ]
        }
      ],
      "source": [
        "# Total PSV Goals Home\n",
        "totalPSVGoalsHome = PSVGoalsHomeWin + PSVGoalsHomeLose + PSVGoalsDraw\n",
        "print(f'PSV scored {totalPSVGoalsHome} goals Home')\n",
        "\n",
        "totalPSVPointsHome = (len(PSVWinHome.index) * 3) + len(PSVDrawHome.index)\n",
        "print(f'PSV got {totalPSVPointsHome} points Home')"
      ]
    },
    {
      "cell_type": "code",
      "execution_count": 1490,
      "metadata": {
        "id": "XMBWv9qmNyuK"
      },
      "outputs": [
        {
          "data": {
            "image/png": "[encoded data removed]",
            "text/plain": [
              "<Figure size 360x360 with 1 Axes>"
            ]
          },
          "metadata": {},
          "output_type": "display_data"
        }
      ],
      "source": [
        "# Plot PSV Home stats\n",
        "piePlotPSVStatsHome = pd.DataFrame({'PSV Stats when playing Home': [len(PSVWinHome.index), len(PSVloseHome.index), len(PSVDrawHome.index)]},\n",
        "                  index=['Wins', 'Losses', 'Draws'])\n",
        "plot = piePlotPSVStatsHome.plot.pie(y='PSV Stats when playing Home', figsize=(5, 5))"
      ]
    },
    {
      "cell_type": "code",
      "execution_count": 1491,
      "metadata": {
        "id": "VwQPzqcYNyuK"
      },
      "outputs": [
        {
          "name": "stdout",
          "output_type": "stream",
          "text": [
            "PSV won 100 matches Away\n",
            "PSV score 306 goals Away\n",
            "PSV got 300 points Away when he won\n",
            "Home team scores 75 goals when PSV won\n"
          ]
        }
      ],
      "source": [
        "PSVWinAway = filtered_matches[ (filtered_matches['home_score'] < filtered_matches['away_score']) & \n",
        "                                         (filtered_matches['away'] == \"psv-eindhoven\") ]\n",
        "\n",
        "PSVGoalsAwayWin = PSVWinAway['away_score'].sum()\n",
        "HomeGoalsLoseAgainstPSV = PSVWinAway['home_score'].sum()\n",
        "\n",
        "print(f'PSV won {len(PSVWinAway.index)} matches Away') \n",
        "print(f'PSV score {PSVGoalsAwayWin} goals Away') \n",
        "print(f'PSV got {len(PSVWinAway.index) * 3} points Away when he won')\n",
        "print(f'Home team scores {HomeGoalsLoseAgainstPSV} goals when PSV won')          "
      ]
    },
    {
      "cell_type": "code",
      "execution_count": 1492,
      "metadata": {
        "id": "m_KKQs_GNyuK"
      },
      "outputs": [
        {
          "name": "stdout",
          "output_type": "stream",
          "text": [
            "PSV lost 40 matches Away\n",
            "PSV scored 24 goals Away\n",
            "Home team scored 94 goals when PSV lost\n"
          ]
        }
      ],
      "source": [
        "PSVLoseAway = filtered_matches[ (filtered_matches['home_score'] > filtered_matches['away_score']) & \n",
        "                                         (filtered_matches['away'] == \"psv-eindhoven\") ]\n",
        "\n",
        "PSVGoalsAwayLose = PSVLoseAway['away_score'].sum()\n",
        "HomeGoalsWinAgainstPSV = PSVLoseAway['home_score'].sum()\n",
        "\n",
        "print(f'PSV lost {len(PSVLoseAway.index)} matches Away') \n",
        "print(f'PSV scored {PSVGoalsAwayLose} goals Away') \n",
        "print(f'Home team scored {HomeGoalsWinAgainstPSV} goals when PSV lost') "
      ]
    },
    {
      "cell_type": "code",
      "execution_count": 1493,
      "metadata": {
        "id": "ki0AJQ4pNyuK"
      },
      "outputs": [
        {
          "name": "stdout",
          "output_type": "stream",
          "text": [
            "PSV tied 39 matches Away\n",
            "PSV scored 60 goals Away\n",
            "Home team scored 60 goals when he tied with PSV\n"
          ]
        }
      ],
      "source": [
        "PSVDrawAway = filtered_matches[ (filtered_matches['home_score'] == filtered_matches['away_score']) & \n",
        "                                         (filtered_matches['away'] == \"psv-eindhoven\") ]\n",
        "\n",
        "PSVGoalsAwayDraw = PSVDrawAway['away_score'].sum()\n",
        "HomeGoalsDrawAgainstPSV = PSVDrawAway['home_score'].sum()\n",
        "\n",
        "print(f'PSV tied {len(PSVDrawAway.index)} matches Away') \n",
        "print(f'PSV scored {PSVGoalsAwayDraw} goals Away') \n",
        "print(f'Home team scored {HomeGoalsDrawAgainstPSV} goals when he tied with PSV') "
      ]
    },
    {
      "cell_type": "code",
      "execution_count": 1494,
      "metadata": {
        "id": "XRjTvaJqNyuK"
      },
      "outputs": [
        {
          "name": "stdout",
          "output_type": "stream",
          "text": [
            "PSV scored 390 goals away\n",
            "PSV got 339 points Away\n"
          ]
        }
      ],
      "source": [
        "# Total PSV Goals Away\n",
        "totalPSVGoalsAway = PSVGoalsAwayWin + PSVGoalsAwayLose + PSVGoalsAwayDraw\n",
        "print(f'PSV scored {totalPSVGoalsAway} goals away')\n",
        "\n",
        "totalPSVPointsAway = (len(PSVWinAway.index) * 3) + len(PSVDrawAway.index)\n",
        "print(f'PSV got {totalPSVPointsAway} points Away')"
      ]
    },
    {
      "cell_type": "code",
      "execution_count": 1495,
      "metadata": {
        "id": "erg1iDTCNyuK"
      },
      "outputs": [
        {
          "data": {
            "image/png": "[encoded data removed]",
            "text/plain": [
              "<Figure size 360x360 with 1 Axes>"
            ]
          },
          "metadata": {},
          "output_type": "display_data"
        }
      ],
      "source": [
        "# Plot PSV Away stats\n",
        "piePlotPSVStatsAway = pd.DataFrame({'PSV Stats when playing Away': [len(PSVWinAway.index), len(PSVLoseAway.index), len(PSVDrawAway.index)]},\n",
        "                  index=['Wins', 'Losses', 'Draws'])\n",
        "plot = piePlotPSVStatsAway.plot.pie(y='PSV Stats when playing Away', figsize=(5, 5))"
      ]
    },
    {
      "cell_type": "code",
      "execution_count": 1496,
      "metadata": {
        "id": "o4fmYLuSNyuK"
      },
      "outputs": [
        {
          "name": "stdout",
          "output_type": "stream",
          "text": [
            "PSV scored 873 goals in total last 10 years\n",
            "PSV got 790 points in total last 10 years\n",
            "PSV won 244 matches in total last 10 years\n",
            "PSV lost 55 matches in total last 10 years\n",
            "PSV tied 58 matches in total last 10 years\n"
          ]
        }
      ],
      "source": [
        "# Total PSV Goals, Winnings, losses and draws\n",
        "TotalPSVGoals = totalPSVGoalsAway + totalPSVGoalsHome\n",
        "print(f'PSV scored {TotalPSVGoals} goals in total last 10 years')\n",
        "\n",
        "# points\n",
        "\n",
        "TotalPSVPoints = totalPSVPointsAway + totalPSVPointsHome\n",
        "print(f'PSV got {TotalPSVPoints} points in total last 10 years')\n",
        "\n",
        "# winning\n",
        "TotalPSVWinning = len(PSVWinHome.index) + len(PSVWinAway.index)\n",
        "print(f'PSV won {TotalPSVWinning} matches in total last 10 years')\n",
        "\n",
        "# losses\n",
        "TotalPSVLoses = len(PSVloseHome.index) + len(PSVLoseAway.index)\n",
        "print(f'PSV lost {TotalPSVLoses} matches in total last 10 years')\n",
        "\n",
        "# Draws\n",
        "TotalPSVDraws = len(PSVDrawHome.index) + len(PSVDrawAway.index)\n",
        "print(f'PSV tied {TotalPSVDraws} matches in total last 10 years')"
      ]
    },
    {
      "cell_type": "code",
      "execution_count": 1497,
      "metadata": {
        "id": "TwyyJAQjNyuL"
      },
      "outputs": [
        {
          "data": {
            "image/png": "[encoded data removed]",
            "text/plain": [
              "<Figure size 360x360 with 1 Axes>"
            ]
          },
          "metadata": {},
          "output_type": "display_data"
        },
        {
          "data": {
            "image/png": "[encoded data removed]",
            "text/plain": [
              "<Figure size 360x360 with 1 Axes>"
            ]
          },
          "metadata": {},
          "output_type": "display_data"
        }
      ],
      "source": [
        "# Plot PSV Winnings and Points\n",
        "piePlotPSVStatsWinnings = pd.DataFrame({'Wins PSV': [len(PSVWinHome.index), len(PSVWinAway.index)]},\n",
        "                  index=['Home', 'Away'])\n",
        "plot = piePlotPSVStatsWinnings.plot.pie(y='Wins PSV', figsize=(5, 5))\n",
        "\n",
        "piePlotPSVStatsGoals = pd.DataFrame({'Goals PSV': [totalPSVGoalsHome, totalPSVGoalsAway]},\n",
        "                  index=['Home', 'Away'])\n",
        "plot = piePlotPSVStatsGoals.plot.pie(y='Goals PSV', figsize=(5, 5))"
      ]
    },
    {
      "cell_type": "code",
      "execution_count": 1498,
      "metadata": {
        "id": "dA_iZQMeNyuL"
      },
      "outputs": [
        {
          "data": {
            "image/png": "[encoded data removed]",
            "text/plain": [
              "<Figure size 360x360 with 1 Axes>"
            ]
          },
          "metadata": {},
          "output_type": "display_data"
        }
      ],
      "source": [
        "# Plot PSV stats in total\n",
        "piePlotPSVStatsInTotal = pd.DataFrame({'PSV Stats when playing in total': [TotalPSVWinning, TotalPSVLoses, TotalPSVDraws]},\n",
        "                  index=['Wins', 'Losses', 'Draws'])\n",
        "plot = piePlotPSVStatsInTotal.plot.pie(y='PSV Stats when playing in total', figsize=(5, 5))"
      ]
    },
    {
      "cell_type": "code",
      "execution_count": 1499,
      "metadata": {
        "id": "2bS05Fi2NyuL"
      },
      "outputs": [
        {
          "data": {
            "text/plain": [
              "Text(0, 0.5, 'Goals')"
            ]
          },
          "execution_count": 1499,
          "metadata": {},
          "output_type": "execute_result"
        },
        {
          "data": {
            "image/png": "[encoded data removed]",
            "text/plain": [
              "<Figure size 432x288 with 1 Axes>"
            ]
          },
          "metadata": {
            "needs_background": "light"
          },
          "output_type": "display_data"
        }
      ],
      "source": [
        "# PSV Goals Each Season Home\n",
        "EachSeasonPSV = filtered_matches[ (filtered_matches['home'] == 'psv-eindhoven')]\n",
        "GroupBySeasenHomePSV = EachSeasonPSV.groupby(['saison'])[['home_score','away_score']].sum()\n",
        "\n",
        "# plot Ajax Goals in each Season Home\n",
        "dfEachSeasonPSV = pd.DataFrame(GroupBySeasenHomePSV)\n",
        "ax = dfEachSeasonPSV.plot(lw=2, colormap='jet', kind = 'bar', title='The PSV goals each season Home')\n",
        "ax.set_xlabel(\"Season\")\n",
        "ax.set_ylabel(\"Goals\")"
      ]
    },
    {
      "cell_type": "code",
      "execution_count": 1500,
      "metadata": {
        "id": "OQHfiEzGNyuL"
      },
      "outputs": [
        {
          "data": {
            "text/plain": [
              "Text(0, 0.5, 'Goals')"
            ]
          },
          "execution_count": 1500,
          "metadata": {},
          "output_type": "execute_result"
        },
        {
          "data": {
            "image/png": "[encoded data removed]",
            "text/plain": [
              "<Figure size 432x288 with 1 Axes>"
            ]
          },
          "metadata": {
            "needs_background": "light"
          },
          "output_type": "display_data"
        }
      ],
      "source": [
        "# PSV Goals Each Season Away\n",
        "EachSeasonPSVAway = filtered_matches[ (filtered_matches['away'] == 'psv-eindhoven')]\n",
        "GroupBySeasenAwayPSV = EachSeasonPSVAway.groupby(['saison'])[['home_score','away_score']].sum()\n",
        "\n",
        "# plot Ajax Goals in each Season Away\n",
        "dfEachSeasonPSVAway = pd.DataFrame(GroupBySeasenAwayPSV)\n",
        "ax = dfEachSeasonPSVAway.plot(lw=2, colormap='jet', kind = 'bar', title='The PSV goals each season Away')\n",
        "ax.set_xlabel(\"Season\")\n",
        "ax.set_ylabel(\"Goals\")"
      ]
    },
    {
      "cell_type": "code",
      "execution_count": 1501,
      "metadata": {
        "id": "X3S_5ZiKNyuL"
      },
      "outputs": [
        {
          "data": {
            "text/plain": [
              "Text(0, 0.5, 'Goals')"
            ]
          },
          "execution_count": 1501,
          "metadata": {},
          "output_type": "execute_result"
        },
        {
          "data": {
            "image/png": "[encoded data removed]",
            "text/plain": [
              "<Figure size 432x288 with 1 Axes>"
            ]
          },
          "metadata": {
            "needs_background": "light"
          },
          "output_type": "display_data"
        }
      ],
      "source": [
        "# make new dataframe in order to aggregate\n",
        "dfPSVGoalsTotalEachSeason = pd.DataFrame()\n",
        "PSVAwayGoals= GroupBySeasenAwayPSV['away_score']\n",
        "PSVHomeGoals= GroupBySeasenHomePSV['home_score']\n",
        "dfPSVGoalsTotalEachSeason['home_goals'] = PSVHomeGoals\n",
        "dfPSVGoalsTotalEachSeason[\"away_goals\"] = PSVAwayGoals\n",
        "sum_AllGoalsInEachSeason = dfPSVGoalsTotalEachSeason[\"home_goals\"] + dfPSVGoalsTotalEachSeason[\"away_goals\"]\n",
        "dfPSVGoalsTotalEachSeason[\"total_goals\"] = sum_AllGoalsInEachSeason\n",
        "\n",
        "\n",
        "# plot Ajax Goals in each Season Total\n",
        "dfPSVGoalsTotalEachSeasonPlot = pd.DataFrame(dfPSVGoalsTotalEachSeason)\n",
        "ax = dfPSVGoalsTotalEachSeasonPlot.plot(lw=2, colormap='jet', kind = 'bar', title='The PSV goals each season Total')\n",
        "ax.set_xlabel(\"Season\")\n",
        "ax.set_ylabel(\"Goals\")"
      ]
    },
    {
      "cell_type": "code",
      "execution_count": 1502,
      "metadata": {
        "id": "-QRNdAi6NyuL"
      },
      "outputs": [
        {
          "data": {
            "text/plain": [
              "Text(0, 0.5, 'Win')"
            ]
          },
          "execution_count": 1502,
          "metadata": {},
          "output_type": "execute_result"
        },
        {
          "data": {
            "image/png": "[encoded data removed]",
            "text/plain": [
              "<Figure size 432x288 with 1 Axes>"
            ]
          },
          "metadata": {
            "needs_background": "light"
          },
          "output_type": "display_data"
        }
      ],
      "source": [
        "# PSV Wins Each Season Home\n",
        "EachSeasonPSVWinHome = filtered_matches[(filtered_matches['home'] == 'psv-eindhoven') & (filtered_matches['home_score'] > filtered_matches['away_score'])]\n",
        "EachSeasonPSVWinHome.insert(loc=0, column='win', value=1)\n",
        "GroupBySeasonHomeWinsPSV = EachSeasonPSVWinHome.groupby(['saison'])[['win']].sum()\n",
        "\n",
        "# # # plot PSV Wins in each Season Home\n",
        "dfEachSeasonPSVWinHome = pd.DataFrame(GroupBySeasonHomeWinsPSV)\n",
        "ax = dfEachSeasonPSVWinHome.plot(lw=2, colormap='jet', kind = 'bar', title='PSV wins each season Home')\n",
        "ax.set_xlabel(\"Season\")\n",
        "ax.set_ylabel(\"Win\")"
      ]
    },
    {
      "cell_type": "code",
      "execution_count": 1503,
      "metadata": {
        "id": "Gz198dcINyuL"
      },
      "outputs": [
        {
          "data": {
            "text/plain": [
              "Text(0, 0.5, 'Win')"
            ]
          },
          "execution_count": 1503,
          "metadata": {},
          "output_type": "execute_result"
        },
        {
          "data": {
            "image/png": "[encoded data removed]",
            "text/plain": [
              "<Figure size 432x288 with 1 Axes>"
            ]
          },
          "metadata": {
            "needs_background": "light"
          },
          "output_type": "display_data"
        }
      ],
      "source": [
        "# PSV Wins Each Season Away\n",
        "EachSeasonPSVAway = filtered_matches[(filtered_matches['away'] == 'psv-eindhoven') & (filtered_matches['home_score'] < filtered_matches['away_score'])]\n",
        "EachSeasonPSVAway.insert(loc=0, column='win', value=1)\n",
        "GroupBySeasonAwayWinsPSV = EachSeasonPSVAway.groupby(['saison'])[['win']].sum()\n",
        "\n",
        "GroupBySeasonAwayWinsPSV\n",
        "\n",
        "# # # plot PSV Wins in each Season Home\n",
        "dfEachSeasonPSVAway = pd.DataFrame(GroupBySeasonAwayWinsPSV)\n",
        "ax = dfEachSeasonPSVAway.plot(lw=2, colormap='jet', kind = 'bar', title='The PSV wins each season Away')\n",
        "ax.set_xlabel(\"Season\")\n",
        "ax.set_ylabel(\"Win\")"
      ]
    },
    {
      "cell_type": "code",
      "execution_count": 1504,
      "metadata": {
        "id": "3waRC9_rNyuM"
      },
      "outputs": [
        {
          "data": {
            "text/plain": [
              "Text(0, 0.5, 'Win')"
            ]
          },
          "execution_count": 1504,
          "metadata": {},
          "output_type": "execute_result"
        },
        {
          "data": {
            "image/png": "[encoded data removed]",
            "text/plain": [
              "<Figure size 432x288 with 1 Axes>"
            ]
          },
          "metadata": {
            "needs_background": "light"
          },
          "output_type": "display_data"
        }
      ],
      "source": [
        "# make new dataframe in order to aggregate\n",
        "dfAjaxWinsTotalEachSeason = pd.DataFrame()\n",
        "AjaxHomeWins= GroupBySeasenHomeWinsAjax['win']\n",
        "AjaxAwayeWins= GroupBySeasonAwayWinsAjax['win']\n",
        "dfAjaxWinsTotalEachSeason['home_wins'] = AjaxHomeWins\n",
        "dfAjaxWinsTotalEachSeason[\"away_wins\"] = AjaxAwayeWins\n",
        "sum_AllWinsInEachSeason = dfAjaxWinsTotalEachSeason[\"home_wins\"] + dfAjaxWinsTotalEachSeason[\"away_wins\"]\n",
        "dfAjaxWinsTotalEachSeason[\"total_wins\"] = sum_AllWinsInEachSeason\n",
        "\n",
        "\n",
        "# plot Ajax Goals in each Season Total\n",
        "dfAjaxWinsTotalEachSeasonPlot = pd.DataFrame(dfAjaxWinsTotalEachSeason)\n",
        "ax = dfAjaxWinsTotalEachSeasonPlot.plot(lw=2, colormap='jet', kind = 'bar', title='Ajax wins each season Total')\n",
        "ax.set_xlabel(\"Season\")\n",
        "ax.set_ylabel(\"Win\")"
      ]
    },
    {
      "cell_type": "markdown",
      "metadata": {
        "id": "DiSfYqdjNyuO"
      },
      "source": [
        "##### Comparison between the two sides in the league"
      ]
    },
    {
      "cell_type": "code",
      "execution_count": 1505,
      "metadata": {
        "id": "w6bjA8F5NyuO"
      },
      "outputs": [
        {
          "data": {
            "image/png": "[encoded data removed]",
            "text/plain": [
              "<Figure size 360x360 with 1 Axes>"
            ]
          },
          "metadata": {},
          "output_type": "display_data"
        }
      ],
      "source": [
        "# Goals \n",
        "piePlotAJAXVsPSVGOALS = pd.DataFrame({'Goals in total last 10 years': [TotalAjaxGoals, TotalPSVGoals]},\n",
        "                  index=['Ajax', 'PSV'])\n",
        "plot = piePlotAJAXVsPSVGOALS.plot.pie(y='Goals in total last 10 years', figsize=(5, 5))"
      ]
    },
    {
      "cell_type": "code",
      "execution_count": 1506,
      "metadata": {
        "id": "EpYraDpGNyuO"
      },
      "outputs": [
        {
          "data": {
            "text/plain": [
              "<AxesSubplot:title={'center':'Winnings in total last 10 years'}>"
            ]
          },
          "execution_count": 1506,
          "metadata": {},
          "output_type": "execute_result"
        },
        {
          "data": {
            "image/png": "[encoded data removed]",
            "text/plain": [
              "<Figure size 432x288 with 1 Axes>"
            ]
          },
          "metadata": {
            "needs_background": "light"
          },
          "output_type": "display_data"
        }
      ],
      "source": [
        "# winning\n",
        "plotdata = pd.DataFrame({\n",
        "    \"AJAX\": TotalAjaxWinning,\n",
        "    \"PSV\": TotalPSVWinning\n",
        "    },\n",
        "    index=['Winnings'],\n",
        "   \n",
        ")\n",
        "plotdata.plot(kind = 'bar', title =\"Winnings in total last 10 years\")"
      ]
    },
    {
      "cell_type": "code",
      "execution_count": 1507,
      "metadata": {
        "id": "Lc04glQWNyuO"
      },
      "outputs": [
        {
          "data": {
            "text/plain": [
              "<AxesSubplot:title={'center':'Losses in total last 10 years'}>"
            ]
          },
          "execution_count": 1507,
          "metadata": {},
          "output_type": "execute_result"
        },
        {
          "data": {
            "image/png": "[encoded data removed]",
            "text/plain": [
              "<Figure size 432x288 with 1 Axes>"
            ]
          },
          "metadata": {
            "needs_background": "light"
          },
          "output_type": "display_data"
        }
      ],
      "source": [
        "# losses\n",
        "plotdata = pd.DataFrame({\n",
        "    \"AJAX\": TotalAjaxLoses,\n",
        "    \"PSV\": TotalPSVLoses\n",
        "    },\n",
        "    index=['losses'],\n",
        "   \n",
        ")\n",
        "plotdata.plot(kind = 'bar', title =\"Losses in total last 10 years\")"
      ]
    },
    {
      "cell_type": "code",
      "execution_count": 1508,
      "metadata": {
        "id": "_XthuT6ZNyuO"
      },
      "outputs": [
        {
          "data": {
            "text/plain": [
              "<AxesSubplot:title={'center':'Draws in total last 10 years'}>"
            ]
          },
          "execution_count": 1508,
          "metadata": {},
          "output_type": "execute_result"
        },
        {
          "data": {
            "image/png": "[encoded data removed]",
            "text/plain": [
              "<Figure size 432x288 with 1 Axes>"
            ]
          },
          "metadata": {
            "needs_background": "light"
          },
          "output_type": "display_data"
        }
      ],
      "source": [
        "# draws\n",
        "plotdata = pd.DataFrame({\n",
        "    \"AJAX\": TotalAjaxDraws,\n",
        "    \"PSV\": TotalPSVDraws\n",
        "    },\n",
        "    index=['draws'],\n",
        "   \n",
        ")\n",
        "plotdata.plot(kind = 'bar', title =\"Draws in total last 10 years\")"
      ]
    },
    {
      "cell_type": "markdown",
      "metadata": {
        "id": "HeiTPksuNyuO"
      },
      "source": [
        "##### PSV VS Ajax (Matches)"
      ]
    },
    {
      "cell_type": "markdown",
      "metadata": {
        "id": "hJjGn0ZmNyuO"
      },
      "source": [
        "#### PSV Stadion"
      ]
    },
    {
      "cell_type": "code",
      "execution_count": 1509,
      "metadata": {
        "id": "VYsy90DwNyuP"
      },
      "outputs": [
        {
          "name": "stdout",
          "output_type": "stream",
          "text": [
            "PSV won 4 matches Home against Ajax\n",
            "PSV scores 11 goals Home against Ajax\n",
            "Ajax scores 0 goals againt PSV in PSV stadion\n"
          ]
        }
      ],
      "source": [
        "PSVWinHomeAgainstAjax = filtered_matches[ (filtered_matches['home_score'] > filtered_matches['away_score']) & \n",
        "                                         (filtered_matches['home'] == \"psv-eindhoven\") &\n",
        "                                         (filtered_matches['away'] == \"ajax-amsterdam\") ]\n",
        "\n",
        "PSVGoalsHomeAgainstAjaxWin = PSVWinHomeAgainstAjax['home_score'].sum()\n",
        "AjaxGoalsAwayAgainstPSVLose = PSVWinHomeAgainstAjax['away_score'].sum()\n",
        "\n",
        "print(f'PSV won {len(PSVWinHomeAgainstAjax.index)} matches Home against Ajax') \n",
        "print(f'PSV scores {PSVGoalsHomeAgainstAjaxWin} goals Home against Ajax')\n",
        "print(f'Ajax scores {AjaxGoalsAwayAgainstPSVLose} goals againt PSV in PSV stadion') "
      ]
    },
    {
      "cell_type": "code",
      "execution_count": 1510,
      "metadata": {
        "id": "IBcWXPkyNyuP"
      },
      "outputs": [
        {
          "name": "stdout",
          "output_type": "stream",
          "text": [
            "PSV lose 4 matches Home against Ajax\n",
            "PSV scores 4 goals Home against Ajax\n",
            "Ajax scores 10 goals againt PSV in PSV stadion\n"
          ]
        }
      ],
      "source": [
        "PSVLoseHomeAgainstAjax = filtered_matches[ (filtered_matches['home_score'] < filtered_matches['away_score']) & \n",
        "                                         (filtered_matches['home'] == \"psv-eindhoven\") &\n",
        "                                         (filtered_matches['away'] == \"ajax-amsterdam\") ]\n",
        "\n",
        "PSVGoalsHomeAgainstAjaxLose = PSVLoseHomeAgainstAjax['home_score'].sum()\n",
        "AjaxGoalsAwayAgainstPSVWin = PSVLoseHomeAgainstAjax['away_score'].sum()\n",
        "\n",
        "print(f'PSV lose {len(PSVLoseHomeAgainstAjax.index)} matches Home against Ajax') \n",
        "print(f'PSV scores {PSVGoalsHomeAgainstAjaxLose} goals Home against Ajax')\n",
        "print(f'Ajax scores {AjaxGoalsAwayAgainstPSVWin} goals againt PSV in PSV stadion') "
      ]
    },
    {
      "cell_type": "code",
      "execution_count": 1511,
      "metadata": {
        "id": "1O9BEsmdNyuP"
      },
      "outputs": [
        {
          "name": "stdout",
          "output_type": "stream",
          "text": [
            "PSV tied 3 matches Home against Ajax\n",
            "PSV scored 4 goals Home against Ajax\n",
            "Ajax scored 4 goals against PSV in PSV stadion\n"
          ]
        }
      ],
      "source": [
        "PSVDrawHomeAgainstAjax = filtered_matches[ (filtered_matches['home_score'] == filtered_matches['away_score']) & \n",
        "                                         (filtered_matches['home'] == \"psv-eindhoven\") &\n",
        "                                         (filtered_matches['away'] == \"ajax-amsterdam\") ]\n",
        "\n",
        "PSVGoalsHomeAgainstAjaxDraw = PSVDrawHomeAgainstAjax['home_score'].sum()\n",
        "AjaxGoalsAwayAgainstPSVDraw = PSVDrawHomeAgainstAjax['away_score'].sum()\n",
        "\n",
        "print(f'PSV tied {len(PSVDrawHomeAgainstAjax.index)} matches Home against Ajax') \n",
        "print(f'PSV scored {PSVGoalsHomeAgainstAjaxDraw} goals Home against Ajax')\n",
        "print(f'Ajax scored {AjaxGoalsAwayAgainstPSVDraw} goals against PSV in PSV stadion') "
      ]
    },
    {
      "cell_type": "code",
      "execution_count": 1512,
      "metadata": {
        "id": "VQ54jsXLNyuP"
      },
      "outputs": [
        {
          "name": "stdout",
          "output_type": "stream",
          "text": [
            "PSV scored 19 goals against Ajax in PSV stadion last 10 years\n",
            "PSV got 15 points against Ajax in PSV stadion last 10 years\n",
            "AJAX scored 14 goals against PSV in PSV stadion last 10 years\n",
            "Ajax got 15 points against PSV in PSV stadion last 10 years\n"
          ]
        }
      ],
      "source": [
        "# total Goals and points in PSV stadion\n",
        "totalPSVGoalsVsAjaxHome = PSVGoalsHomeAgainstAjaxWin + PSVGoalsHomeAgainstAjaxLose + PSVGoalsHomeAgainstAjaxDraw\n",
        "print(f'PSV scored {totalPSVGoalsVsAjaxHome} goals against Ajax in PSV stadion last 10 years') \n",
        "\n",
        "totalPSVPointsVsAjaxHome = (len(PSVWinHomeAgainstAjax.index) * 3) + len(PSVDrawHomeAgainstAjax.index)\n",
        "print(f'PSV got {totalPSVPointsVsAjaxHome} points against Ajax in PSV stadion last 10 years') \n",
        "\n",
        "totalAjaxGoalsVsPSVAway = AjaxGoalsAwayAgainstPSVWin + AjaxGoalsAwayAgainstPSVLose + AjaxGoalsAwayAgainstPSVDraw\n",
        "print(f'AJAX scored {totalAjaxGoalsVsPSVAway} goals against PSV in PSV stadion last 10 years') \n",
        "\n",
        "totalAjaxPointsVsPSVAway = (len(PSVLoseHomeAgainstAjax.index) * 3) + len(PSVDrawHomeAgainstAjax.index)\n",
        "print(f'Ajax got {totalAjaxPointsVsPSVAway} points against PSV in PSV stadion last 10 years') "
      ]
    },
    {
      "cell_type": "code",
      "execution_count": 1513,
      "metadata": {
        "id": "d0MFKGnqNyuP"
      },
      "outputs": [
        {
          "data": {
            "text/plain": [
              "<AxesSubplot:title={'center':'PSV vs Ajax (PSV) at PSV Stadion'}>"
            ]
          },
          "execution_count": 1513,
          "metadata": {},
          "output_type": "execute_result"
        },
        {
          "data": {
            "image/png": "[encoded data removed]",
            "text/plain": [
              "<Figure size 432x288 with 1 Axes>"
            ]
          },
          "metadata": {
            "needs_background": "light"
          },
          "output_type": "display_data"
        }
      ],
      "source": [
        "plotdata = pd.DataFrame({\n",
        "    \"Wins\": len(PSVWinHomeAgainstAjax.index),\n",
        "    \"Loses\": len(PSVLoseHomeAgainstAjax.index),\n",
        "    \"Draws\": len(PSVDrawHomeAgainstAjax.index)\n",
        "    },\n",
        "    index=[''],\n",
        "   \n",
        ")\n",
        "plotdata.plot(kind = 'bar', title =\"PSV vs Ajax (PSV) at PSV Stadion\")"
      ]
    },
    {
      "cell_type": "markdown",
      "metadata": {
        "id": "LtGffZAJNyuP"
      },
      "source": [
        "#### Ajax Stadion"
      ]
    },
    {
      "cell_type": "code",
      "execution_count": 1514,
      "metadata": {
        "id": "LEv1-vNuNyuQ"
      },
      "outputs": [
        {
          "name": "stdout",
          "output_type": "stream",
          "text": [
            "Ajax won 7 matches Home against PSV\n",
            "Ajax scored 18 goals Home against PSV\n",
            "PSV scored 2 goals againt AJAX in AJAX stadion\n"
          ]
        }
      ],
      "source": [
        "AjaxWinHomeAgainstPSV = filtered_matches[ (filtered_matches['home_score'] > filtered_matches['away_score']) & \n",
        "                                         (filtered_matches['home'] == \"ajax-amsterdam\") &\n",
        "                                         (filtered_matches['away'] == \"psv-eindhoven\") ]\n",
        "\n",
        "AjaxGoalsHomeAgainstPSVWin = AjaxWinHomeAgainstPSV['home_score'].sum()\n",
        "PSVGoalsAwayAgainstAjaxLose = AjaxWinHomeAgainstPSV['away_score'].sum()\n",
        "\n",
        "print(f'Ajax won {len(AjaxWinHomeAgainstPSV.index)} matches Home against PSV') \n",
        "print(f'Ajax scored {AjaxGoalsHomeAgainstPSVWin} goals Home against PSV')\n",
        "print(f'PSV scored {PSVGoalsAwayAgainstAjaxLose} goals againt AJAX in AJAX stadion') "
      ]
    },
    {
      "cell_type": "code",
      "execution_count": 1515,
      "metadata": {
        "id": "mCYGRyn0NyuQ"
      },
      "outputs": [
        {
          "name": "stdout",
          "output_type": "stream",
          "text": [
            "Ajax lost 2 matches Home against PSV\n",
            "Ajax scored 2 goals Home against PSV\n",
            "PSV scored 5 goals againt AJAX in AJAX stadion\n"
          ]
        }
      ],
      "source": [
        "AjaxLoseHomeAgainstPSV = filtered_matches[ (filtered_matches['home_score'] < filtered_matches['away_score']) & \n",
        "                                         (filtered_matches['home'] == \"ajax-amsterdam\") &\n",
        "                                         (filtered_matches['away'] == \"psv-eindhoven\") ]\n",
        "\n",
        "AjaxGoalsHomeAgainstPSVLose = AjaxLoseHomeAgainstPSV['home_score'].sum()\n",
        "PSVGoalsAwayAgainstAjaxWin = AjaxLoseHomeAgainstPSV['away_score'].sum()\n",
        "\n",
        "print(f'Ajax lost {len(AjaxLoseHomeAgainstPSV.index)} matches Home against PSV') \n",
        "print(f'Ajax scored {AjaxGoalsHomeAgainstPSVLose} goals Home against PSV')\n",
        "print(f'PSV scored {PSVGoalsAwayAgainstAjaxWin} goals againt AJAX in AJAX stadion') "
      ]
    },
    {
      "cell_type": "code",
      "execution_count": 1516,
      "metadata": {
        "id": "tr4jNFK9NyuQ"
      },
      "outputs": [
        {
          "name": "stdout",
          "output_type": "stream",
          "text": [
            "Ajax tied 2 matches Home against PSV\n",
            "Ajax scored 3 goals Home against PSV\n",
            "PSV scored 3 goals againt AJAX in AJAX stadion\n"
          ]
        }
      ],
      "source": [
        "AjaxDrawHomeAgainstPSV = filtered_matches[ (filtered_matches['home_score'] == filtered_matches['away_score']) & \n",
        "                                         (filtered_matches['home'] == \"ajax-amsterdam\") &\n",
        "                                         (filtered_matches['away'] == \"psv-eindhoven\") ]\n",
        "\n",
        "AjaxGoalsHomeAgainstPSVDraw = AjaxDrawHomeAgainstPSV['home_score'].sum()\n",
        "PSVGoalsAwayAgainstAjaxDraw = AjaxDrawHomeAgainstPSV['away_score'].sum()\n",
        "\n",
        "print(f'Ajax tied {len(AjaxDrawHomeAgainstPSV.index)} matches Home against PSV') \n",
        "print(f'Ajax scored {AjaxGoalsHomeAgainstPSVDraw} goals Home against PSV')\n",
        "print(f'PSV scored {PSVGoalsAwayAgainstAjaxDraw} goals againt AJAX in AJAX stadion') \n",
        "\n",
        "# TODO\n",
        "# compare the stats between PSV and AJAX in 1 chart\n",
        "# combine away and home in 1 chart"
      ]
    },
    {
      "cell_type": "code",
      "execution_count": 1517,
      "metadata": {
        "id": "3cF6X8tDNyuQ"
      },
      "outputs": [
        {
          "name": "stdout",
          "output_type": "stream",
          "text": [
            "AJAX scored 23 goals against PSV in Ajax stadion last 10 years\n",
            "Ajax got 23 points against PSV in Ajax stadion last 10 years\n",
            "PSV scored 10 goals against Ajax in Ajax stadion last 10 years\n",
            "PSV got 8 points against Ajax in Ajax stadion last 10 years\n"
          ]
        }
      ],
      "source": [
        "# total Goals and points in Ajax stadion\n",
        "totalAjaxGoalsVsPSVHome = AjaxGoalsHomeAgainstPSVWin + AjaxGoalsHomeAgainstPSVLose + AjaxGoalsHomeAgainstPSVDraw\n",
        "print(f'AJAX scored {totalAjaxGoalsVsPSVHome} goals against PSV in Ajax stadion last 10 years') \n",
        "\n",
        "totalAjaxPointsVsPSVHome = (len(AjaxWinHomeAgainstPSV.index) * 3) + len(AjaxDrawHomeAgainstPSV.index)\n",
        "print(f'Ajax got {totalAjaxPointsVsPSVHome} points against PSV in Ajax stadion last 10 years') \n",
        "\n",
        "totalPSVGoalsVsAjaxAway = PSVGoalsAwayAgainstAjaxWin + PSVGoalsAwayAgainstAjaxLose + PSVGoalsAwayAgainstAjaxDraw\n",
        "print(f'PSV scored {totalPSVGoalsVsAjaxAway} goals against Ajax in Ajax stadion last 10 years') \n",
        "\n",
        "totalPSVPointsVsAjaxAway = (len(AjaxLoseHomeAgainstPSV.index) * 3) + len(AjaxDrawHomeAgainstPSV.index)\n",
        "print(f'PSV got {totalPSVPointsVsAjaxAway} points against Ajax in Ajax stadion last 10 years') "
      ]
    },
    {
      "cell_type": "code",
      "execution_count": 1518,
      "metadata": {
        "id": "jb-X8CJ8NyuQ"
      },
      "outputs": [
        {
          "data": {
            "text/plain": [
              "<AxesSubplot:title={'center':'PSV vs Ajax (Ajax) at Ajax Stadion'}>"
            ]
          },
          "execution_count": 1518,
          "metadata": {},
          "output_type": "execute_result"
        },
        {
          "data": {
            "image/png": "[encoded data removed]",
            "text/plain": [
              "<Figure size 432x288 with 1 Axes>"
            ]
          },
          "metadata": {
            "needs_background": "light"
          },
          "output_type": "display_data"
        }
      ],
      "source": [
        "plotdata = pd.DataFrame({\n",
        "    \"Wins\": len(AjaxWinHomeAgainstPSV.index),\n",
        "    \"Loses\": len(AjaxLoseHomeAgainstPSV.index),\n",
        "    \"Draws\": len(AjaxDrawHomeAgainstPSV.index)\n",
        "    },\n",
        "    index=[''],\n",
        "   \n",
        ")\n",
        "plotdata.plot(kind = 'bar', title =\"PSV vs Ajax (Ajax) at Ajax Stadion\")"
      ]
    },
    {
      "cell_type": "code",
      "execution_count": 1519,
      "metadata": {
        "id": "DwAFRE7-NyuQ"
      },
      "outputs": [
        {
          "name": "stdout",
          "output_type": "stream",
          "text": [
            "Ajax scored 37 goals against PSV last 10 years\n",
            "PSV scored 29 goals against Ajax last 10 years\n",
            "Ajax got 38 points against PSV last 10 years\n",
            "PSV got 23 points against Ajax last 10 years\n",
            "Ajax won 11 matches against PSV last 10 years\n",
            "PSV won 6 matches against Ajax last 10 years\n",
            "Ajax lost 6 matches against PSV last 10 years\n",
            "PSV lost 11 matches against Ajax last 10 years\n",
            "Ajax tied 5 matches against PSV last 10 years\n",
            "PSV tied 5 matches against Ajax last 10 years\n"
          ]
        }
      ],
      "source": [
        "# total goals, points, winnings, losses and draws for each time\n",
        "# Goals\n",
        "TotalGoalsAjaxVSPSV = totalAjaxGoalsVsPSVAway + totalAjaxGoalsVsPSVHome \n",
        "print(f'Ajax scored {TotalGoalsAjaxVSPSV} goals against PSV last 10 years') \n",
        "\n",
        "TotalGoalsPsvVSAjax = totalPSVGoalsVsAjaxHome + totalPSVGoalsVsAjaxAway \n",
        "print(f'PSV scored {TotalGoalsPsvVSAjax} goals against Ajax last 10 years') \n",
        "\n",
        "# Points\n",
        "TotalPointsAjaxVSPSV = totalAjaxPointsVsPSVHome + totalAjaxPointsVsPSVAway\n",
        "print(f'Ajax got {TotalPointsAjaxVSPSV} points against PSV last 10 years') \n",
        "\n",
        "TotalPointsPsvVSAjax = totalPSVPointsVsAjaxHome + totalPSVPointsVsAjaxAway\n",
        "print(f'PSV got {TotalPointsPsvVSAjax} points against Ajax last 10 years')\n",
        "\n",
        "# Winnings\n",
        "TotalWinningsAjaxVSPSV = len(PSVLoseHomeAgainstAjax.index) + len(AjaxWinHomeAgainstPSV.index)\n",
        "print(f'Ajax won {TotalWinningsAjaxVSPSV} matches against PSV last 10 years')\n",
        "\n",
        "TotalWinningsPsvVSAjax = len(AjaxLoseHomeAgainstPSV.index) + len(PSVWinHomeAgainstAjax.index)\n",
        "print(f'PSV won {TotalWinningsPsvVSAjax} matches against Ajax last 10 years')\n",
        "\n",
        "# losses\n",
        "TotalLossesAjaxVSPSV = len(AjaxLoseHomeAgainstPSV.index) + len(PSVWinHomeAgainstAjax.index)\n",
        "print(f'Ajax lost {TotalLossesAjaxVSPSV} matches against PSV last 10 years')\n",
        "\n",
        "TotalLossesPsvVSAjax = len(PSVLoseHomeAgainstAjax.index) + len(AjaxWinHomeAgainstPSV.index)\n",
        "print(f'PSV lost {TotalLossesPsvVSAjax} matches against Ajax last 10 years')\n",
        "\n",
        "\n",
        "# Draws\n",
        "TotalDrawssAjaxVSPSV = len(AjaxDrawHomeAgainstPSV.index) + len(PSVDrawHomeAgainstAjax.index)\n",
        "print(f'Ajax tied {TotalDrawssAjaxVSPSV} matches against PSV last 10 years')\n",
        "\n",
        "TotalDrawsPsvVSAjax = len(AjaxDrawHomeAgainstPSV.index) + len(PSVDrawHomeAgainstAjax.index)\n",
        "print(f'PSV tied {TotalDrawssAjaxVSPSV} matches against Ajax last 10 years')"
      ]
    },
    {
      "cell_type": "code",
      "execution_count": 1520,
      "metadata": {
        "id": "rCw5Mk-iNyuQ"
      },
      "outputs": [
        {
          "data": {
            "text/plain": [
              "<AxesSubplot:title={'center':'PSV vs Ajax Goals in total'}>"
            ]
          },
          "execution_count": 1520,
          "metadata": {},
          "output_type": "execute_result"
        },
        {
          "data": {
            "image/png": "[encoded data removed]",
            "text/plain": [
              "<Figure size 432x288 with 1 Axes>"
            ]
          },
          "metadata": {
            "needs_background": "light"
          },
          "output_type": "display_data"
        }
      ],
      "source": [
        "plotdata = pd.DataFrame({\n",
        "    \"Ajax\": TotalGoalsAjaxVSPSV,\n",
        "    \"PSV\": TotalGoalsPsvVSAjax\n",
        "    },\n",
        "    index=['Goals'],\n",
        "   \n",
        ")\n",
        "plotdata.plot(kind = 'bar', title =\"PSV vs Ajax Goals in total\")"
      ]
    },
    {
      "cell_type": "code",
      "execution_count": 1521,
      "metadata": {
        "id": "E1pvvE6jNyuR"
      },
      "outputs": [
        {
          "data": {
            "text/plain": [
              "<AxesSubplot:title={'center':'PSV vs Ajax Points in total'}>"
            ]
          },
          "execution_count": 1521,
          "metadata": {},
          "output_type": "execute_result"
        },
        {
          "data": {
            "image/png": "[encoded data removed]",
            "text/plain": [
              "<Figure size 432x288 with 1 Axes>"
            ]
          },
          "metadata": {
            "needs_background": "light"
          },
          "output_type": "display_data"
        }
      ],
      "source": [
        "plotdata = pd.DataFrame({\n",
        "    \"Ajax\": TotalPointsAjaxVSPSV,\n",
        "    \"PSV\": TotalPointsPsvVSAjax\n",
        "    },\n",
        "    index=['Points'],\n",
        "   \n",
        ")\n",
        "plotdata.plot(kind = 'bar', title =\"PSV vs Ajax Points in total\")"
      ]
    },
    {
      "cell_type": "markdown",
      "metadata": {
        "id": "mghovlagNyuR"
      },
      "source": [
        "## Changing the players"
      ]
    },
    {
      "cell_type": "code",
      "execution_count": 1522,
      "metadata": {
        "id": "0H3E_HUzNyuR"
      },
      "outputs": [
        {
          "name": "stdout",
          "output_type": "stream",
          "text": [
            "31728 subs the home team made\n",
            "32505 subs the Away team made\n"
          ]
        }
      ],
      "source": [
        "# How much subs did the home and away teams made \n",
        "# we drop the unneccesary columns \n",
        "filtered_subs = raw_subs_file.drop(columns=['minute','player','round','saison'])\n",
        "filtered_subs[\"in\"].replace({False: 0, True: 1 }, inplace=True)\n",
        "\n",
        "filterHomeTeamSubs = filtered_subs[ (filtered_subs['home'] == filtered_subs['team'])]\n",
        "filterAwayTeamSubs = filtered_subs[ (filtered_subs['away'] == filtered_subs['team'])]\n",
        "\n",
        "# How much subs Home team made\n",
        "filterSubsHome = filterHomeTeamSubs[ (filterHomeTeamSubs['in'] == 1)]\n",
        "print(f'{len(filterSubsHome.index)} subs the home team made')\n",
        "\n",
        "# How much subs Away team made\n",
        "filterSubsAway = filterAwayTeamSubs[ (filterAwayTeamSubs['in'] == 1)]\n",
        "print(f'{len(filterSubsAway.index)} subs the Away team made')"
      ]
    },
    {
      "cell_type": "markdown",
      "metadata": {
        "id": "EAXoFuBHNyuR"
      },
      "source": [
        "# Ajax vs Psv Stats"
      ]
    },
    {
      "cell_type": "markdown",
      "metadata": {
        "id": "pT1p5_MmNyuR"
      },
      "source": [
        "#### Goals"
      ]
    },
    {
      "cell_type": "code",
      "execution_count": 1523,
      "metadata": {
        "id": "dTIfO3QfNyuR"
      },
      "outputs": [
        {
          "name": "stdout",
          "output_type": "stream",
          "text": [
            "Ajax Amsterdam Home Goals 443\n",
            "Ajax Amsterdam Away Goals 366\n",
            "psv eindhoven Home Goals 408\n",
            "psv eindhoven Away Goals 393\n"
          ]
        }
      ],
      "source": [
        "ajaxGoalsHome = filterAssist[ (filterAssist['home'] == 'ajax-amsterdam')]\n",
        "\n",
        "print(f'Ajax Amsterdam Home Goals {len(ajaxGoalsHome.index)}')\n",
        "\n",
        "\n",
        "ajaxGoalsAway = filterAssist[ (filterAssist['away'] == 'ajax-amsterdam')]\n",
        "\n",
        "print(f'Ajax Amsterdam Away Goals {len(ajaxGoalsAway.index)}')\n",
        "\n",
        "\n",
        "psvGoalsHome = filterAssist[ (filterAssist['home'] == 'psv-eindhoven')]\n",
        "\n",
        "print(f'psv eindhoven Home Goals {len(psvGoalsHome.index)}')\n",
        "\n",
        "psvGoalsAway = filterAssist[ (filterAssist['away'] == 'psv-eindhoven')]\n",
        "\n",
        "print(f'psv eindhoven Away Goals {len(psvGoalsAway.index)}')"
      ]
    },
    {
      "cell_type": "code",
      "execution_count": 1524,
      "metadata": {
        "id": "EOBUcPbkNyuR"
      },
      "outputs": [
        {
          "data": {
            "text/plain": [
              "<AxesSubplot:>"
            ]
          },
          "execution_count": 1524,
          "metadata": {},
          "output_type": "execute_result"
        },
        {
          "data": {
            "image/png": "[encoded data removed]",
            "text/plain": [
              "<Figure size 432x288 with 1 Axes>"
            ]
          },
          "metadata": {
            "needs_background": "light"
          },
          "output_type": "display_data"
        }
      ],
      "source": [
        "plotdata = pd.DataFrame({\n",
        "    \"Ajax\": len(ajaxGoalsHome.index),\n",
        "    \"PSV\": len(psvGoalsHome.index)\n",
        "    }, \n",
        "    index=[\"Home Goals\"]\n",
        ")\n",
        "plotdata.plot(kind=\"bar\")"
      ]
    },
    {
      "cell_type": "code",
      "execution_count": 1525,
      "metadata": {
        "id": "JB4R5XlFNyuS"
      },
      "outputs": [
        {
          "data": {
            "text/plain": [
              "<AxesSubplot:>"
            ]
          },
          "execution_count": 1525,
          "metadata": {},
          "output_type": "execute_result"
        },
        {
          "data": {
            "image/png": "[encoded data removed]",
            "text/plain": [
              "<Figure size 432x288 with 1 Axes>"
            ]
          },
          "metadata": {
            "needs_background": "light"
          },
          "output_type": "display_data"
        }
      ],
      "source": [
        "plotdata = pd.DataFrame({\n",
        "    \"Ajax\": len(ajaxGoalsAway.index),\n",
        "    \"PSV\": len(psvGoalsAway.index)\n",
        "    }, \n",
        "    index=[\"Away Goals\"]\n",
        ")\n",
        "plotdata.plot(kind=\"bar\")"
      ]
    },
    {
      "cell_type": "markdown",
      "metadata": {
        "id": "GZ3pt9khOA-9"
      },
      "source": [
        "# Final Result"
      ]
    },
    {
      "cell_type": "code",
      "execution_count": 1526,
      "metadata": {
        "id": "snC7UUC2NyuS"
      },
      "outputs": [
        {
          "data": {
            "text/html": [
              "<div>\n",
              "<style scoped>\n",
              "    .dataframe tbody tr th:only-of-type {\n",
              "        vertical-align: middle;\n",
              "    }\n",
              "\n",
              "    .dataframe tbody tr th {\n",
              "        vertical-align: top;\n",
              "    }\n",
              "\n",
              "    .dataframe thead th {\n",
              "        text-align: right;\n",
              "    }\n",
              "</style>\n",
              "<table border=\"1\" class=\"dataframe\">\n",
              "  <thead>\n",
              "    <tr style=\"text-align: right;\">\n",
              "      <th></th>\n",
              "      <th>home_goals</th>\n",
              "      <th>away_goals</th>\n",
              "      <th>yellow_home</th>\n",
              "      <th>yellow_away</th>\n",
              "      <th>red_home</th>\n",
              "      <th>red_away</th>\n",
              "      <th>win_total</th>\n",
              "    </tr>\n",
              "    <tr>\n",
              "      <th>saison</th>\n",
              "      <th></th>\n",
              "      <th></th>\n",
              "      <th></th>\n",
              "      <th></th>\n",
              "      <th></th>\n",
              "      <th></th>\n",
              "      <th></th>\n",
              "    </tr>\n",
              "  </thead>\n",
              "  <tbody>\n",
              "    <tr>\n",
              "      <th>2012</th>\n",
              "      <td>49</td>\n",
              "      <td>44</td>\n",
              "      <td>43</td>\n",
              "      <td>51</td>\n",
              "      <td>4</td>\n",
              "      <td>5</td>\n",
              "      <td>23</td>\n",
              "    </tr>\n",
              "    <tr>\n",
              "      <th>2013</th>\n",
              "      <td>40</td>\n",
              "      <td>43</td>\n",
              "      <td>27</td>\n",
              "      <td>43</td>\n",
              "      <td>2</td>\n",
              "      <td>2</td>\n",
              "      <td>22</td>\n",
              "    </tr>\n",
              "    <tr>\n",
              "      <th>2014</th>\n",
              "      <td>42</td>\n",
              "      <td>26</td>\n",
              "      <td>52</td>\n",
              "      <td>37</td>\n",
              "      <td>1</td>\n",
              "      <td>2</td>\n",
              "      <td>20</td>\n",
              "    </tr>\n",
              "    <tr>\n",
              "      <th>2015</th>\n",
              "      <td>37</td>\n",
              "      <td>32</td>\n",
              "      <td>37</td>\n",
              "      <td>46</td>\n",
              "      <td>3</td>\n",
              "      <td>3</td>\n",
              "      <td>21</td>\n",
              "    </tr>\n",
              "    <tr>\n",
              "      <th>2016</th>\n",
              "      <td>49</td>\n",
              "      <td>32</td>\n",
              "      <td>31</td>\n",
              "      <td>66</td>\n",
              "      <td>1</td>\n",
              "      <td>1</td>\n",
              "      <td>25</td>\n",
              "    </tr>\n",
              "    <tr>\n",
              "      <th>2017</th>\n",
              "      <td>48</td>\n",
              "      <td>31</td>\n",
              "      <td>44</td>\n",
              "      <td>53</td>\n",
              "      <td>3</td>\n",
              "      <td>3</td>\n",
              "      <td>25</td>\n",
              "    </tr>\n",
              "    <tr>\n",
              "      <th>2018</th>\n",
              "      <td>45</td>\n",
              "      <td>44</td>\n",
              "      <td>54</td>\n",
              "      <td>58</td>\n",
              "      <td>2</td>\n",
              "      <td>4</td>\n",
              "      <td>25</td>\n",
              "    </tr>\n",
              "    <tr>\n",
              "      <th>2019</th>\n",
              "      <td>70</td>\n",
              "      <td>49</td>\n",
              "      <td>45</td>\n",
              "      <td>50</td>\n",
              "      <td>2</td>\n",
              "      <td>0</td>\n",
              "      <td>28</td>\n",
              "    </tr>\n",
              "    <tr>\n",
              "      <th>2020</th>\n",
              "      <td>40</td>\n",
              "      <td>28</td>\n",
              "      <td>27</td>\n",
              "      <td>47</td>\n",
              "      <td>0</td>\n",
              "      <td>0</td>\n",
              "      <td>18</td>\n",
              "    </tr>\n",
              "    <tr>\n",
              "      <th>2021</th>\n",
              "      <td>53</td>\n",
              "      <td>49</td>\n",
              "      <td>32</td>\n",
              "      <td>32</td>\n",
              "      <td>3</td>\n",
              "      <td>3</td>\n",
              "      <td>28</td>\n",
              "    </tr>\n",
              "    <tr>\n",
              "      <th>2022</th>\n",
              "      <td>49</td>\n",
              "      <td>25</td>\n",
              "      <td>28</td>\n",
              "      <td>37</td>\n",
              "      <td>0</td>\n",
              "      <td>0</td>\n",
              "      <td>19</td>\n",
              "    </tr>\n",
              "  </tbody>\n",
              "</table>\n",
              "</div>"
            ],
            "text/plain": [
              "        home_goals  away_goals  yellow_home  yellow_away  red_home  red_away  \\\n",
              "saison                                                                         \n",
              "2012            49          44           43           51         4         5   \n",
              "2013            40          43           27           43         2         2   \n",
              "2014            42          26           52           37         1         2   \n",
              "2015            37          32           37           46         3         3   \n",
              "2016            49          32           31           66         1         1   \n",
              "2017            48          31           44           53         3         3   \n",
              "2018            45          44           54           58         2         4   \n",
              "2019            70          49           45           50         2         0   \n",
              "2020            40          28           27           47         0         0   \n",
              "2021            53          49           32           32         3         3   \n",
              "2022            49          25           28           37         0         0   \n",
              "\n",
              "        win_total  \n",
              "saison             \n",
              "2012           23  \n",
              "2013           22  \n",
              "2014           20  \n",
              "2015           21  \n",
              "2016           25  \n",
              "2017           25  \n",
              "2018           25  \n",
              "2019           28  \n",
              "2020           18  \n",
              "2021           28  \n",
              "2022           19  "
            ]
          },
          "execution_count": 1526,
          "metadata": {},
          "output_type": "execute_result"
        }
      ],
      "source": [
        "# the final result Ajax\n",
        "finalResultAjax = pd.DataFrame()\n",
        "finalResultAjax['home_goals'] = AjaxHomeGoals\n",
        "finalResultAjax[\"away_goals\"] = AjaxAwayGoals\n",
        "finalResultAjax['yellow_home'] = AjaxHomeYellowCards\n",
        "finalResultAjax[\"yellow_away\"] = AjaxAwayYellowCards\n",
        "finalResultAjax['red_home'] = AjaxHomeRedCards\n",
        "finalResultAjax[\"red_away\"] = AjaxAwayRedCards\n",
        "finalResultAjax[\"win_total\"] = GroupBySeasonAwayWinsAjax + GroupBySeasenHomeWinsAjax\n",
        "finalResultAjax['red_home'] = finalResultAjax['red_home'].fillna(0).astype(int)\n",
        "finalResultAjax['red_away'] = finalResultAjax['red_away'].fillna(0).astype(int)\n",
        "finalResultAjax"
      ]
    },
    {
      "cell_type": "code",
      "execution_count": 1527,
      "metadata": {
        "id": "QH6GjWRyNyuS"
      },
      "outputs": [
        {
          "data": {
            "text/html": [
              "<div>\n",
              "<style scoped>\n",
              "    .dataframe tbody tr th:only-of-type {\n",
              "        vertical-align: middle;\n",
              "    }\n",
              "\n",
              "    .dataframe tbody tr th {\n",
              "        vertical-align: top;\n",
              "    }\n",
              "\n",
              "    .dataframe thead th {\n",
              "        text-align: right;\n",
              "    }\n",
              "</style>\n",
              "<table border=\"1\" class=\"dataframe\">\n",
              "  <thead>\n",
              "    <tr style=\"text-align: right;\">\n",
              "      <th></th>\n",
              "      <th>home_goals</th>\n",
              "      <th>away_goals</th>\n",
              "      <th>yellow_home</th>\n",
              "      <th>yellow_away</th>\n",
              "      <th>red_home</th>\n",
              "      <th>red_away</th>\n",
              "      <th>win_total</th>\n",
              "    </tr>\n",
              "    <tr>\n",
              "      <th>saison</th>\n",
              "      <th></th>\n",
              "      <th></th>\n",
              "      <th></th>\n",
              "      <th></th>\n",
              "      <th></th>\n",
              "      <th></th>\n",
              "      <th></th>\n",
              "    </tr>\n",
              "  </thead>\n",
              "  <tbody>\n",
              "    <tr>\n",
              "      <th>2012</th>\n",
              "      <td>57</td>\n",
              "      <td>30</td>\n",
              "      <td>55</td>\n",
              "      <td>63</td>\n",
              "      <td>4</td>\n",
              "      <td>7</td>\n",
              "      <td>21</td>\n",
              "    </tr>\n",
              "    <tr>\n",
              "      <th>2013</th>\n",
              "      <td>58</td>\n",
              "      <td>45</td>\n",
              "      <td>48</td>\n",
              "      <td>47</td>\n",
              "      <td>4</td>\n",
              "      <td>6</td>\n",
              "      <td>22</td>\n",
              "    </tr>\n",
              "    <tr>\n",
              "      <th>2014</th>\n",
              "      <td>34</td>\n",
              "      <td>26</td>\n",
              "      <td>44</td>\n",
              "      <td>49</td>\n",
              "      <td>3</td>\n",
              "      <td>3</td>\n",
              "      <td>18</td>\n",
              "    </tr>\n",
              "    <tr>\n",
              "      <th>2015</th>\n",
              "      <td>50</td>\n",
              "      <td>42</td>\n",
              "      <td>38</td>\n",
              "      <td>37</td>\n",
              "      <td>3</td>\n",
              "      <td>7</td>\n",
              "      <td>29</td>\n",
              "    </tr>\n",
              "    <tr>\n",
              "      <th>2016</th>\n",
              "      <td>41</td>\n",
              "      <td>47</td>\n",
              "      <td>69</td>\n",
              "      <td>46</td>\n",
              "      <td>2</td>\n",
              "      <td>1</td>\n",
              "      <td>26</td>\n",
              "    </tr>\n",
              "    <tr>\n",
              "      <th>2017</th>\n",
              "      <td>35</td>\n",
              "      <td>33</td>\n",
              "      <td>46</td>\n",
              "      <td>35</td>\n",
              "      <td>0</td>\n",
              "      <td>1</td>\n",
              "      <td>22</td>\n",
              "    </tr>\n",
              "    <tr>\n",
              "      <th>2018</th>\n",
              "      <td>44</td>\n",
              "      <td>43</td>\n",
              "      <td>54</td>\n",
              "      <td>52</td>\n",
              "      <td>8</td>\n",
              "      <td>3</td>\n",
              "      <td>26</td>\n",
              "    </tr>\n",
              "    <tr>\n",
              "      <th>2019</th>\n",
              "      <td>58</td>\n",
              "      <td>40</td>\n",
              "      <td>61</td>\n",
              "      <td>47</td>\n",
              "      <td>2</td>\n",
              "      <td>4</td>\n",
              "      <td>26</td>\n",
              "    </tr>\n",
              "    <tr>\n",
              "      <th>2020</th>\n",
              "      <td>32</td>\n",
              "      <td>22</td>\n",
              "      <td>31</td>\n",
              "      <td>44</td>\n",
              "      <td>1</td>\n",
              "      <td>2</td>\n",
              "      <td>14</td>\n",
              "    </tr>\n",
              "    <tr>\n",
              "      <th>2021</th>\n",
              "      <td>39</td>\n",
              "      <td>35</td>\n",
              "      <td>45</td>\n",
              "      <td>32</td>\n",
              "      <td>2</td>\n",
              "      <td>0</td>\n",
              "      <td>21</td>\n",
              "    </tr>\n",
              "    <tr>\n",
              "      <th>2022</th>\n",
              "      <td>35</td>\n",
              "      <td>27</td>\n",
              "      <td>31</td>\n",
              "      <td>35</td>\n",
              "      <td>1</td>\n",
              "      <td>1</td>\n",
              "      <td>19</td>\n",
              "    </tr>\n",
              "  </tbody>\n",
              "</table>\n",
              "</div>"
            ],
            "text/plain": [
              "        home_goals  away_goals  yellow_home  yellow_away  red_home  red_away  \\\n",
              "saison                                                                         \n",
              "2012            57          30           55           63         4         7   \n",
              "2013            58          45           48           47         4         6   \n",
              "2014            34          26           44           49         3         3   \n",
              "2015            50          42           38           37         3         7   \n",
              "2016            41          47           69           46         2         1   \n",
              "2017            35          33           46           35         0         1   \n",
              "2018            44          43           54           52         8         3   \n",
              "2019            58          40           61           47         2         4   \n",
              "2020            32          22           31           44         1         2   \n",
              "2021            39          35           45           32         2         0   \n",
              "2022            35          27           31           35         1         1   \n",
              "\n",
              "        win_total  \n",
              "saison             \n",
              "2012           21  \n",
              "2013           22  \n",
              "2014           18  \n",
              "2015           29  \n",
              "2016           26  \n",
              "2017           22  \n",
              "2018           26  \n",
              "2019           26  \n",
              "2020           14  \n",
              "2021           21  \n",
              "2022           19  "
            ]
          },
          "execution_count": 1527,
          "metadata": {},
          "output_type": "execute_result"
        }
      ],
      "source": [
        "# the final result PSV\n",
        "finalResultPSV = pd.DataFrame()\n",
        "finalResultPSV['home_goals'] = PSVHomeGoals\n",
        "finalResultPSV[\"away_goals\"] = PSVAwayGoals\n",
        "finalResultPSV['yellow_home'] = PSVHomeYellowCards\n",
        "finalResultPSV[\"yellow_away\"] = PSVAwayYellowCards\n",
        "finalResultPSV['red_home'] = PSVHomeRedCards\n",
        "finalResultPSV[\"red_away\"] = PSVAwayRedCards\n",
        "finalResultPSV[\"win_total\"] = GroupBySeasonHomeWinsPSV + GroupBySeasonAwayWinsPSV\n",
        "finalResultPSV['red_home'] = finalResultPSV['red_home'].fillna(0).astype(int)\n",
        "finalResultPSV['red_away'] = finalResultPSV['red_away'].fillna(0).astype(int)\n",
        "finalResultPSV"
      ]
    },
    {
      "cell_type": "markdown",
      "metadata": {},
      "source": [
        "# Prediction"
      ]
    },
    {
      "cell_type": "code",
      "execution_count": 1528,
      "metadata": {},
      "outputs": [
        {
          "data": {
            "text/plain": [
              "array([20.03288283, 27.03758742, 17.84414943, 26.92095816, 25.98798248,\n",
              "       20.99541865, 24.66918256, 24.18438507, 16.16401642, 21.65481861,\n",
              "       18.50861839])"
            ]
          },
          "execution_count": 1528,
          "metadata": {},
          "output_type": "execute_result"
        }
      ],
      "source": [
        "from sklearn.linear_model import LinearRegression\n",
        "# X = finalResultPSV[[\"home_goals\", \"away_goals\", \"yellow_home\", \"yellow_away\", \"red_home\", \"red_away\"]]\n",
        "X = finalResultPSV[[\"away_goals\", \"yellow_away\", \"red_away\"]]\n",
        "y = finalResultPSV[\"win_total\"]\n",
        "reg = LinearRegression().fit(X, y)\n",
        "reg.score(X, y)\n",
        "reg.coef_\n",
        "reg.intercept_\n",
        "reg.predict(X)"
      ]
    },
    {
      "cell_type": "code",
      "execution_count": 1529,
      "metadata": {},
      "outputs": [
        {
          "name": "stdout",
          "output_type": "stream",
          "text": [
            "[19 26 22 22 26 26]\n",
            "Accuracy: 0.16666666666666666\n"
          ]
        }
      ],
      "source": [
        "from sklearn.tree import DecisionTreeClassifier # Import Decision Tree Classifier\n",
        "from sklearn.model_selection import train_test_split # Import train_test_split function\n",
        "from sklearn import metrics #Import scikit-learn metrics module for accuracy calculation\n",
        "\n",
        "X = finalResultPSV[[\"away_goals\", \"yellow_away\", \"red_away\"]] #features\n",
        "y = finalResultPSV[\"win_total\"] #target\n",
        "\n",
        "# Split dataset into training set and test set\n",
        "X_train, X_test, y_train, y_test = train_test_split(X, y, test_size=0.5, random_state=1) # 70% training and 30% test\n",
        "\n",
        "\n",
        "# Create Decision Tree classifer object\n",
        "clf = DecisionTreeClassifier()\n",
        "\n",
        "# Train Decision Tree Classifer\n",
        "clf = clf.fit(X_train,y_train)\n",
        "\n",
        "#Predict the response for test dataset\n",
        "y_pred = clf.predict(X_test)\n",
        "\n",
        "print(y_pred)\n",
        "\n",
        "\n",
        "# Model Accuracy, how often is the classifier correct?\n",
        "print(\"Accuracy:\",metrics.accuracy_score(y_test, y_pred))\n"
      ]
    },
    {
      "cell_type": "code",
      "execution_count": 1530,
      "metadata": {},
      "outputs": [
        {
          "data": {
            "text/html": [
              "<div>\n",
              "<style scoped>\n",
              "    .dataframe tbody tr th:only-of-type {\n",
              "        vertical-align: middle;\n",
              "    }\n",
              "\n",
              "    .dataframe tbody tr th {\n",
              "        vertical-align: top;\n",
              "    }\n",
              "\n",
              "    .dataframe thead th {\n",
              "        text-align: right;\n",
              "    }\n",
              "</style>\n",
              "<table border=\"1\" class=\"dataframe\">\n",
              "  <thead>\n",
              "    <tr style=\"text-align: right;\">\n",
              "      <th></th>\n",
              "      <th>Unnamed: 0</th>\n",
              "      <th>saison</th>\n",
              "      <th>home</th>\n",
              "      <th>away</th>\n",
              "      <th>home_score</th>\n",
              "      <th>away_score</th>\n",
              "    </tr>\n",
              "  </thead>\n",
              "  <tbody>\n",
              "    <tr>\n",
              "      <th>16566</th>\n",
              "      <td>0</td>\n",
              "      <td>2012</td>\n",
              "      <td>ado-den-haag</td>\n",
              "      <td>ajax-amsterdam</td>\n",
              "      <td>0</td>\n",
              "      <td>2</td>\n",
              "    </tr>\n",
              "    <tr>\n",
              "      <th>16567</th>\n",
              "      <td>1</td>\n",
              "      <td>2012</td>\n",
              "      <td>ado-den-haag</td>\n",
              "      <td>az-alkmaar</td>\n",
              "      <td>0</td>\n",
              "      <td>6</td>\n",
              "    </tr>\n",
              "    <tr>\n",
              "      <th>16568</th>\n",
              "      <td>2</td>\n",
              "      <td>2012</td>\n",
              "      <td>ado-den-haag</td>\n",
              "      <td>de-graafschap</td>\n",
              "      <td>3</td>\n",
              "      <td>5</td>\n",
              "    </tr>\n",
              "    <tr>\n",
              "      <th>16569</th>\n",
              "      <td>3</td>\n",
              "      <td>2012</td>\n",
              "      <td>ado-den-haag</td>\n",
              "      <td>fc-groningen</td>\n",
              "      <td>3</td>\n",
              "      <td>0</td>\n",
              "    </tr>\n",
              "    <tr>\n",
              "      <th>16570</th>\n",
              "      <td>4</td>\n",
              "      <td>2012</td>\n",
              "      <td>ado-den-haag</td>\n",
              "      <td>fc-twente</td>\n",
              "      <td>1</td>\n",
              "      <td>1</td>\n",
              "    </tr>\n",
              "    <tr>\n",
              "      <th>...</th>\n",
              "      <td>...</td>\n",
              "      <td>...</td>\n",
              "      <td>...</td>\n",
              "      <td>...</td>\n",
              "      <td>...</td>\n",
              "      <td>...</td>\n",
              "    </tr>\n",
              "    <tr>\n",
              "      <th>19924</th>\n",
              "      <td>300</td>\n",
              "      <td>2022</td>\n",
              "      <td>willem-ii-tilburg</td>\n",
              "      <td>psv-eindhoven</td>\n",
              "      <td>2</td>\n",
              "      <td>1</td>\n",
              "    </tr>\n",
              "    <tr>\n",
              "      <th>19925</th>\n",
              "      <td>301</td>\n",
              "      <td>2022</td>\n",
              "      <td>willem-ii-tilburg</td>\n",
              "      <td>rkc-waalwijk</td>\n",
              "      <td>3</td>\n",
              "      <td>1</td>\n",
              "    </tr>\n",
              "    <tr>\n",
              "      <th>19926</th>\n",
              "      <td>302</td>\n",
              "      <td>2022</td>\n",
              "      <td>willem-ii-tilburg</td>\n",
              "      <td>cambuur-leeuwarden</td>\n",
              "      <td>1</td>\n",
              "      <td>3</td>\n",
              "    </tr>\n",
              "    <tr>\n",
              "      <th>19927</th>\n",
              "      <td>303</td>\n",
              "      <td>2022</td>\n",
              "      <td>willem-ii-tilburg</td>\n",
              "      <td>sc-heerenveen</td>\n",
              "      <td>0</td>\n",
              "      <td>0</td>\n",
              "    </tr>\n",
              "    <tr>\n",
              "      <th>19928</th>\n",
              "      <td>304</td>\n",
              "      <td>2022</td>\n",
              "      <td>willem-ii-tilburg</td>\n",
              "      <td>sparta-rotterdam</td>\n",
              "      <td>0</td>\n",
              "      <td>3</td>\n",
              "    </tr>\n",
              "  </tbody>\n",
              "</table>\n",
              "<p>3208 rows × 6 columns</p>\n",
              "</div>"
            ],
            "text/plain": [
              "       Unnamed: 0  saison               home                away  home_score  \\\n",
              "16566           0    2012       ado-den-haag      ajax-amsterdam           0   \n",
              "16567           1    2012       ado-den-haag          az-alkmaar           0   \n",
              "16568           2    2012       ado-den-haag       de-graafschap           3   \n",
              "16569           3    2012       ado-den-haag        fc-groningen           3   \n",
              "16570           4    2012       ado-den-haag           fc-twente           1   \n",
              "...           ...     ...                ...                 ...         ...   \n",
              "19924         300    2022  willem-ii-tilburg       psv-eindhoven           2   \n",
              "19925         301    2022  willem-ii-tilburg        rkc-waalwijk           3   \n",
              "19926         302    2022  willem-ii-tilburg  cambuur-leeuwarden           1   \n",
              "19927         303    2022  willem-ii-tilburg       sc-heerenveen           0   \n",
              "19928         304    2022  willem-ii-tilburg    sparta-rotterdam           0   \n",
              "\n",
              "       away_score  \n",
              "16566           2  \n",
              "16567           6  \n",
              "16568           5  \n",
              "16569           0  \n",
              "16570           1  \n",
              "...           ...  \n",
              "19924           1  \n",
              "19925           1  \n",
              "19926           3  \n",
              "19927           0  \n",
              "19928           3  \n",
              "\n",
              "[3208 rows x 6 columns]"
            ]
          },
          "execution_count": 1530,
          "metadata": {},
          "output_type": "execute_result"
        }
      ],
      "source": [
        "filtered_matches"
      ]
    },
    {
      "cell_type": "code",
      "execution_count": 1568,
      "metadata": {},
      "outputs": [],
      "source": [
        "from sklearn.preprocessing import LabelEncoder\n",
        "from sklearn import tree\n",
        "from sklearn.model_selection import train_test_split\n",
        "\n",
        "ajax_home_team_label = LabelEncoder()\n",
        "ajax_away_team_label = LabelEncoder()\n"
      ]
    },
    {
      "cell_type": "code",
      "execution_count": 1569,
      "metadata": {},
      "outputs": [],
      "source": [
        "#Function used for the matches:\n",
        "def ClassifyMatches(row):\n",
        "    if(row.home_score > row.away_score):\n",
        "        return \"win\"\n",
        "    elif(row.home_score < row.away_score):\n",
        "        return \"lose\"\n",
        "    else:\n",
        "        return \"draw\""
      ]
    },
    {
      "cell_type": "code",
      "execution_count": 1570,
      "metadata": {},
      "outputs": [
        {
          "data": {
            "text/html": [
              "<div>\n",
              "<style scoped>\n",
              "    .dataframe tbody tr th:only-of-type {\n",
              "        vertical-align: middle;\n",
              "    }\n",
              "\n",
              "    .dataframe tbody tr th {\n",
              "        vertical-align: top;\n",
              "    }\n",
              "\n",
              "    .dataframe thead th {\n",
              "        text-align: right;\n",
              "    }\n",
              "</style>\n",
              "<table border=\"1\" class=\"dataframe\">\n",
              "  <thead>\n",
              "    <tr style=\"text-align: right;\">\n",
              "      <th></th>\n",
              "      <th>home_team</th>\n",
              "      <th>away_team</th>\n",
              "      <th>home_score</th>\n",
              "      <th>away_score</th>\n",
              "      <th>winning_team</th>\n",
              "      <th>home_team_nr</th>\n",
              "      <th>away_team_nr</th>\n",
              "    </tr>\n",
              "  </thead>\n",
              "  <tbody>\n",
              "    <tr>\n",
              "      <th>16583</th>\n",
              "      <td>ajax-amsterdam</td>\n",
              "      <td>ado-den-haag</td>\n",
              "      <td>4</td>\n",
              "      <td>0</td>\n",
              "      <td>win</td>\n",
              "      <td>0</td>\n",
              "      <td>0</td>\n",
              "    </tr>\n",
              "    <tr>\n",
              "      <th>16584</th>\n",
              "      <td>ajax-amsterdam</td>\n",
              "      <td>az-alkmaar</td>\n",
              "      <td>2</td>\n",
              "      <td>2</td>\n",
              "      <td>draw</td>\n",
              "      <td>0</td>\n",
              "      <td>1</td>\n",
              "    </tr>\n",
              "    <tr>\n",
              "      <th>16585</th>\n",
              "      <td>ajax-amsterdam</td>\n",
              "      <td>de-graafschap</td>\n",
              "      <td>3</td>\n",
              "      <td>1</td>\n",
              "      <td>win</td>\n",
              "      <td>0</td>\n",
              "      <td>3</td>\n",
              "    </tr>\n",
              "    <tr>\n",
              "      <th>16586</th>\n",
              "      <td>ajax-amsterdam</td>\n",
              "      <td>fc-groningen</td>\n",
              "      <td>2</td>\n",
              "      <td>0</td>\n",
              "      <td>win</td>\n",
              "      <td>0</td>\n",
              "      <td>6</td>\n",
              "    </tr>\n",
              "    <tr>\n",
              "      <th>16587</th>\n",
              "      <td>ajax-amsterdam</td>\n",
              "      <td>fc-twente</td>\n",
              "      <td>1</td>\n",
              "      <td>1</td>\n",
              "      <td>draw</td>\n",
              "      <td>0</td>\n",
              "      <td>7</td>\n",
              "    </tr>\n",
              "    <tr>\n",
              "      <th>...</th>\n",
              "      <td>...</td>\n",
              "      <td>...</td>\n",
              "      <td>...</td>\n",
              "      <td>...</td>\n",
              "      <td>...</td>\n",
              "      <td>...</td>\n",
              "      <td>...</td>\n",
              "    </tr>\n",
              "    <tr>\n",
              "      <th>19634</th>\n",
              "      <td>ajax-amsterdam</td>\n",
              "      <td>psv-eindhoven</td>\n",
              "      <td>5</td>\n",
              "      <td>0</td>\n",
              "      <td>win</td>\n",
              "      <td>0</td>\n",
              "      <td>16</td>\n",
              "    </tr>\n",
              "    <tr>\n",
              "      <th>19635</th>\n",
              "      <td>ajax-amsterdam</td>\n",
              "      <td>rkc-waalwijk</td>\n",
              "      <td>3</td>\n",
              "      <td>2</td>\n",
              "      <td>win</td>\n",
              "      <td>0</td>\n",
              "      <td>17</td>\n",
              "    </tr>\n",
              "    <tr>\n",
              "      <th>19636</th>\n",
              "      <td>ajax-amsterdam</td>\n",
              "      <td>cambuur-leeuwarden</td>\n",
              "      <td>9</td>\n",
              "      <td>0</td>\n",
              "      <td>win</td>\n",
              "      <td>0</td>\n",
              "      <td>2</td>\n",
              "    </tr>\n",
              "    <tr>\n",
              "      <th>19639</th>\n",
              "      <td>ajax-amsterdam</td>\n",
              "      <td>vitesse-arnhem</td>\n",
              "      <td>5</td>\n",
              "      <td>0</td>\n",
              "      <td>win</td>\n",
              "      <td>0</td>\n",
              "      <td>22</td>\n",
              "    </tr>\n",
              "    <tr>\n",
              "      <th>19640</th>\n",
              "      <td>ajax-amsterdam</td>\n",
              "      <td>willem-ii-tilburg</td>\n",
              "      <td>5</td>\n",
              "      <td>0</td>\n",
              "      <td>win</td>\n",
              "      <td>0</td>\n",
              "      <td>24</td>\n",
              "    </tr>\n",
              "  </tbody>\n",
              "</table>\n",
              "<p>179 rows × 7 columns</p>\n",
              "</div>"
            ],
            "text/plain": [
              "            home_team           away_team  home_score  away_score  \\\n",
              "16583  ajax-amsterdam        ado-den-haag           4           0   \n",
              "16584  ajax-amsterdam          az-alkmaar           2           2   \n",
              "16585  ajax-amsterdam       de-graafschap           3           1   \n",
              "16586  ajax-amsterdam        fc-groningen           2           0   \n",
              "16587  ajax-amsterdam           fc-twente           1           1   \n",
              "...               ...                 ...         ...         ...   \n",
              "19634  ajax-amsterdam       psv-eindhoven           5           0   \n",
              "19635  ajax-amsterdam        rkc-waalwijk           3           2   \n",
              "19636  ajax-amsterdam  cambuur-leeuwarden           9           0   \n",
              "19639  ajax-amsterdam      vitesse-arnhem           5           0   \n",
              "19640  ajax-amsterdam   willem-ii-tilburg           5           0   \n",
              "\n",
              "      winning_team  home_team_nr  away_team_nr  \n",
              "16583          win             0             0  \n",
              "16584         draw             0             1  \n",
              "16585          win             0             3  \n",
              "16586          win             0             6  \n",
              "16587         draw             0             7  \n",
              "...            ...           ...           ...  \n",
              "19634          win             0            16  \n",
              "19635          win             0            17  \n",
              "19636          win             0             2  \n",
              "19639          win             0            22  \n",
              "19640          win             0            24  \n",
              "\n",
              "[179 rows x 7 columns]"
            ]
          },
          "execution_count": 1570,
          "metadata": {},
          "output_type": "execute_result"
        }
      ],
      "source": [
        "df_MatchesForAjaxHost = pd.DataFrame()\n",
        "homeTeamAjax = filtered_matches['home'].loc[filtered_matches['home']=='ajax-amsterdam']\n",
        "awayTeamAjax = filtered_matches['away'].loc[filtered_matches['home'] == 'ajax-amsterdam']\n",
        "scoresAjaxHome = filtered_matches['home_score'].loc[filtered_matches['home'] == 'ajax-amsterdam']\n",
        "awayTeamScoresAjax = filtered_matches['away_score'].loc[filtered_matches['home'] == 'ajax-amsterdam']\n",
        "\n",
        "df_MatchesForAjaxHost['home_team'] = homeTeamAjax\n",
        "df_MatchesForAjaxHost['away_team'] = awayTeamAjax\n",
        "df_MatchesForAjaxHost['home_score'] = scoresAjaxHome\n",
        "df_MatchesForAjaxHost['away_score'] = awayTeamScoresAjax\n",
        "df_MatchesForAjaxHost['winning_team'] = df_MatchesForAjaxHost.apply(lambda row: ClassifyMatches(row),axis=1)\n",
        "df_MatchesForAjaxHost[\"home_team_nr\"] = ajax_home_team_label.fit_transform(df_MatchesForAjaxHost['home_team'])\n",
        "df_MatchesForAjaxHost[\"away_team_nr\"] = ajax_home_team_label.fit_transform(df_MatchesForAjaxHost['away_team'])\n",
        "df_MatchesForAjaxHost"
      ]
    },
    {
      "cell_type": "code",
      "execution_count": 1534,
      "metadata": {},
      "outputs": [],
      "source": [
        "X = df_MatchesForAjaxHost[[\"home_team_nr\",\"away_team_nr\",\"home_score\"]]\n",
        "y = df_MatchesForAjaxHost[\"winning_team\"]\n",
        "\n",
        "X_train, X_test, y_train, y_test = train_test_split(X, y, test_size=0.20, random_state=1)"
      ]
    },
    {
      "cell_type": "code",
      "execution_count": 1535,
      "metadata": {},
      "outputs": [
        {
          "data": {
            "text/plain": [
              "0.75"
            ]
          },
          "execution_count": 1535,
          "metadata": {},
          "output_type": "execute_result"
        }
      ],
      "source": [
        "winning_team_ajax_home = tree.DecisionTreeClassifier()\n",
        "winning_team_ajax_home.fit(X_train,y_train)\n",
        "\n",
        "winning_team_ajax_home.score(X_test,y_test)"
      ]
    },
    {
      "cell_type": "code",
      "execution_count": 1536,
      "metadata": {},
      "outputs": [
        {
          "data": {
            "text/plain": [
              "array(['win'], dtype=object)"
            ]
          },
          "execution_count": 1536,
          "metadata": {},
          "output_type": "execute_result"
        }
      ],
      "source": [
        "winning_team_ajax_home.predict([[0,16,5]])"
      ]
    },
    {
      "cell_type": "markdown",
      "metadata": {},
      "source": [
        "<h5> Ajax Away </h5>"
      ]
    },
    {
      "cell_type": "code",
      "execution_count": 1537,
      "metadata": {},
      "outputs": [
        {
          "data": {
            "text/html": [
              "<div>\n",
              "<style scoped>\n",
              "    .dataframe tbody tr th:only-of-type {\n",
              "        vertical-align: middle;\n",
              "    }\n",
              "\n",
              "    .dataframe tbody tr th {\n",
              "        vertical-align: top;\n",
              "    }\n",
              "\n",
              "    .dataframe thead th {\n",
              "        text-align: right;\n",
              "    }\n",
              "</style>\n",
              "<table border=\"1\" class=\"dataframe\">\n",
              "  <thead>\n",
              "    <tr style=\"text-align: right;\">\n",
              "      <th></th>\n",
              "      <th>home_team</th>\n",
              "      <th>away_team</th>\n",
              "      <th>home_score</th>\n",
              "      <th>away_score</th>\n",
              "      <th>winning_team</th>\n",
              "      <th>home_team_nr</th>\n",
              "      <th>away_team_nr</th>\n",
              "    </tr>\n",
              "  </thead>\n",
              "  <tbody>\n",
              "    <tr>\n",
              "      <th>16566</th>\n",
              "      <td>ado-den-haag</td>\n",
              "      <td>ajax-amsterdam</td>\n",
              "      <td>0</td>\n",
              "      <td>2</td>\n",
              "      <td>lose</td>\n",
              "      <td>0</td>\n",
              "      <td>0</td>\n",
              "    </tr>\n",
              "    <tr>\n",
              "      <th>16601</th>\n",
              "      <td>az-alkmaar</td>\n",
              "      <td>ajax-amsterdam</td>\n",
              "      <td>1</td>\n",
              "      <td>1</td>\n",
              "      <td>draw</td>\n",
              "      <td>1</td>\n",
              "      <td>0</td>\n",
              "    </tr>\n",
              "    <tr>\n",
              "      <th>16618</th>\n",
              "      <td>de-graafschap</td>\n",
              "      <td>ajax-amsterdam</td>\n",
              "      <td>1</td>\n",
              "      <td>4</td>\n",
              "      <td>lose</td>\n",
              "      <td>3</td>\n",
              "      <td>0</td>\n",
              "    </tr>\n",
              "    <tr>\n",
              "      <th>16635</th>\n",
              "      <td>fc-groningen</td>\n",
              "      <td>ajax-amsterdam</td>\n",
              "      <td>1</td>\n",
              "      <td>0</td>\n",
              "      <td>win</td>\n",
              "      <td>6</td>\n",
              "      <td>0</td>\n",
              "    </tr>\n",
              "    <tr>\n",
              "      <th>16652</th>\n",
              "      <td>fc-twente</td>\n",
              "      <td>ajax-amsterdam</td>\n",
              "      <td>1</td>\n",
              "      <td>2</td>\n",
              "      <td>lose</td>\n",
              "      <td>7</td>\n",
              "      <td>0</td>\n",
              "    </tr>\n",
              "    <tr>\n",
              "      <th>...</th>\n",
              "      <td>...</td>\n",
              "      <td>...</td>\n",
              "      <td>...</td>\n",
              "      <td>...</td>\n",
              "      <td>...</td>\n",
              "      <td>...</td>\n",
              "      <td>...</td>\n",
              "    </tr>\n",
              "    <tr>\n",
              "      <th>19811</th>\n",
              "      <td>psv-eindhoven</td>\n",
              "      <td>ajax-amsterdam</td>\n",
              "      <td>1</td>\n",
              "      <td>2</td>\n",
              "      <td>lose</td>\n",
              "      <td>16</td>\n",
              "      <td>0</td>\n",
              "    </tr>\n",
              "    <tr>\n",
              "      <th>19828</th>\n",
              "      <td>rkc-waalwijk</td>\n",
              "      <td>ajax-amsterdam</td>\n",
              "      <td>0</td>\n",
              "      <td>5</td>\n",
              "      <td>lose</td>\n",
              "      <td>17</td>\n",
              "      <td>0</td>\n",
              "    </tr>\n",
              "    <tr>\n",
              "      <th>19862</th>\n",
              "      <td>sc-heerenveen</td>\n",
              "      <td>ajax-amsterdam</td>\n",
              "      <td>0</td>\n",
              "      <td>2</td>\n",
              "      <td>lose</td>\n",
              "      <td>20</td>\n",
              "      <td>0</td>\n",
              "    </tr>\n",
              "    <tr>\n",
              "      <th>19879</th>\n",
              "      <td>sparta-rotterdam</td>\n",
              "      <td>ajax-amsterdam</td>\n",
              "      <td>0</td>\n",
              "      <td>1</td>\n",
              "      <td>lose</td>\n",
              "      <td>21</td>\n",
              "      <td>0</td>\n",
              "    </tr>\n",
              "    <tr>\n",
              "      <th>19913</th>\n",
              "      <td>willem-ii-tilburg</td>\n",
              "      <td>ajax-amsterdam</td>\n",
              "      <td>0</td>\n",
              "      <td>1</td>\n",
              "      <td>lose</td>\n",
              "      <td>24</td>\n",
              "      <td>0</td>\n",
              "    </tr>\n",
              "  </tbody>\n",
              "</table>\n",
              "<p>176 rows × 7 columns</p>\n",
              "</div>"
            ],
            "text/plain": [
              "               home_team       away_team  home_score  away_score winning_team  \\\n",
              "16566       ado-den-haag  ajax-amsterdam           0           2         lose   \n",
              "16601         az-alkmaar  ajax-amsterdam           1           1         draw   \n",
              "16618      de-graafschap  ajax-amsterdam           1           4         lose   \n",
              "16635       fc-groningen  ajax-amsterdam           1           0          win   \n",
              "16652          fc-twente  ajax-amsterdam           1           2         lose   \n",
              "...                  ...             ...         ...         ...          ...   \n",
              "19811      psv-eindhoven  ajax-amsterdam           1           2         lose   \n",
              "19828       rkc-waalwijk  ajax-amsterdam           0           5         lose   \n",
              "19862      sc-heerenveen  ajax-amsterdam           0           2         lose   \n",
              "19879   sparta-rotterdam  ajax-amsterdam           0           1         lose   \n",
              "19913  willem-ii-tilburg  ajax-amsterdam           0           1         lose   \n",
              "\n",
              "       home_team_nr  away_team_nr  \n",
              "16566             0             0  \n",
              "16601             1             0  \n",
              "16618             3             0  \n",
              "16635             6             0  \n",
              "16652             7             0  \n",
              "...             ...           ...  \n",
              "19811            16             0  \n",
              "19828            17             0  \n",
              "19862            20             0  \n",
              "19879            21             0  \n",
              "19913            24             0  \n",
              "\n",
              "[176 rows x 7 columns]"
            ]
          },
          "execution_count": 1537,
          "metadata": {},
          "output_type": "execute_result"
        }
      ],
      "source": [
        "df_MatchesForAjaxAway = pd.DataFrame()\n",
        "awayTeamAjax = filtered_matches['away'].loc[filtered_matches['away']=='ajax-amsterdam']\n",
        "homeTeam = filtered_matches['home'].loc[filtered_matches['away'] == 'ajax-amsterdam']\n",
        "scoresAjaxAway = filtered_matches['home_score'].loc[filtered_matches['away'] == 'ajax-amsterdam']\n",
        "awayTeamScoresAway = filtered_matches['away_score'].loc[filtered_matches['away'] == 'ajax-amsterdam']\n",
        "\n",
        "df_MatchesForAjaxAway['home_team'] = homeTeam\n",
        "df_MatchesForAjaxAway['away_team'] = awayTeamAjax\n",
        "df_MatchesForAjaxAway['home_score'] = scoresAjaxAway\n",
        "df_MatchesForAjaxAway['away_score'] = awayTeamScoresAway\n",
        "df_MatchesForAjaxAway['winning_team'] = df_MatchesForAjaxAway.apply(lambda row: ClassifyMatches(row),axis=1)\n",
        "df_MatchesForAjaxAway[\"home_team_nr\"] = ajax_home_team_label.fit_transform(df_MatchesForAjaxAway['home_team'])\n",
        "df_MatchesForAjaxAway[\"away_team_nr\"] = ajax_home_team_label.fit_transform(df_MatchesForAjaxAway['away_team'])\n",
        "df_MatchesForAjaxAway"
      ]
    },
    {
      "cell_type": "code",
      "execution_count": 1538,
      "metadata": {},
      "outputs": [],
      "source": [
        "X = df_MatchesForAjaxAway[[\"home_team_nr\",\"away_team_nr\",\"home_score\"]]\n",
        "y = df_MatchesForAjaxAway[\"winning_team\"]\n",
        "\n",
        "X_train, X_test, y_train, y_test = train_test_split(X, y, test_size=0.20, random_state=1)"
      ]
    },
    {
      "cell_type": "code",
      "execution_count": 1539,
      "metadata": {},
      "outputs": [
        {
          "data": {
            "text/plain": [
              "0.5555555555555556"
            ]
          },
          "execution_count": 1539,
          "metadata": {},
          "output_type": "execute_result"
        }
      ],
      "source": [
        "winning_team_ajax_away = tree.DecisionTreeClassifier()\n",
        "winning_team_ajax_away.fit(X_train,y_train)\n",
        "\n",
        "winning_team_ajax_away.score(X_test,y_test)"
      ]
    },
    {
      "cell_type": "code",
      "execution_count": 1540,
      "metadata": {},
      "outputs": [
        {
          "data": {
            "text/plain": [
              "array(['win'], dtype=object)"
            ]
          },
          "execution_count": 1540,
          "metadata": {},
          "output_type": "execute_result"
        }
      ],
      "source": [
        "winning_team_ajax_away.predict([[16 , 0, 5]])"
      ]
    },
    {
      "cell_type": "code",
      "execution_count": 1541,
      "metadata": {},
      "outputs": [],
      "source": [
        "# df_merge = pd.merge(filtered_matches,dfCards,on='saison',how='outer')\n",
        "\n",
        "# df_cards_matches = pd.DataFrame()\n",
        "# homeTeam = df_merge[\"home_x\"]\n",
        "# AwayTeam = df_merge[\"away_x\"]\n",
        "# home_score = df_merge[\"home_score\"]\n",
        "# away_score = df_merge[\"home_score\"]"
      ]
    },
    {
      "cell_type": "markdown",
      "metadata": {},
      "source": [
        "<h4>Cards Prediction</h4>"
      ]
    },
    {
      "cell_type": "code",
      "execution_count": 1563,
      "metadata": {},
      "outputs": [
        {
          "data": {
            "text/html": [
              "<div>\n",
              "<style scoped>\n",
              "    .dataframe tbody tr th:only-of-type {\n",
              "        vertical-align: middle;\n",
              "    }\n",
              "\n",
              "    .dataframe tbody tr th {\n",
              "        vertical-align: top;\n",
              "    }\n",
              "\n",
              "    .dataframe thead th {\n",
              "        text-align: right;\n",
              "    }\n",
              "</style>\n",
              "<table border=\"1\" class=\"dataframe\">\n",
              "  <thead>\n",
              "    <tr style=\"text-align: right;\">\n",
              "      <th></th>\n",
              "      <th>home_team</th>\n",
              "      <th>away_team</th>\n",
              "      <th>type_card</th>\n",
              "      <th>team_has_card</th>\n",
              "      <th>home_team_nr</th>\n",
              "      <th>away_team_nr</th>\n",
              "    </tr>\n",
              "  </thead>\n",
              "  <tbody>\n",
              "    <tr>\n",
              "      <th>23215</th>\n",
              "      <td>psv-eindhoven</td>\n",
              "      <td>ado-den-haag</td>\n",
              "      <td>0</td>\n",
              "      <td>ado-den-haag</td>\n",
              "      <td>17</td>\n",
              "      <td>0</td>\n",
              "    </tr>\n",
              "    <tr>\n",
              "      <th>23216</th>\n",
              "      <td>psv-eindhoven</td>\n",
              "      <td>ado-den-haag</td>\n",
              "      <td>1</td>\n",
              "      <td>ado-den-haag</td>\n",
              "      <td>17</td>\n",
              "      <td>0</td>\n",
              "    </tr>\n",
              "    <tr>\n",
              "      <th>23217</th>\n",
              "      <td>psv-eindhoven</td>\n",
              "      <td>ajax-amsterdam</td>\n",
              "      <td>0</td>\n",
              "      <td>psv-eindhoven</td>\n",
              "      <td>17</td>\n",
              "      <td>1</td>\n",
              "    </tr>\n",
              "    <tr>\n",
              "      <th>23218</th>\n",
              "      <td>psv-eindhoven</td>\n",
              "      <td>ajax-amsterdam</td>\n",
              "      <td>0</td>\n",
              "      <td>ajax-amsterdam</td>\n",
              "      <td>17</td>\n",
              "      <td>1</td>\n",
              "    </tr>\n",
              "    <tr>\n",
              "      <th>23219</th>\n",
              "      <td>psv-eindhoven</td>\n",
              "      <td>ajax-amsterdam</td>\n",
              "      <td>0</td>\n",
              "      <td>ajax-amsterdam</td>\n",
              "      <td>17</td>\n",
              "      <td>1</td>\n",
              "    </tr>\n",
              "    <tr>\n",
              "      <th>...</th>\n",
              "      <td>...</td>\n",
              "      <td>...</td>\n",
              "      <td>...</td>\n",
              "      <td>...</td>\n",
              "      <td>...</td>\n",
              "      <td>...</td>\n",
              "    </tr>\n",
              "    <tr>\n",
              "      <th>32050</th>\n",
              "      <td>psv-eindhoven</td>\n",
              "      <td>sparta-rotterdam</td>\n",
              "      <td>0</td>\n",
              "      <td>psv-eindhoven</td>\n",
              "      <td>17</td>\n",
              "      <td>22</td>\n",
              "    </tr>\n",
              "    <tr>\n",
              "      <th>32051</th>\n",
              "      <td>psv-eindhoven</td>\n",
              "      <td>sparta-rotterdam</td>\n",
              "      <td>0</td>\n",
              "      <td>sparta-rotterdam</td>\n",
              "      <td>17</td>\n",
              "      <td>22</td>\n",
              "    </tr>\n",
              "    <tr>\n",
              "      <th>32052</th>\n",
              "      <td>psv-eindhoven</td>\n",
              "      <td>sparta-rotterdam</td>\n",
              "      <td>0</td>\n",
              "      <td>sparta-rotterdam</td>\n",
              "      <td>17</td>\n",
              "      <td>22</td>\n",
              "    </tr>\n",
              "    <tr>\n",
              "      <th>32053</th>\n",
              "      <td>psv-eindhoven</td>\n",
              "      <td>vitesse-arnhem</td>\n",
              "      <td>0</td>\n",
              "      <td>vitesse-arnhem</td>\n",
              "      <td>17</td>\n",
              "      <td>23</td>\n",
              "    </tr>\n",
              "    <tr>\n",
              "      <th>32054</th>\n",
              "      <td>psv-eindhoven</td>\n",
              "      <td>vitesse-arnhem</td>\n",
              "      <td>0</td>\n",
              "      <td>vitesse-arnhem</td>\n",
              "      <td>17</td>\n",
              "      <td>23</td>\n",
              "    </tr>\n",
              "  </tbody>\n",
              "</table>\n",
              "<p>552 rows × 6 columns</p>\n",
              "</div>"
            ],
            "text/plain": [
              "           home_team         away_team  type_card     team_has_card  \\\n",
              "23215  psv-eindhoven      ado-den-haag          0      ado-den-haag   \n",
              "23216  psv-eindhoven      ado-den-haag          1      ado-den-haag   \n",
              "23217  psv-eindhoven    ajax-amsterdam          0     psv-eindhoven   \n",
              "23218  psv-eindhoven    ajax-amsterdam          0    ajax-amsterdam   \n",
              "23219  psv-eindhoven    ajax-amsterdam          0    ajax-amsterdam   \n",
              "...              ...               ...        ...               ...   \n",
              "32050  psv-eindhoven  sparta-rotterdam          0     psv-eindhoven   \n",
              "32051  psv-eindhoven  sparta-rotterdam          0  sparta-rotterdam   \n",
              "32052  psv-eindhoven  sparta-rotterdam          0  sparta-rotterdam   \n",
              "32053  psv-eindhoven    vitesse-arnhem          0    vitesse-arnhem   \n",
              "32054  psv-eindhoven    vitesse-arnhem          0    vitesse-arnhem   \n",
              "\n",
              "       home_team_nr  away_team_nr  \n",
              "23215            17             0  \n",
              "23216            17             0  \n",
              "23217            17             1  \n",
              "23218            17             1  \n",
              "23219            17             1  \n",
              "...             ...           ...  \n",
              "32050            17            22  \n",
              "32051            17            22  \n",
              "32052            17            22  \n",
              "32053            17            23  \n",
              "32054            17            23  \n",
              "\n",
              "[552 rows x 6 columns]"
            ]
          },
          "execution_count": 1563,
          "metadata": {},
          "output_type": "execute_result"
        }
      ],
      "source": [
        "df_Cards_prediction = pd.DataFrame()\n",
        "HomeTeam = dfCards['home']\n",
        "AwayTeam = dfCards['away']\n",
        "typeCards = dfCards['type']\n",
        "team_has_card = dfCards['team']\n",
        "\n",
        "df_Cards_prediction['home_team'] = HomeTeam\n",
        "df_Cards_prediction['away_team'] = AwayTeam\n",
        "df_Cards_prediction['type_card'] = typeCards\n",
        "df_Cards_prediction['team_has_card'] = team_has_card\n",
        "df_Cards_prediction[\"home_team_nr\"] = ajax_home_team_label.fit_transform(df_Cards_prediction['home_team'])\n",
        "df_Cards_prediction[\"away_team_nr\"] = ajax_home_team_label.fit_transform(df_Cards_prediction['away_team'])\n",
        "df_Cards_prediction[\"type_card\"].replace({\"red-card\": 1, \"yellow-card\": 0}, inplace=True)\n",
        "# df_Cards_prediction.loc[df_Cards_prediction['home_team'] == \"psv-eindhoven\"]"
      ]
    },
    {
      "cell_type": "code",
      "execution_count": 1543,
      "metadata": {},
      "outputs": [],
      "source": [
        "X = df_Cards_prediction[[\"home_team_nr\",\"away_team_nr\",\"type_card\"]]\n",
        "y = df_Cards_prediction[\"team_has_card\"]\n",
        "\n",
        "X_train, X_test, y_train, y_test = train_test_split(X, y, test_size=0.20, random_state=1)"
      ]
    },
    {
      "cell_type": "code",
      "execution_count": 1544,
      "metadata": {},
      "outputs": [
        {
          "data": {
            "text/plain": [
              "0.5339855818743563"
            ]
          },
          "execution_count": 1544,
          "metadata": {},
          "output_type": "execute_result"
        }
      ],
      "source": [
        "more_likely_Card = tree.DecisionTreeClassifier()\n",
        "more_likely_Card.fit(X_train,y_train)\n",
        "\n",
        "more_likely_Card.score(X_test,y_test)"
      ]
    },
    {
      "cell_type": "code",
      "execution_count": 1567,
      "metadata": {},
      "outputs": [
        {
          "data": {
            "text/plain": [
              "array(['ajax-amsterdam'], dtype=object)"
            ]
          },
          "execution_count": 1567,
          "metadata": {},
          "output_type": "execute_result"
        }
      ],
      "source": [
        "more_likely_Card.predict([[17 , 1, 1]])"
      ]
    }
  ],
  "metadata": {
    "colab": {
      "collapsed_sections": [
        "K5Zcj5VkNyt2",
        "WThNHNwENyt8",
        "9k28NYGsNyt9",
        "Fdu-7RYPNyt9",
        "Us7AYhR8Nyt-",
        "JNpYTm8TNyuD",
        "gEIVY86_NyuF",
        "hJjGn0ZmNyuO",
        "LtGffZAJNyuP",
        "mghovlagNyuR",
        "EAXoFuBHNyuR",
        "pT1p5_MmNyuR",
        "GZ3pt9khOA-9"
      ],
      "name": "notebook1.ipynb",
      "provenance": []
    },
    "interpreter": {
      "hash": "b3ba2566441a7c06988d0923437866b63cedc61552a5af99d1f4fb67d367b25f"
    },
    "kernelspec": {
      "display_name": "Python 3.9.7 ('base')",
      "language": "python",
      "name": "python3"
    },
    "language_info": {
      "codemirror_mode": {
        "name": "ipython",
        "version": 3
      },
      "file_extension": ".py",
      "mimetype": "text/x-python",
      "name": "python",
      "nbconvert_exporter": "python",
      "pygments_lexer": "ipython3",
      "version": "3.9.7"
    },
    "orig_nbformat": 4
  },
  "nbformat": 4,
  "nbformat_minor": 0
}
