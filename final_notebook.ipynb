{
 "cells": [
  {
   "cell_type": "markdown",
   "metadata": {},
   "source": [
    "# Data Science - Project\n",
    "# Predicting which team is more likely to win under certain circumstances"
   ]
  },
  {
   "cell_type": "code",
   "execution_count": 692,
   "metadata": {},
   "outputs": [
    {
     "data": {
      "text/html": [
       "<img src=\"https://i.pinimg.com/originals/e5/ac/e9/e5ace9d111b004b7cef61afe8d3f4c7a.jpg\"/>"
      ],
      "text/plain": [
       "<IPython.core.display.Image object>"
      ]
     },
     "execution_count": 692,
     "metadata": {},
     "output_type": "execute_result"
    }
   ],
   "source": [
    "# importing neccesary libraries\n",
    "import numpy as np\n",
    "import pandas as pd\n",
    "from datetime import datetime as dt\n",
    "import itertools\n",
    "import matplotlib.pyplot as plt\n",
    "plt.style.use(\"fivethirtyeight\")\n",
    "\n",
    "from sklearn.linear_model import LinearRegression\n",
    "from sklearn import tree\n",
    "from matplotlib import pyplot as plt\n",
    "from sklearn.model_selection import train_test_split\n",
    "from sklearn.preprocessing import LabelEncoder\n",
    "label = LabelEncoder()\n",
    "\n",
    "%matplotlib inline\n",
    "from IPython.display import Image\n",
    "from IPython.core.display import HTML \n",
    "Image(url= \"https://i.pinimg.com/originals/e5/ac/e9/e5ace9d111b004b7cef61afe8d3f4c7a.jpg\")"
   ]
  },
  {
   "cell_type": "markdown",
   "metadata": {},
   "source": [
    "<p> The purpose of this project is to gain basic knowledge of how to use different machine learning techniques to predict certain events. </p>\n",
    "<p> Therefore, before using different machine learning algorithms, first we need to do the following steps: </p>\n",
    "    <li> Clean the data </li>\n",
    "    <li> Visualise the data </li>\n",
    "    <li> Create the model </li>\n",
    "    <li> Train the model with certain features </li>\n",
    "    <li> Predict </li>\n",
    " "
   ]
  },
  {
   "cell_type": "markdown",
   "metadata": {},
   "source": [
    "## Data Cleaning"
   ]
  },
  {
   "cell_type": "code",
   "execution_count": 693,
   "metadata": {},
   "outputs": [],
   "source": [
    "# Read data from .csv files \n",
    "\n",
    "loc = \"voetbal_new/\"\n",
    "\n",
    "raw_cards_file = pd.read_csv (loc + '_cards.csv')\n",
    "raw_goals_file = pd.read_csv (loc + '_goals.csv')\n",
    "raw_matches_file = pd.read_csv (loc + '_matches.csv')\n",
    "raw_players_file = pd.read_csv (loc + '_players.csv')\n"
   ]
  },
  {
   "cell_type": "markdown",
   "metadata": {},
   "source": [
    "##### Helper functions"
   ]
  },
  {
   "cell_type": "code",
   "execution_count": 694,
   "metadata": {},
   "outputs": [],
   "source": [
    "# function to remove duplicates \n",
    "def Duplicates(rawName , colName: str, previousName: str, newName: str ):\n",
    "        if colName == \"club\":\n",
    "                rawName[\"home\"].replace({previousName: newName }, inplace=True)\n",
    "                rawName[\"away\"].replace({previousName: newName }, inplace=True)\n",
    "                rawName[\"team\"].replace({previousName: newName }, inplace=True)\n",
    "        elif colName == \"match\":\n",
    "                rawName[\"home\"].replace({previousName: newName }, inplace=True)\n",
    "                rawName[\"away\"].replace({previousName: newName }, inplace=True)\n",
    "        elif colName == \"card\": \n",
    "                rawName[\"type\"].replace({previousName: newName }, inplace=True)\n",
    "        else:\n",
    "                print(\"nothing\")"
   ]
  },
  {
   "cell_type": "code",
   "execution_count": 695,
   "metadata": {},
   "outputs": [],
   "source": [
    "# function used to get the last season\n",
    "def toOneSeason(season):\n",
    "    return season[5:len(season)]"
   ]
  },
  {
   "cell_type": "code",
   "execution_count": 696,
   "metadata": {},
   "outputs": [],
   "source": [
    "def assist(value):\n",
    "    if pd.notna(value):\n",
    "        return 1\n",
    "    else:\n",
    "        return 0"
   ]
  },
  {
   "cell_type": "code",
   "execution_count": 697,
   "metadata": {},
   "outputs": [],
   "source": [
    "def firstGoal(col: str):\n",
    "    return raw_goals_file[col].loc[(raw_goals_file['new_score']== '1:0') | (raw_goals_file['new_score'] == '0:1')]"
   ]
  },
  {
   "cell_type": "code",
   "execution_count": 698,
   "metadata": {},
   "outputs": [],
   "source": [
    "def typeGoal(value):\n",
    "    if pd.notna(value):\n",
    "        return value\n",
    "    else:\n",
    "        return \"no type\""
   ]
  },
  {
   "cell_type": "code",
   "execution_count": 699,
   "metadata": {},
   "outputs": [],
   "source": [
    "def searchTeam(teams, teamName):\n",
    "    for (k,i) in teams.items():\n",
    "        if k == teamName:\n",
    "            return (k, i)"
   ]
  },
  {
   "cell_type": "code",
   "execution_count": 700,
   "metadata": {},
   "outputs": [],
   "source": [
    "# Function used for the matches:\n",
    "# 1 means that home team is the winner \n",
    "# -1 means that home team is the loser\n",
    "# 0 means that home team tied with the away team\n",
    "def ClassifyMatches(row):\n",
    "    if(row.home_score > row.away_score):\n",
    "        return 1\n",
    "    elif(row.home_score < row.away_score):\n",
    "        return -1\n",
    "    else:\n",
    "        return 0"
   ]
  },
  {
   "cell_type": "markdown",
   "metadata": {},
   "source": [
    "##### Goals"
   ]
  },
  {
   "cell_type": "code",
   "execution_count": 701,
   "metadata": {},
   "outputs": [],
   "source": [
    "Duplicates(raw_goals_file, \"club\", \"afc-ajax\", \"ajax-amsterdam\")\n",
    "Duplicates(raw_goals_file, \"club\", \"feyenoord\", \"feyenoord-rotterdam\")\n",
    "Duplicates(raw_goals_file, \"club\", \"vitesse\", \"vitesse-arnheim\")\n",
    "Duplicates(raw_goals_file, \"club\", \"willem-ii\", \"willem-ii-tilburg\")\n",
    "Duplicates(raw_goals_file, \"club\", \"mvv\", \"mvv-maastricht\")\n",
    "Duplicates(raw_goals_file, \"club\", \"sbv-excelsior\", \"excelsior-rotterdam\")\n",
    "Duplicates(raw_goals_file, \"club\", \"sc-cambuur\", \"cambuur-leeuwarden\")\n",
    "Duplicates(raw_goals_file, \"club\", \"fc-twente\", \"twente-enschede\")\n",
    "Duplicates(raw_goals_file, \"club\", \"go-ahead-eagles_2\", \"go-ahead-eagles\")\n",
    "\n",
    "raw_goals_file[\"type\"].replace({\"Schot met rechts\": \"Right shot\"}, inplace=True)\n",
    "raw_goals_file[\"type\"].replace({\"Kopbal\": \"Header\"}, inplace=True)\n",
    "raw_goals_file[\"type\"].replace({\"Schot met links\": \"Left shot\"}, inplace=True)\n",
    "raw_goals_file[\"type\"].replace({\"Eigen goal\": \"Own goal\"}, inplace=True)\n",
    "raw_goals_file[\"type\"].replace({\"dir. vrije trap\": \"rest\"}, inplace=True) # ind. vrije trap -> rest\n",
    "raw_goals_file[\"type\"].replace({\"ind. vrije trap\": \"rest\"}, inplace=True) # ind. vrije trap -> rest\n",
    "raw_goals_file[\"type\"].replace({\"Omhaal\": \"rest\"}, inplace=True)  # Omhaal -> rest\n",
    "raw_goals_file[\"type\"].replace({\"Hakbal\": \"rest\"}, inplace=True)  # Hakbal -> rest\n",
    "\n"
   ]
  },
  {
   "cell_type": "code",
   "execution_count": 702,
   "metadata": {},
   "outputs": [],
   "source": [
    "groubBy_typeGoal = raw_goals_file['type'].value_counts()"
   ]
  },
  {
   "cell_type": "code",
   "execution_count": 703,
   "metadata": {},
   "outputs": [
    {
     "data": {
      "text/html": [
       "<div>\n",
       "<style scoped>\n",
       "    .dataframe tbody tr th:only-of-type {\n",
       "        vertical-align: middle;\n",
       "    }\n",
       "\n",
       "    .dataframe tbody tr th {\n",
       "        vertical-align: top;\n",
       "    }\n",
       "\n",
       "    .dataframe thead th {\n",
       "        text-align: right;\n",
       "    }\n",
       "</style>\n",
       "<table border=\"1\" class=\"dataframe\">\n",
       "  <thead>\n",
       "    <tr style=\"text-align: right;\">\n",
       "      <th></th>\n",
       "      <th>season</th>\n",
       "      <th>round</th>\n",
       "      <th>home</th>\n",
       "      <th>away</th>\n",
       "      <th>minute</th>\n",
       "      <th>first_goal</th>\n",
       "    </tr>\n",
       "  </thead>\n",
       "  <tbody>\n",
       "    <tr>\n",
       "      <th>0</th>\n",
       "      <td>1957</td>\n",
       "      <td>16</td>\n",
       "      <td>ajax-amsterdam</td>\n",
       "      <td>bvc-amsterdam</td>\n",
       "      <td>27</td>\n",
       "      <td>home</td>\n",
       "    </tr>\n",
       "    <tr>\n",
       "      <th>5</th>\n",
       "      <td>1957</td>\n",
       "      <td>27</td>\n",
       "      <td>ajax-amsterdam</td>\n",
       "      <td>fc-den-bosch</td>\n",
       "      <td>20</td>\n",
       "      <td>home</td>\n",
       "    </tr>\n",
       "    <tr>\n",
       "      <th>6</th>\n",
       "      <td>1957</td>\n",
       "      <td>15</td>\n",
       "      <td>ajax-amsterdam</td>\n",
       "      <td>fc-utrecht</td>\n",
       "      <td>28</td>\n",
       "      <td>home</td>\n",
       "    </tr>\n",
       "    <tr>\n",
       "      <th>9</th>\n",
       "      <td>1957</td>\n",
       "      <td>25</td>\n",
       "      <td>ajax-amsterdam</td>\n",
       "      <td>feyenoord-rotterdam</td>\n",
       "      <td>62</td>\n",
       "      <td>home</td>\n",
       "    </tr>\n",
       "    <tr>\n",
       "      <th>10</th>\n",
       "      <td>1957</td>\n",
       "      <td>13</td>\n",
       "      <td>ajax-amsterdam</td>\n",
       "      <td>fortuna-54</td>\n",
       "      <td>20</td>\n",
       "      <td>away</td>\n",
       "    </tr>\n",
       "    <tr>\n",
       "      <th>...</th>\n",
       "      <td>...</td>\n",
       "      <td>...</td>\n",
       "      <td>...</td>\n",
       "      <td>...</td>\n",
       "      <td>...</td>\n",
       "      <td>...</td>\n",
       "    </tr>\n",
       "    <tr>\n",
       "      <th>60972</th>\n",
       "      <td>2022</td>\n",
       "      <td>7</td>\n",
       "      <td>willem-ii-tilburg</td>\n",
       "      <td>psv-eindhoven</td>\n",
       "      <td>20</td>\n",
       "      <td>home</td>\n",
       "    </tr>\n",
       "    <tr>\n",
       "      <th>60975</th>\n",
       "      <td>2022</td>\n",
       "      <td>21</td>\n",
       "      <td>willem-ii-tilburg</td>\n",
       "      <td>rkc-waalwijk</td>\n",
       "      <td>8</td>\n",
       "      <td>home</td>\n",
       "    </tr>\n",
       "    <tr>\n",
       "      <th>60979</th>\n",
       "      <td>2022</td>\n",
       "      <td>16</td>\n",
       "      <td>willem-ii-tilburg</td>\n",
       "      <td>cambuur-leeuwarden</td>\n",
       "      <td>49</td>\n",
       "      <td>away</td>\n",
       "    </tr>\n",
       "    <tr>\n",
       "      <th>60983</th>\n",
       "      <td>2022</td>\n",
       "      <td>12</td>\n",
       "      <td>willem-ii-tilburg</td>\n",
       "      <td>sparta-rotterdam</td>\n",
       "      <td>17</td>\n",
       "      <td>away</td>\n",
       "    </tr>\n",
       "    <tr>\n",
       "      <th>60986</th>\n",
       "      <td>2022</td>\n",
       "      <td>30</td>\n",
       "      <td>willem-ii-tilburg</td>\n",
       "      <td>vitesse-arnheim</td>\n",
       "      <td>4</td>\n",
       "      <td>home</td>\n",
       "    </tr>\n",
       "  </tbody>\n",
       "</table>\n",
       "<p>18442 rows × 6 columns</p>\n",
       "</div>"
      ],
      "text/plain": [
       "       season  round               home                 away  minute  \\\n",
       "0        1957     16     ajax-amsterdam        bvc-amsterdam      27   \n",
       "5        1957     27     ajax-amsterdam         fc-den-bosch      20   \n",
       "6        1957     15     ajax-amsterdam           fc-utrecht      28   \n",
       "9        1957     25     ajax-amsterdam  feyenoord-rotterdam      62   \n",
       "10       1957     13     ajax-amsterdam           fortuna-54      20   \n",
       "...       ...    ...                ...                  ...     ...   \n",
       "60972    2022      7  willem-ii-tilburg        psv-eindhoven      20   \n",
       "60975    2022     21  willem-ii-tilburg         rkc-waalwijk       8   \n",
       "60979    2022     16  willem-ii-tilburg   cambuur-leeuwarden      49   \n",
       "60983    2022     12  willem-ii-tilburg     sparta-rotterdam      17   \n",
       "60986    2022     30  willem-ii-tilburg      vitesse-arnheim       4   \n",
       "\n",
       "      first_goal  \n",
       "0           home  \n",
       "5           home  \n",
       "6           home  \n",
       "9           home  \n",
       "10          away  \n",
       "...          ...  \n",
       "60972       home  \n",
       "60975       home  \n",
       "60979       away  \n",
       "60983       away  \n",
       "60986       home  \n",
       "\n",
       "[18442 rows x 6 columns]"
      ]
     },
     "execution_count": 703,
     "metadata": {},
     "output_type": "execute_result"
    }
   ],
   "source": [
    "df_goals = pd.DataFrame()\n",
    "\n",
    "season = firstGoal(\"saison\")\n",
    "round =  firstGoal(\"round\")\n",
    "home =  firstGoal(\"home\")\n",
    "away = firstGoal(\"away\")\n",
    "minute = firstGoal(\"minute\")\n",
    "first_goal = firstGoal(\"new_score\")\n",
    "\n",
    "\n",
    "df_goals['season'] = season\n",
    "df_goals['round'] = round\n",
    "df_goals['home'] = home\n",
    "df_goals['away'] = away\n",
    "df_goals['minute'] = minute\n",
    "df_goals['first_goal'] = first_goal\n",
    "\n",
    "df_goals.loc[(df_goals[\"first_goal\"] == \"1:0\"), \"first_goal\"] = \"home\"\n",
    "df_goals.loc[(df_goals[\"first_goal\"] == \"0:1\"), \"first_goal\"] = \"away\"\n",
    "\n",
    "df_goals['season'] = df_goals['season'].apply(toOneSeason)\n",
    "df_goals['season'] = df_goals['season'].astype(int)\n",
    "df_goals.dropna()"
   ]
  },
  {
   "cell_type": "markdown",
   "metadata": {},
   "source": [
    "#### Matches"
   ]
  },
  {
   "cell_type": "code",
   "execution_count": 704,
   "metadata": {},
   "outputs": [],
   "source": [
    "Duplicates(raw_matches_file, \"match\", \"afc-ajax\", \"ajax-amsterdam\")\n",
    "Duplicates(raw_matches_file, \"match\", \"feyenoord\", \"feyenoord-rotterdam\")\n",
    "Duplicates(raw_matches_file, \"match\", \"vitesse\", \"vitesse-arnheim\")\n",
    "Duplicates(raw_matches_file, \"match\", \"willem-ii\", \"willem-ii-tilburg\")\n",
    "Duplicates(raw_matches_file, \"match\", \"mvv\", \"mvv-maastricht\")\n",
    "Duplicates(raw_matches_file, \"match\", \"sbv-excelsior\", \"excelsior-rotterdam\")\n",
    "Duplicates(raw_matches_file, \"match\", \"sc-cambuur\", \"cambuur-leeuwarden\")\n",
    "Duplicates(raw_matches_file, \"match\", \"fc-twente\", \"twente-enschede\")\n",
    "Duplicates(raw_matches_file, \"match\", \"go-ahead-eagles_2\", \"go-ahead-eagles\")\n",
    "raw_matches_file[\"away_score\"].replace({\"2 Toeg.\": \"0\"}, inplace=True)\n",
    "raw_matches_file[\"away_score\"].replace({\"-\": \"0\"}, inplace=True)\n",
    "raw_matches_file[\"away_score\"].replace({\"- niet gespeeld\": \"0\"}, inplace=True)\n",
    "raw_matches_file[\"home_score\"].replace({\"-\": \"0\"}, inplace=True)\n",
    "raw_matches_file['away_score'] = raw_matches_file['away_score'].astype(int)\n",
    "raw_matches_file['home_score'] = raw_matches_file['home_score'].astype(int)"
   ]
  },
  {
   "cell_type": "code",
   "execution_count": 705,
   "metadata": {},
   "outputs": [
    {
     "data": {
      "text/html": [
       "<div>\n",
       "<style scoped>\n",
       "    .dataframe tbody tr th:only-of-type {\n",
       "        vertical-align: middle;\n",
       "    }\n",
       "\n",
       "    .dataframe tbody tr th {\n",
       "        vertical-align: top;\n",
       "    }\n",
       "\n",
       "    .dataframe thead th {\n",
       "        text-align: right;\n",
       "    }\n",
       "</style>\n",
       "<table border=\"1\" class=\"dataframe\">\n",
       "  <thead>\n",
       "    <tr style=\"text-align: right;\">\n",
       "      <th></th>\n",
       "      <th>season</th>\n",
       "      <th>round</th>\n",
       "      <th>home</th>\n",
       "      <th>away</th>\n",
       "      <th>home_score</th>\n",
       "      <th>away_score</th>\n",
       "      <th>winning_team</th>\n",
       "      <th>total_goals</th>\n",
       "    </tr>\n",
       "  </thead>\n",
       "  <tbody>\n",
       "    <tr>\n",
       "      <th>0</th>\n",
       "      <td>1957</td>\n",
       "      <td>16</td>\n",
       "      <td>ajax-amsterdam</td>\n",
       "      <td>bvc-amsterdam</td>\n",
       "      <td>2</td>\n",
       "      <td>3</td>\n",
       "      <td>-1</td>\n",
       "      <td>5</td>\n",
       "    </tr>\n",
       "    <tr>\n",
       "      <th>1</th>\n",
       "      <td>1957</td>\n",
       "      <td>27</td>\n",
       "      <td>ajax-amsterdam</td>\n",
       "      <td>fc-den-bosch</td>\n",
       "      <td>1</td>\n",
       "      <td>0</td>\n",
       "      <td>1</td>\n",
       "      <td>1</td>\n",
       "    </tr>\n",
       "    <tr>\n",
       "      <th>2</th>\n",
       "      <td>1957</td>\n",
       "      <td>15</td>\n",
       "      <td>ajax-amsterdam</td>\n",
       "      <td>fc-utrecht</td>\n",
       "      <td>1</td>\n",
       "      <td>2</td>\n",
       "      <td>-1</td>\n",
       "      <td>3</td>\n",
       "    </tr>\n",
       "    <tr>\n",
       "      <th>3</th>\n",
       "      <td>1957</td>\n",
       "      <td>25</td>\n",
       "      <td>ajax-amsterdam</td>\n",
       "      <td>feyenoord-rotterdam</td>\n",
       "      <td>1</td>\n",
       "      <td>0</td>\n",
       "      <td>1</td>\n",
       "      <td>1</td>\n",
       "    </tr>\n",
       "    <tr>\n",
       "      <th>4</th>\n",
       "      <td>1957</td>\n",
       "      <td>13</td>\n",
       "      <td>ajax-amsterdam</td>\n",
       "      <td>fortuna-54</td>\n",
       "      <td>0</td>\n",
       "      <td>2</td>\n",
       "      <td>-1</td>\n",
       "      <td>2</td>\n",
       "    </tr>\n",
       "    <tr>\n",
       "      <th>...</th>\n",
       "      <td>...</td>\n",
       "      <td>...</td>\n",
       "      <td>...</td>\n",
       "      <td>...</td>\n",
       "      <td>...</td>\n",
       "      <td>...</td>\n",
       "      <td>...</td>\n",
       "      <td>...</td>\n",
       "    </tr>\n",
       "    <tr>\n",
       "      <th>19925</th>\n",
       "      <td>2022</td>\n",
       "      <td>21</td>\n",
       "      <td>willem-ii-tilburg</td>\n",
       "      <td>rkc-waalwijk</td>\n",
       "      <td>3</td>\n",
       "      <td>1</td>\n",
       "      <td>1</td>\n",
       "      <td>4</td>\n",
       "    </tr>\n",
       "    <tr>\n",
       "      <th>19926</th>\n",
       "      <td>2022</td>\n",
       "      <td>16</td>\n",
       "      <td>willem-ii-tilburg</td>\n",
       "      <td>cambuur-leeuwarden</td>\n",
       "      <td>1</td>\n",
       "      <td>3</td>\n",
       "      <td>-1</td>\n",
       "      <td>4</td>\n",
       "    </tr>\n",
       "    <tr>\n",
       "      <th>19927</th>\n",
       "      <td>2022</td>\n",
       "      <td>25</td>\n",
       "      <td>willem-ii-tilburg</td>\n",
       "      <td>sc-heerenveen</td>\n",
       "      <td>0</td>\n",
       "      <td>0</td>\n",
       "      <td>0</td>\n",
       "      <td>0</td>\n",
       "    </tr>\n",
       "    <tr>\n",
       "      <th>19928</th>\n",
       "      <td>2022</td>\n",
       "      <td>12</td>\n",
       "      <td>willem-ii-tilburg</td>\n",
       "      <td>sparta-rotterdam</td>\n",
       "      <td>0</td>\n",
       "      <td>3</td>\n",
       "      <td>-1</td>\n",
       "      <td>3</td>\n",
       "    </tr>\n",
       "    <tr>\n",
       "      <th>19929</th>\n",
       "      <td>2022</td>\n",
       "      <td>30</td>\n",
       "      <td>willem-ii-tilburg</td>\n",
       "      <td>vitesse-arnheim</td>\n",
       "      <td>1</td>\n",
       "      <td>0</td>\n",
       "      <td>1</td>\n",
       "      <td>1</td>\n",
       "    </tr>\n",
       "  </tbody>\n",
       "</table>\n",
       "<p>19930 rows × 8 columns</p>\n",
       "</div>"
      ],
      "text/plain": [
       "       season  round               home                 away  home_score  \\\n",
       "0        1957     16     ajax-amsterdam        bvc-amsterdam           2   \n",
       "1        1957     27     ajax-amsterdam         fc-den-bosch           1   \n",
       "2        1957     15     ajax-amsterdam           fc-utrecht           1   \n",
       "3        1957     25     ajax-amsterdam  feyenoord-rotterdam           1   \n",
       "4        1957     13     ajax-amsterdam           fortuna-54           0   \n",
       "...       ...    ...                ...                  ...         ...   \n",
       "19925    2022     21  willem-ii-tilburg         rkc-waalwijk           3   \n",
       "19926    2022     16  willem-ii-tilburg   cambuur-leeuwarden           1   \n",
       "19927    2022     25  willem-ii-tilburg        sc-heerenveen           0   \n",
       "19928    2022     12  willem-ii-tilburg     sparta-rotterdam           0   \n",
       "19929    2022     30  willem-ii-tilburg      vitesse-arnheim           1   \n",
       "\n",
       "       away_score  winning_team  total_goals  \n",
       "0               3            -1            5  \n",
       "1               0             1            1  \n",
       "2               2            -1            3  \n",
       "3               0             1            1  \n",
       "4               2            -1            2  \n",
       "...           ...           ...          ...  \n",
       "19925           1             1            4  \n",
       "19926           3            -1            4  \n",
       "19927           0             0            0  \n",
       "19928           3            -1            3  \n",
       "19929           0             1            1  \n",
       "\n",
       "[19930 rows x 8 columns]"
      ]
     },
     "execution_count": 705,
     "metadata": {},
     "output_type": "execute_result"
    }
   ],
   "source": [
    "df_matches = pd.DataFrame()\n",
    "season = raw_matches_file[\"saison\"]\n",
    "round =  raw_matches_file[\"round\"]\n",
    "home =  raw_matches_file[\"home\"]\n",
    "away = raw_matches_file[\"away\"]\n",
    "home_score = raw_matches_file[\"home_score\"]\n",
    "away_score = raw_matches_file[\"away_score\"]\n",
    "\n",
    "\n",
    "df_matches['season'] = season\n",
    "df_matches['round'] = round\n",
    "df_matches['home'] = home\n",
    "df_matches['away'] = away\n",
    "df_matches['home_score'] = home_score\n",
    "df_matches['away_score'] = away_score\n",
    "df_matches['winning_team'] = df_matches.apply(lambda row: ClassifyMatches(row),axis=1)\n",
    "df_matches['total_goals'] = home_score + away_score\n",
    "\n",
    "\n",
    "\n",
    "df_matches['season'] = df_matches['season'].apply(toOneSeason)\n",
    "df_matches['season'] = df_matches['season'].astype(int)\n",
    "\n",
    "df_matches[(df_matches['home_score'] != '-') &\n",
    "           (df_matches['away_score'] != '-')]\n",
    "\n",
    "df_matches\n",
    "\n"
   ]
  },
  {
   "cell_type": "markdown",
   "metadata": {},
   "source": [
    "#### Cards"
   ]
  },
  {
   "cell_type": "code",
   "execution_count": 706,
   "metadata": {},
   "outputs": [
    {
     "data": {
      "text/html": [
       "<div>\n",
       "<style scoped>\n",
       "    .dataframe tbody tr th:only-of-type {\n",
       "        vertical-align: middle;\n",
       "    }\n",
       "\n",
       "    .dataframe tbody tr th {\n",
       "        vertical-align: top;\n",
       "    }\n",
       "\n",
       "    .dataframe thead th {\n",
       "        text-align: right;\n",
       "    }\n",
       "</style>\n",
       "<table border=\"1\" class=\"dataframe\">\n",
       "  <thead>\n",
       "    <tr style=\"text-align: right;\">\n",
       "      <th></th>\n",
       "      <th>season</th>\n",
       "      <th>round</th>\n",
       "      <th>home</th>\n",
       "      <th>away</th>\n",
       "      <th>team</th>\n",
       "      <th>type</th>\n",
       "      <th>yellowCards</th>\n",
       "      <th>redCards</th>\n",
       "      <th>home_cards</th>\n",
       "      <th>away_cards</th>\n",
       "    </tr>\n",
       "  </thead>\n",
       "  <tbody>\n",
       "    <tr>\n",
       "      <th>0</th>\n",
       "      <td>1963</td>\n",
       "      <td>8</td>\n",
       "      <td>heracles-almelo</td>\n",
       "      <td>fc-twente</td>\n",
       "      <td>fc-twente</td>\n",
       "      <td>red-card</td>\n",
       "      <td>0</td>\n",
       "      <td>1</td>\n",
       "      <td>0</td>\n",
       "      <td>2</td>\n",
       "    </tr>\n",
       "    <tr>\n",
       "      <th>1</th>\n",
       "      <td>1972</td>\n",
       "      <td>5</td>\n",
       "      <td>fc-groningen</td>\n",
       "      <td>ajax-amsterdam</td>\n",
       "      <td>fc-groningen</td>\n",
       "      <td>red-card</td>\n",
       "      <td>0</td>\n",
       "      <td>1</td>\n",
       "      <td>2</td>\n",
       "      <td>0</td>\n",
       "    </tr>\n",
       "    <tr>\n",
       "      <th>2</th>\n",
       "      <td>1972</td>\n",
       "      <td>5</td>\n",
       "      <td>fc-groningen</td>\n",
       "      <td>ajax-amsterdam</td>\n",
       "      <td>ajax-amsterdam</td>\n",
       "      <td>red-card</td>\n",
       "      <td>0</td>\n",
       "      <td>1</td>\n",
       "      <td>0</td>\n",
       "      <td>2</td>\n",
       "    </tr>\n",
       "    <tr>\n",
       "      <th>3</th>\n",
       "      <td>1973</td>\n",
       "      <td>34</td>\n",
       "      <td>ajax-amsterdam</td>\n",
       "      <td>az-alkmaar</td>\n",
       "      <td>ajax-amsterdam</td>\n",
       "      <td>yellow-card</td>\n",
       "      <td>1</td>\n",
       "      <td>0</td>\n",
       "      <td>1</td>\n",
       "      <td>0</td>\n",
       "    </tr>\n",
       "    <tr>\n",
       "      <th>4</th>\n",
       "      <td>1973</td>\n",
       "      <td>34</td>\n",
       "      <td>ajax-amsterdam</td>\n",
       "      <td>az-alkmaar</td>\n",
       "      <td>az-alkmaar</td>\n",
       "      <td>yellow-card</td>\n",
       "      <td>1</td>\n",
       "      <td>0</td>\n",
       "      <td>0</td>\n",
       "      <td>1</td>\n",
       "    </tr>\n",
       "    <tr>\n",
       "      <th>...</th>\n",
       "      <td>...</td>\n",
       "      <td>...</td>\n",
       "      <td>...</td>\n",
       "      <td>...</td>\n",
       "      <td>...</td>\n",
       "      <td>...</td>\n",
       "      <td>...</td>\n",
       "      <td>...</td>\n",
       "      <td>...</td>\n",
       "      <td>...</td>\n",
       "    </tr>\n",
       "    <tr>\n",
       "      <th>32412</th>\n",
       "      <td>2022</td>\n",
       "      <td>12</td>\n",
       "      <td>willem-ii-tilburg</td>\n",
       "      <td>sparta-rotterdam</td>\n",
       "      <td>sparta-rotterdam</td>\n",
       "      <td>yellow-card</td>\n",
       "      <td>1</td>\n",
       "      <td>0</td>\n",
       "      <td>0</td>\n",
       "      <td>1</td>\n",
       "    </tr>\n",
       "    <tr>\n",
       "      <th>32413</th>\n",
       "      <td>2022</td>\n",
       "      <td>30</td>\n",
       "      <td>willem-ii-tilburg</td>\n",
       "      <td>vitesse-arnhem</td>\n",
       "      <td>vitesse-arnhem</td>\n",
       "      <td>yellow-card</td>\n",
       "      <td>1</td>\n",
       "      <td>0</td>\n",
       "      <td>0</td>\n",
       "      <td>1</td>\n",
       "    </tr>\n",
       "    <tr>\n",
       "      <th>32414</th>\n",
       "      <td>2022</td>\n",
       "      <td>30</td>\n",
       "      <td>willem-ii-tilburg</td>\n",
       "      <td>vitesse-arnhem</td>\n",
       "      <td>vitesse-arnhem</td>\n",
       "      <td>yellow-card</td>\n",
       "      <td>1</td>\n",
       "      <td>0</td>\n",
       "      <td>0</td>\n",
       "      <td>1</td>\n",
       "    </tr>\n",
       "    <tr>\n",
       "      <th>32415</th>\n",
       "      <td>2022</td>\n",
       "      <td>30</td>\n",
       "      <td>willem-ii-tilburg</td>\n",
       "      <td>vitesse-arnhem</td>\n",
       "      <td>vitesse-arnhem</td>\n",
       "      <td>yellow-card</td>\n",
       "      <td>1</td>\n",
       "      <td>0</td>\n",
       "      <td>0</td>\n",
       "      <td>1</td>\n",
       "    </tr>\n",
       "    <tr>\n",
       "      <th>32416</th>\n",
       "      <td>2022</td>\n",
       "      <td>30</td>\n",
       "      <td>willem-ii-tilburg</td>\n",
       "      <td>vitesse-arnhem</td>\n",
       "      <td>vitesse-arnhem</td>\n",
       "      <td>yellow-card</td>\n",
       "      <td>1</td>\n",
       "      <td>0</td>\n",
       "      <td>0</td>\n",
       "      <td>1</td>\n",
       "    </tr>\n",
       "  </tbody>\n",
       "</table>\n",
       "<p>32417 rows × 10 columns</p>\n",
       "</div>"
      ],
      "text/plain": [
       "       season  round               home              away              team  \\\n",
       "0        1963      8    heracles-almelo         fc-twente         fc-twente   \n",
       "1        1972      5       fc-groningen    ajax-amsterdam      fc-groningen   \n",
       "2        1972      5       fc-groningen    ajax-amsterdam    ajax-amsterdam   \n",
       "3        1973     34     ajax-amsterdam        az-alkmaar    ajax-amsterdam   \n",
       "4        1973     34     ajax-amsterdam        az-alkmaar        az-alkmaar   \n",
       "...       ...    ...                ...               ...               ...   \n",
       "32412    2022     12  willem-ii-tilburg  sparta-rotterdam  sparta-rotterdam   \n",
       "32413    2022     30  willem-ii-tilburg    vitesse-arnhem    vitesse-arnhem   \n",
       "32414    2022     30  willem-ii-tilburg    vitesse-arnhem    vitesse-arnhem   \n",
       "32415    2022     30  willem-ii-tilburg    vitesse-arnhem    vitesse-arnhem   \n",
       "32416    2022     30  willem-ii-tilburg    vitesse-arnhem    vitesse-arnhem   \n",
       "\n",
       "              type  yellowCards  redCards  home_cards  away_cards  \n",
       "0         red-card            0         1           0           2  \n",
       "1         red-card            0         1           2           0  \n",
       "2         red-card            0         1           0           2  \n",
       "3      yellow-card            1         0           1           0  \n",
       "4      yellow-card            1         0           0           1  \n",
       "...            ...          ...       ...         ...         ...  \n",
       "32412  yellow-card            1         0           0           1  \n",
       "32413  yellow-card            1         0           0           1  \n",
       "32414  yellow-card            1         0           0           1  \n",
       "32415  yellow-card            1         0           0           1  \n",
       "32416  yellow-card            1         0           0           1  \n",
       "\n",
       "[32417 rows x 10 columns]"
      ]
     },
     "execution_count": 706,
     "metadata": {},
     "output_type": "execute_result"
    }
   ],
   "source": [
    "Duplicates(raw_cards_file, \"club\", \"afc-ajax\", \"ajax-amsterdam\")\n",
    "Duplicates(raw_cards_file, \"club\", \"willem-ii\", \"willem-ii-tilburg\")\n",
    "Duplicates(raw_cards_file, \"club\", \"mvv\", \"mvv-maastricht\")\n",
    "Duplicates(raw_cards_file, \"club\", \"vitesse\", \"vitesse-arnhem\")\n",
    "Duplicates(raw_cards_file, \"club\", \"sc-cambuur\", \"cambuur-leeuwarden\")\n",
    "Duplicates(raw_cards_file, \"club\", \"feyenoord\", \"feyenoord-rotterdam\")\n",
    "Duplicates(raw_cards_file, \"club\", \"go-ahead-eagles_2\", \"go-ahead-eagles\")\n",
    "\n",
    "Duplicates(raw_cards_file, \"card\", \"rode kaart\", \"red-card\")\n",
    "Duplicates(raw_cards_file, \"card\", \"rode\", \"red-card\")\n",
    "Duplicates(raw_cards_file, \"card\", \"kaartrode\", \"red-card\")\n",
    "Duplicates(raw_cards_file, \"card\", \"gele kaart\", \"yellow-card\")\n",
    "Duplicates(raw_cards_file, \"card\", \"gele\", \"yellow-card\")\n",
    "Duplicates(raw_cards_file, \"card\", \"kaartgele\", \"yellow-card\")\n",
    "Duplicates(raw_cards_file, \"card\", \"geelrode kaart\", \"red-card\")\n",
    "raw_cards_file.drop(columns=['player','type'])\n",
    "raw_cards_file['saison'] = raw_cards_file['saison'].apply(toOneSeason)\n",
    "raw_cards_file['saison'] = raw_cards_file['saison'].astype(int)\n",
    "\n",
    "\n",
    "df_cards = pd.DataFrame()\n",
    "season = raw_cards_file['saison']\n",
    "round = raw_cards_file['round']\n",
    "home = raw_cards_file['home']\n",
    "away = raw_cards_file['away']\n",
    "team = raw_cards_file['team']\n",
    "type = raw_cards_file['type']\n",
    "yellowCards = raw_cards_file['type']\n",
    "redCards = raw_cards_file['type']\n",
    "home_cards = raw_cards_file['type']\n",
    "away_cards = raw_cards_file['type']\n",
    "\n",
    "\n",
    "\n",
    "df_cards['season'] =  season\n",
    "df_cards['round'] =  round\n",
    "df_cards['home'] =  home\n",
    "df_cards['away'] =  away\n",
    "df_cards['team'] =  team\n",
    "df_cards['type'] =  type\n",
    "df_cards['yellowCards'] =  yellowCards\n",
    "df_cards['redCards'] =  redCards\n",
    "df_cards['home_cards'] =  home_cards\n",
    "df_cards['away_cards'] =  away_cards\n",
    "df_cards[\"yellowCards\"].replace({\"red-card\": 0, \"yellow-card\": 1 }, inplace=True)\n",
    "df_cards[\"redCards\"].replace({\"red-card\": 1, \"yellow-card\": 0 }, inplace=True)\n",
    "\n",
    "df_cards.loc[(df_cards[\"home_cards\"] == \"red-card\") & (df_cards[\"home\"] == df_cards[\"team\"]), \"home_cards\"] = \"red\"\n",
    "df_cards.loc[(df_cards[\"away_cards\"] == \"red-card\") & (df_cards[\"away\"] == df_cards[\"team\"]), \"away_cards\"] = \"red\"\n",
    "df_cards.loc[(df_cards[\"home_cards\"] == \"yellow-card\") & (df_cards[\"home\"] == df_cards[\"team\"]), \"home_cards\"] = \"yellow\"\n",
    "df_cards.loc[(df_cards[\"away_cards\"] == \"yellow-card\") & (df_cards[\"away\"] == df_cards[\"team\"]), \"away_cards\"] = \"yellow\"\n",
    "df_cards[\"home_cards\"].replace({\"red-card\": 0, \"yellow-card\": 0, \"yellow\": 1,  \"red\": 2 }, inplace=True)\n",
    "df_cards[\"away_cards\"].replace({\"red-card\": 0, \"yellow-card\": 0, \"yellow\": 1,  \"red\": 2 }, inplace=True)\n",
    "\n",
    "df_cards"
   ]
  },
  {
   "cell_type": "markdown",
   "metadata": {},
   "source": [
    "<p> Adding new columns to see how many yellow cards/ red cards did the home/away team get in a match </p>"
   ]
  },
  {
   "cell_type": "code",
   "execution_count": 707,
   "metadata": {},
   "outputs": [
    {
     "data": {
      "text/html": [
       "<div>\n",
       "<style scoped>\n",
       "    .dataframe tbody tr th:only-of-type {\n",
       "        vertical-align: middle;\n",
       "    }\n",
       "\n",
       "    .dataframe tbody tr th {\n",
       "        vertical-align: top;\n",
       "    }\n",
       "\n",
       "    .dataframe thead th {\n",
       "        text-align: right;\n",
       "    }\n",
       "</style>\n",
       "<table border=\"1\" class=\"dataframe\">\n",
       "  <thead>\n",
       "    <tr style=\"text-align: right;\">\n",
       "      <th></th>\n",
       "      <th>season</th>\n",
       "      <th>round</th>\n",
       "      <th>home</th>\n",
       "      <th>away</th>\n",
       "      <th>team</th>\n",
       "      <th>type</th>\n",
       "      <th>yellowCards</th>\n",
       "      <th>redCards</th>\n",
       "      <th>yellow_card_home</th>\n",
       "      <th>yellow_card_away</th>\n",
       "      <th>red_card_home</th>\n",
       "      <th>red_card_away</th>\n",
       "    </tr>\n",
       "  </thead>\n",
       "  <tbody>\n",
       "    <tr>\n",
       "      <th>0</th>\n",
       "      <td>1963</td>\n",
       "      <td>8</td>\n",
       "      <td>heracles-almelo</td>\n",
       "      <td>fc-twente</td>\n",
       "      <td>fc-twente</td>\n",
       "      <td>red-card</td>\n",
       "      <td>0</td>\n",
       "      <td>1</td>\n",
       "      <td>0</td>\n",
       "      <td>0</td>\n",
       "      <td>0</td>\n",
       "      <td>1</td>\n",
       "    </tr>\n",
       "    <tr>\n",
       "      <th>1</th>\n",
       "      <td>1972</td>\n",
       "      <td>5</td>\n",
       "      <td>fc-groningen</td>\n",
       "      <td>ajax-amsterdam</td>\n",
       "      <td>fc-groningen</td>\n",
       "      <td>red-card</td>\n",
       "      <td>0</td>\n",
       "      <td>1</td>\n",
       "      <td>0</td>\n",
       "      <td>0</td>\n",
       "      <td>1</td>\n",
       "      <td>0</td>\n",
       "    </tr>\n",
       "    <tr>\n",
       "      <th>2</th>\n",
       "      <td>1972</td>\n",
       "      <td>5</td>\n",
       "      <td>fc-groningen</td>\n",
       "      <td>ajax-amsterdam</td>\n",
       "      <td>ajax-amsterdam</td>\n",
       "      <td>red-card</td>\n",
       "      <td>0</td>\n",
       "      <td>1</td>\n",
       "      <td>0</td>\n",
       "      <td>0</td>\n",
       "      <td>0</td>\n",
       "      <td>1</td>\n",
       "    </tr>\n",
       "    <tr>\n",
       "      <th>3</th>\n",
       "      <td>1973</td>\n",
       "      <td>34</td>\n",
       "      <td>ajax-amsterdam</td>\n",
       "      <td>az-alkmaar</td>\n",
       "      <td>ajax-amsterdam</td>\n",
       "      <td>yellow-card</td>\n",
       "      <td>1</td>\n",
       "      <td>0</td>\n",
       "      <td>1</td>\n",
       "      <td>0</td>\n",
       "      <td>0</td>\n",
       "      <td>0</td>\n",
       "    </tr>\n",
       "    <tr>\n",
       "      <th>4</th>\n",
       "      <td>1973</td>\n",
       "      <td>34</td>\n",
       "      <td>ajax-amsterdam</td>\n",
       "      <td>az-alkmaar</td>\n",
       "      <td>az-alkmaar</td>\n",
       "      <td>yellow-card</td>\n",
       "      <td>1</td>\n",
       "      <td>0</td>\n",
       "      <td>0</td>\n",
       "      <td>1</td>\n",
       "      <td>0</td>\n",
       "      <td>0</td>\n",
       "    </tr>\n",
       "    <tr>\n",
       "      <th>...</th>\n",
       "      <td>...</td>\n",
       "      <td>...</td>\n",
       "      <td>...</td>\n",
       "      <td>...</td>\n",
       "      <td>...</td>\n",
       "      <td>...</td>\n",
       "      <td>...</td>\n",
       "      <td>...</td>\n",
       "      <td>...</td>\n",
       "      <td>...</td>\n",
       "      <td>...</td>\n",
       "      <td>...</td>\n",
       "    </tr>\n",
       "    <tr>\n",
       "      <th>32412</th>\n",
       "      <td>2022</td>\n",
       "      <td>12</td>\n",
       "      <td>willem-ii-tilburg</td>\n",
       "      <td>sparta-rotterdam</td>\n",
       "      <td>sparta-rotterdam</td>\n",
       "      <td>yellow-card</td>\n",
       "      <td>1</td>\n",
       "      <td>0</td>\n",
       "      <td>0</td>\n",
       "      <td>1</td>\n",
       "      <td>0</td>\n",
       "      <td>0</td>\n",
       "    </tr>\n",
       "    <tr>\n",
       "      <th>32413</th>\n",
       "      <td>2022</td>\n",
       "      <td>30</td>\n",
       "      <td>willem-ii-tilburg</td>\n",
       "      <td>vitesse-arnhem</td>\n",
       "      <td>vitesse-arnhem</td>\n",
       "      <td>yellow-card</td>\n",
       "      <td>1</td>\n",
       "      <td>0</td>\n",
       "      <td>0</td>\n",
       "      <td>1</td>\n",
       "      <td>0</td>\n",
       "      <td>0</td>\n",
       "    </tr>\n",
       "    <tr>\n",
       "      <th>32414</th>\n",
       "      <td>2022</td>\n",
       "      <td>30</td>\n",
       "      <td>willem-ii-tilburg</td>\n",
       "      <td>vitesse-arnhem</td>\n",
       "      <td>vitesse-arnhem</td>\n",
       "      <td>yellow-card</td>\n",
       "      <td>1</td>\n",
       "      <td>0</td>\n",
       "      <td>0</td>\n",
       "      <td>1</td>\n",
       "      <td>0</td>\n",
       "      <td>0</td>\n",
       "    </tr>\n",
       "    <tr>\n",
       "      <th>32415</th>\n",
       "      <td>2022</td>\n",
       "      <td>30</td>\n",
       "      <td>willem-ii-tilburg</td>\n",
       "      <td>vitesse-arnhem</td>\n",
       "      <td>vitesse-arnhem</td>\n",
       "      <td>yellow-card</td>\n",
       "      <td>1</td>\n",
       "      <td>0</td>\n",
       "      <td>0</td>\n",
       "      <td>1</td>\n",
       "      <td>0</td>\n",
       "      <td>0</td>\n",
       "    </tr>\n",
       "    <tr>\n",
       "      <th>32416</th>\n",
       "      <td>2022</td>\n",
       "      <td>30</td>\n",
       "      <td>willem-ii-tilburg</td>\n",
       "      <td>vitesse-arnhem</td>\n",
       "      <td>vitesse-arnhem</td>\n",
       "      <td>yellow-card</td>\n",
       "      <td>1</td>\n",
       "      <td>0</td>\n",
       "      <td>0</td>\n",
       "      <td>1</td>\n",
       "      <td>0</td>\n",
       "      <td>0</td>\n",
       "    </tr>\n",
       "  </tbody>\n",
       "</table>\n",
       "<p>32417 rows × 12 columns</p>\n",
       "</div>"
      ],
      "text/plain": [
       "       season  round               home              away              team  \\\n",
       "0        1963      8    heracles-almelo         fc-twente         fc-twente   \n",
       "1        1972      5       fc-groningen    ajax-amsterdam      fc-groningen   \n",
       "2        1972      5       fc-groningen    ajax-amsterdam    ajax-amsterdam   \n",
       "3        1973     34     ajax-amsterdam        az-alkmaar    ajax-amsterdam   \n",
       "4        1973     34     ajax-amsterdam        az-alkmaar        az-alkmaar   \n",
       "...       ...    ...                ...               ...               ...   \n",
       "32412    2022     12  willem-ii-tilburg  sparta-rotterdam  sparta-rotterdam   \n",
       "32413    2022     30  willem-ii-tilburg    vitesse-arnhem    vitesse-arnhem   \n",
       "32414    2022     30  willem-ii-tilburg    vitesse-arnhem    vitesse-arnhem   \n",
       "32415    2022     30  willem-ii-tilburg    vitesse-arnhem    vitesse-arnhem   \n",
       "32416    2022     30  willem-ii-tilburg    vitesse-arnhem    vitesse-arnhem   \n",
       "\n",
       "              type  yellowCards  redCards  yellow_card_home  yellow_card_away  \\\n",
       "0         red-card            0         1                 0                 0   \n",
       "1         red-card            0         1                 0                 0   \n",
       "2         red-card            0         1                 0                 0   \n",
       "3      yellow-card            1         0                 1                 0   \n",
       "4      yellow-card            1         0                 0                 1   \n",
       "...            ...          ...       ...               ...               ...   \n",
       "32412  yellow-card            1         0                 0                 1   \n",
       "32413  yellow-card            1         0                 0                 1   \n",
       "32414  yellow-card            1         0                 0                 1   \n",
       "32415  yellow-card            1         0                 0                 1   \n",
       "32416  yellow-card            1         0                 0                 1   \n",
       "\n",
       "       red_card_home  red_card_away  \n",
       "0                  0              1  \n",
       "1                  1              0  \n",
       "2                  0              1  \n",
       "3                  0              0  \n",
       "4                  0              0  \n",
       "...              ...            ...  \n",
       "32412              0              0  \n",
       "32413              0              0  \n",
       "32414              0              0  \n",
       "32415              0              0  \n",
       "32416              0              0  \n",
       "\n",
       "[32417 rows x 12 columns]"
      ]
     },
     "execution_count": 707,
     "metadata": {},
     "output_type": "execute_result"
    }
   ],
   "source": [
    "df_cards_new = pd.DataFrame()\n",
    "season = df_cards['season']\n",
    "round = df_cards['round']\n",
    "home = df_cards['home']\n",
    "away = df_cards['away']\n",
    "team = df_cards['team']\n",
    "type = df_cards['type']\n",
    "yellowCards = df_cards['yellowCards']\n",
    "redCards = df_cards['redCards']\n",
    "home_cards = df_cards['home_cards']\n",
    "away_cards = df_cards['away_cards']\n",
    "\n",
    "\n",
    "df_cards_new['season'] =  season\n",
    "df_cards_new['round'] =  round\n",
    "df_cards_new['home'] =  home\n",
    "df_cards_new['away'] =  away\n",
    "df_cards_new['team'] =  team\n",
    "df_cards_new['type'] =  type\n",
    "df_cards_new['yellowCards'] =  yellowCards\n",
    "df_cards_new['redCards'] =  redCards\n",
    "df_cards_new['yellow_card_home'] =  home_cards\n",
    "df_cards_new['yellow_card_away'] =  away_cards\n",
    "df_cards_new['red_card_home'] =  home_cards\n",
    "df_cards_new['red_card_away'] =  away_cards\n",
    "\n",
    "df_cards_new[\"yellow_card_home\"].replace({2: 0, 1: 1, 0: 0}, inplace=True)\n",
    "df_cards_new[\"yellow_card_away\"].replace({2: 0, 1: 1, 0: 0}, inplace=True)\n",
    "df_cards_new[\"red_card_home\"].replace({2: 1, 1: 0, 0: 0}, inplace=True)\n",
    "df_cards_new[\"red_card_away\"].replace({2: 1, 1: 0, 0: 0}, inplace=True)\n",
    "\n",
    "df_cards_new"
   ]
  },
  {
   "cell_type": "code",
   "execution_count": 708,
   "metadata": {},
   "outputs": [
    {
     "data": {
      "text/html": [
       "<div>\n",
       "<style scoped>\n",
       "    .dataframe tbody tr th:only-of-type {\n",
       "        vertical-align: middle;\n",
       "    }\n",
       "\n",
       "    .dataframe tbody tr th {\n",
       "        vertical-align: top;\n",
       "    }\n",
       "\n",
       "    .dataframe thead th {\n",
       "        text-align: right;\n",
       "    }\n",
       "</style>\n",
       "<table border=\"1\" class=\"dataframe\">\n",
       "  <thead>\n",
       "    <tr style=\"text-align: right;\">\n",
       "      <th></th>\n",
       "      <th>season</th>\n",
       "      <th>round</th>\n",
       "      <th>home</th>\n",
       "      <th>away</th>\n",
       "      <th>yellowCards</th>\n",
       "      <th>redCards</th>\n",
       "      <th>yellowCardHome</th>\n",
       "      <th>yellowCardAway</th>\n",
       "      <th>redCardHome</th>\n",
       "      <th>redCardAway</th>\n",
       "    </tr>\n",
       "  </thead>\n",
       "  <tbody>\n",
       "    <tr>\n",
       "      <th>0</th>\n",
       "      <td>1963</td>\n",
       "      <td>8</td>\n",
       "      <td>heracles-almelo</td>\n",
       "      <td>fc-twente</td>\n",
       "      <td>0</td>\n",
       "      <td>1</td>\n",
       "      <td>0</td>\n",
       "      <td>0</td>\n",
       "      <td>0</td>\n",
       "      <td>1</td>\n",
       "    </tr>\n",
       "    <tr>\n",
       "      <th>1</th>\n",
       "      <td>1972</td>\n",
       "      <td>5</td>\n",
       "      <td>fc-groningen</td>\n",
       "      <td>ajax-amsterdam</td>\n",
       "      <td>0</td>\n",
       "      <td>2</td>\n",
       "      <td>0</td>\n",
       "      <td>0</td>\n",
       "      <td>1</td>\n",
       "      <td>1</td>\n",
       "    </tr>\n",
       "    <tr>\n",
       "      <th>2</th>\n",
       "      <td>1973</td>\n",
       "      <td>1</td>\n",
       "      <td>ado-den-haag</td>\n",
       "      <td>sparta-rotterdam</td>\n",
       "      <td>2</td>\n",
       "      <td>0</td>\n",
       "      <td>0</td>\n",
       "      <td>2</td>\n",
       "      <td>0</td>\n",
       "      <td>0</td>\n",
       "    </tr>\n",
       "    <tr>\n",
       "      <th>3</th>\n",
       "      <td>1973</td>\n",
       "      <td>1</td>\n",
       "      <td>feyenoord-rotterdam</td>\n",
       "      <td>nec-nijmegen</td>\n",
       "      <td>2</td>\n",
       "      <td>0</td>\n",
       "      <td>1</td>\n",
       "      <td>1</td>\n",
       "      <td>0</td>\n",
       "      <td>0</td>\n",
       "    </tr>\n",
       "    <tr>\n",
       "      <th>4</th>\n",
       "      <td>1973</td>\n",
       "      <td>1</td>\n",
       "      <td>nac-breda</td>\n",
       "      <td>go-ahead-eagles</td>\n",
       "      <td>1</td>\n",
       "      <td>0</td>\n",
       "      <td>0</td>\n",
       "      <td>1</td>\n",
       "      <td>0</td>\n",
       "      <td>0</td>\n",
       "    </tr>\n",
       "    <tr>\n",
       "      <th>...</th>\n",
       "      <td>...</td>\n",
       "      <td>...</td>\n",
       "      <td>...</td>\n",
       "      <td>...</td>\n",
       "      <td>...</td>\n",
       "      <td>...</td>\n",
       "      <td>...</td>\n",
       "      <td>...</td>\n",
       "      <td>...</td>\n",
       "      <td>...</td>\n",
       "    </tr>\n",
       "    <tr>\n",
       "      <th>11166</th>\n",
       "      <td>2022</td>\n",
       "      <td>30</td>\n",
       "      <td>fc-twente</td>\n",
       "      <td>sparta-rotterdam</td>\n",
       "      <td>3</td>\n",
       "      <td>0</td>\n",
       "      <td>0</td>\n",
       "      <td>3</td>\n",
       "      <td>0</td>\n",
       "      <td>0</td>\n",
       "    </tr>\n",
       "    <tr>\n",
       "      <th>11167</th>\n",
       "      <td>2022</td>\n",
       "      <td>30</td>\n",
       "      <td>feyenoord-rotterdam</td>\n",
       "      <td>fc-utrecht</td>\n",
       "      <td>3</td>\n",
       "      <td>0</td>\n",
       "      <td>1</td>\n",
       "      <td>2</td>\n",
       "      <td>0</td>\n",
       "      <td>0</td>\n",
       "    </tr>\n",
       "    <tr>\n",
       "      <th>11168</th>\n",
       "      <td>2022</td>\n",
       "      <td>30</td>\n",
       "      <td>nec-nijmegen</td>\n",
       "      <td>ajax-amsterdam</td>\n",
       "      <td>2</td>\n",
       "      <td>0</td>\n",
       "      <td>0</td>\n",
       "      <td>2</td>\n",
       "      <td>0</td>\n",
       "      <td>0</td>\n",
       "    </tr>\n",
       "    <tr>\n",
       "      <th>11169</th>\n",
       "      <td>2022</td>\n",
       "      <td>30</td>\n",
       "      <td>rkc-waalwijk</td>\n",
       "      <td>pec-zwolle</td>\n",
       "      <td>3</td>\n",
       "      <td>0</td>\n",
       "      <td>2</td>\n",
       "      <td>1</td>\n",
       "      <td>0</td>\n",
       "      <td>0</td>\n",
       "    </tr>\n",
       "    <tr>\n",
       "      <th>11170</th>\n",
       "      <td>2022</td>\n",
       "      <td>30</td>\n",
       "      <td>willem-ii-tilburg</td>\n",
       "      <td>vitesse-arnhem</td>\n",
       "      <td>4</td>\n",
       "      <td>0</td>\n",
       "      <td>0</td>\n",
       "      <td>4</td>\n",
       "      <td>0</td>\n",
       "      <td>0</td>\n",
       "    </tr>\n",
       "  </tbody>\n",
       "</table>\n",
       "<p>11171 rows × 10 columns</p>\n",
       "</div>"
      ],
      "text/plain": [
       "       season  round                 home              away  yellowCards  \\\n",
       "0        1963      8      heracles-almelo         fc-twente            0   \n",
       "1        1972      5         fc-groningen    ajax-amsterdam            0   \n",
       "2        1973      1         ado-den-haag  sparta-rotterdam            2   \n",
       "3        1973      1  feyenoord-rotterdam      nec-nijmegen            2   \n",
       "4        1973      1            nac-breda   go-ahead-eagles            1   \n",
       "...       ...    ...                  ...               ...          ...   \n",
       "11166    2022     30            fc-twente  sparta-rotterdam            3   \n",
       "11167    2022     30  feyenoord-rotterdam        fc-utrecht            3   \n",
       "11168    2022     30         nec-nijmegen    ajax-amsterdam            2   \n",
       "11169    2022     30         rkc-waalwijk        pec-zwolle            3   \n",
       "11170    2022     30    willem-ii-tilburg    vitesse-arnhem            4   \n",
       "\n",
       "       redCards  yellowCardHome  yellowCardAway  redCardHome  redCardAway  \n",
       "0             1               0               0            0            1  \n",
       "1             2               0               0            1            1  \n",
       "2             0               0               2            0            0  \n",
       "3             0               1               1            0            0  \n",
       "4             0               0               1            0            0  \n",
       "...         ...             ...             ...          ...          ...  \n",
       "11166         0               0               3            0            0  \n",
       "11167         0               1               2            0            0  \n",
       "11168         0               0               2            0            0  \n",
       "11169         0               2               1            0            0  \n",
       "11170         0               0               4            0            0  \n",
       "\n",
       "[11171 rows x 10 columns]"
      ]
     },
     "execution_count": 708,
     "metadata": {},
     "output_type": "execute_result"
    }
   ],
   "source": [
    "groupByAwayYellowCard = df_cards_new.groupby(['season', 'round','home', 'away'], as_index=False).agg(yellowCards = ('yellowCards', 'sum'), \n",
    "                                                                                redCards = ('redCards', 'sum'),\n",
    "                                                                                yellowCardHome = ('yellow_card_home', 'sum'),\n",
    "                                                                                yellowCardAway = ('yellow_card_away', 'sum'),\n",
    "                                                                                redCardHome = ('red_card_home', 'sum'),\n",
    "                                                                                redCardAway = ('red_card_away', 'sum'))\n",
    "groupByAwayYellowCard"
   ]
  },
  {
   "cell_type": "markdown",
   "metadata": {},
   "source": [
    "#### Merge \"Goals\" and \"Matches\""
   ]
  },
  {
   "cell_type": "code",
   "execution_count": 709,
   "metadata": {},
   "outputs": [
    {
     "data": {
      "text/html": [
       "<div>\n",
       "<style scoped>\n",
       "    .dataframe tbody tr th:only-of-type {\n",
       "        vertical-align: middle;\n",
       "    }\n",
       "\n",
       "    .dataframe tbody tr th {\n",
       "        vertical-align: top;\n",
       "    }\n",
       "\n",
       "    .dataframe thead th {\n",
       "        text-align: right;\n",
       "    }\n",
       "</style>\n",
       "<table border=\"1\" class=\"dataframe\">\n",
       "  <thead>\n",
       "    <tr style=\"text-align: right;\">\n",
       "      <th></th>\n",
       "      <th>season</th>\n",
       "      <th>round</th>\n",
       "      <th>home</th>\n",
       "      <th>away</th>\n",
       "      <th>minute</th>\n",
       "      <th>first_goal</th>\n",
       "      <th>home_score</th>\n",
       "      <th>away_score</th>\n",
       "      <th>winning_team</th>\n",
       "      <th>total_goals</th>\n",
       "    </tr>\n",
       "  </thead>\n",
       "  <tbody>\n",
       "    <tr>\n",
       "      <th>0</th>\n",
       "      <td>1957</td>\n",
       "      <td>16</td>\n",
       "      <td>ajax-amsterdam</td>\n",
       "      <td>bvc-amsterdam</td>\n",
       "      <td>27</td>\n",
       "      <td>home</td>\n",
       "      <td>2</td>\n",
       "      <td>3</td>\n",
       "      <td>-1</td>\n",
       "      <td>5</td>\n",
       "    </tr>\n",
       "    <tr>\n",
       "      <th>1</th>\n",
       "      <td>1957</td>\n",
       "      <td>27</td>\n",
       "      <td>ajax-amsterdam</td>\n",
       "      <td>fc-den-bosch</td>\n",
       "      <td>20</td>\n",
       "      <td>home</td>\n",
       "      <td>1</td>\n",
       "      <td>0</td>\n",
       "      <td>1</td>\n",
       "      <td>1</td>\n",
       "    </tr>\n",
       "    <tr>\n",
       "      <th>2</th>\n",
       "      <td>1957</td>\n",
       "      <td>15</td>\n",
       "      <td>ajax-amsterdam</td>\n",
       "      <td>fc-utrecht</td>\n",
       "      <td>28</td>\n",
       "      <td>home</td>\n",
       "      <td>1</td>\n",
       "      <td>2</td>\n",
       "      <td>-1</td>\n",
       "      <td>3</td>\n",
       "    </tr>\n",
       "    <tr>\n",
       "      <th>3</th>\n",
       "      <td>1957</td>\n",
       "      <td>25</td>\n",
       "      <td>ajax-amsterdam</td>\n",
       "      <td>feyenoord-rotterdam</td>\n",
       "      <td>62</td>\n",
       "      <td>home</td>\n",
       "      <td>1</td>\n",
       "      <td>0</td>\n",
       "      <td>1</td>\n",
       "      <td>1</td>\n",
       "    </tr>\n",
       "    <tr>\n",
       "      <th>4</th>\n",
       "      <td>1957</td>\n",
       "      <td>13</td>\n",
       "      <td>ajax-amsterdam</td>\n",
       "      <td>fortuna-54</td>\n",
       "      <td>20</td>\n",
       "      <td>away</td>\n",
       "      <td>0</td>\n",
       "      <td>2</td>\n",
       "      <td>-1</td>\n",
       "      <td>2</td>\n",
       "    </tr>\n",
       "    <tr>\n",
       "      <th>5</th>\n",
       "      <td>1957</td>\n",
       "      <td>3</td>\n",
       "      <td>ajax-amsterdam</td>\n",
       "      <td>fc-groningen</td>\n",
       "      <td>2</td>\n",
       "      <td>home</td>\n",
       "      <td>4</td>\n",
       "      <td>2</td>\n",
       "      <td>1</td>\n",
       "      <td>6</td>\n",
       "    </tr>\n",
       "    <tr>\n",
       "      <th>6</th>\n",
       "      <td>1957</td>\n",
       "      <td>5</td>\n",
       "      <td>ajax-amsterdam</td>\n",
       "      <td>mvv-maastricht</td>\n",
       "      <td>31</td>\n",
       "      <td>home</td>\n",
       "      <td>2</td>\n",
       "      <td>0</td>\n",
       "      <td>1</td>\n",
       "      <td>2</td>\n",
       "    </tr>\n",
       "    <tr>\n",
       "      <th>7</th>\n",
       "      <td>1957</td>\n",
       "      <td>1</td>\n",
       "      <td>ajax-amsterdam</td>\n",
       "      <td>nac-breda</td>\n",
       "      <td>13</td>\n",
       "      <td>home</td>\n",
       "      <td>1</td>\n",
       "      <td>0</td>\n",
       "      <td>1</td>\n",
       "      <td>1</td>\n",
       "    </tr>\n",
       "    <tr>\n",
       "      <th>8</th>\n",
       "      <td>1957</td>\n",
       "      <td>34</td>\n",
       "      <td>ajax-amsterdam</td>\n",
       "      <td>noad-tilburg</td>\n",
       "      <td>58</td>\n",
       "      <td>home</td>\n",
       "      <td>2</td>\n",
       "      <td>1</td>\n",
       "      <td>1</td>\n",
       "      <td>3</td>\n",
       "    </tr>\n",
       "    <tr>\n",
       "      <th>9</th>\n",
       "      <td>1957</td>\n",
       "      <td>29</td>\n",
       "      <td>ajax-amsterdam</td>\n",
       "      <td>psv-eindhoven</td>\n",
       "      <td>73</td>\n",
       "      <td>home</td>\n",
       "      <td>1</td>\n",
       "      <td>0</td>\n",
       "      <td>1</td>\n",
       "      <td>1</td>\n",
       "    </tr>\n",
       "  </tbody>\n",
       "</table>\n",
       "</div>"
      ],
      "text/plain": [
       "   season  round            home                 away  minute first_goal  \\\n",
       "0    1957     16  ajax-amsterdam        bvc-amsterdam      27       home   \n",
       "1    1957     27  ajax-amsterdam         fc-den-bosch      20       home   \n",
       "2    1957     15  ajax-amsterdam           fc-utrecht      28       home   \n",
       "3    1957     25  ajax-amsterdam  feyenoord-rotterdam      62       home   \n",
       "4    1957     13  ajax-amsterdam           fortuna-54      20       away   \n",
       "5    1957      3  ajax-amsterdam         fc-groningen       2       home   \n",
       "6    1957      5  ajax-amsterdam       mvv-maastricht      31       home   \n",
       "7    1957      1  ajax-amsterdam            nac-breda      13       home   \n",
       "8    1957     34  ajax-amsterdam         noad-tilburg      58       home   \n",
       "9    1957     29  ajax-amsterdam        psv-eindhoven      73       home   \n",
       "\n",
       "   home_score  away_score  winning_team  total_goals  \n",
       "0           2           3            -1            5  \n",
       "1           1           0             1            1  \n",
       "2           1           2            -1            3  \n",
       "3           1           0             1            1  \n",
       "4           0           2            -1            2  \n",
       "5           4           2             1            6  \n",
       "6           2           0             1            2  \n",
       "7           1           0             1            1  \n",
       "8           2           1             1            3  \n",
       "9           1           0             1            1  "
      ]
     },
     "execution_count": 709,
     "metadata": {},
     "output_type": "execute_result"
    }
   ],
   "source": [
    "df_merge_goals= pd.merge(df_goals,df_matches,how='inner',left_on=['season','round','home', 'away'],right_on=['season','round','home', 'away'])\n",
    "df_merge_goals[\"away_score\"].replace({\"2 Toeg.\": 0}, inplace=True)\n",
    "df_merge_goals['home_score'] = df_merge_goals['home_score'].astype(int)\n",
    "df_merge_goals['away_score'] = df_merge_goals['away_score'].astype(int)\n",
    "df_merge_goals.head(10)"
   ]
  },
  {
   "cell_type": "markdown",
   "metadata": {},
   "source": [
    "#### Merge Matches and Cards"
   ]
  },
  {
   "cell_type": "code",
   "execution_count": 710,
   "metadata": {},
   "outputs": [
    {
     "data": {
      "text/html": [
       "<div>\n",
       "<style scoped>\n",
       "    .dataframe tbody tr th:only-of-type {\n",
       "        vertical-align: middle;\n",
       "    }\n",
       "\n",
       "    .dataframe tbody tr th {\n",
       "        vertical-align: top;\n",
       "    }\n",
       "\n",
       "    .dataframe thead th {\n",
       "        text-align: right;\n",
       "    }\n",
       "</style>\n",
       "<table border=\"1\" class=\"dataframe\">\n",
       "  <thead>\n",
       "    <tr style=\"text-align: right;\">\n",
       "      <th></th>\n",
       "      <th>season</th>\n",
       "      <th>round</th>\n",
       "      <th>home</th>\n",
       "      <th>away</th>\n",
       "      <th>home_score</th>\n",
       "      <th>away_score</th>\n",
       "      <th>winning_team</th>\n",
       "      <th>total_goals</th>\n",
       "      <th>yellowCards</th>\n",
       "      <th>redCards</th>\n",
       "      <th>yellowCardHome</th>\n",
       "      <th>yellowCardAway</th>\n",
       "      <th>redCardHome</th>\n",
       "      <th>redCardAway</th>\n",
       "    </tr>\n",
       "  </thead>\n",
       "  <tbody>\n",
       "    <tr>\n",
       "      <th>8969</th>\n",
       "      <td>2022</td>\n",
       "      <td>5</td>\n",
       "      <td>willem-ii-tilburg</td>\n",
       "      <td>fc-groningen</td>\n",
       "      <td>2</td>\n",
       "      <td>1</td>\n",
       "      <td>1</td>\n",
       "      <td>3</td>\n",
       "      <td>5</td>\n",
       "      <td>0</td>\n",
       "      <td>3</td>\n",
       "      <td>2</td>\n",
       "      <td>0</td>\n",
       "      <td>0</td>\n",
       "    </tr>\n",
       "    <tr>\n",
       "      <th>8970</th>\n",
       "      <td>2022</td>\n",
       "      <td>1</td>\n",
       "      <td>willem-ii-tilburg</td>\n",
       "      <td>feyenoord-rotterdam</td>\n",
       "      <td>0</td>\n",
       "      <td>4</td>\n",
       "      <td>-1</td>\n",
       "      <td>4</td>\n",
       "      <td>1</td>\n",
       "      <td>1</td>\n",
       "      <td>1</td>\n",
       "      <td>0</td>\n",
       "      <td>1</td>\n",
       "      <td>0</td>\n",
       "    </tr>\n",
       "    <tr>\n",
       "      <th>8971</th>\n",
       "      <td>2022</td>\n",
       "      <td>10</td>\n",
       "      <td>willem-ii-tilburg</td>\n",
       "      <td>fortuna-sittard</td>\n",
       "      <td>1</td>\n",
       "      <td>1</td>\n",
       "      <td>0</td>\n",
       "      <td>2</td>\n",
       "      <td>3</td>\n",
       "      <td>0</td>\n",
       "      <td>1</td>\n",
       "      <td>2</td>\n",
       "      <td>0</td>\n",
       "      <td>0</td>\n",
       "    </tr>\n",
       "    <tr>\n",
       "      <th>8972</th>\n",
       "      <td>2022</td>\n",
       "      <td>14</td>\n",
       "      <td>willem-ii-tilburg</td>\n",
       "      <td>go-ahead-eagles</td>\n",
       "      <td>0</td>\n",
       "      <td>1</td>\n",
       "      <td>-1</td>\n",
       "      <td>1</td>\n",
       "      <td>2</td>\n",
       "      <td>0</td>\n",
       "      <td>1</td>\n",
       "      <td>1</td>\n",
       "      <td>0</td>\n",
       "      <td>0</td>\n",
       "    </tr>\n",
       "    <tr>\n",
       "      <th>8973</th>\n",
       "      <td>2022</td>\n",
       "      <td>18</td>\n",
       "      <td>willem-ii-tilburg</td>\n",
       "      <td>nec-nijmegen</td>\n",
       "      <td>0</td>\n",
       "      <td>1</td>\n",
       "      <td>-1</td>\n",
       "      <td>1</td>\n",
       "      <td>0</td>\n",
       "      <td>1</td>\n",
       "      <td>0</td>\n",
       "      <td>0</td>\n",
       "      <td>1</td>\n",
       "      <td>0</td>\n",
       "    </tr>\n",
       "    <tr>\n",
       "      <th>8974</th>\n",
       "      <td>2022</td>\n",
       "      <td>7</td>\n",
       "      <td>willem-ii-tilburg</td>\n",
       "      <td>psv-eindhoven</td>\n",
       "      <td>2</td>\n",
       "      <td>1</td>\n",
       "      <td>1</td>\n",
       "      <td>3</td>\n",
       "      <td>3</td>\n",
       "      <td>0</td>\n",
       "      <td>1</td>\n",
       "      <td>2</td>\n",
       "      <td>0</td>\n",
       "      <td>0</td>\n",
       "    </tr>\n",
       "    <tr>\n",
       "      <th>8975</th>\n",
       "      <td>2022</td>\n",
       "      <td>21</td>\n",
       "      <td>willem-ii-tilburg</td>\n",
       "      <td>rkc-waalwijk</td>\n",
       "      <td>3</td>\n",
       "      <td>1</td>\n",
       "      <td>1</td>\n",
       "      <td>4</td>\n",
       "      <td>2</td>\n",
       "      <td>0</td>\n",
       "      <td>0</td>\n",
       "      <td>2</td>\n",
       "      <td>0</td>\n",
       "      <td>0</td>\n",
       "    </tr>\n",
       "    <tr>\n",
       "      <th>8976</th>\n",
       "      <td>2022</td>\n",
       "      <td>16</td>\n",
       "      <td>willem-ii-tilburg</td>\n",
       "      <td>cambuur-leeuwarden</td>\n",
       "      <td>1</td>\n",
       "      <td>3</td>\n",
       "      <td>-1</td>\n",
       "      <td>4</td>\n",
       "      <td>2</td>\n",
       "      <td>0</td>\n",
       "      <td>1</td>\n",
       "      <td>1</td>\n",
       "      <td>0</td>\n",
       "      <td>0</td>\n",
       "    </tr>\n",
       "    <tr>\n",
       "      <th>8977</th>\n",
       "      <td>2022</td>\n",
       "      <td>25</td>\n",
       "      <td>willem-ii-tilburg</td>\n",
       "      <td>sc-heerenveen</td>\n",
       "      <td>0</td>\n",
       "      <td>0</td>\n",
       "      <td>0</td>\n",
       "      <td>0</td>\n",
       "      <td>2</td>\n",
       "      <td>0</td>\n",
       "      <td>2</td>\n",
       "      <td>0</td>\n",
       "      <td>0</td>\n",
       "      <td>0</td>\n",
       "    </tr>\n",
       "    <tr>\n",
       "      <th>8978</th>\n",
       "      <td>2022</td>\n",
       "      <td>12</td>\n",
       "      <td>willem-ii-tilburg</td>\n",
       "      <td>sparta-rotterdam</td>\n",
       "      <td>0</td>\n",
       "      <td>3</td>\n",
       "      <td>-1</td>\n",
       "      <td>3</td>\n",
       "      <td>4</td>\n",
       "      <td>0</td>\n",
       "      <td>1</td>\n",
       "      <td>3</td>\n",
       "      <td>0</td>\n",
       "      <td>0</td>\n",
       "    </tr>\n",
       "  </tbody>\n",
       "</table>\n",
       "</div>"
      ],
      "text/plain": [
       "      season  round               home                 away  home_score  \\\n",
       "8969    2022      5  willem-ii-tilburg         fc-groningen           2   \n",
       "8970    2022      1  willem-ii-tilburg  feyenoord-rotterdam           0   \n",
       "8971    2022     10  willem-ii-tilburg      fortuna-sittard           1   \n",
       "8972    2022     14  willem-ii-tilburg      go-ahead-eagles           0   \n",
       "8973    2022     18  willem-ii-tilburg         nec-nijmegen           0   \n",
       "8974    2022      7  willem-ii-tilburg        psv-eindhoven           2   \n",
       "8975    2022     21  willem-ii-tilburg         rkc-waalwijk           3   \n",
       "8976    2022     16  willem-ii-tilburg   cambuur-leeuwarden           1   \n",
       "8977    2022     25  willem-ii-tilburg        sc-heerenveen           0   \n",
       "8978    2022     12  willem-ii-tilburg     sparta-rotterdam           0   \n",
       "\n",
       "      away_score  winning_team  total_goals  yellowCards  redCards  \\\n",
       "8969           1             1            3            5         0   \n",
       "8970           4            -1            4            1         1   \n",
       "8971           1             0            2            3         0   \n",
       "8972           1            -1            1            2         0   \n",
       "8973           1            -1            1            0         1   \n",
       "8974           1             1            3            3         0   \n",
       "8975           1             1            4            2         0   \n",
       "8976           3            -1            4            2         0   \n",
       "8977           0             0            0            2         0   \n",
       "8978           3            -1            3            4         0   \n",
       "\n",
       "      yellowCardHome  yellowCardAway  redCardHome  redCardAway  \n",
       "8969               3               2            0            0  \n",
       "8970               1               0            1            0  \n",
       "8971               1               2            0            0  \n",
       "8972               1               1            0            0  \n",
       "8973               0               0            1            0  \n",
       "8974               1               2            0            0  \n",
       "8975               0               2            0            0  \n",
       "8976               1               1            0            0  \n",
       "8977               2               0            0            0  \n",
       "8978               1               3            0            0  "
      ]
     },
     "execution_count": 710,
     "metadata": {},
     "output_type": "execute_result"
    }
   ],
   "source": [
    "df_merge_cards= pd.merge(df_matches,groupByAwayYellowCard,how='inner',left_on=['season','round','home', 'away'],right_on=['season','round','home', 'away'])\n",
    "df_filter_season = df_merge_cards[df_merge_cards['season'] > 1980]\n",
    "\n",
    "df_test = df_filter_season[(df_filter_season['home_score'] != '-') | (df_filter_season['away_score'] != '-')]\n",
    "\n",
    "df_test[\"home_score\"].replace({'-': '0'}, inplace=True)\n",
    "df_test[\"away_score\"].replace({'- afgebr.': '0'}, inplace=True)\n",
    "df_test[\"away_score\"].replace({'2 Toeg.': '0'}, inplace=True)\n",
    "                                       \n",
    "df_test.tail(10)"
   ]
  },
  {
   "cell_type": "markdown",
   "metadata": {},
   "source": [
    "## Data Visualisation"
   ]
  },
  {
   "cell_type": "markdown",
   "metadata": {},
   "source": [
    "#### 1"
   ]
  },
  {
   "cell_type": "code",
   "execution_count": 711,
   "metadata": {},
   "outputs": [
    {
     "data": {
      "image/png": "[encoded data removed]",
      "text/plain": [
       "<Figure size 432x288 with 1 Axes>"
      ]
     },
     "metadata": {
      "needs_background": "light"
     },
     "output_type": "display_data"
    }
   ],
   "source": [
    "df_plot = df_merge_goals[(df_merge_goals['first_goal']==\"home\")]\n",
    "ax = df_plot[\"winning_team\"].rolling(100).mean().plot() "
   ]
  },
  {
   "cell_type": "code",
   "execution_count": 712,
   "metadata": {},
   "outputs": [
    {
     "data": {
      "image/png": "[encoded data removed]",
      "text/plain": [
       "<Figure size 432x288 with 1 Axes>"
      ]
     },
     "metadata": {
      "needs_background": "light"
     },
     "output_type": "display_data"
    }
   ],
   "source": [
    "df_plot = df_merge_goals[(df_merge_goals['first_goal']==\"away\")]\n",
    "\n",
    "ax = df_plot[\"winning_team\"].rolling(100).mean().plot()"
   ]
  },
  {
   "cell_type": "code",
   "execution_count": 713,
   "metadata": {},
   "outputs": [
    {
     "data": {
      "text/plain": [
       "<AxesSubplot:title={'center':'Top 10 teams - HOME'}, xlabel='home'>"
      ]
     },
     "execution_count": 713,
     "metadata": {},
     "output_type": "execute_result"
    },
    {
     "data": {
      "image/png": "[encoded data removed]",
      "text/plain": [
       "<Figure size 432x288 with 1 Axes>"
      ]
     },
     "metadata": {
      "needs_background": "light"
     },
     "output_type": "display_data"
    }
   ],
   "source": [
    "group_home = df_merge_goals.groupby('home').agg(totalGoals = ('home_score', 'mean'))\n",
    "group_home.sort_values(by=['totalGoals'], inplace=True, ascending=False)\n",
    "df_plot = pd.DataFrame(group_home['totalGoals'].nlargest(n=10)) \n",
    "df_plot.plot(kind=\"bar\", title = \"Top 10 teams - HOME\")"
   ]
  },
  {
   "cell_type": "code",
   "execution_count": 714,
   "metadata": {},
   "outputs": [
    {
     "data": {
      "text/plain": [
       "<AxesSubplot:title={'center':'Top 10 teams - AWAY'}, xlabel='away'>"
      ]
     },
     "execution_count": 714,
     "metadata": {},
     "output_type": "execute_result"
    },
    {
     "data": {
      "image/png": "[encoded data removed]",
      "text/plain": [
       "<Figure size 432x288 with 1 Axes>"
      ]
     },
     "metadata": {
      "needs_background": "light"
     },
     "output_type": "display_data"
    }
   ],
   "source": [
    "group_away = df_merge_goals.groupby(['away']).agg(totalGoals = ('away_score', 'mean'))\n",
    "group_away.sort_values(by=['totalGoals'], inplace=True, ascending=False)\n",
    "df_plot = pd.DataFrame(group_away['totalGoals'].nlargest(n=10)) \n",
    "df_plot.plot(kind=\"bar\", title = \"Top 10 teams - AWAY\")"
   ]
  },
  {
   "cell_type": "code",
   "execution_count": 715,
   "metadata": {},
   "outputs": [
    {
     "data": {
      "image/png": "[encoded data removed]",
      "text/plain": [
       "<Figure size 432x288 with 1 Axes>"
      ]
     },
     "metadata": {
      "needs_background": "light"
     },
     "output_type": "display_data"
    }
   ],
   "source": [
    "df_last10_season = df_merge_goals[df_merge_goals[\"season\"] >= 2012]\n",
    "\n",
    "groupBy_season = df_last10_season.groupby('season', as_index=False).agg(home_score_mean = ('home_score', 'mean'),\n",
    "                                                                        away_score_mean = ('away_score', 'mean'))\n",
    "labels = groupBy_season['season']\n",
    "home_means = groupBy_season['home_score_mean']\n",
    "away_means = groupBy_season['away_score_mean']\n",
    "width = 0.50    \n",
    "\n",
    "fig, ax = plt.subplots()\n",
    "\n",
    "ax.bar(labels, home_means, width, label='home')\n",
    "ax.bar(labels, away_means, width, bottom=home_means,\n",
    "       label='away')\n",
    "\n",
    "ax.set_ylabel('Average')\n",
    "ax.set_title('Averages of scores each season')\n",
    "ax.legend()\n",
    "\n",
    "plt.show()"
   ]
  },
  {
   "cell_type": "code",
   "execution_count": 716,
   "metadata": {},
   "outputs": [
    {
     "data": {
      "text/plain": [
       "Text(0, 0.5, 'Averages')"
      ]
     },
     "execution_count": 716,
     "metadata": {},
     "output_type": "execute_result"
    },
    {
     "data": {
      "image/png": "[encoded data removed]",
      "text/plain": [
       "<Figure size 432x288 with 1 Axes>"
      ]
     },
     "metadata": {
      "needs_background": "light"
     },
     "output_type": "display_data"
    }
   ],
   "source": [
    "df_filter_round = df_merge_goals[df_merge_goals[\"round\"] <= 34]\n",
    "groubBy_homeScore_EachRound = df_filter_round.groupby('round', as_index=False).agg(home_score_mean = ('home_score', 'mean'),\n",
    "                                                                away_score_mean = ('away_score', 'mean'))\n",
    "\n",
    "plt.plot(groubBy_homeScore_EachRound['round'], groubBy_homeScore_EachRound['home_score_mean'], label=\"home score\")\n",
    "plt.plot(groubBy_homeScore_EachRound['round'], groubBy_homeScore_EachRound['away_score_mean'], label=\"away score\")\n",
    "plt.legend()\n",
    "plt.title(\"Average of scores each round\")\n",
    "plt.xlabel(\"Round\")\n",
    "plt.ylabel(\"Averages\")"
   ]
  },
  {
   "cell_type": "code",
   "execution_count": 717,
   "metadata": {},
   "outputs": [
    {
     "data": {
      "image/png": "[encoded data removed]",
      "text/plain": [
       "<Figure size 432x288 with 1 Axes>"
      ]
     },
     "metadata": {},
     "output_type": "display_data"
    }
   ],
   "source": [
    "labels = groubBy_typeGoal.index\n",
    "sizes = groubBy_typeGoal\n",
    "explode = (0.1, 0, 0, 0, 0, 0) \n",
    "\n",
    "fig1, ax1 = plt.subplots()\n",
    "ax1.pie(sizes, explode=explode, labels=labels, autopct='%1.1f%%',\n",
    "        shadow=True, startangle=180)\n",
    "ax1.axis('equal') \n",
    "ax1.set_title(\"Type of goals\")\n",
    "\n",
    "plt.show()"
   ]
  },
  {
   "cell_type": "code",
   "execution_count": 718,
   "metadata": {},
   "outputs": [
    {
     "data": {
      "text/plain": [
       "Text(0, 0.5, 'winning team')"
      ]
     },
     "execution_count": 718,
     "metadata": {},
     "output_type": "execute_result"
    },
    {
     "data": {
      "image/png": "[encoded data removed]",
      "text/plain": [
       "<Figure size 432x288 with 1 Axes>"
      ]
     },
     "metadata": {
      "needs_background": "light"
     },
     "output_type": "display_data"
    }
   ],
   "source": [
    "df_plot = pd.DataFrame()\n",
    "season = df_merge_goals['season']\n",
    "home = df_merge_goals['home']\n",
    "away = df_merge_goals['away']\n",
    "winning_team = df_merge_goals['winning_team']\n",
    "first_goal = df_merge_goals[\"first_goal\"]\n",
    "df_plot['season'] = season\n",
    "df_plot['home'] = home\n",
    "df_plot['away'] = away\n",
    "df_plot['winning_team'] = winning_team\n",
    "df_plot['first_goal'] = first_goal\n",
    "\n",
    "df_filter_last_game = df_plot[(df_plot['home'] == \"fc-utrecht\") & (df_plot['away'] == \"nec-nijmegen\") ]\n",
    "df_home_team_scoreFirst = df_filter_last_game[df_filter_last_game['first_goal'] == \"home\"]\n",
    "\n",
    "ax = df_home_team_scoreFirst[\"winning_team\"].rolling(1).mean().plot(title='home team score first', color = '#BB0000')\n",
    "ax.set_xlabel(\"match_id\")\n",
    "ax.set_ylabel(\"winning team\")"
   ]
  },
  {
   "cell_type": "code",
   "execution_count": 719,
   "metadata": {},
   "outputs": [
    {
     "data": {
      "text/plain": [
       "Text(0, 0.5, 'winning team')"
      ]
     },
     "execution_count": 719,
     "metadata": {},
     "output_type": "execute_result"
    },
    {
     "data": {
      "image/png": "[encoded data removed]",
      "text/plain": [
       "<Figure size 432x288 with 1 Axes>"
      ]
     },
     "metadata": {
      "needs_background": "light"
     },
     "output_type": "display_data"
    }
   ],
   "source": [
    "df_away_team_scoreFirst = df_filter_last_game[df_filter_last_game['first_goal'] == \"away\"]\n",
    "\n",
    "ax = df_away_team_scoreFirst[\"winning_team\"].rolling(1).mean().plot(title='away team score first', color= \"#0000BB\")\n",
    "ax.set_xlabel(\"match_id\")\n",
    "ax.set_ylabel(\"winning team\")"
   ]
  },
  {
   "cell_type": "code",
   "execution_count": 720,
   "metadata": {},
   "outputs": [
    {
     "data": {
      "text/plain": [
       "Text(0, 0.5, 'Averages')"
      ]
     },
     "execution_count": 720,
     "metadata": {},
     "output_type": "execute_result"
    },
    {
     "data": {
      "image/png": "[encoded data removed]",
      "text/plain": [
       "<Figure size 432x288 with 1 Axes>"
      ]
     },
     "metadata": {
      "needs_background": "light"
     },
     "output_type": "display_data"
    }
   ],
   "source": [
    "df_filter_round = df_merge_goals[df_merge_goals[\"round\"] <= 34]\n",
    "groubBy_totalGoals_EachRound = df_filter_round.groupby('round', as_index=False).agg(totalGoals = ('total_goals', 'mean'))\n",
    "\n",
    "plt.plot(groubBy_totalGoals_EachRound['round'], groubBy_totalGoals_EachRound['totalGoals'], label=\"total Goals\")\n",
    "plt.legend()\n",
    "plt.title(\"Average of total scores each round\")\n",
    "plt.xlabel(\"Round\")\n",
    "plt.ylabel(\"Averages\")"
   ]
  },
  {
   "cell_type": "code",
   "execution_count": 721,
   "metadata": {},
   "outputs": [
    {
     "data": {
      "text/plain": [
       "Text(0, 0.5, 'Averages')"
      ]
     },
     "execution_count": 721,
     "metadata": {},
     "output_type": "execute_result"
    },
    {
     "data": {
      "image/png": "[encoded data removed]",
      "text/plain": [
       "<Figure size 432x288 with 1 Axes>"
      ]
     },
     "metadata": {
      "needs_background": "light"
     },
     "output_type": "display_data"
    }
   ],
   "source": [
    "# feyenoord-rotterdam Vs psv-eindhoven in Rotterdam \n",
    "df_feyVsPsv_filter_round = df_merge_goals[(df_merge_goals[\"round\"] <= 34) & \n",
    "                                          (df_merge_goals[\"home\"] == \"feyenoord-rotterdam\") & \n",
    "                                          (df_merge_goals[\"away\"] == \"psv-eindhoven\")]\n",
    "                                          \n",
    "groubBy_feyVsPsv_totalGoals_EachRound = df_feyVsPsv_filter_round.groupby('round', as_index=False).agg(totalGoals = ('total_goals', 'mean'))\n",
    "\n",
    "plt.plot(groubBy_feyVsPsv_totalGoals_EachRound['round'], groubBy_feyVsPsv_totalGoals_EachRound['totalGoals'], label=\"total Goals\")\n",
    "plt.legend()\n",
    "plt.title(\"Average of total scores each round PSV VS Feyenoord\")\n",
    "plt.xlabel(\"Round\")\n",
    "plt.ylabel(\"Averages\")"
   ]
  },
  {
   "cell_type": "code",
   "execution_count": 722,
   "metadata": {},
   "outputs": [
    {
     "data": {
      "text/plain": [
       "Text(0, 0.5, 'Averages')"
      ]
     },
     "execution_count": 722,
     "metadata": {},
     "output_type": "execute_result"
    },
    {
     "data": {
      "image/png": "[encoded data removed]",
      "text/plain": [
       "<Figure size 432x288 with 1 Axes>"
      ]
     },
     "metadata": {
      "needs_background": "light"
     },
     "output_type": "display_data"
    }
   ],
   "source": [
    "# AZ Alkamaar Vs ajax-amsterdam in Alkamaar \n",
    "df_AzVsAjax_filter_round = df_merge_goals[(df_merge_goals[\"round\"] <= 34) & \n",
    "                                          (df_merge_goals[\"home\"] == \"az-alkmaar\") & \n",
    "                                          (df_merge_goals[\"away\"] == \"ajax-amsterdam\")]\n",
    "                                          \n",
    "groubBy_AzVsAjax_totalGoals_EachRound = df_AzVsAjax_filter_round.groupby('round', as_index=False).agg(totalGoals = ('total_goals', 'mean'))\n",
    "\n",
    "plt.plot(groubBy_AzVsAjax_totalGoals_EachRound['round'], groubBy_AzVsAjax_totalGoals_EachRound['totalGoals'], label=\"total Goals\")\n",
    "plt.legend()\n",
    "plt.title(\"Average of total scores each round AZ VS Ajax\")\n",
    "plt.xlabel(\"Round\")\n",
    "plt.ylabel(\"Averages\")"
   ]
  },
  {
   "cell_type": "markdown",
   "metadata": {},
   "source": [
    "### 2"
   ]
  },
  {
   "cell_type": "code",
   "execution_count": 723,
   "metadata": {},
   "outputs": [
    {
     "data": {
      "image/png": "[encoded data removed]",
      "text/plain": [
       "<Figure size 432x288 with 1 Axes>"
      ]
     },
     "metadata": {},
     "output_type": "display_data"
    }
   ],
   "source": [
    "WinningHomeTeamFilter = df_matches[ (df_matches['home_score'] > df_matches['away_score'])]\n",
    "WinningAwayTeamFilter = df_matches[ (df_matches['home_score'] < df_matches['away_score'])]\n",
    "DrawTeamFilter = df_matches[ (df_matches['home_score'] == df_matches['away_score'])]\n",
    "\n",
    "labels = [\"Home\", \"Away\", \"Draw\"]\n",
    "sizes = [len(WinningHomeTeamFilter.index), len(WinningAwayTeamFilter.index),len(DrawTeamFilter.index) ]\n",
    "explode = (0.1, 0, 0) \n",
    "\n",
    "fig1, ax1 = plt.subplots()\n",
    "ax1.pie(sizes, explode=explode, labels=labels, autopct='%1.1f%%',\n",
    "        shadow=True, startangle=180)\n",
    "ax1.axis('equal') \n",
    "\n",
    "plt.show()"
   ]
  },
  {
   "cell_type": "code",
   "execution_count": 724,
   "metadata": {},
   "outputs": [
    {
     "data": {
      "text/plain": [
       "Text(0, 0.5, 'Averages')"
      ]
     },
     "execution_count": 724,
     "metadata": {},
     "output_type": "execute_result"
    },
    {
     "data": {
      "image/png": "[encoded data removed]",
      "text/plain": [
       "<Figure size 432x288 with 1 Axes>"
      ]
     },
     "metadata": {
      "needs_background": "light"
     },
     "output_type": "display_data"
    }
   ],
   "source": [
    "groubBy_yellow_card_EachSeason = df_test.groupby('season', as_index=False).agg(yellowCardHome = ('yellowCardHome', 'mean'),\n",
    "                                                                yellowCardAway = ('yellowCardAway', 'mean'))\n",
    "\n",
    "plt.plot(groubBy_yellow_card_EachSeason['season'], groubBy_yellow_card_EachSeason['yellowCardHome'], label=\"Home\")\n",
    "plt.plot(groubBy_yellow_card_EachSeason['season'], groubBy_yellow_card_EachSeason['yellowCardAway'], label=\"Away\")\n",
    "plt.legend()\n",
    "plt.title(\"Average of yellow cards each season\")\n",
    "plt.xlabel(\"Season\")\n",
    "plt.ylabel(\"Averages\")"
   ]
  },
  {
   "cell_type": "code",
   "execution_count": 725,
   "metadata": {},
   "outputs": [
    {
     "data": {
      "text/plain": [
       "Text(0, 0.5, 'Averages')"
      ]
     },
     "execution_count": 725,
     "metadata": {},
     "output_type": "execute_result"
    },
    {
     "data": {
      "image/png": "[encoded data removed]",
      "text/plain": [
       "<Figure size 432x288 with 1 Axes>"
      ]
     },
     "metadata": {
      "needs_background": "light"
     },
     "output_type": "display_data"
    }
   ],
   "source": [
    "groubBy_red_card_EachSeason = df_test.groupby('season', as_index=False).agg(redCardHome = ('redCardHome', 'mean'),\n",
    "                                                                redCardAway = ('redCardAway', 'mean'))\n",
    "\n",
    "plt.plot(groubBy_red_card_EachSeason['season'], groubBy_red_card_EachSeason['redCardHome'], label=\"Home\")\n",
    "plt.plot(groubBy_red_card_EachSeason['season'], groubBy_red_card_EachSeason['redCardAway'], label=\"Away\")\n",
    "plt.legend()\n",
    "plt.title(\"Average of red cards each season\")\n",
    "plt.xlabel(\"Season\")\n",
    "plt.ylabel(\"Averages\")"
   ]
  },
  {
   "cell_type": "code",
   "execution_count": 726,
   "metadata": {},
   "outputs": [
    {
     "data": {
      "text/plain": [
       "Text(0, 0.5, 'Averages')"
      ]
     },
     "execution_count": 726,
     "metadata": {},
     "output_type": "execute_result"
    },
    {
     "data": {
      "image/png": "[encoded data removed]",
      "text/plain": [
       "<Figure size 432x288 with 1 Axes>"
      ]
     },
     "metadata": {
      "needs_background": "light"
     },
     "output_type": "display_data"
    }
   ],
   "source": [
    "df_filter_round = df_test[df_test['round'] <= 34]\n",
    "groubBy_yellow_card_EachRound = df_filter_round.groupby('round', as_index=False).agg(yellowCardHome = ('yellowCardHome', 'mean'),\n",
    "                                                                yellowCardAway = ('yellowCardAway', 'mean'))\n",
    "\n",
    "plt.plot(groubBy_yellow_card_EachRound['round'], groubBy_yellow_card_EachRound['yellowCardHome'], label=\"Home\")\n",
    "plt.plot(groubBy_yellow_card_EachRound['round'], groubBy_yellow_card_EachRound['yellowCardAway'], label=\"Away\")\n",
    "plt.legend()\n",
    "plt.title(\"Average of yellow cards each round\")\n",
    "plt.xlabel(\"Round\")\n",
    "plt.ylabel(\"Averages\")"
   ]
  },
  {
   "cell_type": "code",
   "execution_count": 727,
   "metadata": {},
   "outputs": [
    {
     "data": {
      "text/plain": [
       "Text(0, 0.5, 'Averages')"
      ]
     },
     "execution_count": 727,
     "metadata": {},
     "output_type": "execute_result"
    },
    {
     "data": {
      "image/png": "[encoded data removed]",
      "text/plain": [
       "<Figure size 432x288 with 1 Axes>"
      ]
     },
     "metadata": {
      "needs_background": "light"
     },
     "output_type": "display_data"
    }
   ],
   "source": [
    "groubBy_red_card_EachRound = df_filter_round.groupby('round', as_index=False).agg(redCardHome = ('redCardHome', 'mean'),\n",
    "                                                                redCardAway = ('redCardAway', 'mean'))\n",
    "\n",
    "plt.plot(groubBy_red_card_EachRound['round'], groubBy_red_card_EachRound['redCardHome'], label=\"Home\")\n",
    "plt.plot(groubBy_red_card_EachRound['round'], groubBy_red_card_EachRound['redCardAway'], label=\"Away\")\n",
    "plt.legend()\n",
    "plt.title(\"Average of red cards each round\")\n",
    "plt.xlabel(\"Round\")\n",
    "plt.ylabel(\"Averages\")"
   ]
  },
  {
   "cell_type": "code",
   "execution_count": 728,
   "metadata": {},
   "outputs": [
    {
     "data": {
      "text/html": [
       "<div>\n",
       "<style scoped>\n",
       "    .dataframe tbody tr th:only-of-type {\n",
       "        vertical-align: middle;\n",
       "    }\n",
       "\n",
       "    .dataframe tbody tr th {\n",
       "        vertical-align: top;\n",
       "    }\n",
       "\n",
       "    .dataframe thead th {\n",
       "        text-align: right;\n",
       "    }\n",
       "</style>\n",
       "<table border=\"1\" class=\"dataframe\">\n",
       "  <thead>\n",
       "    <tr style=\"text-align: right;\">\n",
       "      <th></th>\n",
       "      <th>redCardHome</th>\n",
       "      <th>winning_team</th>\n",
       "    </tr>\n",
       "  </thead>\n",
       "  <tbody>\n",
       "    <tr>\n",
       "      <th>0</th>\n",
       "      <td>0</td>\n",
       "      <td>0.205520</td>\n",
       "    </tr>\n",
       "    <tr>\n",
       "      <th>1</th>\n",
       "      <td>1</td>\n",
       "      <td>-0.157895</td>\n",
       "    </tr>\n",
       "    <tr>\n",
       "      <th>2</th>\n",
       "      <td>2</td>\n",
       "      <td>-0.523810</td>\n",
       "    </tr>\n",
       "  </tbody>\n",
       "</table>\n",
       "</div>"
      ],
      "text/plain": [
       "   redCardHome  winning_team\n",
       "0            0      0.205520\n",
       "1            1     -0.157895\n",
       "2            2     -0.523810"
      ]
     },
     "execution_count": 728,
     "metadata": {},
     "output_type": "execute_result"
    }
   ],
   "source": [
    "groubBy_red_cardHome = df_test.groupby('redCardHome', as_index=False).agg(winning_team = ('winning_team', 'mean'))\n",
    "groubBy_red_cardHome"
   ]
  },
  {
   "cell_type": "code",
   "execution_count": 729,
   "metadata": {},
   "outputs": [
    {
     "data": {
      "text/html": [
       "<div>\n",
       "<style scoped>\n",
       "    .dataframe tbody tr th:only-of-type {\n",
       "        vertical-align: middle;\n",
       "    }\n",
       "\n",
       "    .dataframe tbody tr th {\n",
       "        vertical-align: top;\n",
       "    }\n",
       "\n",
       "    .dataframe thead th {\n",
       "        text-align: right;\n",
       "    }\n",
       "</style>\n",
       "<table border=\"1\" class=\"dataframe\">\n",
       "  <thead>\n",
       "    <tr style=\"text-align: right;\">\n",
       "      <th></th>\n",
       "      <th>redCardHome</th>\n",
       "      <th>winning_team</th>\n",
       "    </tr>\n",
       "  </thead>\n",
       "  <tbody>\n",
       "    <tr>\n",
       "      <th>0</th>\n",
       "      <td>0</td>\n",
       "      <td>0.205520</td>\n",
       "    </tr>\n",
       "    <tr>\n",
       "      <th>1</th>\n",
       "      <td>1</td>\n",
       "      <td>-0.157895</td>\n",
       "    </tr>\n",
       "    <tr>\n",
       "      <th>2</th>\n",
       "      <td>2</td>\n",
       "      <td>-0.523810</td>\n",
       "    </tr>\n",
       "  </tbody>\n",
       "</table>\n",
       "</div>"
      ],
      "text/plain": [
       "   redCardHome  winning_team\n",
       "0            0      0.205520\n",
       "1            1     -0.157895\n",
       "2            2     -0.523810"
      ]
     },
     "execution_count": 729,
     "metadata": {},
     "output_type": "execute_result"
    }
   ],
   "source": [
    "groubBy_red_cardHome = df_test.groupby('redCardHome', as_index=False).agg(winning_team = ('winning_team', 'mean'))\n",
    "groubBy_red_cardHome"
   ]
  },
  {
   "cell_type": "markdown",
   "metadata": {},
   "source": [
    "## Machine Learning"
   ]
  },
  {
   "cell_type": "markdown",
   "metadata": {},
   "source": [
    "### Predict which team is more likely to score the first goal."
   ]
  },
  {
   "cell_type": "code",
   "execution_count": 730,
   "metadata": {},
   "outputs": [],
   "source": [
    "df_prediction = pd.DataFrame()\n",
    "season = df_merge_goals[\"season\"]\n",
    "round =  df_merge_goals[\"round\"]\n",
    "home =  df_merge_goals[\"home\"]\n",
    "away = df_merge_goals[\"away\"]\n",
    "first_goal = df_merge_goals[\"first_goal\"]\n",
    "home_score = df_merge_goals[\"home_score\"]\n",
    "away_score = df_merge_goals[\"away_score\"]\n",
    "winning_team = df_merge_goals[\"winning_team\"]\n",
    "\n",
    "df_prediction['season'] = season\n",
    "df_prediction['round'] = round\n",
    "df_prediction['home'] = home\n",
    "df_prediction['away'] = away\n",
    "df_prediction[\"first_goal\"] = first_goal\n",
    "df_prediction['home_score'] = home_score\n",
    "df_prediction['away_score'] = away_score\n",
    "df_prediction[\"winning_team\"] = winning_team\n",
    "df_prediction[\"total_goals\"] = home_score + away_score"
   ]
  },
  {
   "cell_type": "code",
   "execution_count": 731,
   "metadata": {},
   "outputs": [],
   "source": [
    "ids = label.fit_transform(raw_goals_file['home'])\n",
    "mappingHome = dict(zip(label.classes_, range(len(label.classes_))))"
   ]
  },
  {
   "cell_type": "code",
   "execution_count": 732,
   "metadata": {},
   "outputs": [],
   "source": [
    "ids = label.fit_transform(df_merge_goals['home'])\n",
    "mappingHome = dict(zip(label.classes_, range(len(label.classes_))))\n",
    "\n",
    "df_prediction[\"home\"] = label.fit_transform(df_prediction['home'])\n",
    "df_prediction[\"away\"] = label.fit_transform(df_prediction['away'])"
   ]
  },
  {
   "cell_type": "code",
   "execution_count": 733,
   "metadata": {},
   "outputs": [],
   "source": [
    "X = df_prediction[[\"home\",\"away\"]]\n",
    "y = df_prediction[\"first_goal\"]\n",
    "\n",
    "X_train, X_test, y_train, y_test = train_test_split(X, y, test_size=0.20, random_state=1)"
   ]
  },
  {
   "cell_type": "code",
   "execution_count": 734,
   "metadata": {},
   "outputs": [
    {
     "data": {
      "text/plain": [
       "0.5998915695310382"
      ]
     },
     "execution_count": 734,
     "metadata": {},
     "output_type": "execute_result"
    }
   ],
   "source": [
    "clf = tree.DecisionTreeClassifier()\n",
    "\n",
    "clf.fit(X_train,y_train)\n",
    "\n",
    "clf.score(X_test,y_test)"
   ]
  },
  {
   "cell_type": "markdown",
   "metadata": {},
   "source": [
    "#### PEC Zwolle Vs FC Utrecht in Zwolle - first goal"
   ]
  },
  {
   "cell_type": "code",
   "execution_count": 735,
   "metadata": {},
   "outputs": [
    {
     "data": {
      "text/plain": [
       "array(['home'], dtype=object)"
      ]
     },
     "execution_count": 735,
     "metadata": {},
     "output_type": "execute_result"
    }
   ],
   "source": [
    "# 0 away scores first \n",
    "# 1 home scores first\n",
    "clf.predict([[31, 16]])"
   ]
  },
  {
   "cell_type": "markdown",
   "metadata": {},
   "source": [
    "#### AZ Alkamaar Vs Ajax-amsterdam in Alkamaar "
   ]
  },
  {
   "cell_type": "code",
   "execution_count": 736,
   "metadata": {},
   "outputs": [
    {
     "data": {
      "text/plain": [
       "array(['away'], dtype=object)"
      ]
     },
     "execution_count": 736,
     "metadata": {},
     "output_type": "execute_result"
    }
   ],
   "source": [
    "clf.predict([[3, 2]])"
   ]
  },
  {
   "cell_type": "markdown",
   "metadata": {},
   "source": [
    "#### Feyenoord-rotterdam Vs PSV-Eindhoven in Alkamaar "
   ]
  },
  {
   "cell_type": "code",
   "execution_count": 737,
   "metadata": {},
   "outputs": [
    {
     "data": {
      "text/plain": [
       "array(['home'], dtype=object)"
      ]
     },
     "execution_count": 737,
     "metadata": {},
     "output_type": "execute_result"
    }
   ],
   "source": [
    "clf.predict([[19, 32]]) "
   ]
  },
  {
   "cell_type": "markdown",
   "metadata": {},
   "source": [
    "### Predict how many red cards can the away team get in a match."
   ]
  },
  {
   "cell_type": "code",
   "execution_count": 738,
   "metadata": {},
   "outputs": [],
   "source": [
    "ids = label.fit_transform(df_test['away_score'])\n",
    "mappingHome = dict(zip(label.classes_, range(len(label.classes_))))"
   ]
  },
  {
   "cell_type": "code",
   "execution_count": 739,
   "metadata": {},
   "outputs": [],
   "source": [
    "ids = label.fit_transform(df_test['home'])\n",
    "mappingHome = dict(zip(label.classes_, range(len(label.classes_))))\n",
    "\n",
    "df_test[\"home\"] = label.fit_transform(df_test['home'])\n",
    "df_test[\"away\"] = label.fit_transform(df_test['away'])"
   ]
  },
  {
   "cell_type": "code",
   "execution_count": 740,
   "metadata": {},
   "outputs": [],
   "source": [
    "X = df_test[[\"home\",\"away\"]]\n",
    "y = df_test[[\"redCardAway\"]]\n",
    "\n",
    "X_train, X_test, y_train, y_test = train_test_split(X, y, test_size=0.20, random_state=1)"
   ]
  },
  {
   "cell_type": "code",
   "execution_count": 741,
   "metadata": {},
   "outputs": [
    {
     "data": {
      "text/plain": [
       "0.8840749414519906"
      ]
     },
     "execution_count": 741,
     "metadata": {},
     "output_type": "execute_result"
    }
   ],
   "source": [
    "winning_team = tree.DecisionTreeClassifier()\n",
    "winning_team.fit(X_train,y_train)\n",
    "\n",
    "winning_team.score(X_test,y_test)"
   ]
  },
  {
   "cell_type": "code",
   "execution_count": 742,
   "metadata": {},
   "outputs": [
    {
     "data": {
      "text/plain": [
       "array([0], dtype=int64)"
      ]
     },
     "execution_count": 742,
     "metadata": {},
     "output_type": "execute_result"
    }
   ],
   "source": [
    "winning_team.predict([[6, 5]])"
   ]
  },
  {
   "cell_type": "code",
   "execution_count": 743,
   "metadata": {},
   "outputs": [],
   "source": [
    "df_Cards_prediction = pd.DataFrame()\n",
    "HomeTeam = df_cards['home']\n",
    "AwayTeam = df_cards['away']\n",
    "typeCards = df_cards['type']\n",
    "team_has_card = df_cards['team']\n",
    "\n",
    "df_Cards_prediction['home_team'] = HomeTeam\n",
    "df_Cards_prediction['away_team'] = AwayTeam\n",
    "df_Cards_prediction['type_card'] = typeCards\n",
    "df_Cards_prediction['team_has_card'] = team_has_card\n",
    "df_Cards_prediction[\"home_team_nr\"] = label.fit_transform(df_Cards_prediction['home_team'])\n",
    "df_Cards_prediction[\"away_team_nr\"] = label.fit_transform(df_Cards_prediction['away_team'])\n",
    "df_Cards_prediction[\"type_card\"].replace({\"red-card\": 1, \"yellow-card\": 0}, inplace=True)"
   ]
  },
  {
   "cell_type": "code",
   "execution_count": 744,
   "metadata": {},
   "outputs": [],
   "source": [
    "X = df_Cards_prediction[[\"home_team_nr\",\"away_team_nr\",\"type_card\"]]\n",
    "y = df_Cards_prediction[\"team_has_card\"]\n",
    "\n",
    "X_train, X_test, y_train, y_test = train_test_split(X, y, test_size=0.20, random_state=1)"
   ]
  },
  {
   "cell_type": "code",
   "execution_count": 745,
   "metadata": {},
   "outputs": [
    {
     "data": {
      "text/plain": [
       "0.5610734114743985"
      ]
     },
     "execution_count": 745,
     "metadata": {},
     "output_type": "execute_result"
    }
   ],
   "source": [
    "more_likely_Card = tree.DecisionTreeClassifier()\n",
    "more_likely_Card.fit(X_train,y_train)\n",
    "\n",
    "more_likely_Card.score(X_test,y_test)"
   ]
  },
  {
   "cell_type": "code",
   "execution_count": 746,
   "metadata": {},
   "outputs": [
    {
     "data": {
      "text/plain": [
       "array(['ajax-amsterdam'], dtype=object)"
      ]
     },
     "execution_count": 746,
     "metadata": {},
     "output_type": "execute_result"
    }
   ],
   "source": [
    "more_likely_Card.predict([[27 , 1, 1]])"
   ]
  },
  {
   "cell_type": "markdown",
   "metadata": {},
   "source": [
    "### Predict winning team"
   ]
  },
  {
   "cell_type": "code",
   "execution_count": 747,
   "metadata": {},
   "outputs": [],
   "source": [
    "X1 = df_prediction[[\"home\",\"away\"]]\n",
    "y1 = df_prediction[\"winning_team\"]\n",
    "\n",
    "X_train, X_test, y_train, y_test = train_test_split(X1, y1, test_size=0.20, random_state=1)"
   ]
  },
  {
   "cell_type": "code",
   "execution_count": 748,
   "metadata": {},
   "outputs": [
    {
     "data": {
      "text/plain": [
       "0.5155868799132556"
      ]
     },
     "execution_count": 748,
     "metadata": {},
     "output_type": "execute_result"
    }
   ],
   "source": [
    "clf1 = tree.DecisionTreeClassifier()\n",
    "\n",
    "clf1.fit(X_train,y_train)\n",
    "\n",
    "clf1.score(X_test,y_test)"
   ]
  },
  {
   "cell_type": "code",
   "execution_count": 749,
   "metadata": {},
   "outputs": [
    {
     "data": {
      "text/plain": [
       "array([0], dtype=int64)"
      ]
     },
     "execution_count": 749,
     "metadata": {},
     "output_type": "execute_result"
    }
   ],
   "source": [
    "clf1.predict([[31, 16]]) # PEC Zwolle Vs FC Utrecht in zwolle "
   ]
  },
  {
   "cell_type": "code",
   "execution_count": 750,
   "metadata": {},
   "outputs": [
    {
     "data": {
      "text/plain": [
       "array([-1], dtype=int64)"
      ]
     },
     "execution_count": 750,
     "metadata": {},
     "output_type": "execute_result"
    }
   ],
   "source": [
    "clf1.predict([[3, 2]]) # AZ Alkamaar Vs ajax-amsterdam in Alkamaar "
   ]
  },
  {
   "cell_type": "code",
   "execution_count": 751,
   "metadata": {},
   "outputs": [
    {
     "data": {
      "text/plain": [
       "array([1], dtype=int64)"
      ]
     },
     "execution_count": 751,
     "metadata": {},
     "output_type": "execute_result"
    }
   ],
   "source": [
    "clf1.predict([[19, 32]]) # feyenoord-rotterdam Vs psv-eindhoven in Rotterdam "
   ]
  },
  {
   "cell_type": "markdown",
   "metadata": {},
   "source": [
    "### Predict total goals\n"
   ]
  },
  {
   "cell_type": "code",
   "execution_count": 752,
   "metadata": {},
   "outputs": [
    {
     "name": "stdout",
     "output_type": "stream",
     "text": [
      "0.0013138929448867076\n"
     ]
    },
    {
     "data": {
      "text/plain": [
       "array([3.30104225])"
      ]
     },
     "execution_count": 752,
     "metadata": {},
     "output_type": "execute_result"
    }
   ],
   "source": [
    "X2 = df_prediction[[\"home\",\"away\"]]\n",
    "y2 = df_prediction[\"total_goals\"]\n",
    "reg = LinearRegression().fit(X2, y2)\n",
    "acc= reg.score(X2, y2)\n",
    "print(acc)\n",
    "coe = reg.coef_\n",
    "inter = reg.intercept_\n",
    "reg.predict([[31, 16]])"
   ]
  },
  {
   "cell_type": "markdown",
   "metadata": {},
   "source": [
    "#### Feyenoord-Rotterdam Vs PSV-Eindhoven in Rotterdam "
   ]
  },
  {
   "cell_type": "code",
   "execution_count": 755,
   "metadata": {},
   "outputs": [
    {
     "data": {
      "text/plain": [
       "array([3.30743111])"
      ]
     },
     "execution_count": 755,
     "metadata": {},
     "output_type": "execute_result"
    }
   ],
   "source": [
    "reg.predict([[19, 32]]) "
   ]
  },
  {
   "cell_type": "code",
   "execution_count": 756,
   "metadata": {},
   "outputs": [
    {
     "data": {
      "text/plain": [
       "3.461150637072264"
      ]
     },
     "execution_count": 756,
     "metadata": {},
     "output_type": "execute_result"
    }
   ],
   "source": [
    "inter"
   ]
  }
 ],
 "metadata": {
  "interpreter": {
   "hash": "b3ba2566441a7c06988d0923437866b63cedc61552a5af99d1f4fb67d367b25f"
  },
  "kernelspec": {
   "display_name": "Python 3.9.7 ('base')",
   "language": "python",
   "name": "python3"
  },
  "language_info": {
   "codemirror_mode": {
    "name": "ipython",
    "version": 3
   },
   "file_extension": ".py",
   "mimetype": "text/x-python",
   "name": "python",
   "nbconvert_exporter": "python",
   "pygments_lexer": "ipython3",
   "version": "3.9.7"
  },
  "orig_nbformat": 4
 },
 "nbformat": 4,
 "nbformat_minor": 2
}
