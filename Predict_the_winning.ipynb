{
 "cells": [
  {
   "cell_type": "code",
   "execution_count": 13,
   "metadata": {},
   "outputs": [],
   "source": [
    "import numpy as np\n",
    "import pandas as pd\n",
    "from datetime import datetime as dt\n",
    "import itertools\n",
    "from IPython.display import display\n",
    "\n",
    "%matplotlib inline"
   ]
  },
  {
   "cell_type": "code",
   "execution_count": 106,
   "metadata": {},
   "outputs": [],
   "source": [
    "# Read data from .csv files \n",
    "\n",
    "loc = \"voetbal_1956-20220309/\"\n",
    "\n",
    "raw_cards_file = pd.read_csv (loc + '_cards.csv')\n",
    "raw_goals_file = pd.read_csv (loc + '_goals.csv')\n",
    "raw_matches_file = pd.read_csv (loc + '_matches.csv')\n",
    "raw_players_file = pd.read_csv (loc + '_players.csv')\n",
    "raw_subs_file = pd.read_csv (loc + '_subs.csv')"
   ]
  },
  {
   "cell_type": "code",
   "execution_count": 121,
   "metadata": {},
   "outputs": [
    {
     "name": "stdout",
     "output_type": "stream",
     "text": [
      "away\n",
      "ado-den-haag           46\n",
      "afc-ajax               54\n",
      "ajax-amsterdam          8\n",
      "az-alkmaar             68\n",
      "cambuur-leeuwarden     12\n",
      "de-graafschap          54\n",
      "excelsior-rotterdam     6\n",
      "fc-den-bosch           14\n",
      "fc-dordrecht           14\n",
      "fc-emmen                8\n",
      "Name: type, dtype: int64\n",
      "away\n",
      "ado-den-haag           704\n",
      "afc-ajax               780\n",
      "ajax-amsterdam          73\n",
      "az-alkmaar             825\n",
      "cambuur-leeuwarden      75\n",
      "de-graafschap          473\n",
      "excelsior-rotterdam     81\n",
      "fc-amsterdam            17\n",
      "fc-den-bosch           212\n",
      "fc-dordrecht           124\n",
      "Name: type, dtype: int64\n"
     ]
    },
    {
     "name": "stderr",
     "output_type": "stream",
     "text": [
      "C:\\Users\\malja\\anaconda3\\lib\\site-packages\\pandas\\core\\generic.py:6619: SettingWithCopyWarning: \n",
      "A value is trying to be set on a copy of a slice from a DataFrame\n",
      "\n",
      "See the caveats in the documentation: https://pandas.pydata.org/pandas-docs/stable/user_guide/indexing.html#returning-a-view-versus-a-copy\n",
      "  return self._update_inplace(result)\n"
     ]
    }
   ],
   "source": [
    "df_card_filtered = raw_cards_file[(raw_cards_file['type'] == 'rode kaart') | \n",
    "                                  (raw_cards_file['type'] == 'gele kaart') |\n",
    "                                  (raw_cards_file['type'] == 'gele') |\n",
    "                                  (raw_cards_file['type'] == 'kaartgele') |\n",
    "                                  (raw_cards_file['type'] == 'rode') |\n",
    "                                  (raw_cards_file['type'] == 'kaartrode')  ]\n",
    "            \n",
    "df_card_filtered[\"type\"].replace({\"rode kaart\": 2, \"gele kaart\": 1, \"gele\": 1 , \"kaartgele\" : 1 , \"rode\":2, \"kaartrode\" : 2 }, inplace=True)\n",
    "\n",
    "filterHomeTeam = df_card_filtered[ (df_card_filtered['home'] == df_card_filtered['team'])]\n",
    "filterAwayTeam = df_card_filtered[ (df_card_filtered['away'] == df_card_filtered['team'])]\n",
    "\n",
    "\n",
    "# Home red cards \n",
    "filterHomeRedCard = filterHomeTeam[(filterHomeTeam['type'] == 2)]\n",
    "groupByHomeRedCard = filterHomeRedCard.groupby('home').sum()\n",
    "# print(groupByHomeRedCard.head(10))\n",
    "\n",
    "# Home yellow cards\n",
    "filterHomeYellowCard = filterHomeTeam[(filterHomeTeam['type'] == 1)]\n",
    "groupByHomeYellowCard = filterHomeYellowCard.groupby('home').sum()\n",
    "# print(groupByHomeYellowCard.head(10))\n",
    "\n",
    "# Away red cards\n",
    "filterAwayRedCard = filterAwayTeam[(filterAwayTeam['type'] == 2)]\n",
    "groupByAwayRedCard = filterAwayRedCard.groupby('away').sum()\n",
    "print(groupByAwayRedCard['type'].head(10))\n",
    "\n",
    "# Away yellow cards\n",
    "filterAwayYellowCard = filterAwayTeam[(filterAwayTeam['type'] == 1)]\n",
    "groupByAwayYellowCard = filterAwayYellowCard.groupby('away').sum()\n",
    "print(groupByAwayYellowCard['type'].head(10))\n",
    "\n"
   ]
  }
 ],
 "metadata": {
  "language_info": {
   "name": "python"
  },
  "orig_nbformat": 4
 },
 "nbformat": 4,
 "nbformat_minor": 2
}
